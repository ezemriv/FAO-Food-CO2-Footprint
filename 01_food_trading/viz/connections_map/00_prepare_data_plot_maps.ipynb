{
 "cells": [
  {
   "cell_type": "code",
   "execution_count": 1,
   "metadata": {},
   "outputs": [],
   "source": [
    "import pandas as pd\n",
    "import numpy as np\n",
    "import plotly.graph_objects as go"
   ]
  },
  {
   "cell_type": "markdown",
   "metadata": {},
   "source": [
    "# Load data"
   ]
  },
  {
   "cell_type": "code",
   "execution_count": 7,
   "metadata": {},
   "outputs": [],
   "source": [
    "#This should be in \"data\" folder inside \"viz\"\n",
    "trade_mx = pd.read_parquet(r'../data/trade_matrix_carbon_footprint_v4.parquet')"
   ]
  },
  {
   "cell_type": "code",
   "execution_count": 8,
   "metadata": {},
   "outputs": [
    {
     "data": {
      "text/html": [
       "<div>\n",
       "<style scoped>\n",
       "    .dataframe tbody tr th:only-of-type {\n",
       "        vertical-align: middle;\n",
       "    }\n",
       "\n",
       "    .dataframe tbody tr th {\n",
       "        vertical-align: top;\n",
       "    }\n",
       "\n",
       "    .dataframe thead th {\n",
       "        text-align: right;\n",
       "    }\n",
       "</style>\n",
       "<table border=\"1\" class=\"dataframe\">\n",
       "  <thead>\n",
       "    <tr style=\"text-align: right;\">\n",
       "      <th></th>\n",
       "      <th>Area Code</th>\n",
       "      <th>Continent</th>\n",
       "      <th>Country</th>\n",
       "      <th>Capital</th>\n",
       "      <th>Latitude</th>\n",
       "      <th>Longitude</th>\n",
       "    </tr>\n",
       "  </thead>\n",
       "  <tbody>\n",
       "    <tr>\n",
       "      <th>0</th>\n",
       "      <td>1</td>\n",
       "      <td>europe</td>\n",
       "      <td>armenia</td>\n",
       "      <td>yerevan</td>\n",
       "      <td>40.183300</td>\n",
       "      <td>44.516700</td>\n",
       "    </tr>\n",
       "    <tr>\n",
       "      <th>1</th>\n",
       "      <td>2</td>\n",
       "      <td>asia</td>\n",
       "      <td>afghanistan</td>\n",
       "      <td>kabul</td>\n",
       "      <td>34.526000</td>\n",
       "      <td>69.181000</td>\n",
       "    </tr>\n",
       "    <tr>\n",
       "      <th>2</th>\n",
       "      <td>3</td>\n",
       "      <td>europe</td>\n",
       "      <td>albania</td>\n",
       "      <td>tirana</td>\n",
       "      <td>41.327500</td>\n",
       "      <td>19.818900</td>\n",
       "    </tr>\n",
       "    <tr>\n",
       "      <th>3</th>\n",
       "      <td>4</td>\n",
       "      <td>africa</td>\n",
       "      <td>algeria</td>\n",
       "      <td>algiers</td>\n",
       "      <td>36.737232</td>\n",
       "      <td>3.086472</td>\n",
       "    </tr>\n",
       "    <tr>\n",
       "      <th>4</th>\n",
       "      <td>7</td>\n",
       "      <td>africa</td>\n",
       "      <td>angola</td>\n",
       "      <td>luanda</td>\n",
       "      <td>-8.839988</td>\n",
       "      <td>13.289437</td>\n",
       "    </tr>\n",
       "  </tbody>\n",
       "</table>\n",
       "</div>"
      ],
      "text/plain": [
       "   Area Code Continent      Country  Capital   Latitude  Longitude\n",
       "0          1    europe      armenia  yerevan  40.183300  44.516700\n",
       "1          2      asia  afghanistan    kabul  34.526000  69.181000\n",
       "2          3    europe      albania   tirana  41.327500  19.818900\n",
       "3          4    africa      algeria  algiers  36.737232   3.086472\n",
       "4          7    africa       angola   luanda  -8.839988  13.289437"
      ]
     },
     "execution_count": 8,
     "metadata": {},
     "output_type": "execute_result"
    }
   ],
   "source": [
    "coords = pd.read_csv(r\"../data/country_to_continent_codes.csv\")\n",
    "coords.head()"
   ]
  },
  {
   "cell_type": "markdown",
   "metadata": {},
   "source": [
    "This to aggregate items in items groups"
   ]
  },
  {
   "cell_type": "code",
   "execution_count": 9,
   "metadata": {},
   "outputs": [],
   "source": [
    "new_items_df = pd.read_csv(r'../data/food_codes_categorized_final.csv', encoding = 'ISO-8859-1')\n",
    "new_items_df.dropna(subset='Item_emissions_table', inplace=True)\n",
    "new_items_df['Item_code_emissions_table'] = new_items_df['Item_code_emissions_table'].astype('int64')"
   ]
  },
  {
   "cell_type": "markdown",
   "metadata": {},
   "source": [
    "Select 2021 trade data"
   ]
  },
  {
   "cell_type": "code",
   "execution_count": 10,
   "metadata": {},
   "outputs": [
    {
     "data": {
      "text/html": [
       "<div>\n",
       "<style scoped>\n",
       "    .dataframe tbody tr th:only-of-type {\n",
       "        vertical-align: middle;\n",
       "    }\n",
       "\n",
       "    .dataframe tbody tr th {\n",
       "        vertical-align: top;\n",
       "    }\n",
       "\n",
       "    .dataframe thead th {\n",
       "        text-align: right;\n",
       "    }\n",
       "</style>\n",
       "<table border=\"1\" class=\"dataframe\">\n",
       "  <thead>\n",
       "    <tr style=\"text-align: right;\">\n",
       "      <th></th>\n",
       "      <th>Reporter Country Code</th>\n",
       "      <th>Partner Country Code</th>\n",
       "      <th>Item Code</th>\n",
       "      <th>Year</th>\n",
       "      <th>Value_tons</th>\n",
       "      <th>Flag</th>\n",
       "      <th>distance_in_km</th>\n",
       "      <th>same_continent</th>\n",
       "      <th>share_border</th>\n",
       "      <th>any_island_or_missing</th>\n",
       "      <th>transportation_method</th>\n",
       "      <th>food_miles</th>\n",
       "      <th>kgCO2eq_tkm</th>\n",
       "    </tr>\n",
       "  </thead>\n",
       "  <tbody>\n",
       "    <tr>\n",
       "      <th>22</th>\n",
       "      <td>10</td>\n",
       "      <td>2</td>\n",
       "      <td>221</td>\n",
       "      <td>2021</td>\n",
       "      <td>10.68</td>\n",
       "      <td>A</td>\n",
       "      <td>11355.422485</td>\n",
       "      <td>0</td>\n",
       "      <td>0.0</td>\n",
       "      <td>1</td>\n",
       "      <td>water</td>\n",
       "      <td>121275.912137</td>\n",
       "      <td>1212.759121</td>\n",
       "    </tr>\n",
       "    <tr>\n",
       "      <th>24</th>\n",
       "      <td>11</td>\n",
       "      <td>2</td>\n",
       "      <td>221</td>\n",
       "      <td>2021</td>\n",
       "      <td>3.77</td>\n",
       "      <td>A</td>\n",
       "      <td>4561.287724</td>\n",
       "      <td>0</td>\n",
       "      <td>0.0</td>\n",
       "      <td>0</td>\n",
       "      <td>water</td>\n",
       "      <td>17196.054720</td>\n",
       "      <td>171.960547</td>\n",
       "    </tr>\n",
       "    <tr>\n",
       "      <th>36</th>\n",
       "      <td>7</td>\n",
       "      <td>3</td>\n",
       "      <td>22</td>\n",
       "      <td>2021</td>\n",
       "      <td>15.75</td>\n",
       "      <td>A</td>\n",
       "      <td>5618.206482</td>\n",
       "      <td>0</td>\n",
       "      <td>0.0</td>\n",
       "      <td>0</td>\n",
       "      <td>water</td>\n",
       "      <td>88486.752092</td>\n",
       "      <td>884.867521</td>\n",
       "    </tr>\n",
       "    <tr>\n",
       "      <th>45</th>\n",
       "      <td>255</td>\n",
       "      <td>2</td>\n",
       "      <td>221</td>\n",
       "      <td>2021</td>\n",
       "      <td>1.26</td>\n",
       "      <td>A</td>\n",
       "      <td>5408.721719</td>\n",
       "      <td>0</td>\n",
       "      <td>0.0</td>\n",
       "      <td>0</td>\n",
       "      <td>water</td>\n",
       "      <td>6814.989366</td>\n",
       "      <td>68.149894</td>\n",
       "    </tr>\n",
       "    <tr>\n",
       "      <th>60</th>\n",
       "      <td>52</td>\n",
       "      <td>2</td>\n",
       "      <td>527</td>\n",
       "      <td>2021</td>\n",
       "      <td>0.50</td>\n",
       "      <td>A</td>\n",
       "      <td>1821.034476</td>\n",
       "      <td>0</td>\n",
       "      <td>0.0</td>\n",
       "      <td>0</td>\n",
       "      <td>water</td>\n",
       "      <td>910.517238</td>\n",
       "      <td>9.105172</td>\n",
       "    </tr>\n",
       "  </tbody>\n",
       "</table>\n",
       "</div>"
      ],
      "text/plain": [
       "    Reporter Country Code  Partner Country Code  Item Code  Year  Value_tons  \\\n",
       "22                     10                     2        221  2021       10.68   \n",
       "24                     11                     2        221  2021        3.77   \n",
       "36                      7                     3         22  2021       15.75   \n",
       "45                    255                     2        221  2021        1.26   \n",
       "60                     52                     2        527  2021        0.50   \n",
       "\n",
       "   Flag  distance_in_km  same_continent  share_border  any_island_or_missing  \\\n",
       "22    A    11355.422485               0           0.0                      1   \n",
       "24    A     4561.287724               0           0.0                      0   \n",
       "36    A     5618.206482               0           0.0                      0   \n",
       "45    A     5408.721719               0           0.0                      0   \n",
       "60    A     1821.034476               0           0.0                      0   \n",
       "\n",
       "   transportation_method     food_miles  kgCO2eq_tkm  \n",
       "22                 water  121275.912137  1212.759121  \n",
       "24                 water   17196.054720   171.960547  \n",
       "36                 water   88486.752092   884.867521  \n",
       "45                 water    6814.989366    68.149894  \n",
       "60                 water     910.517238     9.105172  "
      ]
     },
     "execution_count": 10,
     "metadata": {},
     "output_type": "execute_result"
    }
   ],
   "source": [
    "trade_mx = trade_mx[trade_mx['Year'] == 2021]\n",
    "trade_mx.head()"
   ]
  },
  {
   "cell_type": "markdown",
   "metadata": {},
   "source": [
    "## Aggregate items in trade mx"
   ]
  },
  {
   "cell_type": "code",
   "execution_count": 11,
   "metadata": {},
   "outputs": [],
   "source": [
    "trade_mx = pd.merge(trade_mx, new_items_df, \n",
    "                               left_on='Item Code', right_on='Item_Code', how='inner')"
   ]
  },
  {
   "cell_type": "code",
   "execution_count": 12,
   "metadata": {},
   "outputs": [
    {
     "data": {
      "text/html": [
       "<div>\n",
       "<style scoped>\n",
       "    .dataframe tbody tr th:only-of-type {\n",
       "        vertical-align: middle;\n",
       "    }\n",
       "\n",
       "    .dataframe tbody tr th {\n",
       "        vertical-align: top;\n",
       "    }\n",
       "\n",
       "    .dataframe thead th {\n",
       "        text-align: right;\n",
       "    }\n",
       "</style>\n",
       "<table border=\"1\" class=\"dataframe\">\n",
       "  <thead>\n",
       "    <tr style=\"text-align: right;\">\n",
       "      <th></th>\n",
       "      <th>Reporter Country Code</th>\n",
       "      <th>Partner Country Code</th>\n",
       "      <th>Value_tons</th>\n",
       "      <th>kgCO2eq_tkm</th>\n",
       "      <th>Item_Code</th>\n",
       "      <th>Item</th>\n",
       "      <th>Item_code_emissions_table</th>\n",
       "      <th>Item_emissions_table</th>\n",
       "    </tr>\n",
       "  </thead>\n",
       "  <tbody>\n",
       "    <tr>\n",
       "      <th>7232</th>\n",
       "      <td>207</td>\n",
       "      <td>21</td>\n",
       "      <td>1649.49</td>\n",
       "      <td>8.380675e+05</td>\n",
       "      <td>1041</td>\n",
       "      <td>Sausages and similar products of meat; offal o...</td>\n",
       "      <td>1048</td>\n",
       "      <td>Swine</td>\n",
       "    </tr>\n",
       "    <tr>\n",
       "      <th>74771</th>\n",
       "      <td>106</td>\n",
       "      <td>97</td>\n",
       "      <td>2620.14</td>\n",
       "      <td>1.122667e+06</td>\n",
       "      <td>1080</td>\n",
       "      <td>Meat of turkeys; fresh or chilled</td>\n",
       "      <td>1079</td>\n",
       "      <td>Turkeys</td>\n",
       "    </tr>\n",
       "    <tr>\n",
       "      <th>40600</th>\n",
       "      <td>210</td>\n",
       "      <td>54</td>\n",
       "      <td>82.57</td>\n",
       "      <td>8.622449e+03</td>\n",
       "      <td>176</td>\n",
       "      <td>Beans; dry</td>\n",
       "      <td>176</td>\n",
       "      <td>Beans; dry</td>\n",
       "    </tr>\n",
       "    <tr>\n",
       "      <th>28274</th>\n",
       "      <td>181</td>\n",
       "      <td>202</td>\n",
       "      <td>106.11</td>\n",
       "      <td>1.970575e+04</td>\n",
       "      <td>1016</td>\n",
       "      <td>Goats</td>\n",
       "      <td>1016</td>\n",
       "      <td>Goats</td>\n",
       "    </tr>\n",
       "    <tr>\n",
       "      <th>49044</th>\n",
       "      <td>202</td>\n",
       "      <td>59</td>\n",
       "      <td>120.24</td>\n",
       "      <td>1.493593e+05</td>\n",
       "      <td>176</td>\n",
       "      <td>Beans; dry</td>\n",
       "      <td>176</td>\n",
       "      <td>Beans; dry</td>\n",
       "    </tr>\n",
       "  </tbody>\n",
       "</table>\n",
       "</div>"
      ],
      "text/plain": [
       "       Reporter Country Code  Partner Country Code  Value_tons   kgCO2eq_tkm  \\\n",
       "7232                     207                    21     1649.49  8.380675e+05   \n",
       "74771                    106                    97     2620.14  1.122667e+06   \n",
       "40600                    210                    54       82.57  8.622449e+03   \n",
       "28274                    181                   202      106.11  1.970575e+04   \n",
       "49044                    202                    59      120.24  1.493593e+05   \n",
       "\n",
       "       Item_Code                                               Item  \\\n",
       "7232        1041  Sausages and similar products of meat; offal o...   \n",
       "74771       1080                  Meat of turkeys; fresh or chilled   \n",
       "40600        176                                         Beans; dry   \n",
       "28274       1016                                              Goats   \n",
       "49044        176                                         Beans; dry   \n",
       "\n",
       "       Item_code_emissions_table Item_emissions_table  \n",
       "7232                        1048                Swine  \n",
       "74771                       1079              Turkeys  \n",
       "40600                        176           Beans; dry  \n",
       "28274                       1016                Goats  \n",
       "49044                        176           Beans; dry  "
      ]
     },
     "execution_count": 12,
     "metadata": {},
     "output_type": "execute_result"
    }
   ],
   "source": [
    "cols_to_keep = ['Reporter Country Code',\n",
    " 'Partner Country Code',\n",
    " 'Value_tons',\n",
    " 'kgCO2eq_tkm',\n",
    " 'Item_Code',\n",
    " 'Item',\n",
    " 'Item_code_emissions_table',\n",
    " 'Item_emissions_table']\n",
    "\n",
    "trade_mx = trade_mx[cols_to_keep]\n",
    "trade_mx.sample(5)"
   ]
  },
  {
   "cell_type": "markdown",
   "metadata": {},
   "source": [
    "## Merge with coordinates data"
   ]
  },
  {
   "cell_type": "markdown",
   "metadata": {},
   "source": [
    "### Source:\n",
    "- exporting country = Partner Country\n",
    "\n",
    "### Target:\n",
    "- importing country = Reporter Country"
   ]
  },
  {
   "cell_type": "code",
   "execution_count": 13,
   "metadata": {},
   "outputs": [],
   "source": [
    "coors_cols = ['Area Code', 'Continent', 'Country', 'Latitude', 'Longitude']\n",
    "\n",
    "trade_mx = trade_mx.merge(coords[coors_cols], left_on='Partner Country Code', right_on='Area Code', how='left')\n",
    "trade_mx.drop('Area Code', axis=1, inplace=True)\n",
    "trade_mx.rename(columns={'Continent': 'Continent_source',\n",
    "                         'Country': 'Country_source',\n",
    "                          'Latitude': 'lat_source',\n",
    "                          'Longitude': 'lon_source'}, inplace=True)"
   ]
  },
  {
   "cell_type": "code",
   "execution_count": 14,
   "metadata": {},
   "outputs": [],
   "source": [
    "trade_mx = trade_mx.merge(coords[coors_cols], left_on='Reporter Country Code', right_on='Area Code', how='left')\n",
    "trade_mx.drop('Area Code', axis=1, inplace=True)\n",
    "trade_mx.rename(columns={'Continent': 'Continent_target',\n",
    "                            'Country': 'Country_target',\n",
    "                            'Latitude': 'lat_target',\n",
    "                            'Longitude': 'lon_target'}, inplace=True)"
   ]
  },
  {
   "cell_type": "code",
   "execution_count": 15,
   "metadata": {},
   "outputs": [
    {
     "data": {
      "text/html": [
       "<div>\n",
       "<style scoped>\n",
       "    .dataframe tbody tr th:only-of-type {\n",
       "        vertical-align: middle;\n",
       "    }\n",
       "\n",
       "    .dataframe tbody tr th {\n",
       "        vertical-align: top;\n",
       "    }\n",
       "\n",
       "    .dataframe thead th {\n",
       "        text-align: right;\n",
       "    }\n",
       "</style>\n",
       "<table border=\"1\" class=\"dataframe\">\n",
       "  <thead>\n",
       "    <tr style=\"text-align: right;\">\n",
       "      <th></th>\n",
       "      <th>Reporter Country Code</th>\n",
       "      <th>Partner Country Code</th>\n",
       "      <th>Value_tons</th>\n",
       "      <th>kgCO2eq_tkm</th>\n",
       "      <th>Item_Code</th>\n",
       "      <th>Item</th>\n",
       "      <th>Item_code_emissions_table</th>\n",
       "      <th>Item_emissions_table</th>\n",
       "      <th>Continent_source</th>\n",
       "      <th>Country_source</th>\n",
       "      <th>lat_source</th>\n",
       "      <th>lon_source</th>\n",
       "      <th>Continent_target</th>\n",
       "      <th>Country_target</th>\n",
       "      <th>lat_target</th>\n",
       "      <th>lon_target</th>\n",
       "    </tr>\n",
       "  </thead>\n",
       "  <tbody>\n",
       "    <tr>\n",
       "      <th>0</th>\n",
       "      <td>7</td>\n",
       "      <td>4</td>\n",
       "      <td>6.00</td>\n",
       "      <td>16468.361560</td>\n",
       "      <td>116</td>\n",
       "      <td>Potatoes</td>\n",
       "      <td>116</td>\n",
       "      <td>Potatoes</td>\n",
       "      <td>africa</td>\n",
       "      <td>algeria</td>\n",
       "      <td>36.737232</td>\n",
       "      <td>3.086472</td>\n",
       "      <td>africa</td>\n",
       "      <td>angola</td>\n",
       "      <td>-8.839988</td>\n",
       "      <td>13.289437</td>\n",
       "    </tr>\n",
       "    <tr>\n",
       "      <th>1</th>\n",
       "      <td>7</td>\n",
       "      <td>4</td>\n",
       "      <td>14.14</td>\n",
       "      <td>14645.448582</td>\n",
       "      <td>907</td>\n",
       "      <td>Processed cheese</td>\n",
       "      <td>960</td>\n",
       "      <td>Cattle; dairy</td>\n",
       "      <td>africa</td>\n",
       "      <td>algeria</td>\n",
       "      <td>36.737232</td>\n",
       "      <td>3.086472</td>\n",
       "      <td>africa</td>\n",
       "      <td>angola</td>\n",
       "      <td>-8.839988</td>\n",
       "      <td>13.289437</td>\n",
       "    </tr>\n",
       "    <tr>\n",
       "      <th>2</th>\n",
       "      <td>255</td>\n",
       "      <td>2</td>\n",
       "      <td>2.23</td>\n",
       "      <td>120.614494</td>\n",
       "      <td>176</td>\n",
       "      <td>Beans; dry</td>\n",
       "      <td>176</td>\n",
       "      <td>Beans; dry</td>\n",
       "      <td>asia</td>\n",
       "      <td>afghanistan</td>\n",
       "      <td>34.526000</td>\n",
       "      <td>69.181000</td>\n",
       "      <td>europe</td>\n",
       "      <td>belgium</td>\n",
       "      <td>50.850300</td>\n",
       "      <td>4.351700</td>\n",
       "    </tr>\n",
       "    <tr>\n",
       "      <th>3</th>\n",
       "      <td>1</td>\n",
       "      <td>9</td>\n",
       "      <td>0.47</td>\n",
       "      <td>62.964952</td>\n",
       "      <td>176</td>\n",
       "      <td>Beans; dry</td>\n",
       "      <td>176</td>\n",
       "      <td>Beans; dry</td>\n",
       "      <td>south america</td>\n",
       "      <td>argentina</td>\n",
       "      <td>-34.611800</td>\n",
       "      <td>-58.417300</td>\n",
       "      <td>europe</td>\n",
       "      <td>armenia</td>\n",
       "      <td>40.183300</td>\n",
       "      <td>44.516700</td>\n",
       "    </tr>\n",
       "    <tr>\n",
       "      <th>4</th>\n",
       "      <td>3</td>\n",
       "      <td>9</td>\n",
       "      <td>4128.00</td>\n",
       "      <td>479318.302685</td>\n",
       "      <td>238</td>\n",
       "      <td>Cake of soya beans</td>\n",
       "      <td>236</td>\n",
       "      <td>Soya beans</td>\n",
       "      <td>south america</td>\n",
       "      <td>argentina</td>\n",
       "      <td>-34.611800</td>\n",
       "      <td>-58.417300</td>\n",
       "      <td>europe</td>\n",
       "      <td>albania</td>\n",
       "      <td>41.327500</td>\n",
       "      <td>19.818900</td>\n",
       "    </tr>\n",
       "  </tbody>\n",
       "</table>\n",
       "</div>"
      ],
      "text/plain": [
       "   Reporter Country Code  Partner Country Code  Value_tons    kgCO2eq_tkm  \\\n",
       "0                      7                     4        6.00   16468.361560   \n",
       "1                      7                     4       14.14   14645.448582   \n",
       "2                    255                     2        2.23     120.614494   \n",
       "3                      1                     9        0.47      62.964952   \n",
       "4                      3                     9     4128.00  479318.302685   \n",
       "\n",
       "   Item_Code                Item  Item_code_emissions_table  \\\n",
       "0        116            Potatoes                        116   \n",
       "1        907    Processed cheese                        960   \n",
       "2        176          Beans; dry                        176   \n",
       "3        176          Beans; dry                        176   \n",
       "4        238  Cake of soya beans                        236   \n",
       "\n",
       "  Item_emissions_table Continent_source Country_source  lat_source  \\\n",
       "0             Potatoes           africa        algeria   36.737232   \n",
       "1        Cattle; dairy           africa        algeria   36.737232   \n",
       "2           Beans; dry             asia    afghanistan   34.526000   \n",
       "3           Beans; dry    south america      argentina  -34.611800   \n",
       "4           Soya beans    south america      argentina  -34.611800   \n",
       "\n",
       "   lon_source Continent_target Country_target  lat_target  lon_target  \n",
       "0    3.086472           africa         angola   -8.839988   13.289437  \n",
       "1    3.086472           africa         angola   -8.839988   13.289437  \n",
       "2   69.181000           europe        belgium   50.850300    4.351700  \n",
       "3  -58.417300           europe        armenia   40.183300   44.516700  \n",
       "4  -58.417300           europe        albania   41.327500   19.818900  "
      ]
     },
     "execution_count": 15,
     "metadata": {},
     "output_type": "execute_result"
    }
   ],
   "source": [
    "trade_mx.head()"
   ]
  },
  {
   "cell_type": "markdown",
   "metadata": {},
   "source": [
    "# Map for Soya Beans (Crop item with highest travel and emissions)"
   ]
  },
  {
   "cell_type": "code",
   "execution_count": 20,
   "metadata": {},
   "outputs": [],
   "source": [
    "def process_map_data(df, item_code):\n",
    "    item_df = df[df['Item_code_emissions_table'] == item_code]\n",
    "    cols_for_map = ['Reporter Country Code',\n",
    "    'Partner Country Code',\n",
    "    'lat_source',\n",
    "    'lon_source',\n",
    "    'Country_source',\n",
    "    'Country_target',\n",
    "    'Continent_target',\n",
    "    'lat_target',\n",
    "    'lon_target']\n",
    "\n",
    "    item_df = item_df.groupby(cols_for_map)[['Value_tons', 'kgCO2eq_tkm']].sum().reset_index()\n",
    "    emissions_mean = item_df['kgCO2eq_tkm'].mean()\n",
    "    item_df = item_df[item_df['kgCO2eq_tkm'] > emissions_mean]\n",
    "\n",
    "    return item_df"
   ]
  },
  {
   "cell_type": "code",
   "execution_count": 21,
   "metadata": {},
   "outputs": [
    {
     "data": {
      "text/html": [
       "<div>\n",
       "<style scoped>\n",
       "    .dataframe tbody tr th:only-of-type {\n",
       "        vertical-align: middle;\n",
       "    }\n",
       "\n",
       "    .dataframe tbody tr th {\n",
       "        vertical-align: top;\n",
       "    }\n",
       "\n",
       "    .dataframe thead th {\n",
       "        text-align: right;\n",
       "    }\n",
       "</style>\n",
       "<table border=\"1\" class=\"dataframe\">\n",
       "  <thead>\n",
       "    <tr style=\"text-align: right;\">\n",
       "      <th></th>\n",
       "      <th>Reporter Country Code</th>\n",
       "      <th>Partner Country Code</th>\n",
       "      <th>lat_source</th>\n",
       "      <th>lon_source</th>\n",
       "      <th>Country_source</th>\n",
       "      <th>Country_target</th>\n",
       "      <th>Continent_target</th>\n",
       "      <th>lat_target</th>\n",
       "      <th>lon_target</th>\n",
       "      <th>Value_tons</th>\n",
       "      <th>kgCO2eq_tkm</th>\n",
       "    </tr>\n",
       "  </thead>\n",
       "  <tbody>\n",
       "    <tr>\n",
       "      <th>44</th>\n",
       "      <td>9</td>\n",
       "      <td>21</td>\n",
       "      <td>-15.8267</td>\n",
       "      <td>-47.9218</td>\n",
       "      <td>brazil</td>\n",
       "      <td>argentina</td>\n",
       "      <td>south america</td>\n",
       "      <td>-34.6118</td>\n",
       "      <td>-58.4173</td>\n",
       "      <td>218453.79</td>\n",
       "      <td>1.020960e+08</td>\n",
       "    </tr>\n",
       "    <tr>\n",
       "      <th>50</th>\n",
       "      <td>9</td>\n",
       "      <td>169</td>\n",
       "      <td>-25.2865</td>\n",
       "      <td>-57.6470</td>\n",
       "      <td>paraguay</td>\n",
       "      <td>argentina</td>\n",
       "      <td>south america</td>\n",
       "      <td>-34.6118</td>\n",
       "      <td>-58.4173</td>\n",
       "      <td>4601769.12</td>\n",
       "      <td>9.567707e+08</td>\n",
       "    </tr>\n",
       "    <tr>\n",
       "      <th>55</th>\n",
       "      <td>10</td>\n",
       "      <td>9</td>\n",
       "      <td>-34.6118</td>\n",
       "      <td>-58.4173</td>\n",
       "      <td>argentina</td>\n",
       "      <td>australia</td>\n",
       "      <td>oceania</td>\n",
       "      <td>-35.2809</td>\n",
       "      <td>149.1300</td>\n",
       "      <td>666038.00</td>\n",
       "      <td>7.814985e+07</td>\n",
       "    </tr>\n",
       "    <tr>\n",
       "      <th>83</th>\n",
       "      <td>11</td>\n",
       "      <td>79</td>\n",
       "      <td>52.5200</td>\n",
       "      <td>13.4050</td>\n",
       "      <td>germany</td>\n",
       "      <td>austria</td>\n",
       "      <td>europe</td>\n",
       "      <td>48.2082</td>\n",
       "      <td>16.3738</td>\n",
       "      <td>280218.90</td>\n",
       "      <td>2.934148e+07</td>\n",
       "    </tr>\n",
       "    <tr>\n",
       "      <th>89</th>\n",
       "      <td>11</td>\n",
       "      <td>106</td>\n",
       "      <td>41.9028</td>\n",
       "      <td>12.4964</td>\n",
       "      <td>italy</td>\n",
       "      <td>austria</td>\n",
       "      <td>europe</td>\n",
       "      <td>48.2082</td>\n",
       "      <td>16.3738</td>\n",
       "      <td>106506.47</td>\n",
       "      <td>1.627777e+07</td>\n",
       "    </tr>\n",
       "    <tr>\n",
       "      <th>...</th>\n",
       "      <td>...</td>\n",
       "      <td>...</td>\n",
       "      <td>...</td>\n",
       "      <td>...</td>\n",
       "      <td>...</td>\n",
       "      <td>...</td>\n",
       "      <td>...</td>\n",
       "      <td>...</td>\n",
       "      <td>...</td>\n",
       "      <td>...</td>\n",
       "      <td>...</td>\n",
       "    </tr>\n",
       "    <tr>\n",
       "      <th>2127</th>\n",
       "      <td>231</td>\n",
       "      <td>100</td>\n",
       "      <td>28.6139</td>\n",
       "      <td>77.2090</td>\n",
       "      <td>india</td>\n",
       "      <td>united states of america</td>\n",
       "      <td>north america</td>\n",
       "      <td>38.9072</td>\n",
       "      <td>-77.0369</td>\n",
       "      <td>250623.48</td>\n",
       "      <td>3.018946e+07</td>\n",
       "    </tr>\n",
       "    <tr>\n",
       "      <th>2157</th>\n",
       "      <td>237</td>\n",
       "      <td>21</td>\n",
       "      <td>-15.8267</td>\n",
       "      <td>-47.9218</td>\n",
       "      <td>brazil</td>\n",
       "      <td>vietnam</td>\n",
       "      <td>asia</td>\n",
       "      <td>21.0285</td>\n",
       "      <td>105.8542</td>\n",
       "      <td>1029815.60</td>\n",
       "      <td>1.770509e+08</td>\n",
       "    </tr>\n",
       "    <tr>\n",
       "      <th>2162</th>\n",
       "      <td>237</td>\n",
       "      <td>100</td>\n",
       "      <td>28.6139</td>\n",
       "      <td>77.2090</td>\n",
       "      <td>india</td>\n",
       "      <td>vietnam</td>\n",
       "      <td>asia</td>\n",
       "      <td>21.0285</td>\n",
       "      <td>105.8542</td>\n",
       "      <td>119617.58</td>\n",
       "      <td>7.184092e+07</td>\n",
       "    </tr>\n",
       "    <tr>\n",
       "      <th>2173</th>\n",
       "      <td>237</td>\n",
       "      <td>231</td>\n",
       "      <td>38.9072</td>\n",
       "      <td>-77.0369</td>\n",
       "      <td>united states of america</td>\n",
       "      <td>vietnam</td>\n",
       "      <td>asia</td>\n",
       "      <td>21.0285</td>\n",
       "      <td>105.8542</td>\n",
       "      <td>1303747.40</td>\n",
       "      <td>1.739689e+08</td>\n",
       "    </tr>\n",
       "    <tr>\n",
       "      <th>2246</th>\n",
       "      <td>255</td>\n",
       "      <td>150</td>\n",
       "      <td>52.3676</td>\n",
       "      <td>4.9041</td>\n",
       "      <td>netherlands</td>\n",
       "      <td>belgium</td>\n",
       "      <td>europe</td>\n",
       "      <td>50.8503</td>\n",
       "      <td>4.3517</td>\n",
       "      <td>1067347.91</td>\n",
       "      <td>3.692457e+07</td>\n",
       "    </tr>\n",
       "  </tbody>\n",
       "</table>\n",
       "<p>153 rows × 11 columns</p>\n",
       "</div>"
      ],
      "text/plain": [
       "      Reporter Country Code  Partner Country Code  lat_source  lon_source  \\\n",
       "44                        9                    21    -15.8267    -47.9218   \n",
       "50                        9                   169    -25.2865    -57.6470   \n",
       "55                       10                     9    -34.6118    -58.4173   \n",
       "83                       11                    79     52.5200     13.4050   \n",
       "89                       11                   106     41.9028     12.4964   \n",
       "...                     ...                   ...         ...         ...   \n",
       "2127                    231                   100     28.6139     77.2090   \n",
       "2157                    237                    21    -15.8267    -47.9218   \n",
       "2162                    237                   100     28.6139     77.2090   \n",
       "2173                    237                   231     38.9072    -77.0369   \n",
       "2246                    255                   150     52.3676      4.9041   \n",
       "\n",
       "                Country_source            Country_target Continent_target  \\\n",
       "44                      brazil                 argentina    south america   \n",
       "50                    paraguay                 argentina    south america   \n",
       "55                   argentina                 australia          oceania   \n",
       "83                     germany                   austria           europe   \n",
       "89                       italy                   austria           europe   \n",
       "...                        ...                       ...              ...   \n",
       "2127                     india  united states of america    north america   \n",
       "2157                    brazil                   vietnam             asia   \n",
       "2162                     india                   vietnam             asia   \n",
       "2173  united states of america                   vietnam             asia   \n",
       "2246               netherlands                   belgium           europe   \n",
       "\n",
       "      lat_target  lon_target  Value_tons   kgCO2eq_tkm  \n",
       "44      -34.6118    -58.4173   218453.79  1.020960e+08  \n",
       "50      -34.6118    -58.4173  4601769.12  9.567707e+08  \n",
       "55      -35.2809    149.1300   666038.00  7.814985e+07  \n",
       "83       48.2082     16.3738   280218.90  2.934148e+07  \n",
       "89       48.2082     16.3738   106506.47  1.627777e+07  \n",
       "...          ...         ...         ...           ...  \n",
       "2127     38.9072    -77.0369   250623.48  3.018946e+07  \n",
       "2157     21.0285    105.8542  1029815.60  1.770509e+08  \n",
       "2162     21.0285    105.8542   119617.58  7.184092e+07  \n",
       "2173     21.0285    105.8542  1303747.40  1.739689e+08  \n",
       "2246     50.8503      4.3517  1067347.91  3.692457e+07  \n",
       "\n",
       "[153 rows x 11 columns]"
      ]
     },
     "execution_count": 21,
     "metadata": {},
     "output_type": "execute_result"
    }
   ],
   "source": [
    "soya = process_map_data(trade_mx, 236)\n",
    "soya"
   ]
  },
  {
   "cell_type": "code",
   "execution_count": 22,
   "metadata": {},
   "outputs": [],
   "source": [
    "# Use continent color palette for map\n",
    "continent_palette = {\n",
    "    'africa': '#4E79A7',           # Blue\n",
    "    'asia': '#EDC948',             # Yellow\n",
    "    'europe': '#E15759',           # Red\n",
    "    'north america': '#76B7B2', # Light Blue\n",
    "    'oceania': '#B07AA1',          # Purple\n",
    "    'south america': '#59A14F',    # Green\n",
    "}"
   ]
  },
  {
   "cell_type": "code",
   "execution_count": 23,
   "metadata": {},
   "outputs": [
    {
     "data": {
      "application/vnd.plotly.v1+json": {
       "config": {
        "plotlyServerURL": "https://plot.ly"
       },
       "data": [
        {
         "hoverinfo": "text",
         "hovertext": "brazil -> argentina: 218453.79 tons",
         "lat": [
          -15.8267,
          -34.6118
         ],
         "line": {
          "color": "#59A14F",
          "width": 2
         },
         "lon": [
          -47.9218,
          -58.4173
         ],
         "mode": "lines",
         "opacity": 0.7,
         "showlegend": false,
         "type": "scattergeo"
        },
        {
         "hoverinfo": "text",
         "hovertext": "paraguay -> argentina: 4601769.12 tons",
         "lat": [
          -25.2865,
          -34.6118
         ],
         "line": {
          "color": "#59A14F",
          "width": 2
         },
         "lon": [
          -57.647,
          -58.4173
         ],
         "mode": "lines",
         "opacity": 0.7,
         "showlegend": false,
         "type": "scattergeo"
        },
        {
         "hoverinfo": "text",
         "hovertext": "argentina -> australia: 666038.00 tons",
         "lat": [
          -34.6118,
          -35.2809
         ],
         "line": {
          "color": "#B07AA1",
          "width": 2
         },
         "lon": [
          -58.4173,
          149.13
         ],
         "mode": "lines",
         "opacity": 0.7,
         "showlegend": false,
         "type": "scattergeo"
        },
        {
         "hoverinfo": "text",
         "hovertext": "germany -> austria: 280218.90 tons",
         "lat": [
          52.52,
          48.2082
         ],
         "line": {
          "color": "#E15759",
          "width": 2
         },
         "lon": [
          13.405,
          16.3738
         ],
         "mode": "lines",
         "opacity": 0.7,
         "showlegend": false,
         "type": "scattergeo"
        },
        {
         "hoverinfo": "text",
         "hovertext": "italy -> austria: 106506.47 tons",
         "lat": [
          41.9028,
          48.2082
         ],
         "line": {
          "color": "#E15759",
          "width": 2
         },
         "lon": [
          12.4964,
          16.3738
         ],
         "mode": "lines",
         "opacity": 0.7,
         "showlegend": false,
         "type": "scattergeo"
        },
        {
         "hoverinfo": "text",
         "hovertext": "argentina -> brazil: 67311.89 tons",
         "lat": [
          -34.6118,
          -15.8267
         ],
         "line": {
          "color": "#59A14F",
          "width": 2
         },
         "lon": [
          -58.4173,
          -47.9218
         ],
         "mode": "lines",
         "opacity": 0.7,
         "showlegend": false,
         "type": "scattergeo"
        },
        {
         "hoverinfo": "text",
         "hovertext": "paraguay -> brazil: 841352.21 tons",
         "lat": [
          -25.2865,
          -15.8267
         ],
         "line": {
          "color": "#59A14F",
          "width": 2
         },
         "lon": [
          -57.647,
          -47.9218
         ],
         "mode": "lines",
         "opacity": 0.7,
         "showlegend": false,
         "type": "scattergeo"
        },
        {
         "hoverinfo": "text",
         "hovertext": "united states of america -> myanmar: 116495.90 tons",
         "lat": [
          38.9072,
          19.75
         ],
         "line": {
          "color": "#EDC948",
          "width": 2
         },
         "lon": [
          -77.0369,
          96.1
         ],
         "mode": "lines",
         "opacity": 0.7,
         "showlegend": false,
         "type": "scattergeo"
        },
        {
         "hoverinfo": "text",
         "hovertext": "united states of america -> canada: 1593792.63 tons",
         "lat": [
          38.9072,
          45.4215
         ],
         "line": {
          "color": "#76B7B2",
          "width": 2
         },
         "lon": [
          -77.0369,
          -75.6972
         ],
         "mode": "lines",
         "opacity": 0.7,
         "showlegend": false,
         "type": "scattergeo"
        },
        {
         "hoverinfo": "text",
         "hovertext": "united states of america -> sri lanka: 191114.52 tons",
         "lat": [
          38.9072,
          6.927079
         ],
         "line": {
          "color": "#EDC948",
          "width": 2
         },
         "lon": [
          -77.0369,
          79.861243
         ],
         "mode": "lines",
         "opacity": 0.7,
         "showlegend": false,
         "type": "scattergeo"
        },
        {
         "hoverinfo": "text",
         "hovertext": "argentina -> chile: 655108.45 tons",
         "lat": [
          -34.6118,
          -33.4489
         ],
         "line": {
          "color": "#59A14F",
          "width": 2
         },
         "lon": [
          -58.4173,
          -70.6693
         ],
         "mode": "lines",
         "opacity": 0.7,
         "showlegend": false,
         "type": "scattergeo"
        },
        {
         "hoverinfo": "text",
         "hovertext": "bolivia -> chile: 232902.50 tons",
         "lat": [
          -19.0333,
          -33.4489
         ],
         "line": {
          "color": "#59A14F",
          "width": 2
         },
         "lon": [
          -65.2627,
          -70.6693
         ],
         "mode": "lines",
         "opacity": 0.7,
         "showlegend": false,
         "type": "scattergeo"
        },
        {
         "hoverinfo": "text",
         "hovertext": "paraguay -> chile: 324083.71 tons",
         "lat": [
          -25.2865,
          -33.4489
         ],
         "line": {
          "color": "#59A14F",
          "width": 2
         },
         "lon": [
          -57.647,
          -70.6693
         ],
         "mode": "lines",
         "opacity": 0.7,
         "showlegend": false,
         "type": "scattergeo"
        },
        {
         "hoverinfo": "text",
         "hovertext": "argentina -> china: 4194361.30 tons",
         "lat": [
          -34.6118,
          39.9042
         ],
         "line": {
          "color": "#EDC948",
          "width": 2
         },
         "lon": [
          -58.4173,
          116.4074
         ],
         "mode": "lines",
         "opacity": 0.7,
         "showlegend": false,
         "type": "scattergeo"
        },
        {
         "hoverinfo": "text",
         "hovertext": "brazil -> china: 58555121.09 tons",
         "lat": [
          -15.8267,
          39.9042
         ],
         "line": {
          "color": "#EDC948",
          "width": 2
         },
         "lon": [
          -47.9218,
          116.4074
         ],
         "mode": "lines",
         "opacity": 0.7,
         "showlegend": false,
         "type": "scattergeo"
        },
        {
         "hoverinfo": "text",
         "hovertext": "canada -> china: 588100.60 tons",
         "lat": [
          45.4215,
          39.9042
         ],
         "line": {
          "color": "#EDC948",
          "width": 2
         },
         "lon": [
          -75.6972,
          116.4074
         ],
         "mode": "lines",
         "opacity": 0.7,
         "showlegend": false,
         "type": "scattergeo"
        },
        {
         "hoverinfo": "text",
         "hovertext": "benin -> china: 232241.76 tons",
         "lat": [
          6.496857,
          39.9042
         ],
         "line": {
          "color": "#EDC948",
          "width": 2
         },
         "lon": [
          2.628852,
          116.4074
         ],
         "mode": "lines",
         "opacity": 0.7,
         "showlegend": false,
         "type": "scattergeo"
        },
        {
         "hoverinfo": "text",
         "hovertext": "india -> china: 32229.00 tons",
         "lat": [
          28.6139,
          39.9042
         ],
         "line": {
          "color": "#EDC948",
          "width": 2
         },
         "lon": [
          77.209,
          116.4074
         ],
         "mode": "lines",
         "opacity": 0.7,
         "showlegend": false,
         "type": "scattergeo"
        },
        {
         "hoverinfo": "text",
         "hovertext": "russia -> china: 716652.59 tons",
         "lat": [
          55.7558,
          39.9042
         ],
         "line": {
          "color": "#EDC948",
          "width": 2
         },
         "lon": [
          37.6173,
          116.4074
         ],
         "mode": "lines",
         "opacity": 0.7,
         "showlegend": false,
         "type": "scattergeo"
        },
        {
         "hoverinfo": "text",
         "hovertext": "turkey -> china: 16887.48 tons",
         "lat": [
          39.9334,
          39.9042
         ],
         "line": {
          "color": "#EDC948",
          "width": 2
         },
         "lon": [
          32.8597,
          116.4074
         ],
         "mode": "lines",
         "opacity": 0.7,
         "showlegend": false,
         "type": "scattergeo"
        },
        {
         "hoverinfo": "text",
         "hovertext": "united states of america -> china: 32317747.06 tons",
         "lat": [
          38.9072,
          39.9042
         ],
         "line": {
          "color": "#EDC948",
          "width": 2
         },
         "lon": [
          -77.0369,
          116.4074
         ],
         "mode": "lines",
         "opacity": 0.7,
         "showlegend": false,
         "type": "scattergeo"
        },
        {
         "hoverinfo": "text",
         "hovertext": "uruguay -> china: 866006.00 tons",
         "lat": [
          -34.9011,
          39.9042
         ],
         "line": {
          "color": "#EDC948",
          "width": 2
         },
         "lon": [
          -56.1645,
          116.4074
         ],
         "mode": "lines",
         "opacity": 0.7,
         "showlegend": false,
         "type": "scattergeo"
        },
        {
         "hoverinfo": "text",
         "hovertext": "argentina -> colombia: 385221.90 tons",
         "lat": [
          -34.6118,
          4.6097
         ],
         "line": {
          "color": "#59A14F",
          "width": 2
         },
         "lon": [
          -58.4173,
          -74.0817
         ],
         "mode": "lines",
         "opacity": 0.7,
         "showlegend": false,
         "type": "scattergeo"
        },
        {
         "hoverinfo": "text",
         "hovertext": "bolivia -> colombia: 318732.83 tons",
         "lat": [
          -19.0333,
          4.6097
         ],
         "line": {
          "color": "#59A14F",
          "width": 2
         },
         "lon": [
          -65.2627,
          -74.0817
         ],
         "mode": "lines",
         "opacity": 0.7,
         "showlegend": false,
         "type": "scattergeo"
        },
        {
         "hoverinfo": "text",
         "hovertext": "united states of america -> colombia: 1594072.39 tons",
         "lat": [
          38.9072,
          4.6097
         ],
         "line": {
          "color": "#59A14F",
          "width": 2
         },
         "lon": [
          -77.0369,
          -74.0817
         ],
         "mode": "lines",
         "opacity": 0.7,
         "showlegend": false,
         "type": "scattergeo"
        },
        {
         "hoverinfo": "text",
         "hovertext": "united states of america -> costa rica: 409008.46 tons",
         "lat": [
          38.9072,
          9.9281
         ],
         "line": {
          "color": "#76B7B2",
          "width": 2
         },
         "lon": [
          -77.0369,
          -84.0907
         ],
         "mode": "lines",
         "opacity": 0.7,
         "showlegend": false,
         "type": "scattergeo"
        },
        {
         "hoverinfo": "text",
         "hovertext": "ukraine -> azerbaijan: 41667.58 tons",
         "lat": [
          50.4501,
          40.4093
         ],
         "line": {
          "color": "#E15759",
          "width": 2
         },
         "lon": [
          30.5234,
          49.8671
         ],
         "mode": "lines",
         "opacity": 0.7,
         "showlegend": false,
         "type": "scattergeo"
        },
        {
         "hoverinfo": "text",
         "hovertext": "argentina -> denmark: 325031.00 tons",
         "lat": [
          -34.6118,
          55.6761
         ],
         "line": {
          "color": "#E15759",
          "width": 2
         },
         "lon": [
          -58.4173,
          12.5683
         ],
         "mode": "lines",
         "opacity": 0.7,
         "showlegend": false,
         "type": "scattergeo"
        },
        {
         "hoverinfo": "text",
         "hovertext": "brazil -> denmark: 343838.02 tons",
         "lat": [
          -15.8267,
          55.6761
         ],
         "line": {
          "color": "#E15759",
          "width": 2
         },
         "lon": [
          -47.9218,
          12.5683
         ],
         "mode": "lines",
         "opacity": 0.7,
         "showlegend": false,
         "type": "scattergeo"
        },
        {
         "hoverinfo": "text",
         "hovertext": "germany -> denmark: 462552.77 tons",
         "lat": [
          52.52,
          55.6761
         ],
         "line": {
          "color": "#E15759",
          "width": 2
         },
         "lon": [
          13.405,
          12.5683
         ],
         "mode": "lines",
         "opacity": 0.7,
         "showlegend": false,
         "type": "scattergeo"
        },
        {
         "hoverinfo": "text",
         "hovertext": "united states of america -> dominican rep.: 282877.55 tons",
         "lat": [
          38.9072,
          18.4861
         ],
         "line": {
          "color": "#76B7B2",
          "width": 2
         },
         "lon": [
          -77.0369,
          -69.9312
         ],
         "mode": "lines",
         "opacity": 0.7,
         "showlegend": false,
         "type": "scattergeo"
        },
        {
         "hoverinfo": "text",
         "hovertext": "argentina -> belarus: 201232.00 tons",
         "lat": [
          -34.6118,
          53.9
         ],
         "line": {
          "color": "#E15759",
          "width": 2
         },
         "lon": [
          -58.4173,
          27.5667
         ],
         "mode": "lines",
         "opacity": 0.7,
         "showlegend": false,
         "type": "scattergeo"
        },
        {
         "hoverinfo": "text",
         "hovertext": "ukraine -> belarus: 382759.00 tons",
         "lat": [
          50.4501,
          53.9
         ],
         "line": {
          "color": "#E15759",
          "width": 2
         },
         "lon": [
          30.5234,
          27.5667
         ],
         "mode": "lines",
         "opacity": 0.7,
         "showlegend": false,
         "type": "scattergeo"
        },
        {
         "hoverinfo": "text",
         "hovertext": "argentina -> ecuador: 499510.00 tons",
         "lat": [
          -34.6118,
          -0.2299
         ],
         "line": {
          "color": "#59A14F",
          "width": 2
         },
         "lon": [
          -58.4173,
          -78.5249
         ],
         "mode": "lines",
         "opacity": 0.7,
         "showlegend": false,
         "type": "scattergeo"
        },
        {
         "hoverinfo": "text",
         "hovertext": "bolivia -> ecuador: 418019.59 tons",
         "lat": [
          -19.0333,
          -0.2299
         ],
         "line": {
          "color": "#59A14F",
          "width": 2
         },
         "lon": [
          -65.2627,
          -78.5249
         ],
         "mode": "lines",
         "opacity": 0.7,
         "showlegend": false,
         "type": "scattergeo"
        },
        {
         "hoverinfo": "text",
         "hovertext": "united states of america -> ecuador: 608605.07 tons",
         "lat": [
          38.9072,
          -0.2299
         ],
         "line": {
          "color": "#59A14F",
          "width": 2
         },
         "lon": [
          -77.0369,
          -78.5249
         ],
         "mode": "lines",
         "opacity": 0.7,
         "showlegend": false,
         "type": "scattergeo"
        },
        {
         "hoverinfo": "text",
         "hovertext": "uruguay -> egypt: 311135.67 tons",
         "lat": [
          -34.9011,
          30.033333
         ],
         "line": {
          "color": "#4E79A7",
          "width": 2
         },
         "lon": [
          -56.1645,
          31.233334
         ],
         "mode": "lines",
         "opacity": 0.7,
         "showlegend": false,
         "type": "scattergeo"
        },
        {
         "hoverinfo": "text",
         "hovertext": "united states of america -> el salvador: 226396.86 tons",
         "lat": [
          38.9072,
          13.6929
         ],
         "line": {
          "color": "#76B7B2",
          "width": 2
         },
         "lon": [
          -77.0369,
          -89.2182
         ],
         "mode": "lines",
         "opacity": 0.7,
         "showlegend": false,
         "type": "scattergeo"
        },
        {
         "hoverinfo": "text",
         "hovertext": "argentina -> france: 427903.31 tons",
         "lat": [
          -34.6118,
          48.8566
         ],
         "line": {
          "color": "#E15759",
          "width": 2
         },
         "lon": [
          -58.4173,
          2.3522
         ],
         "mode": "lines",
         "opacity": 0.7,
         "showlegend": false,
         "type": "scattergeo"
        },
        {
         "hoverinfo": "text",
         "hovertext": "brazil -> france: 1657211.88 tons",
         "lat": [
          -15.8267,
          48.8566
         ],
         "line": {
          "color": "#E15759",
          "width": 2
         },
         "lon": [
          -47.9218,
          2.3522
         ],
         "mode": "lines",
         "opacity": 0.7,
         "showlegend": false,
         "type": "scattergeo"
        },
        {
         "hoverinfo": "text",
         "hovertext": "germany -> france: 104309.41 tons",
         "lat": [
          52.52,
          48.8566
         ],
         "line": {
          "color": "#E15759",
          "width": 2
         },
         "lon": [
          13.405,
          2.3522
         ],
         "mode": "lines",
         "opacity": 0.7,
         "showlegend": false,
         "type": "scattergeo"
        },
        {
         "hoverinfo": "text",
         "hovertext": "india -> france: 232994.80 tons",
         "lat": [
          28.6139,
          48.8566
         ],
         "line": {
          "color": "#E15759",
          "width": 2
         },
         "lon": [
          77.209,
          2.3522
         ],
         "mode": "lines",
         "opacity": 0.7,
         "showlegend": false,
         "type": "scattergeo"
        },
        {
         "hoverinfo": "text",
         "hovertext": "spain -> france: 125733.69 tons",
         "lat": [
          40.4168,
          48.8566
         ],
         "line": {
          "color": "#E15759",
          "width": 2
         },
         "lon": [
          -3.7038,
          2.3522
         ],
         "mode": "lines",
         "opacity": 0.7,
         "showlegend": false,
         "type": "scattergeo"
        },
        {
         "hoverinfo": "text",
         "hovertext": "belgium -> france: 347098.22 tons",
         "lat": [
          50.8503,
          48.8566
         ],
         "line": {
          "color": "#E15759",
          "width": 2
         },
         "lon": [
          4.3517,
          2.3522
         ],
         "mode": "lines",
         "opacity": 0.7,
         "showlegend": false,
         "type": "scattergeo"
        },
        {
         "hoverinfo": "text",
         "hovertext": "brazil -> germany: 1853271.19 tons",
         "lat": [
          -15.8267,
          52.52
         ],
         "line": {
          "color": "#E15759",
          "width": 2
         },
         "lon": [
          -47.9218,
          13.405
         ],
         "mode": "lines",
         "opacity": 0.7,
         "showlegend": false,
         "type": "scattergeo"
        },
        {
         "hoverinfo": "text",
         "hovertext": "italy -> germany: 92084.45 tons",
         "lat": [
          41.9028,
          52.52
         ],
         "line": {
          "color": "#E15759",
          "width": 2
         },
         "lon": [
          12.4964,
          13.405
         ],
         "mode": "lines",
         "opacity": 0.7,
         "showlegend": false,
         "type": "scattergeo"
        },
        {
         "hoverinfo": "text",
         "hovertext": "netherlands -> germany: 1820540.77 tons",
         "lat": [
          52.3676,
          52.52
         ],
         "line": {
          "color": "#E15759",
          "width": 2
         },
         "lon": [
          4.9041,
          13.405
         ],
         "mode": "lines",
         "opacity": 0.7,
         "showlegend": false,
         "type": "scattergeo"
        },
        {
         "hoverinfo": "text",
         "hovertext": "united states of america -> germany: 1188361.65 tons",
         "lat": [
          38.9072,
          52.52
         ],
         "line": {
          "color": "#E15759",
          "width": 2
         },
         "lon": [
          -77.0369,
          13.405
         ],
         "mode": "lines",
         "opacity": 0.7,
         "showlegend": false,
         "type": "scattergeo"
        },
        {
         "hoverinfo": "text",
         "hovertext": "argentina -> greece: 453302.00 tons",
         "lat": [
          -34.6118,
          37.9838
         ],
         "line": {
          "color": "#E15759",
          "width": 2
         },
         "lon": [
          -58.4173,
          23.7275
         ],
         "mode": "lines",
         "opacity": 0.7,
         "showlegend": false,
         "type": "scattergeo"
        },
        {
         "hoverinfo": "text",
         "hovertext": "united states of america -> guatemala: 571941.28 tons",
         "lat": [
          38.9072,
          14.6349
         ],
         "line": {
          "color": "#76B7B2",
          "width": 2
         },
         "lon": [
          -77.0369,
          -90.5069
         ],
         "mode": "lines",
         "opacity": 0.7,
         "showlegend": false,
         "type": "scattergeo"
        },
        {
         "hoverinfo": "text",
         "hovertext": "united states of america -> honduras: 315934.96 tons",
         "lat": [
          38.9072,
          14.0723
         ],
         "line": {
          "color": "#76B7B2",
          "width": 2
         },
         "lon": [
          -77.0369,
          -87.1921
         ],
         "mode": "lines",
         "opacity": 0.7,
         "showlegend": false,
         "type": "scattergeo"
        },
        {
         "hoverinfo": "text",
         "hovertext": "germany -> hungary: 124602.98 tons",
         "lat": [
          52.52,
          47.4979
         ],
         "line": {
          "color": "#E15759",
          "width": 2
         },
         "lon": [
          13.405,
          19.0402
         ],
         "mode": "lines",
         "opacity": 0.7,
         "showlegend": false,
         "type": "scattergeo"
        },
        {
         "hoverinfo": "text",
         "hovertext": "slovenia -> hungary: 274567.17 tons",
         "lat": [
          46.0569,
          47.4979
         ],
         "line": {
          "color": "#E15759",
          "width": 2
         },
         "lon": [
          14.5058,
          19.0402
         ],
         "mode": "lines",
         "opacity": 0.7,
         "showlegend": false,
         "type": "scattergeo"
        },
        {
         "hoverinfo": "text",
         "hovertext": "argentina -> india: 2466323.00 tons",
         "lat": [
          -34.6118,
          28.6139
         ],
         "line": {
          "color": "#EDC948",
          "width": 2
         },
         "lon": [
          -58.4173,
          77.209
         ],
         "mode": "lines",
         "opacity": 0.7,
         "showlegend": false,
         "type": "scattergeo"
        },
        {
         "hoverinfo": "text",
         "hovertext": "bangladesh -> india: 124632.90 tons",
         "lat": [
          23.7289,
          28.6139
         ],
         "line": {
          "color": "#EDC948",
          "width": 2
         },
         "lon": [
          90.3944,
          77.209
         ],
         "mode": "lines",
         "opacity": 0.7,
         "showlegend": false,
         "type": "scattergeo"
        },
        {
         "hoverinfo": "text",
         "hovertext": "brazil -> india: 526609.00 tons",
         "lat": [
          -15.8267,
          28.6139
         ],
         "line": {
          "color": "#EDC948",
          "width": 2
         },
         "lon": [
          -47.9218,
          77.209
         ],
         "mode": "lines",
         "opacity": 0.7,
         "showlegend": false,
         "type": "scattergeo"
        },
        {
         "hoverinfo": "text",
         "hovertext": "nepal -> india: 342870.00 tons",
         "lat": [
          27.7172,
          28.6139
         ],
         "line": {
          "color": "#EDC948",
          "width": 2
         },
         "lon": [
          85.324,
          77.209
         ],
         "mode": "lines",
         "opacity": 0.7,
         "showlegend": false,
         "type": "scattergeo"
        },
        {
         "hoverinfo": "text",
         "hovertext": "turkey -> india: 47923.70 tons",
         "lat": [
          39.9334,
          28.6139
         ],
         "line": {
          "color": "#EDC948",
          "width": 2
         },
         "lon": [
          32.8597,
          77.209
         ],
         "mode": "lines",
         "opacity": 0.7,
         "showlegend": false,
         "type": "scattergeo"
        },
        {
         "hoverinfo": "text",
         "hovertext": "united arab emirates -> india: 36954.20 tons",
         "lat": [
          24.4539,
          28.6139
         ],
         "line": {
          "color": "#EDC948",
          "width": 2
         },
         "lon": [
          54.3773,
          77.209
         ],
         "mode": "lines",
         "opacity": 0.7,
         "showlegend": false,
         "type": "scattergeo"
        },
        {
         "hoverinfo": "text",
         "hovertext": "vietnam -> india: 74988.28 tons",
         "lat": [
          21.0285,
          28.6139
         ],
         "line": {
          "color": "#EDC948",
          "width": 2
         },
         "lon": [
          105.8542,
          77.209
         ],
         "mode": "lines",
         "opacity": 0.7,
         "showlegend": false,
         "type": "scattergeo"
        },
        {
         "hoverinfo": "text",
         "hovertext": "argentina -> indonesia: 3125211.00 tons",
         "lat": [
          -34.6118,
          -6.2088
         ],
         "line": {
          "color": "#EDC948",
          "width": 2
         },
         "lon": [
          -58.4173,
          106.8456
         ],
         "mode": "lines",
         "opacity": 0.7,
         "showlegend": false,
         "type": "scattergeo"
        },
        {
         "hoverinfo": "text",
         "hovertext": "brazil -> indonesia: 1946221.32 tons",
         "lat": [
          -15.8267,
          -6.2088
         ],
         "line": {
          "color": "#EDC948",
          "width": 2
         },
         "lon": [
          -47.9218,
          106.8456
         ],
         "mode": "lines",
         "opacity": 0.7,
         "showlegend": false,
         "type": "scattergeo"
        },
        {
         "hoverinfo": "text",
         "hovertext": "canada -> indonesia: 232008.96 tons",
         "lat": [
          45.4215,
          -6.2088
         ],
         "line": {
          "color": "#EDC948",
          "width": 2
         },
         "lon": [
          -75.6972,
          106.8456
         ],
         "mode": "lines",
         "opacity": 0.7,
         "showlegend": false,
         "type": "scattergeo"
        },
        {
         "hoverinfo": "text",
         "hovertext": "united states of america -> indonesia: 2295258.05 tons",
         "lat": [
          38.9072,
          -6.2088
         ],
         "line": {
          "color": "#EDC948",
          "width": 2
         },
         "lon": [
          -77.0369,
          106.8456
         ],
         "mode": "lines",
         "opacity": 0.7,
         "showlegend": false,
         "type": "scattergeo"
        },
        {
         "hoverinfo": "text",
         "hovertext": "argentina -> ireland: 372555.00 tons",
         "lat": [
          -34.6118,
          53.3498
         ],
         "line": {
          "color": "#E15759",
          "width": 2
         },
         "lon": [
          -58.4173,
          -6.2603
         ],
         "mode": "lines",
         "opacity": 0.7,
         "showlegend": false,
         "type": "scattergeo"
        },
        {
         "hoverinfo": "text",
         "hovertext": "argentina -> italy: 1053432.52 tons",
         "lat": [
          -34.6118,
          41.9028
         ],
         "line": {
          "color": "#E15759",
          "width": 2
         },
         "lon": [
          -58.4173,
          12.4964
         ],
         "mode": "lines",
         "opacity": 0.7,
         "showlegend": false,
         "type": "scattergeo"
        },
        {
         "hoverinfo": "text",
         "hovertext": "brazil -> italy: 1767982.95 tons",
         "lat": [
          -15.8267,
          41.9028
         ],
         "line": {
          "color": "#E15759",
          "width": 2
         },
         "lon": [
          -47.9218,
          12.4964
         ],
         "mode": "lines",
         "opacity": 0.7,
         "showlegend": false,
         "type": "scattergeo"
        },
        {
         "hoverinfo": "text",
         "hovertext": "canada -> italy: 421513.84 tons",
         "lat": [
          45.4215,
          41.9028
         ],
         "line": {
          "color": "#E15759",
          "width": 2
         },
         "lon": [
          -75.6972,
          12.4964
         ],
         "mode": "lines",
         "opacity": 0.7,
         "showlegend": false,
         "type": "scattergeo"
        },
        {
         "hoverinfo": "text",
         "hovertext": "ukraine -> italy: 99291.67 tons",
         "lat": [
          50.4501,
          41.9028
         ],
         "line": {
          "color": "#E15759",
          "width": 2
         },
         "lon": [
          30.5234,
          12.4964
         ],
         "mode": "lines",
         "opacity": 0.7,
         "showlegend": false,
         "type": "scattergeo"
        },
        {
         "hoverinfo": "text",
         "hovertext": "united states of america -> italy: 424190.29 tons",
         "lat": [
          38.9072,
          41.9028
         ],
         "line": {
          "color": "#E15759",
          "width": 2
         },
         "lon": [
          -77.0369,
          12.4964
         ],
         "mode": "lines",
         "opacity": 0.7,
         "showlegend": false,
         "type": "scattergeo"
        },
        {
         "hoverinfo": "text",
         "hovertext": "russia -> kazakhstan: 72889.37 tons",
         "lat": [
          55.7558,
          51.1694
         ],
         "line": {
          "color": "#EDC948",
          "width": 2
         },
         "lon": [
          37.6173,
          71.4491
         ],
         "mode": "lines",
         "opacity": 0.7,
         "showlegend": false,
         "type": "scattergeo"
        },
        {
         "hoverinfo": "text",
         "hovertext": "argentina -> japan: 225015.00 tons",
         "lat": [
          -34.6118,
          35.6895
         ],
         "line": {
          "color": "#EDC948",
          "width": 2
         },
         "lon": [
          -58.4173,
          139.6917
         ],
         "mode": "lines",
         "opacity": 0.7,
         "showlegend": false,
         "type": "scattergeo"
        },
        {
         "hoverinfo": "text",
         "hovertext": "brazil -> japan: 843968.00 tons",
         "lat": [
          -15.8267,
          35.6895
         ],
         "line": {
          "color": "#EDC948",
          "width": 2
         },
         "lon": [
          -47.9218,
          139.6917
         ],
         "mode": "lines",
         "opacity": 0.7,
         "showlegend": false,
         "type": "scattergeo"
        },
        {
         "hoverinfo": "text",
         "hovertext": "canada -> japan: 271995.00 tons",
         "lat": [
          45.4215,
          35.6895
         ],
         "line": {
          "color": "#EDC948",
          "width": 2
         },
         "lon": [
          -75.6972,
          139.6917
         ],
         "mode": "lines",
         "opacity": 0.7,
         "showlegend": false,
         "type": "scattergeo"
        },
        {
         "hoverinfo": "text",
         "hovertext": "china -> japan: 720816.52 tons",
         "lat": [
          39.9042,
          35.6895
         ],
         "line": {
          "color": "#EDC948",
          "width": 2
         },
         "lon": [
          116.4074,
          139.6917
         ],
         "mode": "lines",
         "opacity": 0.7,
         "showlegend": false,
         "type": "scattergeo"
        },
        {
         "hoverinfo": "text",
         "hovertext": "united states of america -> japan: 2742882.99 tons",
         "lat": [
          38.9072,
          35.6895
         ],
         "line": {
          "color": "#EDC948",
          "width": 2
         },
         "lon": [
          -77.0369,
          139.6917
         ],
         "mode": "lines",
         "opacity": 0.7,
         "showlegend": false,
         "type": "scattergeo"
        },
        {
         "hoverinfo": "text",
         "hovertext": "argentina -> north korea: 222344.63 tons",
         "lat": [
          -34.6118,
          39.0392
         ],
         "line": {
          "color": "#EDC948",
          "width": 2
         },
         "lon": [
          -58.4173,
          125.7625
         ],
         "mode": "lines",
         "opacity": 0.7,
         "showlegend": false,
         "type": "scattergeo"
        },
        {
         "hoverinfo": "text",
         "hovertext": "brazil -> north korea: 2252930.83 tons",
         "lat": [
          -15.8267,
          39.0392
         ],
         "line": {
          "color": "#EDC948",
          "width": 2
         },
         "lon": [
          -47.9218,
          125.7625
         ],
         "mode": "lines",
         "opacity": 0.7,
         "showlegend": false,
         "type": "scattergeo"
        },
        {
         "hoverinfo": "text",
         "hovertext": "india -> north korea: 44090.13 tons",
         "lat": [
          28.6139,
          39.0392
         ],
         "line": {
          "color": "#EDC948",
          "width": 2
         },
         "lon": [
          77.209,
          125.7625
         ],
         "mode": "lines",
         "opacity": 0.7,
         "showlegend": false,
         "type": "scattergeo"
        },
        {
         "hoverinfo": "text",
         "hovertext": "russia -> north korea: 15254.42 tons",
         "lat": [
          55.7558,
          39.0392
         ],
         "line": {
          "color": "#EDC948",
          "width": 2
         },
         "lon": [
          37.6173,
          125.7625
         ],
         "mode": "lines",
         "opacity": 0.7,
         "showlegend": false,
         "type": "scattergeo"
        },
        {
         "hoverinfo": "text",
         "hovertext": "united states of america -> north korea: 764133.18 tons",
         "lat": [
          38.9072,
          39.0392
         ],
         "line": {
          "color": "#EDC948",
          "width": 2
         },
         "lon": [
          -77.0369,
          125.7625
         ],
         "mode": "lines",
         "opacity": 0.7,
         "showlegend": false,
         "type": "scattergeo"
        },
        {
         "hoverinfo": "text",
         "hovertext": "vietnam -> north korea: 56966.71 tons",
         "lat": [
          21.0285,
          39.0392
         ],
         "line": {
          "color": "#EDC948",
          "width": 2
         },
         "lon": [
          105.8542,
          125.7625
         ],
         "mode": "lines",
         "opacity": 0.7,
         "showlegend": false,
         "type": "scattergeo"
        },
        {
         "hoverinfo": "text",
         "hovertext": "argentina -> lebanon: 134762.56 tons",
         "lat": [
          -34.6118,
          33.8938
         ],
         "line": {
          "color": "#EDC948",
          "width": 2
         },
         "lon": [
          -58.4173,
          35.5018
         ],
         "mode": "lines",
         "opacity": 0.7,
         "showlegend": false,
         "type": "scattergeo"
        },
        {
         "hoverinfo": "text",
         "hovertext": "netherlands -> lithuania: 83618.42 tons",
         "lat": [
          52.3676,
          54.6872
         ],
         "line": {
          "color": "#E15759",
          "width": 2
         },
         "lon": [
          4.9041,
          25.2797
         ],
         "mode": "lines",
         "opacity": 0.7,
         "showlegend": false,
         "type": "scattergeo"
        },
        {
         "hoverinfo": "text",
         "hovertext": "argentina -> malaysia: 1370488.30 tons",
         "lat": [
          -34.6118,
          3.139
         ],
         "line": {
          "color": "#EDC948",
          "width": 2
         },
         "lon": [
          -58.4173,
          101.6869
         ],
         "mode": "lines",
         "opacity": 0.7,
         "showlegend": false,
         "type": "scattergeo"
        },
        {
         "hoverinfo": "text",
         "hovertext": "china -> malaysia: 17762.60 tons",
         "lat": [
          39.9042,
          3.139
         ],
         "line": {
          "color": "#EDC948",
          "width": 2
         },
         "lon": [
          116.4074,
          101.6869
         ],
         "mode": "lines",
         "opacity": 0.7,
         "showlegend": false,
         "type": "scattergeo"
        },
        {
         "hoverinfo": "text",
         "hovertext": "united states of america -> malaysia: 543342.65 tons",
         "lat": [
          38.9072,
          3.139
         ],
         "line": {
          "color": "#EDC948",
          "width": 2
         },
         "lon": [
          -77.0369,
          101.6869
         ],
         "mode": "lines",
         "opacity": 0.7,
         "showlegend": false,
         "type": "scattergeo"
        },
        {
         "hoverinfo": "text",
         "hovertext": "brazil -> mexico: 793075.10 tons",
         "lat": [
          -15.8267,
          19.4326
         ],
         "line": {
          "color": "#76B7B2",
          "width": 2
         },
         "lon": [
          -47.9218,
          -99.1332
         ],
         "mode": "lines",
         "opacity": 0.7,
         "showlegend": false,
         "type": "scattergeo"
        },
        {
         "hoverinfo": "text",
         "hovertext": "united states of america -> mexico: 1632438.00 tons",
         "lat": [
          38.9072,
          19.4326
         ],
         "line": {
          "color": "#76B7B2",
          "width": 2
         },
         "lon": [
          -77.0369,
          -99.1332
         ],
         "mode": "lines",
         "opacity": 0.7,
         "showlegend": false,
         "type": "scattergeo"
        },
        {
         "hoverinfo": "text",
         "hovertext": "argentina -> morocco: 312650.00 tons",
         "lat": [
          -34.6118,
          34.020882
         ],
         "line": {
          "color": "#4E79A7",
          "width": 2
         },
         "lon": [
          -58.4173,
          -6.84165
         ],
         "mode": "lines",
         "opacity": 0.7,
         "showlegend": false,
         "type": "scattergeo"
        },
        {
         "hoverinfo": "text",
         "hovertext": "egypt -> morocco: 65000.00 tons",
         "lat": [
          30.033333,
          34.020882
         ],
         "line": {
          "color": "#4E79A7",
          "width": 2
         },
         "lon": [
          31.233334,
          -6.84165
         ],
         "mode": "lines",
         "opacity": 0.7,
         "showlegend": false,
         "type": "scattergeo"
        },
        {
         "hoverinfo": "text",
         "hovertext": "united states of america -> morocco: 335467.04 tons",
         "lat": [
          38.9072,
          34.020882
         ],
         "line": {
          "color": "#4E79A7",
          "width": 2
         },
         "lon": [
          -77.0369,
          -6.84165
         ],
         "mode": "lines",
         "opacity": 0.7,
         "showlegend": false,
         "type": "scattergeo"
        },
        {
         "hoverinfo": "text",
         "hovertext": "india -> nepal: 133970.56 tons",
         "lat": [
          28.6139,
          27.7172
         ],
         "line": {
          "color": "#EDC948",
          "width": 2
         },
         "lon": [
          77.209,
          85.324
         ],
         "mode": "lines",
         "opacity": 0.7,
         "showlegend": false,
         "type": "scattergeo"
        },
        {
         "hoverinfo": "text",
         "hovertext": "argentina -> netherlands: 365411.64 tons",
         "lat": [
          -34.6118,
          52.3676
         ],
         "line": {
          "color": "#E15759",
          "width": 2
         },
         "lon": [
          -58.4173,
          4.9041
         ],
         "mode": "lines",
         "opacity": 0.7,
         "showlegend": false,
         "type": "scattergeo"
        },
        {
         "hoverinfo": "text",
         "hovertext": "brazil -> netherlands: 3986210.37 tons",
         "lat": [
          -15.8267,
          52.3676
         ],
         "line": {
          "color": "#E15759",
          "width": 2
         },
         "lon": [
          -47.9218,
          4.9041
         ],
         "mode": "lines",
         "opacity": 0.7,
         "showlegend": false,
         "type": "scattergeo"
        },
        {
         "hoverinfo": "text",
         "hovertext": "ukraine -> netherlands: 170074.15 tons",
         "lat": [
          50.4501,
          52.3676
         ],
         "line": {
          "color": "#E15759",
          "width": 2
         },
         "lon": [
          30.5234,
          4.9041
         ],
         "mode": "lines",
         "opacity": 0.7,
         "showlegend": false,
         "type": "scattergeo"
        },
        {
         "hoverinfo": "text",
         "hovertext": "united states of america -> netherlands: 1291952.24 tons",
         "lat": [
          38.9072,
          52.3676
         ],
         "line": {
          "color": "#E15759",
          "width": 2
         },
         "lon": [
          -77.0369,
          4.9041
         ],
         "mode": "lines",
         "opacity": 0.7,
         "showlegend": false,
         "type": "scattergeo"
        },
        {
         "hoverinfo": "text",
         "hovertext": "argentina -> new zealand: 377924.00 tons",
         "lat": [
          -34.6118,
          -41.2865
         ],
         "line": {
          "color": "#B07AA1",
          "width": 2
         },
         "lon": [
          -58.4173,
          174.7762
         ],
         "mode": "lines",
         "opacity": 0.7,
         "showlegend": false,
         "type": "scattergeo"
        },
        {
         "hoverinfo": "text",
         "hovertext": "united states of america -> nicaragua: 133139.37 tons",
         "lat": [
          38.9072,
          12.1364
         ],
         "line": {
          "color": "#76B7B2",
          "width": 2
         },
         "lon": [
          -77.0369,
          -86.2514
         ],
         "mode": "lines",
         "opacity": 0.7,
         "showlegend": false,
         "type": "scattergeo"
        },
        {
         "hoverinfo": "text",
         "hovertext": "brazil -> norway: 310995.90 tons",
         "lat": [
          -15.8267,
          59.9139
         ],
         "line": {
          "color": "#E15759",
          "width": 2
         },
         "lon": [
          -47.9218,
          10.7522
         ],
         "mode": "lines",
         "opacity": 0.7,
         "showlegend": false,
         "type": "scattergeo"
        },
        {
         "hoverinfo": "text",
         "hovertext": "brazil -> pakistan: 1616679.00 tons",
         "lat": [
          -15.8267,
          33.6844
         ],
         "line": {
          "color": "#EDC948",
          "width": 2
         },
         "lon": [
          -47.9218,
          73.0479
         ],
         "mode": "lines",
         "opacity": 0.7,
         "showlegend": false,
         "type": "scattergeo"
        },
        {
         "hoverinfo": "text",
         "hovertext": "united states of america -> pakistan: 791175.00 tons",
         "lat": [
          38.9072,
          33.6844
         ],
         "line": {
          "color": "#EDC948",
          "width": 2
         },
         "lon": [
          -77.0369,
          73.0479
         ],
         "mode": "lines",
         "opacity": 0.7,
         "showlegend": false,
         "type": "scattergeo"
        },
        {
         "hoverinfo": "text",
         "hovertext": "united states of america -> panama: 285698.09 tons",
         "lat": [
          38.9072,
          8.9833
         ],
         "line": {
          "color": "#76B7B2",
          "width": 2
         },
         "lon": [
          -77.0369,
          -79.5167
         ],
         "mode": "lines",
         "opacity": 0.7,
         "showlegend": false,
         "type": "scattergeo"
        },
        {
         "hoverinfo": "text",
         "hovertext": "germany -> czechia: 274499.82 tons",
         "lat": [
          52.52,
          50.0755
         ],
         "line": {
          "color": "#E15759",
          "width": 2
         },
         "lon": [
          13.405,
          14.4378
         ],
         "mode": "lines",
         "opacity": 0.7,
         "showlegend": false,
         "type": "scattergeo"
        },
        {
         "hoverinfo": "text",
         "hovertext": "argentina -> peru: 441442.03 tons",
         "lat": [
          -34.6118,
          -12.0464
         ],
         "line": {
          "color": "#59A14F",
          "width": 2
         },
         "lon": [
          -58.4173,
          -77.0428
         ],
         "mode": "lines",
         "opacity": 0.7,
         "showlegend": false,
         "type": "scattergeo"
        },
        {
         "hoverinfo": "text",
         "hovertext": "bolivia -> peru: 1318457.20 tons",
         "lat": [
          -19.0333,
          -12.0464
         ],
         "line": {
          "color": "#59A14F",
          "width": 2
         },
         "lon": [
          -65.2627,
          -77.0428
         ],
         "mode": "lines",
         "opacity": 0.7,
         "showlegend": false,
         "type": "scattergeo"
        },
        {
         "hoverinfo": "text",
         "hovertext": "brazil -> peru: 26799.21 tons",
         "lat": [
          -15.8267,
          -12.0464
         ],
         "line": {
          "color": "#59A14F",
          "width": 2
         },
         "lon": [
          -47.9218,
          -77.0428
         ],
         "mode": "lines",
         "opacity": 0.7,
         "showlegend": false,
         "type": "scattergeo"
        },
        {
         "hoverinfo": "text",
         "hovertext": "paraguay -> peru: 290108.30 tons",
         "lat": [
          -25.2865,
          -12.0464
         ],
         "line": {
          "color": "#59A14F",
          "width": 2
         },
         "lon": [
          -57.647,
          -77.0428
         ],
         "mode": "lines",
         "opacity": 0.7,
         "showlegend": false,
         "type": "scattergeo"
        },
        {
         "hoverinfo": "text",
         "hovertext": "argentina -> philippines: 611441.00 tons",
         "lat": [
          -34.6118,
          14.5995
         ],
         "line": {
          "color": "#EDC948",
          "width": 2
         },
         "lon": [
          -58.4173,
          120.9842
         ],
         "mode": "lines",
         "opacity": 0.7,
         "showlegend": false,
         "type": "scattergeo"
        },
        {
         "hoverinfo": "text",
         "hovertext": "united states of america -> philippines: 2126280.13 tons",
         "lat": [
          38.9072,
          14.5995
         ],
         "line": {
          "color": "#EDC948",
          "width": 2
         },
         "lon": [
          -77.0369,
          120.9842
         ],
         "mode": "lines",
         "opacity": 0.7,
         "showlegend": false,
         "type": "scattergeo"
        },
        {
         "hoverinfo": "text",
         "hovertext": "argentina -> poland: 1424207.67 tons",
         "lat": [
          -34.6118,
          52.2297
         ],
         "line": {
          "color": "#E15759",
          "width": 2
         },
         "lon": [
          -58.4173,
          21.0122
         ],
         "mode": "lines",
         "opacity": 0.7,
         "showlegend": false,
         "type": "scattergeo"
        },
        {
         "hoverinfo": "text",
         "hovertext": "brazil -> poland: 611252.00 tons",
         "lat": [
          -15.8267,
          52.2297
         ],
         "line": {
          "color": "#E15759",
          "width": 2
         },
         "lon": [
          -47.9218,
          21.0122
         ],
         "mode": "lines",
         "opacity": 0.7,
         "showlegend": false,
         "type": "scattergeo"
        },
        {
         "hoverinfo": "text",
         "hovertext": "netherlands -> poland: 85050.11 tons",
         "lat": [
          52.3676,
          52.2297
         ],
         "line": {
          "color": "#E15759",
          "width": 2
         },
         "lon": [
          4.9041,
          21.0122
         ],
         "mode": "lines",
         "opacity": 0.7,
         "showlegend": false,
         "type": "scattergeo"
        },
        {
         "hoverinfo": "text",
         "hovertext": "paraguay -> poland: 371980.00 tons",
         "lat": [
          -25.2865,
          52.2297
         ],
         "line": {
          "color": "#E15759",
          "width": 2
         },
         "lon": [
          -57.647,
          21.0122
         ],
         "mode": "lines",
         "opacity": 0.7,
         "showlegend": false,
         "type": "scattergeo"
        },
        {
         "hoverinfo": "text",
         "hovertext": "ukraine -> poland: 285302.02 tons",
         "lat": [
          50.4501,
          52.2297
         ],
         "line": {
          "color": "#E15759",
          "width": 2
         },
         "lon": [
          30.5234,
          21.0122
         ],
         "mode": "lines",
         "opacity": 0.7,
         "showlegend": false,
         "type": "scattergeo"
        },
        {
         "hoverinfo": "text",
         "hovertext": "brazil -> portugal: 737512.72 tons",
         "lat": [
          -15.8267,
          38.7167
         ],
         "line": {
          "color": "#E15759",
          "width": 2
         },
         "lon": [
          -47.9218,
          -9.1333
         ],
         "mode": "lines",
         "opacity": 0.7,
         "showlegend": false,
         "type": "scattergeo"
        },
        {
         "hoverinfo": "text",
         "hovertext": "germany -> portugal: 306817.37 tons",
         "lat": [
          52.52,
          38.7167
         ],
         "line": {
          "color": "#E15759",
          "width": 2
         },
         "lon": [
          13.405,
          -9.1333
         ],
         "mode": "lines",
         "opacity": 0.7,
         "showlegend": false,
         "type": "scattergeo"
        },
        {
         "hoverinfo": "text",
         "hovertext": "united states of america -> portugal: 267145.59 tons",
         "lat": [
          38.9072,
          38.7167
         ],
         "line": {
          "color": "#E15759",
          "width": 2
         },
         "lon": [
          -77.0369,
          -9.1333
         ],
         "mode": "lines",
         "opacity": 0.7,
         "showlegend": false,
         "type": "scattergeo"
        },
        {
         "hoverinfo": "text",
         "hovertext": "south africa -> zimbabwe: 102540.60 tons",
         "lat": [
          -25.746111,
          -17.82922
         ],
         "line": {
          "color": "#4E79A7",
          "width": 2
         },
         "lon": [
          28.188056,
          31.05222
         ],
         "mode": "lines",
         "opacity": 0.7,
         "showlegend": false,
         "type": "scattergeo"
        },
        {
         "hoverinfo": "text",
         "hovertext": "argentina -> romania: 133182.00 tons",
         "lat": [
          -34.6118,
          44.4268
         ],
         "line": {
          "color": "#E15759",
          "width": 2
         },
         "lon": [
          -58.4173,
          26.1025
         ],
         "mode": "lines",
         "opacity": 0.7,
         "showlegend": false,
         "type": "scattergeo"
        },
        {
         "hoverinfo": "text",
         "hovertext": "brazil -> romania: 482023.75 tons",
         "lat": [
          -15.8267,
          44.4268
         ],
         "line": {
          "color": "#E15759",
          "width": 2
         },
         "lon": [
          -47.9218,
          26.1025
         ],
         "mode": "lines",
         "opacity": 0.7,
         "showlegend": false,
         "type": "scattergeo"
        },
        {
         "hoverinfo": "text",
         "hovertext": "argentina -> russia: 532996.30 tons",
         "lat": [
          -34.6118,
          55.7558
         ],
         "line": {
          "color": "#EDC948",
          "width": 2
         },
         "lon": [
          -58.4173,
          37.6173
         ],
         "mode": "lines",
         "opacity": 0.7,
         "showlegend": false,
         "type": "scattergeo"
        },
        {
         "hoverinfo": "text",
         "hovertext": "brazil -> russia: 927810.40 tons",
         "lat": [
          -15.8267,
          55.7558
         ],
         "line": {
          "color": "#EDC948",
          "width": 2
         },
         "lon": [
          -47.9218,
          37.6173
         ],
         "mode": "lines",
         "opacity": 0.7,
         "showlegend": false,
         "type": "scattergeo"
        },
        {
         "hoverinfo": "text",
         "hovertext": "paraguay -> russia: 788363.80 tons",
         "lat": [
          -25.2865,
          55.7558
         ],
         "line": {
          "color": "#EDC948",
          "width": 2
         },
         "lon": [
          -57.647,
          37.6173
         ],
         "mode": "lines",
         "opacity": 0.7,
         "showlegend": false,
         "type": "scattergeo"
        },
        {
         "hoverinfo": "text",
         "hovertext": "argentina -> saudi arabia: 760708.10 tons",
         "lat": [
          -34.6118,
          24.7136
         ],
         "line": {
          "color": "#EDC948",
          "width": 2
         },
         "lon": [
          -58.4173,
          46.6753
         ],
         "mode": "lines",
         "opacity": 0.7,
         "showlegend": false,
         "type": "scattergeo"
        },
        {
         "hoverinfo": "text",
         "hovertext": "brazil -> saudi arabia: 547556.00 tons",
         "lat": [
          -15.8267,
          24.7136
         ],
         "line": {
          "color": "#EDC948",
          "width": 2
         },
         "lon": [
          -47.9218,
          46.6753
         ],
         "mode": "lines",
         "opacity": 0.7,
         "showlegend": false,
         "type": "scattergeo"
        },
        {
         "hoverinfo": "text",
         "hovertext": "united states of america -> saudi arabia: 213158.43 tons",
         "lat": [
          38.9072,
          24.7136
         ],
         "line": {
          "color": "#EDC948",
          "width": 2
         },
         "lon": [
          -77.0369,
          46.6753
         ],
         "mode": "lines",
         "opacity": 0.7,
         "showlegend": false,
         "type": "scattergeo"
        },
        {
         "hoverinfo": "text",
         "hovertext": "brazil -> slovenia: 698072.00 tons",
         "lat": [
          -15.8267,
          46.0569
         ],
         "line": {
          "color": "#E15759",
          "width": 2
         },
         "lon": [
          -47.9218,
          14.5058
         ],
         "mode": "lines",
         "opacity": 0.7,
         "showlegend": false,
         "type": "scattergeo"
        },
        {
         "hoverinfo": "text",
         "hovertext": "argentina -> south africa: 497588.95 tons",
         "lat": [
          -34.6118,
          -25.746111
         ],
         "line": {
          "color": "#4E79A7",
          "width": 2
         },
         "lon": [
          -58.4173,
          28.188056
         ],
         "mode": "lines",
         "opacity": 0.7,
         "showlegend": false,
         "type": "scattergeo"
        },
        {
         "hoverinfo": "text",
         "hovertext": "argentina -> spain: 1755230.44 tons",
         "lat": [
          -34.6118,
          40.4168
         ],
         "line": {
          "color": "#E15759",
          "width": 2
         },
         "lon": [
          -58.4173,
          -3.7038
         ],
         "mode": "lines",
         "opacity": 0.7,
         "showlegend": false,
         "type": "scattergeo"
        },
        {
         "hoverinfo": "text",
         "hovertext": "brazil -> spain: 3201512.40 tons",
         "lat": [
          -15.8267,
          40.4168
         ],
         "line": {
          "color": "#E15759",
          "width": 2
         },
         "lon": [
          -47.9218,
          -3.7038
         ],
         "mode": "lines",
         "opacity": 0.7,
         "showlegend": false,
         "type": "scattergeo"
        },
        {
         "hoverinfo": "text",
         "hovertext": "germany -> spain: 137093.62 tons",
         "lat": [
          52.52,
          40.4168
         ],
         "line": {
          "color": "#E15759",
          "width": 2
         },
         "lon": [
          13.405,
          -3.7038
         ],
         "mode": "lines",
         "opacity": 0.7,
         "showlegend": false,
         "type": "scattergeo"
        },
        {
         "hoverinfo": "text",
         "hovertext": "united states of america -> spain: 1117776.84 tons",
         "lat": [
          38.9072,
          40.4168
         ],
         "line": {
          "color": "#E15759",
          "width": 2
         },
         "lon": [
          -77.0369,
          -3.7038
         ],
         "mode": "lines",
         "opacity": 0.7,
         "showlegend": false,
         "type": "scattergeo"
        },
        {
         "hoverinfo": "text",
         "hovertext": "brazil -> taiwan: 1256202.00 tons",
         "lat": [
          -15.8267,
          25.033
         ],
         "line": {
          "color": "#EDC948",
          "width": 2
         },
         "lon": [
          -47.9218,
          121.5654
         ],
         "mode": "lines",
         "opacity": 0.7,
         "showlegend": false,
         "type": "scattergeo"
        },
        {
         "hoverinfo": "text",
         "hovertext": "united states of america -> taiwan: 1311387.00 tons",
         "lat": [
          38.9072,
          25.033
         ],
         "line": {
          "color": "#EDC948",
          "width": 2
         },
         "lon": [
          -77.0369,
          121.5654
         ],
         "mode": "lines",
         "opacity": 0.7,
         "showlegend": false,
         "type": "scattergeo"
        },
        {
         "hoverinfo": "text",
         "hovertext": "argentina -> thailand: 180529.00 tons",
         "lat": [
          -34.6118,
          13.7563
         ],
         "line": {
          "color": "#EDC948",
          "width": 2
         },
         "lon": [
          -58.4173,
          100.5018
         ],
         "mode": "lines",
         "opacity": 0.7,
         "showlegend": false,
         "type": "scattergeo"
        },
        {
         "hoverinfo": "text",
         "hovertext": "brazil -> thailand: 5360784.13 tons",
         "lat": [
          -15.8267,
          13.7563
         ],
         "line": {
          "color": "#EDC948",
          "width": 2
         },
         "lon": [
          -47.9218,
          100.5018
         ],
         "mode": "lines",
         "opacity": 0.7,
         "showlegend": false,
         "type": "scattergeo"
        },
        {
         "hoverinfo": "text",
         "hovertext": "united states of america -> thailand: 1089027.98 tons",
         "lat": [
          38.9072,
          13.7563
         ],
         "line": {
          "color": "#EDC948",
          "width": 2
         },
         "lon": [
          -77.0369,
          100.5018
         ],
         "mode": "lines",
         "opacity": 0.7,
         "showlegend": false,
         "type": "scattergeo"
        },
        {
         "hoverinfo": "text",
         "hovertext": "brazil -> tunisia: 236265.08 tons",
         "lat": [
          -15.8267,
          36.803056
         ],
         "line": {
          "color": "#4E79A7",
          "width": 2
         },
         "lon": [
          -47.9218,
          10.185556
         ],
         "mode": "lines",
         "opacity": 0.7,
         "showlegend": false,
         "type": "scattergeo"
        },
        {
         "hoverinfo": "text",
         "hovertext": "united states of america -> tunisia: 239131.00 tons",
         "lat": [
          38.9072,
          36.803056
         ],
         "line": {
          "color": "#4E79A7",
          "width": 2
         },
         "lon": [
          -77.0369,
          10.185556
         ],
         "mode": "lines",
         "opacity": 0.7,
         "showlegend": false,
         "type": "scattergeo"
        },
        {
         "hoverinfo": "text",
         "hovertext": "argentina -> turkey: 772357.01 tons",
         "lat": [
          -34.6118,
          39.9334
         ],
         "line": {
          "color": "#EDC948",
          "width": 2
         },
         "lon": [
          -58.4173,
          32.8597
         ],
         "mode": "lines",
         "opacity": 0.7,
         "showlegend": false,
         "type": "scattergeo"
        },
        {
         "hoverinfo": "text",
         "hovertext": "brazil -> turkey: 1818548.76 tons",
         "lat": [
          -15.8267,
          39.9334
         ],
         "line": {
          "color": "#EDC948",
          "width": 2
         },
         "lon": [
          -47.9218,
          32.8597
         ],
         "mode": "lines",
         "opacity": 0.7,
         "showlegend": false,
         "type": "scattergeo"
        },
        {
         "hoverinfo": "text",
         "hovertext": "united states of america -> turkey: 263284.88 tons",
         "lat": [
          38.9072,
          39.9334
         ],
         "line": {
          "color": "#EDC948",
          "width": 2
         },
         "lon": [
          -77.0369,
          32.8597
         ],
         "mode": "lines",
         "opacity": 0.7,
         "showlegend": false,
         "type": "scattergeo"
        },
        {
         "hoverinfo": "text",
         "hovertext": "argentina -> united arab emirates: 148685.00 tons",
         "lat": [
          -34.6118,
          24.4539
         ],
         "line": {
          "color": "#EDC948",
          "width": 2
         },
         "lon": [
          -58.4173,
          54.3773
         ],
         "mode": "lines",
         "opacity": 0.7,
         "showlegend": false,
         "type": "scattergeo"
        },
        {
         "hoverinfo": "text",
         "hovertext": "argentina -> united kingdom: 1022354.08 tons",
         "lat": [
          -34.6118,
          51.5074
         ],
         "line": {
          "color": "#E15759",
          "width": 2
         },
         "lon": [
          -58.4173,
          -0.1278
         ],
         "mode": "lines",
         "opacity": 0.7,
         "showlegend": false,
         "type": "scattergeo"
        },
        {
         "hoverinfo": "text",
         "hovertext": "brazil -> united kingdom: 566071.90 tons",
         "lat": [
          -15.8267,
          51.5074
         ],
         "line": {
          "color": "#E15759",
          "width": 2
         },
         "lon": [
          -47.9218,
          -0.1278
         ],
         "mode": "lines",
         "opacity": 0.7,
         "showlegend": false,
         "type": "scattergeo"
        },
        {
         "hoverinfo": "text",
         "hovertext": "paraguay -> united kingdom: 289627.00 tons",
         "lat": [
          -25.2865,
          51.5074
         ],
         "line": {
          "color": "#E15759",
          "width": 2
         },
         "lon": [
          -57.647,
          -0.1278
         ],
         "mode": "lines",
         "opacity": 0.7,
         "showlegend": false,
         "type": "scattergeo"
        },
        {
         "hoverinfo": "text",
         "hovertext": "canada -> united states of america: 507081.02 tons",
         "lat": [
          45.4215,
          38.9072
         ],
         "line": {
          "color": "#76B7B2",
          "width": 2
         },
         "lon": [
          -75.6972,
          -77.0369
         ],
         "mode": "lines",
         "opacity": 0.7,
         "showlegend": false,
         "type": "scattergeo"
        },
        {
         "hoverinfo": "text",
         "hovertext": "india -> united states of america: 250623.48 tons",
         "lat": [
          28.6139,
          38.9072
         ],
         "line": {
          "color": "#76B7B2",
          "width": 2
         },
         "lon": [
          77.209,
          -77.0369
         ],
         "mode": "lines",
         "opacity": 0.7,
         "showlegend": false,
         "type": "scattergeo"
        },
        {
         "hoverinfo": "text",
         "hovertext": "brazil -> vietnam: 1029815.60 tons",
         "lat": [
          -15.8267,
          21.0285
         ],
         "line": {
          "color": "#EDC948",
          "width": 2
         },
         "lon": [
          -47.9218,
          105.8542
         ],
         "mode": "lines",
         "opacity": 0.7,
         "showlegend": false,
         "type": "scattergeo"
        },
        {
         "hoverinfo": "text",
         "hovertext": "india -> vietnam: 119617.58 tons",
         "lat": [
          28.6139,
          21.0285
         ],
         "line": {
          "color": "#EDC948",
          "width": 2
         },
         "lon": [
          77.209,
          105.8542
         ],
         "mode": "lines",
         "opacity": 0.7,
         "showlegend": false,
         "type": "scattergeo"
        },
        {
         "hoverinfo": "text",
         "hovertext": "united states of america -> vietnam: 1303747.40 tons",
         "lat": [
          38.9072,
          21.0285
         ],
         "line": {
          "color": "#EDC948",
          "width": 2
         },
         "lon": [
          -77.0369,
          105.8542
         ],
         "mode": "lines",
         "opacity": 0.7,
         "showlegend": false,
         "type": "scattergeo"
        },
        {
         "hoverinfo": "text",
         "hovertext": "netherlands -> belgium: 1067347.91 tons",
         "lat": [
          52.3676,
          50.8503
         ],
         "line": {
          "color": "#E15759",
          "width": 2
         },
         "lon": [
          4.9041,
          4.3517
         ],
         "mode": "lines",
         "opacity": 0.7,
         "showlegend": false,
         "type": "scattergeo"
        },
        {
         "lat": [
          null
         ],
         "line": {
          "color": "#4E79A7",
          "width": 2
         },
         "lon": [
          null
         ],
         "mode": "lines",
         "name": "africa",
         "showlegend": true,
         "type": "scattergeo"
        },
        {
         "lat": [
          null
         ],
         "line": {
          "color": "#EDC948",
          "width": 2
         },
         "lon": [
          null
         ],
         "mode": "lines",
         "name": "asia",
         "showlegend": true,
         "type": "scattergeo"
        },
        {
         "lat": [
          null
         ],
         "line": {
          "color": "#E15759",
          "width": 2
         },
         "lon": [
          null
         ],
         "mode": "lines",
         "name": "europe",
         "showlegend": true,
         "type": "scattergeo"
        },
        {
         "lat": [
          null
         ],
         "line": {
          "color": "#76B7B2",
          "width": 2
         },
         "lon": [
          null
         ],
         "mode": "lines",
         "name": "north america",
         "showlegend": true,
         "type": "scattergeo"
        },
        {
         "lat": [
          null
         ],
         "line": {
          "color": "#B07AA1",
          "width": 2
         },
         "lon": [
          null
         ],
         "mode": "lines",
         "name": "oceania",
         "showlegend": true,
         "type": "scattergeo"
        },
        {
         "lat": [
          null
         ],
         "line": {
          "color": "#59A14F",
          "width": 2
         },
         "lon": [
          null
         ],
         "mode": "lines",
         "name": "south america",
         "showlegend": true,
         "type": "scattergeo"
        }
       ],
       "layout": {
        "geo": {
         "coastlinecolor": "rgb(90, 90, 90)",
         "coastlinewidth": 0.5,
         "countrywidth": 0.5,
         "landcolor": "rgb(243, 243, 243)",
         "oceancolor": "rgb(204, 229, 255)",
         "projection": {
          "type": "natural earth"
         },
         "showcoastlines": true,
         "showcountries": true,
         "showland": true,
         "showocean": true
        },
        "legend": {
         "title": {
          "text": "Target Continent"
         }
        },
        "showlegend": true,
        "template": {
         "data": {
          "bar": [
           {
            "error_x": {
             "color": "#2a3f5f"
            },
            "error_y": {
             "color": "#2a3f5f"
            },
            "marker": {
             "line": {
              "color": "#E5ECF6",
              "width": 0.5
             },
             "pattern": {
              "fillmode": "overlay",
              "size": 10,
              "solidity": 0.2
             }
            },
            "type": "bar"
           }
          ],
          "barpolar": [
           {
            "marker": {
             "line": {
              "color": "#E5ECF6",
              "width": 0.5
             },
             "pattern": {
              "fillmode": "overlay",
              "size": 10,
              "solidity": 0.2
             }
            },
            "type": "barpolar"
           }
          ],
          "carpet": [
           {
            "aaxis": {
             "endlinecolor": "#2a3f5f",
             "gridcolor": "white",
             "linecolor": "white",
             "minorgridcolor": "white",
             "startlinecolor": "#2a3f5f"
            },
            "baxis": {
             "endlinecolor": "#2a3f5f",
             "gridcolor": "white",
             "linecolor": "white",
             "minorgridcolor": "white",
             "startlinecolor": "#2a3f5f"
            },
            "type": "carpet"
           }
          ],
          "choropleth": [
           {
            "colorbar": {
             "outlinewidth": 0,
             "ticks": ""
            },
            "type": "choropleth"
           }
          ],
          "contour": [
           {
            "colorbar": {
             "outlinewidth": 0,
             "ticks": ""
            },
            "colorscale": [
             [
              0,
              "#0d0887"
             ],
             [
              0.1111111111111111,
              "#46039f"
             ],
             [
              0.2222222222222222,
              "#7201a8"
             ],
             [
              0.3333333333333333,
              "#9c179e"
             ],
             [
              0.4444444444444444,
              "#bd3786"
             ],
             [
              0.5555555555555556,
              "#d8576b"
             ],
             [
              0.6666666666666666,
              "#ed7953"
             ],
             [
              0.7777777777777778,
              "#fb9f3a"
             ],
             [
              0.8888888888888888,
              "#fdca26"
             ],
             [
              1,
              "#f0f921"
             ]
            ],
            "type": "contour"
           }
          ],
          "contourcarpet": [
           {
            "colorbar": {
             "outlinewidth": 0,
             "ticks": ""
            },
            "type": "contourcarpet"
           }
          ],
          "heatmap": [
           {
            "colorbar": {
             "outlinewidth": 0,
             "ticks": ""
            },
            "colorscale": [
             [
              0,
              "#0d0887"
             ],
             [
              0.1111111111111111,
              "#46039f"
             ],
             [
              0.2222222222222222,
              "#7201a8"
             ],
             [
              0.3333333333333333,
              "#9c179e"
             ],
             [
              0.4444444444444444,
              "#bd3786"
             ],
             [
              0.5555555555555556,
              "#d8576b"
             ],
             [
              0.6666666666666666,
              "#ed7953"
             ],
             [
              0.7777777777777778,
              "#fb9f3a"
             ],
             [
              0.8888888888888888,
              "#fdca26"
             ],
             [
              1,
              "#f0f921"
             ]
            ],
            "type": "heatmap"
           }
          ],
          "heatmapgl": [
           {
            "colorbar": {
             "outlinewidth": 0,
             "ticks": ""
            },
            "colorscale": [
             [
              0,
              "#0d0887"
             ],
             [
              0.1111111111111111,
              "#46039f"
             ],
             [
              0.2222222222222222,
              "#7201a8"
             ],
             [
              0.3333333333333333,
              "#9c179e"
             ],
             [
              0.4444444444444444,
              "#bd3786"
             ],
             [
              0.5555555555555556,
              "#d8576b"
             ],
             [
              0.6666666666666666,
              "#ed7953"
             ],
             [
              0.7777777777777778,
              "#fb9f3a"
             ],
             [
              0.8888888888888888,
              "#fdca26"
             ],
             [
              1,
              "#f0f921"
             ]
            ],
            "type": "heatmapgl"
           }
          ],
          "histogram": [
           {
            "marker": {
             "pattern": {
              "fillmode": "overlay",
              "size": 10,
              "solidity": 0.2
             }
            },
            "type": "histogram"
           }
          ],
          "histogram2d": [
           {
            "colorbar": {
             "outlinewidth": 0,
             "ticks": ""
            },
            "colorscale": [
             [
              0,
              "#0d0887"
             ],
             [
              0.1111111111111111,
              "#46039f"
             ],
             [
              0.2222222222222222,
              "#7201a8"
             ],
             [
              0.3333333333333333,
              "#9c179e"
             ],
             [
              0.4444444444444444,
              "#bd3786"
             ],
             [
              0.5555555555555556,
              "#d8576b"
             ],
             [
              0.6666666666666666,
              "#ed7953"
             ],
             [
              0.7777777777777778,
              "#fb9f3a"
             ],
             [
              0.8888888888888888,
              "#fdca26"
             ],
             [
              1,
              "#f0f921"
             ]
            ],
            "type": "histogram2d"
           }
          ],
          "histogram2dcontour": [
           {
            "colorbar": {
             "outlinewidth": 0,
             "ticks": ""
            },
            "colorscale": [
             [
              0,
              "#0d0887"
             ],
             [
              0.1111111111111111,
              "#46039f"
             ],
             [
              0.2222222222222222,
              "#7201a8"
             ],
             [
              0.3333333333333333,
              "#9c179e"
             ],
             [
              0.4444444444444444,
              "#bd3786"
             ],
             [
              0.5555555555555556,
              "#d8576b"
             ],
             [
              0.6666666666666666,
              "#ed7953"
             ],
             [
              0.7777777777777778,
              "#fb9f3a"
             ],
             [
              0.8888888888888888,
              "#fdca26"
             ],
             [
              1,
              "#f0f921"
             ]
            ],
            "type": "histogram2dcontour"
           }
          ],
          "mesh3d": [
           {
            "colorbar": {
             "outlinewidth": 0,
             "ticks": ""
            },
            "type": "mesh3d"
           }
          ],
          "parcoords": [
           {
            "line": {
             "colorbar": {
              "outlinewidth": 0,
              "ticks": ""
             }
            },
            "type": "parcoords"
           }
          ],
          "pie": [
           {
            "automargin": true,
            "type": "pie"
           }
          ],
          "scatter": [
           {
            "fillpattern": {
             "fillmode": "overlay",
             "size": 10,
             "solidity": 0.2
            },
            "type": "scatter"
           }
          ],
          "scatter3d": [
           {
            "line": {
             "colorbar": {
              "outlinewidth": 0,
              "ticks": ""
             }
            },
            "marker": {
             "colorbar": {
              "outlinewidth": 0,
              "ticks": ""
             }
            },
            "type": "scatter3d"
           }
          ],
          "scattercarpet": [
           {
            "marker": {
             "colorbar": {
              "outlinewidth": 0,
              "ticks": ""
             }
            },
            "type": "scattercarpet"
           }
          ],
          "scattergeo": [
           {
            "marker": {
             "colorbar": {
              "outlinewidth": 0,
              "ticks": ""
             }
            },
            "type": "scattergeo"
           }
          ],
          "scattergl": [
           {
            "marker": {
             "colorbar": {
              "outlinewidth": 0,
              "ticks": ""
             }
            },
            "type": "scattergl"
           }
          ],
          "scattermapbox": [
           {
            "marker": {
             "colorbar": {
              "outlinewidth": 0,
              "ticks": ""
             }
            },
            "type": "scattermapbox"
           }
          ],
          "scatterpolar": [
           {
            "marker": {
             "colorbar": {
              "outlinewidth": 0,
              "ticks": ""
             }
            },
            "type": "scatterpolar"
           }
          ],
          "scatterpolargl": [
           {
            "marker": {
             "colorbar": {
              "outlinewidth": 0,
              "ticks": ""
             }
            },
            "type": "scatterpolargl"
           }
          ],
          "scatterternary": [
           {
            "marker": {
             "colorbar": {
              "outlinewidth": 0,
              "ticks": ""
             }
            },
            "type": "scatterternary"
           }
          ],
          "surface": [
           {
            "colorbar": {
             "outlinewidth": 0,
             "ticks": ""
            },
            "colorscale": [
             [
              0,
              "#0d0887"
             ],
             [
              0.1111111111111111,
              "#46039f"
             ],
             [
              0.2222222222222222,
              "#7201a8"
             ],
             [
              0.3333333333333333,
              "#9c179e"
             ],
             [
              0.4444444444444444,
              "#bd3786"
             ],
             [
              0.5555555555555556,
              "#d8576b"
             ],
             [
              0.6666666666666666,
              "#ed7953"
             ],
             [
              0.7777777777777778,
              "#fb9f3a"
             ],
             [
              0.8888888888888888,
              "#fdca26"
             ],
             [
              1,
              "#f0f921"
             ]
            ],
            "type": "surface"
           }
          ],
          "table": [
           {
            "cells": {
             "fill": {
              "color": "#EBF0F8"
             },
             "line": {
              "color": "white"
             }
            },
            "header": {
             "fill": {
              "color": "#C8D4E3"
             },
             "line": {
              "color": "white"
             }
            },
            "type": "table"
           }
          ]
         },
         "layout": {
          "annotationdefaults": {
           "arrowcolor": "#2a3f5f",
           "arrowhead": 0,
           "arrowwidth": 1
          },
          "autotypenumbers": "strict",
          "coloraxis": {
           "colorbar": {
            "outlinewidth": 0,
            "ticks": ""
           }
          },
          "colorscale": {
           "diverging": [
            [
             0,
             "#8e0152"
            ],
            [
             0.1,
             "#c51b7d"
            ],
            [
             0.2,
             "#de77ae"
            ],
            [
             0.3,
             "#f1b6da"
            ],
            [
             0.4,
             "#fde0ef"
            ],
            [
             0.5,
             "#f7f7f7"
            ],
            [
             0.6,
             "#e6f5d0"
            ],
            [
             0.7,
             "#b8e186"
            ],
            [
             0.8,
             "#7fbc41"
            ],
            [
             0.9,
             "#4d9221"
            ],
            [
             1,
             "#276419"
            ]
           ],
           "sequential": [
            [
             0,
             "#0d0887"
            ],
            [
             0.1111111111111111,
             "#46039f"
            ],
            [
             0.2222222222222222,
             "#7201a8"
            ],
            [
             0.3333333333333333,
             "#9c179e"
            ],
            [
             0.4444444444444444,
             "#bd3786"
            ],
            [
             0.5555555555555556,
             "#d8576b"
            ],
            [
             0.6666666666666666,
             "#ed7953"
            ],
            [
             0.7777777777777778,
             "#fb9f3a"
            ],
            [
             0.8888888888888888,
             "#fdca26"
            ],
            [
             1,
             "#f0f921"
            ]
           ],
           "sequentialminus": [
            [
             0,
             "#0d0887"
            ],
            [
             0.1111111111111111,
             "#46039f"
            ],
            [
             0.2222222222222222,
             "#7201a8"
            ],
            [
             0.3333333333333333,
             "#9c179e"
            ],
            [
             0.4444444444444444,
             "#bd3786"
            ],
            [
             0.5555555555555556,
             "#d8576b"
            ],
            [
             0.6666666666666666,
             "#ed7953"
            ],
            [
             0.7777777777777778,
             "#fb9f3a"
            ],
            [
             0.8888888888888888,
             "#fdca26"
            ],
            [
             1,
             "#f0f921"
            ]
           ]
          },
          "colorway": [
           "#636efa",
           "#EF553B",
           "#00cc96",
           "#ab63fa",
           "#FFA15A",
           "#19d3f3",
           "#FF6692",
           "#B6E880",
           "#FF97FF",
           "#FECB52"
          ],
          "font": {
           "color": "#2a3f5f"
          },
          "geo": {
           "bgcolor": "white",
           "lakecolor": "white",
           "landcolor": "#E5ECF6",
           "showlakes": true,
           "showland": true,
           "subunitcolor": "white"
          },
          "hoverlabel": {
           "align": "left"
          },
          "hovermode": "closest",
          "mapbox": {
           "style": "light"
          },
          "paper_bgcolor": "white",
          "plot_bgcolor": "#E5ECF6",
          "polar": {
           "angularaxis": {
            "gridcolor": "white",
            "linecolor": "white",
            "ticks": ""
           },
           "bgcolor": "#E5ECF6",
           "radialaxis": {
            "gridcolor": "white",
            "linecolor": "white",
            "ticks": ""
           }
          },
          "scene": {
           "xaxis": {
            "backgroundcolor": "#E5ECF6",
            "gridcolor": "white",
            "gridwidth": 2,
            "linecolor": "white",
            "showbackground": true,
            "ticks": "",
            "zerolinecolor": "white"
           },
           "yaxis": {
            "backgroundcolor": "#E5ECF6",
            "gridcolor": "white",
            "gridwidth": 2,
            "linecolor": "white",
            "showbackground": true,
            "ticks": "",
            "zerolinecolor": "white"
           },
           "zaxis": {
            "backgroundcolor": "#E5ECF6",
            "gridcolor": "white",
            "gridwidth": 2,
            "linecolor": "white",
            "showbackground": true,
            "ticks": "",
            "zerolinecolor": "white"
           }
          },
          "shapedefaults": {
           "line": {
            "color": "#2a3f5f"
           }
          },
          "ternary": {
           "aaxis": {
            "gridcolor": "white",
            "linecolor": "white",
            "ticks": ""
           },
           "baxis": {
            "gridcolor": "white",
            "linecolor": "white",
            "ticks": ""
           },
           "bgcolor": "#E5ECF6",
           "caxis": {
            "gridcolor": "white",
            "linecolor": "white",
            "ticks": ""
           }
          },
          "title": {
           "x": 0.05
          },
          "xaxis": {
           "automargin": true,
           "gridcolor": "white",
           "linecolor": "white",
           "ticks": "",
           "title": {
            "standoff": 15
           },
           "zerolinecolor": "white",
           "zerolinewidth": 2
          },
          "yaxis": {
           "automargin": true,
           "gridcolor": "white",
           "linecolor": "white",
           "ticks": "",
           "title": {
            "standoff": 15
           },
           "zerolinecolor": "white",
           "zerolinewidth": 2
          }
         }
        },
        "title": {
         "text": "Soya Beans Top Contaminating Trades (2021)"
        }
       }
      }
     },
     "metadata": {},
     "output_type": "display_data"
    }
   ],
   "source": [
    "# Create traces for connections\n",
    "traces = []\n",
    "\n",
    "for _, row in soya.iterrows():\n",
    "    continent = row['Continent_target']\n",
    "    source_country = row['Country_source']\n",
    "    target_country = row['Country_target']\n",
    "    amount = row['Value_tons']\n",
    "    color = continent_palette.get(continent, '#808080')  # Default to gray if continent not in palette\n",
    "    \n",
    "    traces.append(go.Scattergeo(\n",
    "        lon=[row['lon_source'], row['lon_target']],\n",
    "        lat=[row['lat_source'], row['lat_target']],\n",
    "        mode='lines',\n",
    "        line=dict(width=2, color=color),\n",
    "        opacity=0.7,\n",
    "        hoverinfo='text',\n",
    "        hovertext=f\"{source_country} -> {target_country}: {amount:.2f} tons\",\n",
    "        showlegend=False\n",
    "    ))\n",
    "\n",
    "# Create the layout\n",
    "layout = go.Layout(\n",
    "    title='Soya Beans Top Contaminating Trades (2021)',\n",
    "    showlegend=True,\n",
    "    legend_title_text='Target Continent',\n",
    "    geo=dict(\n",
    "        projection_type='natural earth',\n",
    "        showland=True,\n",
    "        showcountries=True,\n",
    "        showocean=True,\n",
    "        countrywidth=0.5,\n",
    "        landcolor='rgb(243, 243, 243)',\n",
    "        oceancolor='rgb(204, 229, 255)',\n",
    "        showcoastlines=True,\n",
    "        coastlinewidth=0.5,\n",
    "        coastlinecolor='rgb(90, 90, 90)'\n",
    "    )\n",
    ")\n",
    "\n",
    "# Create the figure\n",
    "fig = go.Figure(data=traces, layout=layout)\n",
    "\n",
    "# Add a legend\n",
    "for continent, color in continent_palette.items():\n",
    "    fig.add_trace(go.Scattergeo(\n",
    "        lon=[None],\n",
    "        lat=[None],\n",
    "        mode='lines',\n",
    "        line=dict(width=2, color=color),\n",
    "        showlegend=True,\n",
    "        name=continent,\n",
    "    ))\n",
    "\n",
    "# Show the figure\n",
    "fig.show()\n",
    "fig.write_html(\"Soya_connections_map_plotly.html\")"
   ]
  },
  {
   "cell_type": "markdown",
   "metadata": {},
   "source": [
    "## Save to chart studio"
   ]
  },
  {
   "cell_type": "code",
   "execution_count": 26,
   "metadata": {},
   "outputs": [],
   "source": [
    "import chart_studio \n",
    "\n",
    "username = \"ezemriv\"\n",
    "password = \"dmanBuRgSIAPjUFi4m1X\"\n",
    "\n",
    "chart_studio.tools.set_credentials_file(username=username, api_key=password)\n",
    "\n",
    "import chart_studio.plotly as py\n",
    "import chart_studio.tools as tls"
   ]
  },
  {
   "cell_type": "code",
   "execution_count": 27,
   "metadata": {},
   "outputs": [
    {
     "data": {
      "text/plain": [
       "'https://plotly.com/~ezemriv/18/'"
      ]
     },
     "execution_count": 27,
     "metadata": {},
     "output_type": "execute_result"
    }
   ],
   "source": [
    "py.plot(fig, filename = 'Soya_beans_top_contam_trades_final', auto_open=False)"
   ]
  },
  {
   "cell_type": "markdown",
   "metadata": {},
   "source": [
    "# Map for Cattle (Livestock item with highest travel and emissions)"
   ]
  },
  {
   "cell_type": "markdown",
   "metadata": {},
   "source": [
    "#961 non dairy\n",
    "\n",
    "#960 dairy"
   ]
  },
  {
   "cell_type": "code",
   "execution_count": 28,
   "metadata": {},
   "outputs": [],
   "source": [
    "cattle = process_map_data(trade_mx, 961)"
   ]
  },
  {
   "cell_type": "code",
   "execution_count": 29,
   "metadata": {},
   "outputs": [
    {
     "data": {
      "application/vnd.plotly.v1+json": {
       "config": {
        "plotlyServerURL": "https://plotly.com"
       },
       "data": [
        {
         "hoverinfo": "text",
         "hovertext": "brazil -> argentina: 3207.31 tons",
         "lat": [
          -15.8267,
          -34.6118
         ],
         "line": {
          "color": "#59A14F",
          "width": 2
         },
         "lon": [
          -47.9218,
          -58.4173
         ],
         "mode": "lines",
         "opacity": 0.7,
         "showlegend": false,
         "type": "scattergeo"
        },
        {
         "hoverinfo": "text",
         "hovertext": "germany -> austria: 36512.36 tons",
         "lat": [
          52.52,
          48.2082
         ],
         "line": {
          "color": "#E15759",
          "width": 2
         },
         "lon": [
          13.405,
          16.3738
         ],
         "mode": "lines",
         "opacity": 0.7,
         "showlegend": false,
         "type": "scattergeo"
        },
        {
         "hoverinfo": "text",
         "hovertext": "netherlands -> austria: 8735.06 tons",
         "lat": [
          52.3676,
          48.2082
         ],
         "line": {
          "color": "#E15759",
          "width": 2
         },
         "lon": [
          4.9041,
          16.3738
         ],
         "mode": "lines",
         "opacity": 0.7,
         "showlegend": false,
         "type": "scattergeo"
        },
        {
         "hoverinfo": "text",
         "hovertext": "argentina -> brazil: 13468.66 tons",
         "lat": [
          -34.6118,
          -15.8267
         ],
         "line": {
          "color": "#59A14F",
          "width": 2
         },
         "lon": [
          -58.4173,
          -47.9218
         ],
         "mode": "lines",
         "opacity": 0.7,
         "showlegend": false,
         "type": "scattergeo"
        },
        {
         "hoverinfo": "text",
         "hovertext": "paraguay -> brazil: 34171.32 tons",
         "lat": [
          -25.2865,
          -15.8267
         ],
         "line": {
          "color": "#59A14F",
          "width": 2
         },
         "lon": [
          -57.647,
          -47.9218
         ],
         "mode": "lines",
         "opacity": 0.7,
         "showlegend": false,
         "type": "scattergeo"
        },
        {
         "hoverinfo": "text",
         "hovertext": "uruguay -> brazil: 7098.27 tons",
         "lat": [
          -34.9011,
          -15.8267
         ],
         "line": {
          "color": "#59A14F",
          "width": 2
         },
         "lon": [
          -56.1645,
          -47.9218
         ],
         "mode": "lines",
         "opacity": 0.7,
         "showlegend": false,
         "type": "scattergeo"
        },
        {
         "hoverinfo": "text",
         "hovertext": "netherlands -> bulgaria: 2248.21 tons",
         "lat": [
          52.3676,
          42.6977
         ],
         "line": {
          "color": "#E15759",
          "width": 2
         },
         "lon": [
          4.9041,
          23.3219
         ],
         "mode": "lines",
         "opacity": 0.7,
         "showlegend": false,
         "type": "scattergeo"
        },
        {
         "hoverinfo": "text",
         "hovertext": "australia -> canada: 7773.63 tons",
         "lat": [
          -35.2809,
          45.4215
         ],
         "line": {
          "color": "#76B7B2",
          "width": 2
         },
         "lon": [
          149.13,
          -75.6972
         ],
         "mode": "lines",
         "opacity": 0.7,
         "showlegend": false,
         "type": "scattergeo"
        },
        {
         "hoverinfo": "text",
         "hovertext": "mexico -> canada: 9242.24 tons",
         "lat": [
          19.4326,
          45.4215
         ],
         "line": {
          "color": "#76B7B2",
          "width": 2
         },
         "lon": [
          -99.1332,
          -75.6972
         ],
         "mode": "lines",
         "opacity": 0.7,
         "showlegend": false,
         "type": "scattergeo"
        },
        {
         "hoverinfo": "text",
         "hovertext": "new zealand -> canada: 13453.44 tons",
         "lat": [
          -41.2865,
          45.4215
         ],
         "line": {
          "color": "#76B7B2",
          "width": 2
         },
         "lon": [
          174.7762,
          -75.6972
         ],
         "mode": "lines",
         "opacity": 0.7,
         "showlegend": false,
         "type": "scattergeo"
        },
        {
         "hoverinfo": "text",
         "hovertext": "united states of america -> canada: 34616.92 tons",
         "lat": [
          38.9072,
          45.4215
         ],
         "line": {
          "color": "#76B7B2",
          "width": 2
         },
         "lon": [
          -77.0369,
          -75.6972
         ],
         "mode": "lines",
         "opacity": 0.7,
         "showlegend": false,
         "type": "scattergeo"
        },
        {
         "hoverinfo": "text",
         "hovertext": "argentina -> chile: 36370.38 tons",
         "lat": [
          -34.6118,
          -33.4489
         ],
         "line": {
          "color": "#59A14F",
          "width": 2
         },
         "lon": [
          -58.4173,
          -70.6693
         ],
         "mode": "lines",
         "opacity": 0.7,
         "showlegend": false,
         "type": "scattergeo"
        },
        {
         "hoverinfo": "text",
         "hovertext": "brazil -> chile: 112347.40 tons",
         "lat": [
          -15.8267,
          -33.4489
         ],
         "line": {
          "color": "#59A14F",
          "width": 2
         },
         "lon": [
          -47.9218,
          -70.6693
         ],
         "mode": "lines",
         "opacity": 0.7,
         "showlegend": false,
         "type": "scattergeo"
        },
        {
         "hoverinfo": "text",
         "hovertext": "colombia -> chile: 8899.46 tons",
         "lat": [
          4.6097,
          -33.4489
         ],
         "line": {
          "color": "#59A14F",
          "width": 2
         },
         "lon": [
          -74.0817,
          -70.6693
         ],
         "mode": "lines",
         "opacity": 0.7,
         "showlegend": false,
         "type": "scattergeo"
        },
        {
         "hoverinfo": "text",
         "hovertext": "paraguay -> chile: 159545.05 tons",
         "lat": [
          -25.2865,
          -33.4489
         ],
         "line": {
          "color": "#59A14F",
          "width": 2
         },
         "lon": [
          -57.647,
          -70.6693
         ],
         "mode": "lines",
         "opacity": 0.7,
         "showlegend": false,
         "type": "scattergeo"
        },
        {
         "hoverinfo": "text",
         "hovertext": "uruguay -> chile: 5662.28 tons",
         "lat": [
          -34.9011,
          -33.4489
         ],
         "line": {
          "color": "#59A14F",
          "width": 2
         },
         "lon": [
          -56.1645,
          -70.6693
         ],
         "mode": "lines",
         "opacity": 0.7,
         "showlegend": false,
         "type": "scattergeo"
        },
        {
         "hoverinfo": "text",
         "hovertext": "argentina -> china: 465044.76 tons",
         "lat": [
          -34.6118,
          39.9042
         ],
         "line": {
          "color": "#EDC948",
          "width": 2
         },
         "lon": [
          -58.4173,
          116.4074
         ],
         "mode": "lines",
         "opacity": 0.7,
         "showlegend": false,
         "type": "scattergeo"
        },
        {
         "hoverinfo": "text",
         "hovertext": "australia -> china: 164860.04 tons",
         "lat": [
          -35.2809,
          39.9042
         ],
         "line": {
          "color": "#EDC948",
          "width": 2
         },
         "lon": [
          149.13,
          116.4074
         ],
         "mode": "lines",
         "opacity": 0.7,
         "showlegend": false,
         "type": "scattergeo"
        },
        {
         "hoverinfo": "text",
         "hovertext": "bolivia -> china: 18580.05 tons",
         "lat": [
          -19.0333,
          39.9042
         ],
         "line": {
          "color": "#EDC948",
          "width": 2
         },
         "lon": [
          -65.2627,
          116.4074
         ],
         "mode": "lines",
         "opacity": 0.7,
         "showlegend": false,
         "type": "scattergeo"
        },
        {
         "hoverinfo": "text",
         "hovertext": "brazil -> china: 858475.10 tons",
         "lat": [
          -15.8267,
          39.9042
         ],
         "line": {
          "color": "#EDC948",
          "width": 2
         },
         "lon": [
          -47.9218,
          116.4074
         ],
         "mode": "lines",
         "opacity": 0.7,
         "showlegend": false,
         "type": "scattergeo"
        },
        {
         "hoverinfo": "text",
         "hovertext": "canada -> china: 17982.33 tons",
         "lat": [
          45.4215,
          39.9042
         ],
         "line": {
          "color": "#EDC948",
          "width": 2
         },
         "lon": [
          -75.6972,
          116.4074
         ],
         "mode": "lines",
         "opacity": 0.7,
         "showlegend": false,
         "type": "scattergeo"
        },
        {
         "hoverinfo": "text",
         "hovertext": "chile -> china: 15457.33 tons",
         "lat": [
          -33.4489,
          39.9042
         ],
         "line": {
          "color": "#EDC948",
          "width": 2
         },
         "lon": [
          -70.6693,
          116.4074
         ],
         "mode": "lines",
         "opacity": 0.7,
         "showlegend": false,
         "type": "scattergeo"
        },
        {
         "hoverinfo": "text",
         "hovertext": "costa rica -> china: 19029.73 tons",
         "lat": [
          9.9281,
          39.9042
         ],
         "line": {
          "color": "#EDC948",
          "width": 2
         },
         "lon": [
          -84.0907,
          116.4074
         ],
         "mode": "lines",
         "opacity": 0.7,
         "showlegend": false,
         "type": "scattergeo"
        },
        {
         "hoverinfo": "text",
         "hovertext": "belarus -> china: 26291.37 tons",
         "lat": [
          53.9,
          39.9042
         ],
         "line": {
          "color": "#EDC948",
          "width": 2
         },
         "lon": [
          27.5667,
          116.4074
         ],
         "mode": "lines",
         "opacity": 0.7,
         "showlegend": false,
         "type": "scattergeo"
        },
        {
         "hoverinfo": "text",
         "hovertext": "new zealand -> china: 208791.36 tons",
         "lat": [
          -41.2865,
          39.9042
         ],
         "line": {
          "color": "#EDC948",
          "width": 2
         },
         "lon": [
          174.7762,
          116.4074
         ],
         "mode": "lines",
         "opacity": 0.7,
         "showlegend": false,
         "type": "scattergeo"
        },
        {
         "hoverinfo": "text",
         "hovertext": "russia -> china: 19993.14 tons",
         "lat": [
          55.7558,
          39.9042
         ],
         "line": {
          "color": "#EDC948",
          "width": 2
         },
         "lon": [
          37.6173,
          116.4074
         ],
         "mode": "lines",
         "opacity": 0.7,
         "showlegend": false,
         "type": "scattergeo"
        },
        {
         "hoverinfo": "text",
         "hovertext": "south africa -> china: 10214.93 tons",
         "lat": [
          -25.746111,
          39.9042
         ],
         "line": {
          "color": "#EDC948",
          "width": 2
         },
         "lon": [
          28.188056,
          116.4074
         ],
         "mode": "lines",
         "opacity": 0.7,
         "showlegend": false,
         "type": "scattergeo"
        },
        {
         "hoverinfo": "text",
         "hovertext": "united states of america -> china: 150713.52 tons",
         "lat": [
          38.9072,
          39.9042
         ],
         "line": {
          "color": "#EDC948",
          "width": 2
         },
         "lon": [
          -77.0369,
          116.4074
         ],
         "mode": "lines",
         "opacity": 0.7,
         "showlegend": false,
         "type": "scattergeo"
        },
        {
         "hoverinfo": "text",
         "hovertext": "uruguay -> china: 368820.38 tons",
         "lat": [
          -34.9011,
          39.9042
         ],
         "line": {
          "color": "#EDC948",
          "width": 2
         },
         "lon": [
          -56.1645,
          116.4074
         ],
         "mode": "lines",
         "opacity": 0.7,
         "showlegend": false,
         "type": "scattergeo"
        },
        {
         "hoverinfo": "text",
         "hovertext": "argentina -> colombia: 1196.61 tons",
         "lat": [
          -34.6118,
          4.6097
         ],
         "line": {
          "color": "#59A14F",
          "width": 2
         },
         "lon": [
          -58.4173,
          -74.0817
         ],
         "mode": "lines",
         "opacity": 0.7,
         "showlegend": false,
         "type": "scattergeo"
        },
        {
         "hoverinfo": "text",
         "hovertext": "paraguay -> colombia: 1125.90 tons",
         "lat": [
          -25.2865,
          4.6097
         ],
         "line": {
          "color": "#59A14F",
          "width": 2
         },
         "lon": [
          -57.647,
          -74.0817
         ],
         "mode": "lines",
         "opacity": 0.7,
         "showlegend": false,
         "type": "scattergeo"
        },
        {
         "hoverinfo": "text",
         "hovertext": "india -> dem. rep. congo: 15015.18 tons",
         "lat": [
          28.6139,
          -4.325
         ],
         "line": {
          "color": "#4E79A7",
          "width": 2
         },
         "lon": [
          77.209,
          15.3222
         ],
         "mode": "lines",
         "opacity": 0.7,
         "showlegend": false,
         "type": "scattergeo"
        },
        {
         "hoverinfo": "text",
         "hovertext": "india -> dem. rep. congo: 15015.18 tons",
         "lat": [
          28.6139,
          -4.26336
         ],
         "line": {
          "color": "#4E79A7",
          "width": 2
         },
         "lon": [
          77.209,
          15.242885
         ],
         "mode": "lines",
         "opacity": 0.7,
         "showlegend": false,
         "type": "scattergeo"
        },
        {
         "hoverinfo": "text",
         "hovertext": "united states of america -> costa rica: 3849.07 tons",
         "lat": [
          38.9072,
          9.9281
         ],
         "line": {
          "color": "#76B7B2",
          "width": 2
         },
         "lon": [
          -77.0369,
          -84.0907
         ],
         "mode": "lines",
         "opacity": 0.7,
         "showlegend": false,
         "type": "scattergeo"
        },
        {
         "hoverinfo": "text",
         "hovertext": "ukraine -> azerbaijan: 3799.91 tons",
         "lat": [
          50.4501,
          40.4093
         ],
         "line": {
          "color": "#E15759",
          "width": 2
         },
         "lon": [
          30.5234,
          49.8671
         ],
         "mode": "lines",
         "opacity": 0.7,
         "showlegend": false,
         "type": "scattergeo"
        },
        {
         "hoverinfo": "text",
         "hovertext": "germany -> denmark: 29714.94 tons",
         "lat": [
          52.52,
          55.6761
         ],
         "line": {
          "color": "#E15759",
          "width": 2
         },
         "lon": [
          13.405,
          12.5683
         ],
         "mode": "lines",
         "opacity": 0.7,
         "showlegend": false,
         "type": "scattergeo"
        },
        {
         "hoverinfo": "text",
         "hovertext": "italy -> denmark: 4391.64 tons",
         "lat": [
          41.9028,
          55.6761
         ],
         "line": {
          "color": "#E15759",
          "width": 2
         },
         "lon": [
          12.4964,
          12.5683
         ],
         "mode": "lines",
         "opacity": 0.7,
         "showlegend": false,
         "type": "scattergeo"
        },
        {
         "hoverinfo": "text",
         "hovertext": "netherlands -> denmark: 24743.09 tons",
         "lat": [
          52.3676,
          55.6761
         ],
         "line": {
          "color": "#E15759",
          "width": 2
         },
         "lon": [
          4.9041,
          12.5683
         ],
         "mode": "lines",
         "opacity": 0.7,
         "showlegend": false,
         "type": "scattergeo"
        },
        {
         "hoverinfo": "text",
         "hovertext": "poland -> denmark: 10443.97 tons",
         "lat": [
          52.2297,
          55.6761
         ],
         "line": {
          "color": "#E15759",
          "width": 2
         },
         "lon": [
          21.0122,
          12.5683
         ],
         "mode": "lines",
         "opacity": 0.7,
         "showlegend": false,
         "type": "scattergeo"
        },
        {
         "hoverinfo": "text",
         "hovertext": "united states of america -> dominican rep.: 6742.21 tons",
         "lat": [
          38.9072,
          18.4861
         ],
         "line": {
          "color": "#76B7B2",
          "width": 2
         },
         "lon": [
          -77.0369,
          -69.9312
         ],
         "mode": "lines",
         "opacity": 0.7,
         "showlegend": false,
         "type": "scattergeo"
        },
        {
         "hoverinfo": "text",
         "hovertext": "south africa -> egypt: 850.37 tons",
         "lat": [
          -25.746111,
          30.033333
         ],
         "line": {
          "color": "#4E79A7",
          "width": 2
         },
         "lon": [
          28.188056,
          31.233334
         ],
         "mode": "lines",
         "opacity": 0.7,
         "showlegend": false,
         "type": "scattergeo"
        },
        {
         "hoverinfo": "text",
         "hovertext": "nicaragua -> el salvador: 30424.69 tons",
         "lat": [
          12.1364,
          13.6929
         ],
         "line": {
          "color": "#76B7B2",
          "width": 2
         },
         "lon": [
          -86.2514,
          -89.2182
         ],
         "mode": "lines",
         "opacity": 0.7,
         "showlegend": false,
         "type": "scattergeo"
        },
        {
         "hoverinfo": "text",
         "hovertext": "united states of america -> el salvador: 1868.29 tons",
         "lat": [
          38.9072,
          13.6929
         ],
         "line": {
          "color": "#76B7B2",
          "width": 2
         },
         "lon": [
          -77.0369,
          -89.2182
         ],
         "mode": "lines",
         "opacity": 0.7,
         "showlegend": false,
         "type": "scattergeo"
        },
        {
         "hoverinfo": "text",
         "hovertext": "denmark -> finland: 5506.53 tons",
         "lat": [
          55.6761,
          60.1695
         ],
         "line": {
          "color": "#E15759",
          "width": 2
         },
         "lon": [
          12.5683,
          24.9354
         ],
         "mode": "lines",
         "opacity": 0.7,
         "showlegend": false,
         "type": "scattergeo"
        },
        {
         "hoverinfo": "text",
         "hovertext": "italy -> finland: 2333.00 tons",
         "lat": [
          41.9028,
          60.1695
         ],
         "line": {
          "color": "#E15759",
          "width": 2
         },
         "lon": [
          12.4964,
          24.9354
         ],
         "mode": "lines",
         "opacity": 0.7,
         "showlegend": false,
         "type": "scattergeo"
        },
        {
         "hoverinfo": "text",
         "hovertext": "germany -> france: 37632.40 tons",
         "lat": [
          52.52,
          48.8566
         ],
         "line": {
          "color": "#E15759",
          "width": 2
         },
         "lon": [
          13.405,
          2.3522
         ],
         "mode": "lines",
         "opacity": 0.7,
         "showlegend": false,
         "type": "scattergeo"
        },
        {
         "hoverinfo": "text",
         "hovertext": "italy -> france: 15751.52 tons",
         "lat": [
          41.9028,
          48.8566
         ],
         "line": {
          "color": "#E15759",
          "width": 2
         },
         "lon": [
          12.4964,
          2.3522
         ],
         "mode": "lines",
         "opacity": 0.7,
         "showlegend": false,
         "type": "scattergeo"
        },
        {
         "hoverinfo": "text",
         "hovertext": "netherlands -> france: 75439.01 tons",
         "lat": [
          52.3676,
          48.8566
         ],
         "line": {
          "color": "#E15759",
          "width": 2
         },
         "lon": [
          4.9041,
          2.3522
         ],
         "mode": "lines",
         "opacity": 0.7,
         "showlegend": false,
         "type": "scattergeo"
        },
        {
         "hoverinfo": "text",
         "hovertext": "poland -> france: 29222.53 tons",
         "lat": [
          52.2297,
          48.8566
         ],
         "line": {
          "color": "#E15759",
          "width": 2
         },
         "lon": [
          21.0122,
          2.3522
         ],
         "mode": "lines",
         "opacity": 0.7,
         "showlegend": false,
         "type": "scattergeo"
        },
        {
         "hoverinfo": "text",
         "hovertext": "spain -> france: 20069.55 tons",
         "lat": [
          40.4168,
          48.8566
         ],
         "line": {
          "color": "#E15759",
          "width": 2
         },
         "lon": [
          -3.7038,
          2.3522
         ],
         "mode": "lines",
         "opacity": 0.7,
         "showlegend": false,
         "type": "scattergeo"
        },
        {
         "hoverinfo": "text",
         "hovertext": "belgium -> france: 30278.54 tons",
         "lat": [
          50.8503,
          48.8566
         ],
         "line": {
          "color": "#E15759",
          "width": 2
         },
         "lon": [
          4.3517,
          2.3522
         ],
         "mode": "lines",
         "opacity": 0.7,
         "showlegend": false,
         "type": "scattergeo"
        },
        {
         "hoverinfo": "text",
         "hovertext": "argentina -> germany: 19173.62 tons",
         "lat": [
          -34.6118,
          52.52
         ],
         "line": {
          "color": "#E15759",
          "width": 2
         },
         "lon": [
          -58.4173,
          13.405
         ],
         "mode": "lines",
         "opacity": 0.7,
         "showlegend": false,
         "type": "scattergeo"
        },
        {
         "hoverinfo": "text",
         "hovertext": "austria -> germany: 52237.98 tons",
         "lat": [
          48.2082,
          52.52
         ],
         "line": {
          "color": "#E15759",
          "width": 2
         },
         "lon": [
          16.3738,
          13.405
         ],
         "mode": "lines",
         "opacity": 0.7,
         "showlegend": false,
         "type": "scattergeo"
        },
        {
         "hoverinfo": "text",
         "hovertext": "denmark -> germany: 28584.04 tons",
         "lat": [
          55.6761,
          52.52
         ],
         "line": {
          "color": "#E15759",
          "width": 2
         },
         "lon": [
          12.5683,
          13.405
         ],
         "mode": "lines",
         "opacity": 0.7,
         "showlegend": false,
         "type": "scattergeo"
        },
        {
         "hoverinfo": "text",
         "hovertext": "france -> germany: 42285.34 tons",
         "lat": [
          48.8566,
          52.52
         ],
         "line": {
          "color": "#E15759",
          "width": 2
         },
         "lon": [
          2.3522,
          13.405
         ],
         "mode": "lines",
         "opacity": 0.7,
         "showlegend": false,
         "type": "scattergeo"
        },
        {
         "hoverinfo": "text",
         "hovertext": "italy -> germany: 15642.68 tons",
         "lat": [
          41.9028,
          52.52
         ],
         "line": {
          "color": "#E15759",
          "width": 2
         },
         "lon": [
          12.4964,
          13.405
         ],
         "mode": "lines",
         "opacity": 0.7,
         "showlegend": false,
         "type": "scattergeo"
        },
        {
         "hoverinfo": "text",
         "hovertext": "netherlands -> germany: 120016.21 tons",
         "lat": [
          52.3676,
          52.52
         ],
         "line": {
          "color": "#E15759",
          "width": 2
         },
         "lon": [
          4.9041,
          13.405
         ],
         "mode": "lines",
         "opacity": 0.7,
         "showlegend": false,
         "type": "scattergeo"
        },
        {
         "hoverinfo": "text",
         "hovertext": "poland -> germany: 53602.09 tons",
         "lat": [
          52.2297,
          52.52
         ],
         "line": {
          "color": "#E15759",
          "width": 2
         },
         "lon": [
          21.0122,
          13.405
         ],
         "mode": "lines",
         "opacity": 0.7,
         "showlegend": false,
         "type": "scattergeo"
        },
        {
         "hoverinfo": "text",
         "hovertext": "spain -> germany: 6167.59 tons",
         "lat": [
          40.4168,
          52.52
         ],
         "line": {
          "color": "#E15759",
          "width": 2
         },
         "lon": [
          -3.7038,
          13.405
         ],
         "mode": "lines",
         "opacity": 0.7,
         "showlegend": false,
         "type": "scattergeo"
        },
        {
         "hoverinfo": "text",
         "hovertext": "belgium -> germany: 26871.71 tons",
         "lat": [
          50.8503,
          52.52
         ],
         "line": {
          "color": "#E15759",
          "width": 2
         },
         "lon": [
          4.3517,
          13.405
         ],
         "mode": "lines",
         "opacity": 0.7,
         "showlegend": false,
         "type": "scattergeo"
        },
        {
         "hoverinfo": "text",
         "hovertext": "italy -> bosnia and herz.: 15148.80 tons",
         "lat": [
          41.9028,
          43.8563
         ],
         "line": {
          "color": "#E15759",
          "width": 2
         },
         "lon": [
          12.4964,
          18.4131
         ],
         "mode": "lines",
         "opacity": 0.7,
         "showlegend": false,
         "type": "scattergeo"
        },
        {
         "hoverinfo": "text",
         "hovertext": "netherlands -> bosnia and herz.: 8892.32 tons",
         "lat": [
          52.3676,
          43.8563
         ],
         "line": {
          "color": "#E15759",
          "width": 2
         },
         "lon": [
          4.9041,
          18.4131
         ],
         "mode": "lines",
         "opacity": 0.7,
         "showlegend": false,
         "type": "scattergeo"
        },
        {
         "hoverinfo": "text",
         "hovertext": "poland -> bosnia and herz.: 6734.64 tons",
         "lat": [
          52.2297,
          43.8563
         ],
         "line": {
          "color": "#E15759",
          "width": 2
         },
         "lon": [
          21.0122,
          18.4131
         ],
         "mode": "lines",
         "opacity": 0.7,
         "showlegend": false,
         "type": "scattergeo"
        },
        {
         "hoverinfo": "text",
         "hovertext": "denmark -> greece: 3140.94 tons",
         "lat": [
          55.6761,
          37.9838
         ],
         "line": {
          "color": "#E15759",
          "width": 2
         },
         "lon": [
          12.5683,
          23.7275
         ],
         "mode": "lines",
         "opacity": 0.7,
         "showlegend": false,
         "type": "scattergeo"
        },
        {
         "hoverinfo": "text",
         "hovertext": "france -> greece: 39206.72 tons",
         "lat": [
          48.8566,
          37.9838
         ],
         "line": {
          "color": "#E15759",
          "width": 2
         },
         "lon": [
          2.3522,
          23.7275
         ],
         "mode": "lines",
         "opacity": 0.7,
         "showlegend": false,
         "type": "scattergeo"
        },
        {
         "hoverinfo": "text",
         "hovertext": "germany -> greece: 6161.71 tons",
         "lat": [
          52.52,
          37.9838
         ],
         "line": {
          "color": "#E15759",
          "width": 2
         },
         "lon": [
          13.405,
          23.7275
         ],
         "mode": "lines",
         "opacity": 0.7,
         "showlegend": false,
         "type": "scattergeo"
        },
        {
         "hoverinfo": "text",
         "hovertext": "italy -> greece: 18041.79 tons",
         "lat": [
          41.9028,
          37.9838
         ],
         "line": {
          "color": "#E15759",
          "width": 2
         },
         "lon": [
          12.4964,
          23.7275
         ],
         "mode": "lines",
         "opacity": 0.7,
         "showlegend": false,
         "type": "scattergeo"
        },
        {
         "hoverinfo": "text",
         "hovertext": "netherlands -> greece: 16279.87 tons",
         "lat": [
          52.3676,
          37.9838
         ],
         "line": {
          "color": "#E15759",
          "width": 2
         },
         "lon": [
          4.9041,
          23.7275
         ],
         "mode": "lines",
         "opacity": 0.7,
         "showlegend": false,
         "type": "scattergeo"
        },
        {
         "hoverinfo": "text",
         "hovertext": "poland -> greece: 8962.56 tons",
         "lat": [
          52.2297,
          37.9838
         ],
         "line": {
          "color": "#E15759",
          "width": 2
         },
         "lon": [
          21.0122,
          23.7275
         ],
         "mode": "lines",
         "opacity": 0.7,
         "showlegend": false,
         "type": "scattergeo"
        },
        {
         "hoverinfo": "text",
         "hovertext": "spain -> greece: 20500.44 tons",
         "lat": [
          40.4168,
          37.9838
         ],
         "line": {
          "color": "#E15759",
          "width": 2
         },
         "lon": [
          -3.7038,
          23.7275
         ],
         "mode": "lines",
         "opacity": 0.7,
         "showlegend": false,
         "type": "scattergeo"
        },
        {
         "hoverinfo": "text",
         "hovertext": "nicaragua -> guatemala: 7445.10 tons",
         "lat": [
          12.1364,
          14.6349
         ],
         "line": {
          "color": "#76B7B2",
          "width": 2
         },
         "lon": [
          -86.2514,
          -90.5069
         ],
         "mode": "lines",
         "opacity": 0.7,
         "showlegend": false,
         "type": "scattergeo"
        },
        {
         "hoverinfo": "text",
         "hovertext": "united states of america -> guatemala: 8892.12 tons",
         "lat": [
          38.9072,
          14.6349
         ],
         "line": {
          "color": "#76B7B2",
          "width": 2
         },
         "lon": [
          -77.0369,
          -90.5069
         ],
         "mode": "lines",
         "opacity": 0.7,
         "showlegend": false,
         "type": "scattergeo"
        },
        {
         "hoverinfo": "text",
         "hovertext": "united states of america -> honduras: 4669.48 tons",
         "lat": [
          38.9072,
          14.0723
         ],
         "line": {
          "color": "#76B7B2",
          "width": 2
         },
         "lon": [
          -77.0369,
          -87.1921
         ],
         "mode": "lines",
         "opacity": 0.7,
         "showlegend": false,
         "type": "scattergeo"
        },
        {
         "hoverinfo": "text",
         "hovertext": "argentina -> china: 33409.84 tons",
         "lat": [
          -34.6118,
          39.9042
         ],
         "line": {
          "color": "#EDC948",
          "width": 2
         },
         "lon": [
          -58.4173,
          116.4074
         ],
         "mode": "lines",
         "opacity": 0.7,
         "showlegend": false,
         "type": "scattergeo"
        },
        {
         "hoverinfo": "text",
         "hovertext": "australia -> china: 22731.41 tons",
         "lat": [
          -35.2809,
          39.9042
         ],
         "line": {
          "color": "#EDC948",
          "width": 2
         },
         "lon": [
          149.13,
          116.4074
         ],
         "mode": "lines",
         "opacity": 0.7,
         "showlegend": false,
         "type": "scattergeo"
        },
        {
         "hoverinfo": "text",
         "hovertext": "brazil -> china: 290735.13 tons",
         "lat": [
          -15.8267,
          39.9042
         ],
         "line": {
          "color": "#EDC948",
          "width": 2
         },
         "lon": [
          -47.9218,
          116.4074
         ],
         "mode": "lines",
         "opacity": 0.7,
         "showlegend": false,
         "type": "scattergeo"
        },
        {
         "hoverinfo": "text",
         "hovertext": "china -> china: 6222.52 tons",
         "lat": [
          39.9042,
          39.9042
         ],
         "line": {
          "color": "#EDC948",
          "width": 2
         },
         "lon": [
          116.4074,
          116.4074
         ],
         "mode": "lines",
         "opacity": 0.7,
         "showlegend": false,
         "type": "scattergeo"
        },
        {
         "hoverinfo": "text",
         "hovertext": "india -> china: 43426.88 tons",
         "lat": [
          28.6139,
          39.9042
         ],
         "line": {
          "color": "#EDC948",
          "width": 2
         },
         "lon": [
          77.209,
          116.4074
         ],
         "mode": "lines",
         "opacity": 0.7,
         "showlegend": false,
         "type": "scattergeo"
        },
        {
         "hoverinfo": "text",
         "hovertext": "ireland -> china: 12470.66 tons",
         "lat": [
          53.3498,
          39.9042
         ],
         "line": {
          "color": "#EDC948",
          "width": 2
         },
         "lon": [
          -6.2603,
          116.4074
         ],
         "mode": "lines",
         "opacity": 0.7,
         "showlegend": false,
         "type": "scattergeo"
        },
        {
         "hoverinfo": "text",
         "hovertext": "pakistan -> china: 2485.59 tons",
         "lat": [
          33.6844,
          39.9042
         ],
         "line": {
          "color": "#EDC948",
          "width": 2
         },
         "lon": [
          73.0479,
          116.4074
         ],
         "mode": "lines",
         "opacity": 0.7,
         "showlegend": false,
         "type": "scattergeo"
        },
        {
         "hoverinfo": "text",
         "hovertext": "russia -> china: 2835.01 tons",
         "lat": [
          55.7558,
          39.9042
         ],
         "line": {
          "color": "#EDC948",
          "width": 2
         },
         "lon": [
          37.6173,
          116.4074
         ],
         "mode": "lines",
         "opacity": 0.7,
         "showlegend": false,
         "type": "scattergeo"
        },
        {
         "hoverinfo": "text",
         "hovertext": "turkey -> china: 5955.92 tons",
         "lat": [
          39.9334,
          39.9042
         ],
         "line": {
          "color": "#EDC948",
          "width": 2
         },
         "lon": [
          32.8597,
          116.4074
         ],
         "mode": "lines",
         "opacity": 0.7,
         "showlegend": false,
         "type": "scattergeo"
        },
        {
         "hoverinfo": "text",
         "hovertext": "united arab emirates -> china: 2199.40 tons",
         "lat": [
          24.4539,
          39.9042
         ],
         "line": {
          "color": "#EDC948",
          "width": 2
         },
         "lon": [
          54.3773,
          116.4074
         ],
         "mode": "lines",
         "opacity": 0.7,
         "showlegend": false,
         "type": "scattergeo"
        },
        {
         "hoverinfo": "text",
         "hovertext": "united kingdom -> china: 16336.48 tons",
         "lat": [
          51.5074,
          39.9042
         ],
         "line": {
          "color": "#EDC948",
          "width": 2
         },
         "lon": [
          -0.1278,
          116.4074
         ],
         "mode": "lines",
         "opacity": 0.7,
         "showlegend": false,
         "type": "scattergeo"
        },
        {
         "hoverinfo": "text",
         "hovertext": "united states of america -> china: 55562.69 tons",
         "lat": [
          38.9072,
          39.9042
         ],
         "line": {
          "color": "#EDC948",
          "width": 2
         },
         "lon": [
          -77.0369,
          116.4074
         ],
         "mode": "lines",
         "opacity": 0.7,
         "showlegend": false,
         "type": "scattergeo"
        },
        {
         "hoverinfo": "text",
         "hovertext": "uruguay -> china: 14845.69 tons",
         "lat": [
          -34.9011,
          39.9042
         ],
         "line": {
          "color": "#EDC948",
          "width": 2
         },
         "lon": [
          -56.1645,
          116.4074
         ],
         "mode": "lines",
         "opacity": 0.7,
         "showlegend": false,
         "type": "scattergeo"
        },
        {
         "hoverinfo": "text",
         "hovertext": "vietnam -> china: 5548.22 tons",
         "lat": [
          21.0285,
          39.9042
         ],
         "line": {
          "color": "#EDC948",
          "width": 2
         },
         "lon": [
          105.8542,
          116.4074
         ],
         "mode": "lines",
         "opacity": 0.7,
         "showlegend": false,
         "type": "scattergeo"
        },
        {
         "hoverinfo": "text",
         "hovertext": "netherlands -> croatia: 7457.12 tons",
         "lat": [
          52.3676,
          45.815
         ],
         "line": {
          "color": "#E15759",
          "width": 2
         },
         "lon": [
          4.9041,
          15.9819
         ],
         "mode": "lines",
         "opacity": 0.7,
         "showlegend": false,
         "type": "scattergeo"
        },
        {
         "hoverinfo": "text",
         "hovertext": "poland -> croatia: 7571.41 tons",
         "lat": [
          52.2297,
          45.815
         ],
         "line": {
          "color": "#E15759",
          "width": 2
         },
         "lon": [
          21.0122,
          15.9819
         ],
         "mode": "lines",
         "opacity": 0.7,
         "showlegend": false,
         "type": "scattergeo"
        },
        {
         "hoverinfo": "text",
         "hovertext": "australia -> indonesia: 126071.05 tons",
         "lat": [
          -35.2809,
          -6.2088
         ],
         "line": {
          "color": "#EDC948",
          "width": 2
         },
         "lon": [
          149.13,
          106.8456
         ],
         "mode": "lines",
         "opacity": 0.7,
         "showlegend": false,
         "type": "scattergeo"
        },
        {
         "hoverinfo": "text",
         "hovertext": "brazil -> indonesia: 15911.94 tons",
         "lat": [
          -15.8267,
          -6.2088
         ],
         "line": {
          "color": "#EDC948",
          "width": 2
         },
         "lon": [
          -47.9218,
          106.8456
         ],
         "mode": "lines",
         "opacity": 0.7,
         "showlegend": false,
         "type": "scattergeo"
        },
        {
         "hoverinfo": "text",
         "hovertext": "india -> indonesia: 84954.80 tons",
         "lat": [
          28.6139,
          -6.2088
         ],
         "line": {
          "color": "#EDC948",
          "width": 2
         },
         "lon": [
          77.209,
          106.8456
         ],
         "mode": "lines",
         "opacity": 0.7,
         "showlegend": false,
         "type": "scattergeo"
        },
        {
         "hoverinfo": "text",
         "hovertext": "new zealand -> indonesia: 18005.93 tons",
         "lat": [
          -41.2865,
          -6.2088
         ],
         "line": {
          "color": "#EDC948",
          "width": 2
         },
         "lon": [
          174.7762,
          106.8456
         ],
         "mode": "lines",
         "opacity": 0.7,
         "showlegend": false,
         "type": "scattergeo"
        },
        {
         "hoverinfo": "text",
         "hovertext": "united states of america -> indonesia: 25969.88 tons",
         "lat": [
          38.9072,
          -6.2088
         ],
         "line": {
          "color": "#EDC948",
          "width": 2
         },
         "lon": [
          -77.0369,
          106.8456
         ],
         "mode": "lines",
         "opacity": 0.7,
         "showlegend": false,
         "type": "scattergeo"
        },
        {
         "hoverinfo": "text",
         "hovertext": "austria -> italy: 7477.12 tons",
         "lat": [
          48.2082,
          41.9028
         ],
         "line": {
          "color": "#E15759",
          "width": 2
         },
         "lon": [
          16.3738,
          12.4964
         ],
         "mode": "lines",
         "opacity": 0.7,
         "showlegend": false,
         "type": "scattergeo"
        },
        {
         "hoverinfo": "text",
         "hovertext": "brazil -> italy: 26776.18 tons",
         "lat": [
          -15.8267,
          41.9028
         ],
         "line": {
          "color": "#E15759",
          "width": 2
         },
         "lon": [
          -47.9218,
          12.4964
         ],
         "mode": "lines",
         "opacity": 0.7,
         "showlegend": false,
         "type": "scattergeo"
        },
        {
         "hoverinfo": "text",
         "hovertext": "denmark -> italy: 10942.88 tons",
         "lat": [
          55.6761,
          41.9028
         ],
         "line": {
          "color": "#E15759",
          "width": 2
         },
         "lon": [
          12.5683,
          12.4964
         ],
         "mode": "lines",
         "opacity": 0.7,
         "showlegend": false,
         "type": "scattergeo"
        },
        {
         "hoverinfo": "text",
         "hovertext": "france -> italy: 53117.96 tons",
         "lat": [
          48.8566,
          41.9028
         ],
         "line": {
          "color": "#E15759",
          "width": 2
         },
         "lon": [
          2.3522,
          12.4964
         ],
         "mode": "lines",
         "opacity": 0.7,
         "showlegend": false,
         "type": "scattergeo"
        },
        {
         "hoverinfo": "text",
         "hovertext": "germany -> italy: 25650.89 tons",
         "lat": [
          52.52,
          41.9028
         ],
         "line": {
          "color": "#E15759",
          "width": 2
         },
         "lon": [
          13.405,
          12.4964
         ],
         "mode": "lines",
         "opacity": 0.7,
         "showlegend": false,
         "type": "scattergeo"
        },
        {
         "hoverinfo": "text",
         "hovertext": "lithuania -> italy: 2652.85 tons",
         "lat": [
          54.6872,
          41.9028
         ],
         "line": {
          "color": "#E15759",
          "width": 2
         },
         "lon": [
          25.2797,
          12.4964
         ],
         "mode": "lines",
         "opacity": 0.7,
         "showlegend": false,
         "type": "scattergeo"
        },
        {
         "hoverinfo": "text",
         "hovertext": "netherlands -> italy: 51245.28 tons",
         "lat": [
          52.3676,
          41.9028
         ],
         "line": {
          "color": "#E15759",
          "width": 2
         },
         "lon": [
          4.9041,
          12.4964
         ],
         "mode": "lines",
         "opacity": 0.7,
         "showlegend": false,
         "type": "scattergeo"
        },
        {
         "hoverinfo": "text",
         "hovertext": "poland -> italy: 62607.76 tons",
         "lat": [
          52.2297,
          41.9028
         ],
         "line": {
          "color": "#E15759",
          "width": 2
         },
         "lon": [
          21.0122,
          12.4964
         ],
         "mode": "lines",
         "opacity": 0.7,
         "showlegend": false,
         "type": "scattergeo"
        },
        {
         "hoverinfo": "text",
         "hovertext": "spain -> italy: 29250.70 tons",
         "lat": [
          40.4168,
          41.9028
         ],
         "line": {
          "color": "#E15759",
          "width": 2
         },
         "lon": [
          -3.7038,
          12.4964
         ],
         "mode": "lines",
         "opacity": 0.7,
         "showlegend": false,
         "type": "scattergeo"
        },
        {
         "hoverinfo": "text",
         "hovertext": "belgium -> italy: 9724.06 tons",
         "lat": [
          50.8503,
          41.9028
         ],
         "line": {
          "color": "#E15759",
          "width": 2
         },
         "lon": [
          4.3517,
          12.4964
         ],
         "mode": "lines",
         "opacity": 0.7,
         "showlegend": false,
         "type": "scattergeo"
        },
        {
         "hoverinfo": "text",
         "hovertext": "russia -> kazakhstan: 3864.66 tons",
         "lat": [
          55.7558,
          51.1694
         ],
         "line": {
          "color": "#EDC948",
          "width": 2
         },
         "lon": [
          37.6173,
          71.4491
         ],
         "mode": "lines",
         "opacity": 0.7,
         "showlegend": false,
         "type": "scattergeo"
        },
        {
         "hoverinfo": "text",
         "hovertext": "australia -> japan: 257879.16 tons",
         "lat": [
          -35.2809,
          35.6895
         ],
         "line": {
          "color": "#EDC948",
          "width": 2
         },
         "lon": [
          149.13,
          139.6917
         ],
         "mode": "lines",
         "opacity": 0.7,
         "showlegend": false,
         "type": "scattergeo"
        },
        {
         "hoverinfo": "text",
         "hovertext": "canada -> japan: 56673.92 tons",
         "lat": [
          45.4215,
          35.6895
         ],
         "line": {
          "color": "#EDC948",
          "width": 2
         },
         "lon": [
          -75.6972,
          139.6917
         ],
         "mode": "lines",
         "opacity": 0.7,
         "showlegend": false,
         "type": "scattergeo"
        },
        {
         "hoverinfo": "text",
         "hovertext": "mexico -> japan: 21444.61 tons",
         "lat": [
          19.4326,
          35.6895
         ],
         "line": {
          "color": "#EDC948",
          "width": 2
         },
         "lon": [
          -99.1332,
          139.6917
         ],
         "mode": "lines",
         "opacity": 0.7,
         "showlegend": false,
         "type": "scattergeo"
        },
        {
         "hoverinfo": "text",
         "hovertext": "new zealand -> japan: 32598.84 tons",
         "lat": [
          -41.2865,
          35.6895
         ],
         "line": {
          "color": "#EDC948",
          "width": 2
         },
         "lon": [
          174.7762,
          139.6917
         ],
         "mode": "lines",
         "opacity": 0.7,
         "showlegend": false,
         "type": "scattergeo"
        },
        {
         "hoverinfo": "text",
         "hovertext": "united states of america -> japan: 277199.62 tons",
         "lat": [
          38.9072,
          35.6895
         ],
         "line": {
          "color": "#EDC948",
          "width": 2
         },
         "lon": [
          -77.0369,
          139.6917
         ],
         "mode": "lines",
         "opacity": 0.7,
         "showlegend": false,
         "type": "scattergeo"
        },
        {
         "hoverinfo": "text",
         "hovertext": "uruguay -> japan: 6268.00 tons",
         "lat": [
          -34.9011,
          35.6895
         ],
         "line": {
          "color": "#EDC948",
          "width": 2
         },
         "lon": [
          -56.1645,
          139.6917
         ],
         "mode": "lines",
         "opacity": 0.7,
         "showlegend": false,
         "type": "scattergeo"
        },
        {
         "hoverinfo": "text",
         "hovertext": "india -> cambodia: 7188.37 tons",
         "lat": [
          28.6139,
          11.5699
         ],
         "line": {
          "color": "#EDC948",
          "width": 2
         },
         "lon": [
          77.209,
          104.921
         ],
         "mode": "lines",
         "opacity": 0.7,
         "showlegend": false,
         "type": "scattergeo"
        },
        {
         "hoverinfo": "text",
         "hovertext": "australia -> north korea: 197362.29 tons",
         "lat": [
          -35.2809,
          39.0392
         ],
         "line": {
          "color": "#EDC948",
          "width": 2
         },
         "lon": [
          149.13,
          125.7625
         ],
         "mode": "lines",
         "opacity": 0.7,
         "showlegend": false,
         "type": "scattergeo"
        },
        {
         "hoverinfo": "text",
         "hovertext": "canada -> north korea: 9920.88 tons",
         "lat": [
          45.4215,
          39.0392
         ],
         "line": {
          "color": "#EDC948",
          "width": 2
         },
         "lon": [
          -75.6972,
          125.7625
         ],
         "mode": "lines",
         "opacity": 0.7,
         "showlegend": false,
         "type": "scattergeo"
        },
        {
         "hoverinfo": "text",
         "hovertext": "new zealand -> north korea: 25092.28 tons",
         "lat": [
          -41.2865,
          39.0392
         ],
         "line": {
          "color": "#EDC948",
          "width": 2
         },
         "lon": [
          174.7762,
          125.7625
         ],
         "mode": "lines",
         "opacity": 0.7,
         "showlegend": false,
         "type": "scattergeo"
        },
        {
         "hoverinfo": "text",
         "hovertext": "united states of america -> north korea: 259031.36 tons",
         "lat": [
          38.9072,
          39.0392
         ],
         "line": {
          "color": "#EDC948",
          "width": 2
         },
         "lon": [
          -77.0369,
          125.7625
         ],
         "mode": "lines",
         "opacity": 0.7,
         "showlegend": false,
         "type": "scattergeo"
        },
        {
         "hoverinfo": "text",
         "hovertext": "india -> kuwait: 6658.27 tons",
         "lat": [
          28.6139,
          29.3759
         ],
         "line": {
          "color": "#EDC948",
          "width": 2
         },
         "lon": [
          77.209,
          47.9774
         ],
         "mode": "lines",
         "opacity": 0.7,
         "showlegend": false,
         "type": "scattergeo"
        },
        {
         "hoverinfo": "text",
         "hovertext": "pakistan -> kuwait: 10251.59 tons",
         "lat": [
          33.6844,
          29.3759
         ],
         "line": {
          "color": "#EDC948",
          "width": 2
         },
         "lon": [
          73.0479,
          47.9774
         ],
         "mode": "lines",
         "opacity": 0.7,
         "showlegend": false,
         "type": "scattergeo"
        },
        {
         "hoverinfo": "text",
         "hovertext": "india -> lebanon: 5588.27 tons",
         "lat": [
          28.6139,
          33.8938
         ],
         "line": {
          "color": "#EDC948",
          "width": 2
         },
         "lon": [
          77.209,
          35.5018
         ],
         "mode": "lines",
         "opacity": 0.7,
         "showlegend": false,
         "type": "scattergeo"
        },
        {
         "hoverinfo": "text",
         "hovertext": "brazil -> malaysia: 6931.79 tons",
         "lat": [
          -15.8267,
          3.139
         ],
         "line": {
          "color": "#EDC948",
          "width": 2
         },
         "lon": [
          -47.9218,
          101.6869
         ],
         "mode": "lines",
         "opacity": 0.7,
         "showlegend": false,
         "type": "scattergeo"
        },
        {
         "hoverinfo": "text",
         "hovertext": "india -> malaysia: 165232.07 tons",
         "lat": [
          28.6139,
          3.139
         ],
         "line": {
          "color": "#EDC948",
          "width": 2
         },
         "lon": [
          77.209,
          101.6869
         ],
         "mode": "lines",
         "opacity": 0.7,
         "showlegend": false,
         "type": "scattergeo"
        },
        {
         "hoverinfo": "text",
         "hovertext": "north korea -> malaysia: 5403.54 tons",
         "lat": [
          39.0392,
          3.139
         ],
         "line": {
          "color": "#EDC948",
          "width": 2
         },
         "lon": [
          125.7625,
          101.6869
         ],
         "mode": "lines",
         "opacity": 0.7,
         "showlegend": false,
         "type": "scattergeo"
        },
        {
         "hoverinfo": "text",
         "hovertext": "canada -> mexico: 14909.41 tons",
         "lat": [
          45.4215,
          19.4326
         ],
         "line": {
          "color": "#76B7B2",
          "width": 2
         },
         "lon": [
          -75.6972,
          -99.1332
         ],
         "mode": "lines",
         "opacity": 0.7,
         "showlegend": false,
         "type": "scattergeo"
        },
        {
         "hoverinfo": "text",
         "hovertext": "united states of america -> mexico: 126648.89 tons",
         "lat": [
          38.9072,
          19.4326
         ],
         "line": {
          "color": "#76B7B2",
          "width": 2
         },
         "lon": [
          -77.0369,
          -99.1332
         ],
         "mode": "lines",
         "opacity": 0.7,
         "showlegend": false,
         "type": "scattergeo"
        },
        {
         "hoverinfo": "text",
         "hovertext": "argentina -> netherlands: 14782.66 tons",
         "lat": [
          -34.6118,
          52.3676
         ],
         "line": {
          "color": "#E15759",
          "width": 2
         },
         "lon": [
          -58.4173,
          4.9041
         ],
         "mode": "lines",
         "opacity": 0.7,
         "showlegend": false,
         "type": "scattergeo"
        },
        {
         "hoverinfo": "text",
         "hovertext": "austria -> netherlands: 12398.11 tons",
         "lat": [
          48.2082,
          52.3676
         ],
         "line": {
          "color": "#E15759",
          "width": 2
         },
         "lon": [
          16.3738,
          4.9041
         ],
         "mode": "lines",
         "opacity": 0.7,
         "showlegend": false,
         "type": "scattergeo"
        },
        {
         "hoverinfo": "text",
         "hovertext": "brazil -> netherlands: 18565.47 tons",
         "lat": [
          -15.8267,
          52.3676
         ],
         "line": {
          "color": "#E15759",
          "width": 2
         },
         "lon": [
          -47.9218,
          4.9041
         ],
         "mode": "lines",
         "opacity": 0.7,
         "showlegend": false,
         "type": "scattergeo"
        },
        {
         "hoverinfo": "text",
         "hovertext": "france -> netherlands: 17640.80 tons",
         "lat": [
          48.8566,
          52.3676
         ],
         "line": {
          "color": "#E15759",
          "width": 2
         },
         "lon": [
          2.3522,
          4.9041
         ],
         "mode": "lines",
         "opacity": 0.7,
         "showlegend": false,
         "type": "scattergeo"
        },
        {
         "hoverinfo": "text",
         "hovertext": "germany -> netherlands: 92759.24 tons",
         "lat": [
          52.52,
          52.3676
         ],
         "line": {
          "color": "#E15759",
          "width": 2
         },
         "lon": [
          13.405,
          4.9041
         ],
         "mode": "lines",
         "opacity": 0.7,
         "showlegend": false,
         "type": "scattergeo"
        },
        {
         "hoverinfo": "text",
         "hovertext": "hungary -> netherlands: 5184.48 tons",
         "lat": [
          47.4979,
          52.3676
         ],
         "line": {
          "color": "#E15759",
          "width": 2
         },
         "lon": [
          19.0402,
          4.9041
         ],
         "mode": "lines",
         "opacity": 0.7,
         "showlegend": false,
         "type": "scattergeo"
        },
        {
         "hoverinfo": "text",
         "hovertext": "italy -> netherlands: 24384.63 tons",
         "lat": [
          41.9028,
          52.3676
         ],
         "line": {
          "color": "#E15759",
          "width": 2
         },
         "lon": [
          12.4964,
          4.9041
         ],
         "mode": "lines",
         "opacity": 0.7,
         "showlegend": false,
         "type": "scattergeo"
        },
        {
         "hoverinfo": "text",
         "hovertext": "latvia -> netherlands: 7762.30 tons",
         "lat": [
          56.946,
          52.3676
         ],
         "line": {
          "color": "#E15759",
          "width": 2
         },
         "lon": [
          24.1059,
          4.9041
         ],
         "mode": "lines",
         "opacity": 0.7,
         "showlegend": false,
         "type": "scattergeo"
        },
        {
         "hoverinfo": "text",
         "hovertext": "lithuania -> netherlands: 4414.29 tons",
         "lat": [
          54.6872,
          52.3676
         ],
         "line": {
          "color": "#E15759",
          "width": 2
         },
         "lon": [
          25.2797,
          4.9041
         ],
         "mode": "lines",
         "opacity": 0.7,
         "showlegend": false,
         "type": "scattergeo"
        },
        {
         "hoverinfo": "text",
         "hovertext": "poland -> netherlands: 35630.18 tons",
         "lat": [
          52.2297,
          52.3676
         ],
         "line": {
          "color": "#E15759",
          "width": 2
         },
         "lon": [
          21.0122,
          4.9041
         ],
         "mode": "lines",
         "opacity": 0.7,
         "showlegend": false,
         "type": "scattergeo"
        },
        {
         "hoverinfo": "text",
         "hovertext": "portugal -> netherlands: 2395.39 tons",
         "lat": [
          38.7167,
          52.3676
         ],
         "line": {
          "color": "#E15759",
          "width": 2
         },
         "lon": [
          -9.1333,
          4.9041
         ],
         "mode": "lines",
         "opacity": 0.7,
         "showlegend": false,
         "type": "scattergeo"
        },
        {
         "hoverinfo": "text",
         "hovertext": "spain -> netherlands: 24192.68 tons",
         "lat": [
          40.4168,
          52.3676
         ],
         "line": {
          "color": "#E15759",
          "width": 2
         },
         "lon": [
          -3.7038,
          4.9041
         ],
         "mode": "lines",
         "opacity": 0.7,
         "showlegend": false,
         "type": "scattergeo"
        },
        {
         "hoverinfo": "text",
         "hovertext": "uruguay -> netherlands: 16151.01 tons",
         "lat": [
          -34.9011,
          52.3676
         ],
         "line": {
          "color": "#E15759",
          "width": 2
         },
         "lon": [
          -56.1645,
          4.9041
         ],
         "mode": "lines",
         "opacity": 0.7,
         "showlegend": false,
         "type": "scattergeo"
        },
        {
         "hoverinfo": "text",
         "hovertext": "belgium -> netherlands: 70770.14 tons",
         "lat": [
          50.8503,
          52.3676
         ],
         "line": {
          "color": "#E15759",
          "width": 2
         },
         "lon": [
          4.3517,
          4.9041
         ],
         "mode": "lines",
         "opacity": 0.7,
         "showlegend": false,
         "type": "scattergeo"
        },
        {
         "hoverinfo": "text",
         "hovertext": "germany -> norway: 13172.39 tons",
         "lat": [
          52.52,
          59.9139
         ],
         "line": {
          "color": "#E15759",
          "width": 2
         },
         "lon": [
          13.405,
          10.7522
         ],
         "mode": "lines",
         "opacity": 0.7,
         "showlegend": false,
         "type": "scattergeo"
        },
        {
         "hoverinfo": "text",
         "hovertext": "united states of america -> panama: 3295.90 tons",
         "lat": [
          38.9072,
          8.9833
         ],
         "line": {
          "color": "#76B7B2",
          "width": 2
         },
         "lon": [
          -77.0369,
          -79.5167
         ],
         "mode": "lines",
         "opacity": 0.7,
         "showlegend": false,
         "type": "scattergeo"
        },
        {
         "hoverinfo": "text",
         "hovertext": "netherlands -> czechia: 13070.38 tons",
         "lat": [
          52.3676,
          50.0755
         ],
         "line": {
          "color": "#E15759",
          "width": 2
         },
         "lon": [
          4.9041,
          14.4378
         ],
         "mode": "lines",
         "opacity": 0.7,
         "showlegend": false,
         "type": "scattergeo"
        },
        {
         "hoverinfo": "text",
         "hovertext": "poland -> czechia: 16049.03 tons",
         "lat": [
          52.2297,
          50.0755
         ],
         "line": {
          "color": "#E15759",
          "width": 2
         },
         "lon": [
          21.0122,
          14.4378
         ],
         "mode": "lines",
         "opacity": 0.7,
         "showlegend": false,
         "type": "scattergeo"
        },
        {
         "hoverinfo": "text",
         "hovertext": "argentina -> peru: 6025.00 tons",
         "lat": [
          -34.6118,
          -12.0464
         ],
         "line": {
          "color": "#59A14F",
          "width": 2
         },
         "lon": [
          -58.4173,
          -77.0428
         ],
         "mode": "lines",
         "opacity": 0.7,
         "showlegend": false,
         "type": "scattergeo"
        },
        {
         "hoverinfo": "text",
         "hovertext": "brazil -> peru: 7030.52 tons",
         "lat": [
          -15.8267,
          -12.0464
         ],
         "line": {
          "color": "#59A14F",
          "width": 2
         },
         "lon": [
          -47.9218,
          -77.0428
         ],
         "mode": "lines",
         "opacity": 0.7,
         "showlegend": false,
         "type": "scattergeo"
        },
        {
         "hoverinfo": "text",
         "hovertext": "paraguay -> peru: 1741.46 tons",
         "lat": [
          -25.2865,
          -12.0464
         ],
         "line": {
          "color": "#59A14F",
          "width": 2
         },
         "lon": [
          -57.647,
          -77.0428
         ],
         "mode": "lines",
         "opacity": 0.7,
         "showlegend": false,
         "type": "scattergeo"
        },
        {
         "hoverinfo": "text",
         "hovertext": "uruguay -> peru: 1240.32 tons",
         "lat": [
          -34.9011,
          -12.0464
         ],
         "line": {
          "color": "#59A14F",
          "width": 2
         },
         "lon": [
          -56.1645,
          -77.0428
         ],
         "mode": "lines",
         "opacity": 0.7,
         "showlegend": false,
         "type": "scattergeo"
        },
        {
         "hoverinfo": "text",
         "hovertext": "australia -> philippines: 36079.58 tons",
         "lat": [
          -35.2809,
          14.5995
         ],
         "line": {
          "color": "#EDC948",
          "width": 2
         },
         "lon": [
          149.13,
          120.9842
         ],
         "mode": "lines",
         "opacity": 0.7,
         "showlegend": false,
         "type": "scattergeo"
        },
        {
         "hoverinfo": "text",
         "hovertext": "brazil -> philippines: 49073.53 tons",
         "lat": [
          -15.8267,
          14.5995
         ],
         "line": {
          "color": "#EDC948",
          "width": 2
         },
         "lon": [
          -47.9218,
          120.9842
         ],
         "mode": "lines",
         "opacity": 0.7,
         "showlegend": false,
         "type": "scattergeo"
        },
        {
         "hoverinfo": "text",
         "hovertext": "india -> philippines: 44592.27 tons",
         "lat": [
          28.6139,
          14.5995
         ],
         "line": {
          "color": "#EDC948",
          "width": 2
         },
         "lon": [
          77.209,
          120.9842
         ],
         "mode": "lines",
         "opacity": 0.7,
         "showlegend": false,
         "type": "scattergeo"
        },
        {
         "hoverinfo": "text",
         "hovertext": "ireland -> philippines: 30553.39 tons",
         "lat": [
          53.3498,
          14.5995
         ],
         "line": {
          "color": "#EDC948",
          "width": 2
         },
         "lon": [
          -6.2603,
          120.9842
         ],
         "mode": "lines",
         "opacity": 0.7,
         "showlegend": false,
         "type": "scattergeo"
        },
        {
         "hoverinfo": "text",
         "hovertext": "united states of america -> philippines: 10040.14 tons",
         "lat": [
          38.9072,
          14.5995
         ],
         "line": {
          "color": "#EDC948",
          "width": 2
         },
         "lon": [
          -77.0369,
          120.9842
         ],
         "mode": "lines",
         "opacity": 0.7,
         "showlegend": false,
         "type": "scattergeo"
        },
        {
         "hoverinfo": "text",
         "hovertext": "germany -> poland: 10168.80 tons",
         "lat": [
          52.52,
          52.2297
         ],
         "line": {
          "color": "#E15759",
          "width": 2
         },
         "lon": [
          13.405,
          21.0122
         ],
         "mode": "lines",
         "opacity": 0.7,
         "showlegend": false,
         "type": "scattergeo"
        },
        {
         "hoverinfo": "text",
         "hovertext": "netherlands -> poland: 3550.46 tons",
         "lat": [
          52.3676,
          52.2297
         ],
         "line": {
          "color": "#E15759",
          "width": 2
         },
         "lon": [
          4.9041,
          21.0122
         ],
         "mode": "lines",
         "opacity": 0.7,
         "showlegend": false,
         "type": "scattergeo"
        },
        {
         "hoverinfo": "text",
         "hovertext": "france -> portugal: 3550.47 tons",
         "lat": [
          48.8566,
          38.7167
         ],
         "line": {
          "color": "#E15759",
          "width": 2
         },
         "lon": [
          2.3522,
          -9.1333
         ],
         "mode": "lines",
         "opacity": 0.7,
         "showlegend": false,
         "type": "scattergeo"
        },
        {
         "hoverinfo": "text",
         "hovertext": "germany -> portugal: 2050.70 tons",
         "lat": [
          52.52,
          38.7167
         ],
         "line": {
          "color": "#E15759",
          "width": 2
         },
         "lon": [
          13.405,
          -9.1333
         ],
         "mode": "lines",
         "opacity": 0.7,
         "showlegend": false,
         "type": "scattergeo"
        },
        {
         "hoverinfo": "text",
         "hovertext": "netherlands -> portugal: 17404.38 tons",
         "lat": [
          52.3676,
          38.7167
         ],
         "line": {
          "color": "#E15759",
          "width": 2
         },
         "lon": [
          4.9041,
          -9.1333
         ],
         "mode": "lines",
         "opacity": 0.7,
         "showlegend": false,
         "type": "scattergeo"
        },
        {
         "hoverinfo": "text",
         "hovertext": "poland -> portugal: 6511.90 tons",
         "lat": [
          52.2297,
          38.7167
         ],
         "line": {
          "color": "#E15759",
          "width": 2
         },
         "lon": [
          21.0122,
          -9.1333
         ],
         "mode": "lines",
         "opacity": 0.7,
         "showlegend": false,
         "type": "scattergeo"
        },
        {
         "hoverinfo": "text",
         "hovertext": "spain -> portugal: 80644.02 tons",
         "lat": [
          40.4168,
          38.7167
         ],
         "line": {
          "color": "#E15759",
          "width": 2
         },
         "lon": [
          -3.7038,
          -9.1333
         ],
         "mode": "lines",
         "opacity": 0.7,
         "showlegend": false,
         "type": "scattergeo"
        },
        {
         "hoverinfo": "text",
         "hovertext": "belgium -> portugal: 2984.75 tons",
         "lat": [
          50.8503,
          38.7167
         ],
         "line": {
          "color": "#E15759",
          "width": 2
         },
         "lon": [
          4.3517,
          -9.1333
         ],
         "mode": "lines",
         "opacity": 0.7,
         "showlegend": false,
         "type": "scattergeo"
        },
        {
         "hoverinfo": "text",
         "hovertext": "india -> qatar: 9043.80 tons",
         "lat": [
          28.6139,
          25.276987
         ],
         "line": {
          "color": "#EDC948",
          "width": 2
         },
         "lon": [
          77.209,
          51.521146
         ],
         "mode": "lines",
         "opacity": 0.7,
         "showlegend": false,
         "type": "scattergeo"
        },
        {
         "hoverinfo": "text",
         "hovertext": "pakistan -> qatar: 5184.58 tons",
         "lat": [
          33.6844,
          25.276987
         ],
         "line": {
          "color": "#EDC948",
          "width": 2
         },
         "lon": [
          73.0479,
          51.521146
         ],
         "mode": "lines",
         "opacity": 0.7,
         "showlegend": false,
         "type": "scattergeo"
        },
        {
         "hoverinfo": "text",
         "hovertext": "germany -> romania: 5494.80 tons",
         "lat": [
          52.52,
          44.4268
         ],
         "line": {
          "color": "#E15759",
          "width": 2
         },
         "lon": [
          13.405,
          26.1025
         ],
         "mode": "lines",
         "opacity": 0.7,
         "showlegend": false,
         "type": "scattergeo"
        },
        {
         "hoverinfo": "text",
         "hovertext": "netherlands -> romania: 3461.51 tons",
         "lat": [
          52.3676,
          44.4268
         ],
         "line": {
          "color": "#E15759",
          "width": 2
         },
         "lon": [
          4.9041,
          26.1025
         ],
         "mode": "lines",
         "opacity": 0.7,
         "showlegend": false,
         "type": "scattergeo"
        },
        {
         "hoverinfo": "text",
         "hovertext": "poland -> romania: 4929.07 tons",
         "lat": [
          52.2297,
          44.4268
         ],
         "line": {
          "color": "#E15759",
          "width": 2
         },
         "lon": [
          21.0122,
          26.1025
         ],
         "mode": "lines",
         "opacity": 0.7,
         "showlegend": false,
         "type": "scattergeo"
        },
        {
         "hoverinfo": "text",
         "hovertext": "argentina -> russia: 37936.79 tons",
         "lat": [
          -34.6118,
          55.7558
         ],
         "line": {
          "color": "#EDC948",
          "width": 2
         },
         "lon": [
          -58.4173,
          37.6173
         ],
         "mode": "lines",
         "opacity": 0.7,
         "showlegend": false,
         "type": "scattergeo"
        },
        {
         "hoverinfo": "text",
         "hovertext": "brazil -> russia: 29687.34 tons",
         "lat": [
          -15.8267,
          55.7558
         ],
         "line": {
          "color": "#EDC948",
          "width": 2
         },
         "lon": [
          -47.9218,
          37.6173
         ],
         "mode": "lines",
         "opacity": 0.7,
         "showlegend": false,
         "type": "scattergeo"
        },
        {
         "hoverinfo": "text",
         "hovertext": "colombia -> russia: 14149.85 tons",
         "lat": [
          4.6097,
          55.7558
         ],
         "line": {
          "color": "#EDC948",
          "width": 2
         },
         "lon": [
          -74.0817,
          37.6173
         ],
         "mode": "lines",
         "opacity": 0.7,
         "showlegend": false,
         "type": "scattergeo"
        },
        {
         "hoverinfo": "text",
         "hovertext": "india -> russia: 8818.84 tons",
         "lat": [
          28.6139,
          55.7558
         ],
         "line": {
          "color": "#EDC948",
          "width": 2
         },
         "lon": [
          77.209,
          37.6173
         ],
         "mode": "lines",
         "opacity": 0.7,
         "showlegend": false,
         "type": "scattergeo"
        },
        {
         "hoverinfo": "text",
         "hovertext": "kazakhstan -> russia: 6927.22 tons",
         "lat": [
          51.1694,
          55.7558
         ],
         "line": {
          "color": "#EDC948",
          "width": 2
         },
         "lon": [
          71.4491,
          37.6173
         ],
         "mode": "lines",
         "opacity": 0.7,
         "showlegend": false,
         "type": "scattergeo"
        },
        {
         "hoverinfo": "text",
         "hovertext": "kyrgyzstan -> russia: 1645.45 tons",
         "lat": [
          42.874722,
          55.7558
         ],
         "line": {
          "color": "#EDC948",
          "width": 2
         },
         "lon": [
          74.612222,
          37.6173
         ],
         "mode": "lines",
         "opacity": 0.7,
         "showlegend": false,
         "type": "scattergeo"
        },
        {
         "hoverinfo": "text",
         "hovertext": "paraguay -> russia: 91796.79 tons",
         "lat": [
          -25.2865,
          55.7558
         ],
         "line": {
          "color": "#EDC948",
          "width": 2
         },
         "lon": [
          -57.647,
          37.6173
         ],
         "mode": "lines",
         "opacity": 0.7,
         "showlegend": false,
         "type": "scattergeo"
        },
        {
         "hoverinfo": "text",
         "hovertext": "uruguay -> russia: 14686.01 tons",
         "lat": [
          -34.9011,
          55.7558
         ],
         "line": {
          "color": "#EDC948",
          "width": 2
         },
         "lon": [
          -56.1645,
          37.6173
         ],
         "mode": "lines",
         "opacity": 0.7,
         "showlegend": false,
         "type": "scattergeo"
        },
        {
         "hoverinfo": "text",
         "hovertext": "australia -> saudi arabia: 13689.48 tons",
         "lat": [
          -35.2809,
          24.7136
         ],
         "line": {
          "color": "#EDC948",
          "width": 2
         },
         "lon": [
          149.13,
          46.6753
         ],
         "mode": "lines",
         "opacity": 0.7,
         "showlegend": false,
         "type": "scattergeo"
        },
        {
         "hoverinfo": "text",
         "hovertext": "brazil -> saudi arabia: 39204.14 tons",
         "lat": [
          -15.8267,
          24.7136
         ],
         "line": {
          "color": "#EDC948",
          "width": 2
         },
         "lon": [
          -47.9218,
          46.6753
         ],
         "mode": "lines",
         "opacity": 0.7,
         "showlegend": false,
         "type": "scattergeo"
        },
        {
         "hoverinfo": "text",
         "hovertext": "india -> saudi arabia: 49079.14 tons",
         "lat": [
          28.6139,
          24.7136
         ],
         "line": {
          "color": "#EDC948",
          "width": 2
         },
         "lon": [
          77.209,
          46.6753
         ],
         "mode": "lines",
         "opacity": 0.7,
         "showlegend": false,
         "type": "scattergeo"
        },
        {
         "hoverinfo": "text",
         "hovertext": "pakistan -> saudi arabia: 7743.08 tons",
         "lat": [
          33.6844,
          24.7136
         ],
         "line": {
          "color": "#EDC948",
          "width": 2
         },
         "lon": [
          73.0479,
          46.6753
         ],
         "mode": "lines",
         "opacity": 0.7,
         "showlegend": false,
         "type": "scattergeo"
        },
        {
         "hoverinfo": "text",
         "hovertext": "russia -> saudi arabia: 1966.52 tons",
         "lat": [
          55.7558,
          24.7136
         ],
         "line": {
          "color": "#EDC948",
          "width": 2
         },
         "lon": [
          37.6173,
          46.6753
         ],
         "mode": "lines",
         "opacity": 0.7,
         "showlegend": false,
         "type": "scattergeo"
        },
        {
         "hoverinfo": "text",
         "hovertext": "united states of america -> south africa: 12503.65 tons",
         "lat": [
          38.9072,
          -25.746111
         ],
         "line": {
          "color": "#4E79A7",
          "width": 2
         },
         "lon": [
          -77.0369,
          28.188056
         ],
         "mode": "lines",
         "opacity": 0.7,
         "showlegend": false,
         "type": "scattergeo"
        },
        {
         "hoverinfo": "text",
         "hovertext": "austria -> spain: 3010.58 tons",
         "lat": [
          48.2082,
          40.4168
         ],
         "line": {
          "color": "#E15759",
          "width": 2
         },
         "lon": [
          16.3738,
          -3.7038
         ],
         "mode": "lines",
         "opacity": 0.7,
         "showlegend": false,
         "type": "scattergeo"
        },
        {
         "hoverinfo": "text",
         "hovertext": "denmark -> spain: 5984.91 tons",
         "lat": [
          55.6761,
          40.4168
         ],
         "line": {
          "color": "#E15759",
          "width": 2
         },
         "lon": [
          12.5683,
          -3.7038
         ],
         "mode": "lines",
         "opacity": 0.7,
         "showlegend": false,
         "type": "scattergeo"
        },
        {
         "hoverinfo": "text",
         "hovertext": "france -> spain: 22898.66 tons",
         "lat": [
          48.8566,
          40.4168
         ],
         "line": {
          "color": "#E15759",
          "width": 2
         },
         "lon": [
          2.3522,
          -3.7038
         ],
         "mode": "lines",
         "opacity": 0.7,
         "showlegend": false,
         "type": "scattergeo"
        },
        {
         "hoverinfo": "text",
         "hovertext": "germany -> spain: 20817.71 tons",
         "lat": [
          52.52,
          40.4168
         ],
         "line": {
          "color": "#E15759",
          "width": 2
         },
         "lon": [
          13.405,
          -3.7038
         ],
         "mode": "lines",
         "opacity": 0.7,
         "showlegend": false,
         "type": "scattergeo"
        },
        {
         "hoverinfo": "text",
         "hovertext": "italy -> spain: 9048.10 tons",
         "lat": [
          41.9028,
          40.4168
         ],
         "line": {
          "color": "#E15759",
          "width": 2
         },
         "lon": [
          12.4964,
          -3.7038
         ],
         "mode": "lines",
         "opacity": 0.7,
         "showlegend": false,
         "type": "scattergeo"
        },
        {
         "hoverinfo": "text",
         "hovertext": "netherlands -> spain: 18997.61 tons",
         "lat": [
          52.3676,
          40.4168
         ],
         "line": {
          "color": "#E15759",
          "width": 2
         },
         "lon": [
          4.9041,
          -3.7038
         ],
         "mode": "lines",
         "opacity": 0.7,
         "showlegend": false,
         "type": "scattergeo"
        },
        {
         "hoverinfo": "text",
         "hovertext": "poland -> spain: 23534.33 tons",
         "lat": [
          52.2297,
          40.4168
         ],
         "line": {
          "color": "#E15759",
          "width": 2
         },
         "lon": [
          21.0122,
          -3.7038
         ],
         "mode": "lines",
         "opacity": 0.7,
         "showlegend": false,
         "type": "scattergeo"
        },
        {
         "hoverinfo": "text",
         "hovertext": "portugal -> spain: 13094.98 tons",
         "lat": [
          38.7167,
          40.4168
         ],
         "line": {
          "color": "#E15759",
          "width": 2
         },
         "lon": [
          -9.1333,
          -3.7038
         ],
         "mode": "lines",
         "opacity": 0.7,
         "showlegend": false,
         "type": "scattergeo"
        },
        {
         "hoverinfo": "text",
         "hovertext": "germany -> sweden: 11408.62 tons",
         "lat": [
          52.52,
          59.3293
         ],
         "line": {
          "color": "#E15759",
          "width": 2
         },
         "lon": [
          13.405,
          18.0686
         ],
         "mode": "lines",
         "opacity": 0.7,
         "showlegend": false,
         "type": "scattergeo"
        },
        {
         "hoverinfo": "text",
         "hovertext": "italy -> sweden: 3571.41 tons",
         "lat": [
          41.9028,
          59.3293
         ],
         "line": {
          "color": "#E15759",
          "width": 2
         },
         "lon": [
          12.4964,
          18.0686
         ],
         "mode": "lines",
         "opacity": 0.7,
         "showlegend": false,
         "type": "scattergeo"
        },
        {
         "hoverinfo": "text",
         "hovertext": "netherlands -> sweden: 11151.92 tons",
         "lat": [
          52.3676,
          59.3293
         ],
         "line": {
          "color": "#E15759",
          "width": 2
         },
         "lon": [
          4.9041,
          18.0686
         ],
         "mode": "lines",
         "opacity": 0.7,
         "showlegend": false,
         "type": "scattergeo"
        },
        {
         "hoverinfo": "text",
         "hovertext": "poland -> sweden: 10720.50 tons",
         "lat": [
          52.2297,
          59.3293
         ],
         "line": {
          "color": "#E15759",
          "width": 2
         },
         "lon": [
          21.0122,
          18.0686
         ],
         "mode": "lines",
         "opacity": 0.7,
         "showlegend": false,
         "type": "scattergeo"
        },
        {
         "hoverinfo": "text",
         "hovertext": "austria -> switzerland: 7450.07 tons",
         "lat": [
          48.2082,
          46.9481
         ],
         "line": {
          "color": "#E15759",
          "width": 2
         },
         "lon": [
          16.3738,
          7.4474
         ],
         "mode": "lines",
         "opacity": 0.7,
         "showlegend": false,
         "type": "scattergeo"
        },
        {
         "hoverinfo": "text",
         "hovertext": "germany -> switzerland: 10811.40 tons",
         "lat": [
          52.52,
          46.9481
         ],
         "line": {
          "color": "#E15759",
          "width": 2
         },
         "lon": [
          13.405,
          7.4474
         ],
         "mode": "lines",
         "opacity": 0.7,
         "showlegend": false,
         "type": "scattergeo"
        },
        {
         "hoverinfo": "text",
         "hovertext": "australia -> taiwan: 25828.52 tons",
         "lat": [
          -35.2809,
          25.033
         ],
         "line": {
          "color": "#EDC948",
          "width": 2
         },
         "lon": [
          149.13,
          121.5654
         ],
         "mode": "lines",
         "opacity": 0.7,
         "showlegend": false,
         "type": "scattergeo"
        },
        {
         "hoverinfo": "text",
         "hovertext": "new zealand -> taiwan: 20247.06 tons",
         "lat": [
          -41.2865,
          25.033
         ],
         "line": {
          "color": "#EDC948",
          "width": 2
         },
         "lon": [
          174.7762,
          121.5654
         ],
         "mode": "lines",
         "opacity": 0.7,
         "showlegend": false,
         "type": "scattergeo"
        },
        {
         "hoverinfo": "text",
         "hovertext": "paraguay -> taiwan: 30512.37 tons",
         "lat": [
          -25.2865,
          25.033
         ],
         "line": {
          "color": "#EDC948",
          "width": 2
         },
         "lon": [
          -57.647,
          121.5654
         ],
         "mode": "lines",
         "opacity": 0.7,
         "showlegend": false,
         "type": "scattergeo"
        },
        {
         "hoverinfo": "text",
         "hovertext": "united states of america -> taiwan: 57339.20 tons",
         "lat": [
          38.9072,
          25.033
         ],
         "line": {
          "color": "#EDC948",
          "width": 2
         },
         "lon": [
          -77.0369,
          121.5654
         ],
         "mode": "lines",
         "opacity": 0.7,
         "showlegend": false,
         "type": "scattergeo"
        },
        {
         "hoverinfo": "text",
         "hovertext": "argentina -> thailand: 16382.24 tons",
         "lat": [
          -34.6118,
          13.7563
         ],
         "line": {
          "color": "#EDC948",
          "width": 2
         },
         "lon": [
          -58.4173,
          100.5018
         ],
         "mode": "lines",
         "opacity": 0.7,
         "showlegend": false,
         "type": "scattergeo"
        },
        {
         "hoverinfo": "text",
         "hovertext": "australia -> thailand: 15712.92 tons",
         "lat": [
          -35.2809,
          13.7563
         ],
         "line": {
          "color": "#EDC948",
          "width": 2
         },
         "lon": [
          149.13,
          100.5018
         ],
         "mode": "lines",
         "opacity": 0.7,
         "showlegend": false,
         "type": "scattergeo"
        },
        {
         "hoverinfo": "text",
         "hovertext": "india -> oman: 11858.64 tons",
         "lat": [
          28.6139,
          23.588
         ],
         "line": {
          "color": "#EDC948",
          "width": 2
         },
         "lon": [
          77.209,
          58.3829
         ],
         "mode": "lines",
         "opacity": 0.7,
         "showlegend": false,
         "type": "scattergeo"
        },
        {
         "hoverinfo": "text",
         "hovertext": "australia -> united arab emirates: 11455.82 tons",
         "lat": [
          -35.2809,
          24.4539
         ],
         "line": {
          "color": "#EDC948",
          "width": 2
         },
         "lon": [
          149.13,
          54.3773
         ],
         "mode": "lines",
         "opacity": 0.7,
         "showlegend": false,
         "type": "scattergeo"
        },
        {
         "hoverinfo": "text",
         "hovertext": "brazil -> united arab emirates: 49755.97 tons",
         "lat": [
          -15.8267,
          24.4539
         ],
         "line": {
          "color": "#EDC948",
          "width": 2
         },
         "lon": [
          -47.9218,
          54.3773
         ],
         "mode": "lines",
         "opacity": 0.7,
         "showlegend": false,
         "type": "scattergeo"
        },
        {
         "hoverinfo": "text",
         "hovertext": "india -> united arab emirates: 36456.16 tons",
         "lat": [
          28.6139,
          24.4539
         ],
         "line": {
          "color": "#EDC948",
          "width": 2
         },
         "lon": [
          77.209,
          54.3773
         ],
         "mode": "lines",
         "opacity": 0.7,
         "showlegend": false,
         "type": "scattergeo"
        },
        {
         "hoverinfo": "text",
         "hovertext": "pakistan -> united arab emirates: 35977.74 tons",
         "lat": [
          33.6844,
          24.4539
         ],
         "line": {
          "color": "#EDC948",
          "width": 2
         },
         "lon": [
          73.0479,
          54.3773
         ],
         "mode": "lines",
         "opacity": 0.7,
         "showlegend": false,
         "type": "scattergeo"
        },
        {
         "hoverinfo": "text",
         "hovertext": "brazil -> united kingdom: 21035.36 tons",
         "lat": [
          -15.8267,
          51.5074
         ],
         "line": {
          "color": "#E15759",
          "width": 2
         },
         "lon": [
          -47.9218,
          -0.1278
         ],
         "mode": "lines",
         "opacity": 0.7,
         "showlegend": false,
         "type": "scattergeo"
        },
        {
         "hoverinfo": "text",
         "hovertext": "poland -> ukraine: 7999.79 tons",
         "lat": [
          52.2297,
          50.4501
         ],
         "line": {
          "color": "#E15759",
          "width": 2
         },
         "lon": [
          21.0122,
          30.5234
         ],
         "mode": "lines",
         "opacity": 0.7,
         "showlegend": false,
         "type": "scattergeo"
        },
        {
         "hoverinfo": "text",
         "hovertext": "argentina -> united states of america: 20560.14 tons",
         "lat": [
          -34.6118,
          38.9072
         ],
         "line": {
          "color": "#76B7B2",
          "width": 2
         },
         "lon": [
          -58.4173,
          -77.0369
         ],
         "mode": "lines",
         "opacity": 0.7,
         "showlegend": false,
         "type": "scattergeo"
        },
        {
         "hoverinfo": "text",
         "hovertext": "australia -> united states of america: 148482.71 tons",
         "lat": [
          -35.2809,
          38.9072
         ],
         "line": {
          "color": "#76B7B2",
          "width": 2
         },
         "lon": [
          149.13,
          -77.0369
         ],
         "mode": "lines",
         "opacity": 0.7,
         "showlegend": false,
         "type": "scattergeo"
        },
        {
         "hoverinfo": "text",
         "hovertext": "brazil -> united states of america: 106173.45 tons",
         "lat": [
          -15.8267,
          38.9072
         ],
         "line": {
          "color": "#76B7B2",
          "width": 2
         },
         "lon": [
          -47.9218,
          -77.0369
         ],
         "mode": "lines",
         "opacity": 0.7,
         "showlegend": false,
         "type": "scattergeo"
        },
        {
         "hoverinfo": "text",
         "hovertext": "canada -> united states of america: 354403.42 tons",
         "lat": [
          45.4215,
          38.9072
         ],
         "line": {
          "color": "#76B7B2",
          "width": 2
         },
         "lon": [
          -75.6972,
          -77.0369
         ],
         "mode": "lines",
         "opacity": 0.7,
         "showlegend": false,
         "type": "scattergeo"
        },
        {
         "hoverinfo": "text",
         "hovertext": "costa rica -> united states of america: 7826.09 tons",
         "lat": [
          9.9281,
          38.9072
         ],
         "line": {
          "color": "#76B7B2",
          "width": 2
         },
         "lon": [
          -84.0907,
          -77.0369
         ],
         "mode": "lines",
         "opacity": 0.7,
         "showlegend": false,
         "type": "scattergeo"
        },
        {
         "hoverinfo": "text",
         "hovertext": "mexico -> united states of america: 271904.70 tons",
         "lat": [
          19.4326,
          38.9072
         ],
         "line": {
          "color": "#76B7B2",
          "width": 2
         },
         "lon": [
          -99.1332,
          -77.0369
         ],
         "mode": "lines",
         "opacity": 0.7,
         "showlegend": false,
         "type": "scattergeo"
        },
        {
         "hoverinfo": "text",
         "hovertext": "new zealand -> united states of america: 169911.89 tons",
         "lat": [
          -41.2865,
          38.9072
         ],
         "line": {
          "color": "#76B7B2",
          "width": 2
         },
         "lon": [
          174.7762,
          -77.0369
         ],
         "mode": "lines",
         "opacity": 0.7,
         "showlegend": false,
         "type": "scattergeo"
        },
        {
         "hoverinfo": "text",
         "hovertext": "nicaragua -> united states of america: 67974.95 tons",
         "lat": [
          12.1364,
          38.9072
         ],
         "line": {
          "color": "#76B7B2",
          "width": 2
         },
         "lon": [
          -86.2514,
          -77.0369
         ],
         "mode": "lines",
         "opacity": 0.7,
         "showlegend": false,
         "type": "scattergeo"
        },
        {
         "hoverinfo": "text",
         "hovertext": "uruguay -> united states of america: 44978.05 tons",
         "lat": [
          -34.9011,
          38.9072
         ],
         "line": {
          "color": "#76B7B2",
          "width": 2
         },
         "lon": [
          -56.1645,
          -77.0369
         ],
         "mode": "lines",
         "opacity": 0.7,
         "showlegend": false,
         "type": "scattergeo"
        },
        {
         "hoverinfo": "text",
         "hovertext": "brazil -> uruguay: 23071.95 tons",
         "lat": [
          -15.8267,
          -34.9011
         ],
         "line": {
          "color": "#59A14F",
          "width": 2
         },
         "lon": [
          -47.9218,
          -56.1645
         ],
         "mode": "lines",
         "opacity": 0.7,
         "showlegend": false,
         "type": "scattergeo"
        },
        {
         "hoverinfo": "text",
         "hovertext": "paraguay -> uruguay: 6299.12 tons",
         "lat": [
          -25.2865,
          -34.9011
         ],
         "line": {
          "color": "#59A14F",
          "width": 2
         },
         "lon": [
          -57.647,
          -56.1645
         ],
         "mode": "lines",
         "opacity": 0.7,
         "showlegend": false,
         "type": "scattergeo"
        },
        {
         "hoverinfo": "text",
         "hovertext": "russia -> vietnam: 1050.00 tons",
         "lat": [
          55.7558,
          21.0285
         ],
         "line": {
          "color": "#EDC948",
          "width": 2
         },
         "lon": [
          37.6173,
          105.8542
         ],
         "mode": "lines",
         "opacity": 0.7,
         "showlegend": false,
         "type": "scattergeo"
        },
        {
         "hoverinfo": "text",
         "hovertext": "france -> belgium: 40535.75 tons",
         "lat": [
          48.8566,
          50.8503
         ],
         "line": {
          "color": "#E15759",
          "width": 2
         },
         "lon": [
          2.3522,
          4.3517
         ],
         "mode": "lines",
         "opacity": 0.7,
         "showlegend": false,
         "type": "scattergeo"
        },
        {
         "hoverinfo": "text",
         "hovertext": "germany -> belgium: 13243.87 tons",
         "lat": [
          52.52,
          50.8503
         ],
         "line": {
          "color": "#E15759",
          "width": 2
         },
         "lon": [
          13.405,
          4.3517
         ],
         "mode": "lines",
         "opacity": 0.7,
         "showlegend": false,
         "type": "scattergeo"
        },
        {
         "hoverinfo": "text",
         "hovertext": "italy -> belgium: 4071.04 tons",
         "lat": [
          41.9028,
          50.8503
         ],
         "line": {
          "color": "#E15759",
          "width": 2
         },
         "lon": [
          12.4964,
          4.3517
         ],
         "mode": "lines",
         "opacity": 0.7,
         "showlegend": false,
         "type": "scattergeo"
        },
        {
         "hoverinfo": "text",
         "hovertext": "netherlands -> belgium: 35108.45 tons",
         "lat": [
          52.3676,
          50.8503
         ],
         "line": {
          "color": "#E15759",
          "width": 2
         },
         "lon": [
          4.9041,
          4.3517
         ],
         "mode": "lines",
         "opacity": 0.7,
         "showlegend": false,
         "type": "scattergeo"
        },
        {
         "hoverinfo": "text",
         "hovertext": "poland -> belgium: 6175.87 tons",
         "lat": [
          52.2297,
          50.8503
         ],
         "line": {
          "color": "#E15759",
          "width": 2
         },
         "lon": [
          21.0122,
          4.3517
         ],
         "mode": "lines",
         "opacity": 0.7,
         "showlegend": false,
         "type": "scattergeo"
        },
        {
         "hoverinfo": "text",
         "hovertext": "spain -> belgium: 4154.64 tons",
         "lat": [
          40.4168,
          50.8503
         ],
         "line": {
          "color": "#E15759",
          "width": 2
         },
         "lon": [
          -3.7038,
          4.3517
         ],
         "mode": "lines",
         "opacity": 0.7,
         "showlegend": false,
         "type": "scattergeo"
        },
        {
         "lat": [
          null
         ],
         "line": {
          "color": "#4E79A7",
          "width": 2
         },
         "lon": [
          null
         ],
         "mode": "lines",
         "name": "africa",
         "showlegend": true,
         "type": "scattergeo"
        },
        {
         "lat": [
          null
         ],
         "line": {
          "color": "#EDC948",
          "width": 2
         },
         "lon": [
          null
         ],
         "mode": "lines",
         "name": "asia",
         "showlegend": true,
         "type": "scattergeo"
        },
        {
         "lat": [
          null
         ],
         "line": {
          "color": "#E15759",
          "width": 2
         },
         "lon": [
          null
         ],
         "mode": "lines",
         "name": "europe",
         "showlegend": true,
         "type": "scattergeo"
        },
        {
         "lat": [
          null
         ],
         "line": {
          "color": "#76B7B2",
          "width": 2
         },
         "lon": [
          null
         ],
         "mode": "lines",
         "name": "north america",
         "showlegend": true,
         "type": "scattergeo"
        },
        {
         "lat": [
          null
         ],
         "line": {
          "color": "#B07AA1",
          "width": 2
         },
         "lon": [
          null
         ],
         "mode": "lines",
         "name": "oceania",
         "showlegend": true,
         "type": "scattergeo"
        },
        {
         "lat": [
          null
         ],
         "line": {
          "color": "#59A14F",
          "width": 2
         },
         "lon": [
          null
         ],
         "mode": "lines",
         "name": "south america",
         "showlegend": true,
         "type": "scattergeo"
        }
       ],
       "layout": {
        "geo": {
         "coastlinecolor": "rgb(90, 90, 90)",
         "coastlinewidth": 0.5,
         "countrywidth": 0.5,
         "landcolor": "rgb(243, 243, 243)",
         "oceancolor": "rgb(204, 229, 255)",
         "projection": {
          "type": "natural earth"
         },
         "showcoastlines": true,
         "showcountries": true,
         "showland": true,
         "showocean": true
        },
        "legend": {
         "title": {
          "text": "Target Continent"
         }
        },
        "showlegend": true,
        "template": {
         "data": {
          "bar": [
           {
            "error_x": {
             "color": "#2a3f5f"
            },
            "error_y": {
             "color": "#2a3f5f"
            },
            "marker": {
             "line": {
              "color": "#E5ECF6",
              "width": 0.5
             },
             "pattern": {
              "fillmode": "overlay",
              "size": 10,
              "solidity": 0.2
             }
            },
            "type": "bar"
           }
          ],
          "barpolar": [
           {
            "marker": {
             "line": {
              "color": "#E5ECF6",
              "width": 0.5
             },
             "pattern": {
              "fillmode": "overlay",
              "size": 10,
              "solidity": 0.2
             }
            },
            "type": "barpolar"
           }
          ],
          "carpet": [
           {
            "aaxis": {
             "endlinecolor": "#2a3f5f",
             "gridcolor": "white",
             "linecolor": "white",
             "minorgridcolor": "white",
             "startlinecolor": "#2a3f5f"
            },
            "baxis": {
             "endlinecolor": "#2a3f5f",
             "gridcolor": "white",
             "linecolor": "white",
             "minorgridcolor": "white",
             "startlinecolor": "#2a3f5f"
            },
            "type": "carpet"
           }
          ],
          "choropleth": [
           {
            "colorbar": {
             "outlinewidth": 0,
             "ticks": ""
            },
            "type": "choropleth"
           }
          ],
          "contour": [
           {
            "colorbar": {
             "outlinewidth": 0,
             "ticks": ""
            },
            "colorscale": [
             [
              0,
              "#0d0887"
             ],
             [
              0.1111111111111111,
              "#46039f"
             ],
             [
              0.2222222222222222,
              "#7201a8"
             ],
             [
              0.3333333333333333,
              "#9c179e"
             ],
             [
              0.4444444444444444,
              "#bd3786"
             ],
             [
              0.5555555555555556,
              "#d8576b"
             ],
             [
              0.6666666666666666,
              "#ed7953"
             ],
             [
              0.7777777777777778,
              "#fb9f3a"
             ],
             [
              0.8888888888888888,
              "#fdca26"
             ],
             [
              1,
              "#f0f921"
             ]
            ],
            "type": "contour"
           }
          ],
          "contourcarpet": [
           {
            "colorbar": {
             "outlinewidth": 0,
             "ticks": ""
            },
            "type": "contourcarpet"
           }
          ],
          "heatmap": [
           {
            "colorbar": {
             "outlinewidth": 0,
             "ticks": ""
            },
            "colorscale": [
             [
              0,
              "#0d0887"
             ],
             [
              0.1111111111111111,
              "#46039f"
             ],
             [
              0.2222222222222222,
              "#7201a8"
             ],
             [
              0.3333333333333333,
              "#9c179e"
             ],
             [
              0.4444444444444444,
              "#bd3786"
             ],
             [
              0.5555555555555556,
              "#d8576b"
             ],
             [
              0.6666666666666666,
              "#ed7953"
             ],
             [
              0.7777777777777778,
              "#fb9f3a"
             ],
             [
              0.8888888888888888,
              "#fdca26"
             ],
             [
              1,
              "#f0f921"
             ]
            ],
            "type": "heatmap"
           }
          ],
          "heatmapgl": [
           {
            "colorbar": {
             "outlinewidth": 0,
             "ticks": ""
            },
            "colorscale": [
             [
              0,
              "#0d0887"
             ],
             [
              0.1111111111111111,
              "#46039f"
             ],
             [
              0.2222222222222222,
              "#7201a8"
             ],
             [
              0.3333333333333333,
              "#9c179e"
             ],
             [
              0.4444444444444444,
              "#bd3786"
             ],
             [
              0.5555555555555556,
              "#d8576b"
             ],
             [
              0.6666666666666666,
              "#ed7953"
             ],
             [
              0.7777777777777778,
              "#fb9f3a"
             ],
             [
              0.8888888888888888,
              "#fdca26"
             ],
             [
              1,
              "#f0f921"
             ]
            ],
            "type": "heatmapgl"
           }
          ],
          "histogram": [
           {
            "marker": {
             "pattern": {
              "fillmode": "overlay",
              "size": 10,
              "solidity": 0.2
             }
            },
            "type": "histogram"
           }
          ],
          "histogram2d": [
           {
            "colorbar": {
             "outlinewidth": 0,
             "ticks": ""
            },
            "colorscale": [
             [
              0,
              "#0d0887"
             ],
             [
              0.1111111111111111,
              "#46039f"
             ],
             [
              0.2222222222222222,
              "#7201a8"
             ],
             [
              0.3333333333333333,
              "#9c179e"
             ],
             [
              0.4444444444444444,
              "#bd3786"
             ],
             [
              0.5555555555555556,
              "#d8576b"
             ],
             [
              0.6666666666666666,
              "#ed7953"
             ],
             [
              0.7777777777777778,
              "#fb9f3a"
             ],
             [
              0.8888888888888888,
              "#fdca26"
             ],
             [
              1,
              "#f0f921"
             ]
            ],
            "type": "histogram2d"
           }
          ],
          "histogram2dcontour": [
           {
            "colorbar": {
             "outlinewidth": 0,
             "ticks": ""
            },
            "colorscale": [
             [
              0,
              "#0d0887"
             ],
             [
              0.1111111111111111,
              "#46039f"
             ],
             [
              0.2222222222222222,
              "#7201a8"
             ],
             [
              0.3333333333333333,
              "#9c179e"
             ],
             [
              0.4444444444444444,
              "#bd3786"
             ],
             [
              0.5555555555555556,
              "#d8576b"
             ],
             [
              0.6666666666666666,
              "#ed7953"
             ],
             [
              0.7777777777777778,
              "#fb9f3a"
             ],
             [
              0.8888888888888888,
              "#fdca26"
             ],
             [
              1,
              "#f0f921"
             ]
            ],
            "type": "histogram2dcontour"
           }
          ],
          "mesh3d": [
           {
            "colorbar": {
             "outlinewidth": 0,
             "ticks": ""
            },
            "type": "mesh3d"
           }
          ],
          "parcoords": [
           {
            "line": {
             "colorbar": {
              "outlinewidth": 0,
              "ticks": ""
             }
            },
            "type": "parcoords"
           }
          ],
          "pie": [
           {
            "automargin": true,
            "type": "pie"
           }
          ],
          "scatter": [
           {
            "fillpattern": {
             "fillmode": "overlay",
             "size": 10,
             "solidity": 0.2
            },
            "type": "scatter"
           }
          ],
          "scatter3d": [
           {
            "line": {
             "colorbar": {
              "outlinewidth": 0,
              "ticks": ""
             }
            },
            "marker": {
             "colorbar": {
              "outlinewidth": 0,
              "ticks": ""
             }
            },
            "type": "scatter3d"
           }
          ],
          "scattercarpet": [
           {
            "marker": {
             "colorbar": {
              "outlinewidth": 0,
              "ticks": ""
             }
            },
            "type": "scattercarpet"
           }
          ],
          "scattergeo": [
           {
            "marker": {
             "colorbar": {
              "outlinewidth": 0,
              "ticks": ""
             }
            },
            "type": "scattergeo"
           }
          ],
          "scattergl": [
           {
            "marker": {
             "colorbar": {
              "outlinewidth": 0,
              "ticks": ""
             }
            },
            "type": "scattergl"
           }
          ],
          "scattermapbox": [
           {
            "marker": {
             "colorbar": {
              "outlinewidth": 0,
              "ticks": ""
             }
            },
            "type": "scattermapbox"
           }
          ],
          "scatterpolar": [
           {
            "marker": {
             "colorbar": {
              "outlinewidth": 0,
              "ticks": ""
             }
            },
            "type": "scatterpolar"
           }
          ],
          "scatterpolargl": [
           {
            "marker": {
             "colorbar": {
              "outlinewidth": 0,
              "ticks": ""
             }
            },
            "type": "scatterpolargl"
           }
          ],
          "scatterternary": [
           {
            "marker": {
             "colorbar": {
              "outlinewidth": 0,
              "ticks": ""
             }
            },
            "type": "scatterternary"
           }
          ],
          "surface": [
           {
            "colorbar": {
             "outlinewidth": 0,
             "ticks": ""
            },
            "colorscale": [
             [
              0,
              "#0d0887"
             ],
             [
              0.1111111111111111,
              "#46039f"
             ],
             [
              0.2222222222222222,
              "#7201a8"
             ],
             [
              0.3333333333333333,
              "#9c179e"
             ],
             [
              0.4444444444444444,
              "#bd3786"
             ],
             [
              0.5555555555555556,
              "#d8576b"
             ],
             [
              0.6666666666666666,
              "#ed7953"
             ],
             [
              0.7777777777777778,
              "#fb9f3a"
             ],
             [
              0.8888888888888888,
              "#fdca26"
             ],
             [
              1,
              "#f0f921"
             ]
            ],
            "type": "surface"
           }
          ],
          "table": [
           {
            "cells": {
             "fill": {
              "color": "#EBF0F8"
             },
             "line": {
              "color": "white"
             }
            },
            "header": {
             "fill": {
              "color": "#C8D4E3"
             },
             "line": {
              "color": "white"
             }
            },
            "type": "table"
           }
          ]
         },
         "layout": {
          "annotationdefaults": {
           "arrowcolor": "#2a3f5f",
           "arrowhead": 0,
           "arrowwidth": 1
          },
          "autotypenumbers": "strict",
          "coloraxis": {
           "colorbar": {
            "outlinewidth": 0,
            "ticks": ""
           }
          },
          "colorscale": {
           "diverging": [
            [
             0,
             "#8e0152"
            ],
            [
             0.1,
             "#c51b7d"
            ],
            [
             0.2,
             "#de77ae"
            ],
            [
             0.3,
             "#f1b6da"
            ],
            [
             0.4,
             "#fde0ef"
            ],
            [
             0.5,
             "#f7f7f7"
            ],
            [
             0.6,
             "#e6f5d0"
            ],
            [
             0.7,
             "#b8e186"
            ],
            [
             0.8,
             "#7fbc41"
            ],
            [
             0.9,
             "#4d9221"
            ],
            [
             1,
             "#276419"
            ]
           ],
           "sequential": [
            [
             0,
             "#0d0887"
            ],
            [
             0.1111111111111111,
             "#46039f"
            ],
            [
             0.2222222222222222,
             "#7201a8"
            ],
            [
             0.3333333333333333,
             "#9c179e"
            ],
            [
             0.4444444444444444,
             "#bd3786"
            ],
            [
             0.5555555555555556,
             "#d8576b"
            ],
            [
             0.6666666666666666,
             "#ed7953"
            ],
            [
             0.7777777777777778,
             "#fb9f3a"
            ],
            [
             0.8888888888888888,
             "#fdca26"
            ],
            [
             1,
             "#f0f921"
            ]
           ],
           "sequentialminus": [
            [
             0,
             "#0d0887"
            ],
            [
             0.1111111111111111,
             "#46039f"
            ],
            [
             0.2222222222222222,
             "#7201a8"
            ],
            [
             0.3333333333333333,
             "#9c179e"
            ],
            [
             0.4444444444444444,
             "#bd3786"
            ],
            [
             0.5555555555555556,
             "#d8576b"
            ],
            [
             0.6666666666666666,
             "#ed7953"
            ],
            [
             0.7777777777777778,
             "#fb9f3a"
            ],
            [
             0.8888888888888888,
             "#fdca26"
            ],
            [
             1,
             "#f0f921"
            ]
           ]
          },
          "colorway": [
           "#636efa",
           "#EF553B",
           "#00cc96",
           "#ab63fa",
           "#FFA15A",
           "#19d3f3",
           "#FF6692",
           "#B6E880",
           "#FF97FF",
           "#FECB52"
          ],
          "font": {
           "color": "#2a3f5f"
          },
          "geo": {
           "bgcolor": "white",
           "lakecolor": "white",
           "landcolor": "#E5ECF6",
           "showlakes": true,
           "showland": true,
           "subunitcolor": "white"
          },
          "hoverlabel": {
           "align": "left"
          },
          "hovermode": "closest",
          "mapbox": {
           "style": "light"
          },
          "paper_bgcolor": "white",
          "plot_bgcolor": "#E5ECF6",
          "polar": {
           "angularaxis": {
            "gridcolor": "white",
            "linecolor": "white",
            "ticks": ""
           },
           "bgcolor": "#E5ECF6",
           "radialaxis": {
            "gridcolor": "white",
            "linecolor": "white",
            "ticks": ""
           }
          },
          "scene": {
           "xaxis": {
            "backgroundcolor": "#E5ECF6",
            "gridcolor": "white",
            "gridwidth": 2,
            "linecolor": "white",
            "showbackground": true,
            "ticks": "",
            "zerolinecolor": "white"
           },
           "yaxis": {
            "backgroundcolor": "#E5ECF6",
            "gridcolor": "white",
            "gridwidth": 2,
            "linecolor": "white",
            "showbackground": true,
            "ticks": "",
            "zerolinecolor": "white"
           },
           "zaxis": {
            "backgroundcolor": "#E5ECF6",
            "gridcolor": "white",
            "gridwidth": 2,
            "linecolor": "white",
            "showbackground": true,
            "ticks": "",
            "zerolinecolor": "white"
           }
          },
          "shapedefaults": {
           "line": {
            "color": "#2a3f5f"
           }
          },
          "ternary": {
           "aaxis": {
            "gridcolor": "white",
            "linecolor": "white",
            "ticks": ""
           },
           "baxis": {
            "gridcolor": "white",
            "linecolor": "white",
            "ticks": ""
           },
           "bgcolor": "#E5ECF6",
           "caxis": {
            "gridcolor": "white",
            "linecolor": "white",
            "ticks": ""
           }
          },
          "title": {
           "x": 0.05
          },
          "xaxis": {
           "automargin": true,
           "gridcolor": "white",
           "linecolor": "white",
           "ticks": "",
           "title": {
            "standoff": 15
           },
           "zerolinecolor": "white",
           "zerolinewidth": 2
          },
          "yaxis": {
           "automargin": true,
           "gridcolor": "white",
           "linecolor": "white",
           "ticks": "",
           "title": {
            "standoff": 15
           },
           "zerolinecolor": "white",
           "zerolinewidth": 2
          }
         }
        },
        "title": {
         "text": "Cattle (non-dairy) Top Contaminating Trades (2021)"
        }
       }
      }
     },
     "metadata": {},
     "output_type": "display_data"
    }
   ],
   "source": [
    "# Create traces for connections\n",
    "traces = []\n",
    "\n",
    "for _, row in cattle.iterrows():\n",
    "    continent = row['Continent_target']\n",
    "    source_country = row['Country_source']\n",
    "    target_country = row['Country_target']\n",
    "    amount = row['Value_tons']\n",
    "    color = continent_palette.get(continent, '#808080')  # Default to gray if continent not in palette\n",
    "    \n",
    "    traces.append(go.Scattergeo(\n",
    "        lon=[row['lon_source'], row['lon_target']],\n",
    "        lat=[row['lat_source'], row['lat_target']],\n",
    "        mode='lines',\n",
    "        line=dict(width=2, color=color),\n",
    "        opacity=0.7,\n",
    "        hoverinfo='text',\n",
    "        hovertext=f\"{source_country} -> {target_country}: {amount:.2f} tons\",\n",
    "        showlegend=False\n",
    "    ))\n",
    "\n",
    "# Create the layout\n",
    "layout = go.Layout(\n",
    "    title='Cattle (non-dairy) Top Contaminating Trades (2021)',\n",
    "    showlegend=True,\n",
    "    legend_title_text='Target Continent',\n",
    "    geo=dict(\n",
    "        projection_type='natural earth',\n",
    "        showland=True,\n",
    "        showcountries=True,\n",
    "        showocean=True,\n",
    "        countrywidth=0.5,\n",
    "        landcolor='rgb(243, 243, 243)',\n",
    "        oceancolor='rgb(204, 229, 255)',\n",
    "        showcoastlines=True,\n",
    "        coastlinewidth=0.5,\n",
    "        coastlinecolor='rgb(90, 90, 90)'\n",
    "    )\n",
    ")\n",
    "\n",
    "# Create the figure\n",
    "fig = go.Figure(data=traces, layout=layout)\n",
    "\n",
    "# Add a legend\n",
    "for continent, color in continent_palette.items():\n",
    "    fig.add_trace(go.Scattergeo(\n",
    "        lon=[None],\n",
    "        lat=[None],\n",
    "        mode='lines',\n",
    "        line=dict(width=2, color=color),\n",
    "        showlegend=True,\n",
    "        name=continent,\n",
    "    ))\n",
    "\n",
    "# Show the figure\n",
    "fig.show()\n",
    "fig.write_html(\"Cattle_connections_map_plotly.html\")"
   ]
  },
  {
   "cell_type": "code",
   "execution_count": 30,
   "metadata": {},
   "outputs": [
    {
     "data": {
      "text/plain": [
       "'https://plotly.com/~ezemriv/20/'"
      ]
     },
     "execution_count": 30,
     "metadata": {},
     "output_type": "execute_result"
    }
   ],
   "source": [
    "py.plot(fig, filename = 'cattle_top_contam_trades_final', auto_open=False)"
   ]
  },
  {
   "cell_type": "code",
   "execution_count": null,
   "metadata": {},
   "outputs": [],
   "source": []
  }
 ],
 "metadata": {
  "kernelspec": {
   "display_name": "Python 3",
   "language": "python",
   "name": "python3"
  },
  "language_info": {
   "codemirror_mode": {
    "name": "ipython",
    "version": 3
   },
   "file_extension": ".py",
   "mimetype": "text/x-python",
   "name": "python",
   "nbconvert_exporter": "python",
   "pygments_lexer": "ipython3",
   "version": "3.12.4"
  }
 },
 "nbformat": 4,
 "nbformat_minor": 2
}
