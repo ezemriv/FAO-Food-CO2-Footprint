{
 "cells": [
  {
   "cell_type": "code",
   "execution_count": 7,
   "metadata": {},
   "outputs": [],
   "source": [
    "import plotly.express as px\n",
    "\n",
    "# Load the Gapminder dataset\n",
    "gap_data = px.data.gapminder()"
   ]
  },
  {
   "cell_type": "code",
   "execution_count": null,
   "metadata": {},
   "outputs": [],
   "source": [
    "import pandas as pd\n",
    "import numpy as np\n",
    "\n",
    "trade_mx = pd.read_csv(r\"..\\data\\trade_matrix_carbon_footprint_v4.csv\")\n",
    "codes = pd.read_csv(r\"..\\data\\country_matrix_v4_final.csv\")\n",
    "\n",
    "codes['key'] = codes['country_from_code'].astype(str) + '-' + codes['country_to_code'].astype(str)\n",
    "trade_mx['key'] = trade_mx['Reporter Country Code'].astype(str) + '-' + trade_mx['Partner Country Code'].astype(str)"
   ]
  },
  {
   "cell_type": "code",
   "execution_count": 10,
   "metadata": {},
   "outputs": [],
   "source": [
    "full_trade_mx = trade_mx.merge(codes[[\"country_from\", \"continent_from\", \"key\"]], on='key', how='left')"
   ]
  },
  {
   "cell_type": "code",
   "execution_count": 14,
   "metadata": {},
   "outputs": [
    {
     "data": {
      "text/html": [
       "<div>\n",
       "<style scoped>\n",
       "    .dataframe tbody tr th:only-of-type {\n",
       "        vertical-align: middle;\n",
       "    }\n",
       "\n",
       "    .dataframe tbody tr th {\n",
       "        vertical-align: top;\n",
       "    }\n",
       "\n",
       "    .dataframe thead th {\n",
       "        text-align: right;\n",
       "    }\n",
       "</style>\n",
       "<table border=\"1\" class=\"dataframe\">\n",
       "  <thead>\n",
       "    <tr style=\"text-align: right;\">\n",
       "      <th></th>\n",
       "      <th>Year</th>\n",
       "      <th>country_from</th>\n",
       "      <th>continent_from</th>\n",
       "      <th>kg_CO2eq_tonne-km</th>\n",
       "    </tr>\n",
       "  </thead>\n",
       "  <tbody>\n",
       "    <tr>\n",
       "      <th>0</th>\n",
       "      <td>2005</td>\n",
       "      <td>algeria</td>\n",
       "      <td>africa</td>\n",
       "      <td>175.660885</td>\n",
       "    </tr>\n",
       "    <tr>\n",
       "      <th>1</th>\n",
       "      <td>2005</td>\n",
       "      <td>albania</td>\n",
       "      <td>europe</td>\n",
       "      <td>1130.462293</td>\n",
       "    </tr>\n",
       "    <tr>\n",
       "      <th>2</th>\n",
       "      <td>2022</td>\n",
       "      <td>angola</td>\n",
       "      <td>africa</td>\n",
       "      <td>1903.799176</td>\n",
       "    </tr>\n",
       "    <tr>\n",
       "      <th>3</th>\n",
       "      <td>1996</td>\n",
       "      <td>algeria</td>\n",
       "      <td>africa</td>\n",
       "      <td>10012.670425</td>\n",
       "    </tr>\n",
       "    <tr>\n",
       "      <th>4</th>\n",
       "      <td>1997</td>\n",
       "      <td>algeria</td>\n",
       "      <td>africa</td>\n",
       "      <td>9368.580515</td>\n",
       "    </tr>\n",
       "  </tbody>\n",
       "</table>\n",
       "</div>"
      ],
      "text/plain": [
       "   Year country_from continent_from  kg_CO2eq_tonne-km\n",
       "0  2005      algeria         africa         175.660885\n",
       "1  2005      albania         europe        1130.462293\n",
       "2  2022       angola         africa        1903.799176\n",
       "3  1996      algeria         africa       10012.670425\n",
       "4  1997      algeria         africa        9368.580515"
      ]
     },
     "execution_count": 14,
     "metadata": {},
     "output_type": "execute_result"
    }
   ],
   "source": [
    "full_trade_mx.head()"
   ]
  },
  {
   "cell_type": "code",
   "execution_count": 13,
   "metadata": {},
   "outputs": [],
   "source": [
    "cols_to_keep = ['Year', 'country_from', 'continent_from', 'kg_CO2eq_tonne-km']\n",
    "full_trade_mx = full_trade_mx[cols_to_keep]"
   ]
  },
  {
   "cell_type": "code",
   "execution_count": 19,
   "metadata": {},
   "outputs": [],
   "source": [
    "co2_mx = full_trade_mx.groupby(['country_from', 'continent_from', 'Year'])['kg_CO2eq_tonne-km'].sum().to_frame().reset_index()"
   ]
  },
  {
   "cell_type": "code",
   "execution_count": 23,
   "metadata": {},
   "outputs": [],
   "source": [
    "# Convert the 'country' column in df2 to lowercase\n",
    "gap_data['country'] = gap_data['country'].str.lower()\n",
    "\n",
    "# Merge the dataframes on 'country' and 'year'\n",
    "co2_mx_merged = pd.merge(co2_mx, gap_data, left_on=['country_from', 'Year'], right_on=['country', 'year'])\n",
    "\n",
    "# Drop the duplicate columns\n",
    "co2_mx_merged.drop(columns=['country', 'year'], inplace=True)"
   ]
  },
  {
   "cell_type": "code",
   "execution_count": 24,
   "metadata": {},
   "outputs": [
    {
     "data": {
      "text/html": [
       "<div>\n",
       "<style scoped>\n",
       "    .dataframe tbody tr th:only-of-type {\n",
       "        vertical-align: middle;\n",
       "    }\n",
       "\n",
       "    .dataframe tbody tr th {\n",
       "        vertical-align: top;\n",
       "    }\n",
       "\n",
       "    .dataframe thead th {\n",
       "        text-align: right;\n",
       "    }\n",
       "</style>\n",
       "<table border=\"1\" class=\"dataframe\">\n",
       "  <thead>\n",
       "    <tr style=\"text-align: right;\">\n",
       "      <th></th>\n",
       "      <th>country_from</th>\n",
       "      <th>continent_from</th>\n",
       "      <th>Year</th>\n",
       "      <th>kg_CO2eq_tonne-km</th>\n",
       "      <th>continent</th>\n",
       "      <th>lifeExp</th>\n",
       "      <th>pop</th>\n",
       "      <th>gdpPercap</th>\n",
       "      <th>iso_alpha</th>\n",
       "      <th>iso_num</th>\n",
       "    </tr>\n",
       "  </thead>\n",
       "  <tbody>\n",
       "    <tr>\n",
       "      <th>0</th>\n",
       "      <td>albania</td>\n",
       "      <td>europe</td>\n",
       "      <td>1997</td>\n",
       "      <td>6.200736e+07</td>\n",
       "      <td>Europe</td>\n",
       "      <td>72.950</td>\n",
       "      <td>3428038</td>\n",
       "      <td>3193.054604</td>\n",
       "      <td>ALB</td>\n",
       "      <td>8</td>\n",
       "    </tr>\n",
       "    <tr>\n",
       "      <th>1</th>\n",
       "      <td>albania</td>\n",
       "      <td>europe</td>\n",
       "      <td>2002</td>\n",
       "      <td>3.028127e+08</td>\n",
       "      <td>Europe</td>\n",
       "      <td>75.651</td>\n",
       "      <td>3508512</td>\n",
       "      <td>4604.211737</td>\n",
       "      <td>ALB</td>\n",
       "      <td>8</td>\n",
       "    </tr>\n",
       "    <tr>\n",
       "      <th>2</th>\n",
       "      <td>albania</td>\n",
       "      <td>europe</td>\n",
       "      <td>2007</td>\n",
       "      <td>3.583407e+08</td>\n",
       "      <td>Europe</td>\n",
       "      <td>76.423</td>\n",
       "      <td>3600523</td>\n",
       "      <td>5937.029526</td>\n",
       "      <td>ALB</td>\n",
       "      <td>8</td>\n",
       "    </tr>\n",
       "    <tr>\n",
       "      <th>3</th>\n",
       "      <td>algeria</td>\n",
       "      <td>africa</td>\n",
       "      <td>1987</td>\n",
       "      <td>2.214205e+08</td>\n",
       "      <td>Africa</td>\n",
       "      <td>65.799</td>\n",
       "      <td>23254956</td>\n",
       "      <td>5681.358539</td>\n",
       "      <td>DZA</td>\n",
       "      <td>12</td>\n",
       "    </tr>\n",
       "    <tr>\n",
       "      <th>4</th>\n",
       "      <td>algeria</td>\n",
       "      <td>africa</td>\n",
       "      <td>1992</td>\n",
       "      <td>4.667653e+08</td>\n",
       "      <td>Africa</td>\n",
       "      <td>67.744</td>\n",
       "      <td>26298373</td>\n",
       "      <td>5023.216647</td>\n",
       "      <td>DZA</td>\n",
       "      <td>12</td>\n",
       "    </tr>\n",
       "    <tr>\n",
       "      <th>...</th>\n",
       "      <td>...</td>\n",
       "      <td>...</td>\n",
       "      <td>...</td>\n",
       "      <td>...</td>\n",
       "      <td>...</td>\n",
       "      <td>...</td>\n",
       "      <td>...</td>\n",
       "      <td>...</td>\n",
       "      <td>...</td>\n",
       "      <td>...</td>\n",
       "    </tr>\n",
       "    <tr>\n",
       "      <th>392</th>\n",
       "      <td>zambia</td>\n",
       "      <td>africa</td>\n",
       "      <td>2002</td>\n",
       "      <td>7.862133e+07</td>\n",
       "      <td>Africa</td>\n",
       "      <td>39.193</td>\n",
       "      <td>10595811</td>\n",
       "      <td>1071.613938</td>\n",
       "      <td>ZMB</td>\n",
       "      <td>894</td>\n",
       "    </tr>\n",
       "    <tr>\n",
       "      <th>393</th>\n",
       "      <td>zambia</td>\n",
       "      <td>africa</td>\n",
       "      <td>2007</td>\n",
       "      <td>4.976818e+07</td>\n",
       "      <td>Africa</td>\n",
       "      <td>42.384</td>\n",
       "      <td>11746035</td>\n",
       "      <td>1271.211593</td>\n",
       "      <td>ZMB</td>\n",
       "      <td>894</td>\n",
       "    </tr>\n",
       "    <tr>\n",
       "      <th>394</th>\n",
       "      <td>zimbabwe</td>\n",
       "      <td>africa</td>\n",
       "      <td>1992</td>\n",
       "      <td>1.767716e+08</td>\n",
       "      <td>Africa</td>\n",
       "      <td>60.377</td>\n",
       "      <td>10704340</td>\n",
       "      <td>693.420786</td>\n",
       "      <td>ZWE</td>\n",
       "      <td>716</td>\n",
       "    </tr>\n",
       "    <tr>\n",
       "      <th>395</th>\n",
       "      <td>zimbabwe</td>\n",
       "      <td>africa</td>\n",
       "      <td>1997</td>\n",
       "      <td>5.400112e+07</td>\n",
       "      <td>Africa</td>\n",
       "      <td>46.809</td>\n",
       "      <td>11404948</td>\n",
       "      <td>792.449960</td>\n",
       "      <td>ZWE</td>\n",
       "      <td>716</td>\n",
       "    </tr>\n",
       "    <tr>\n",
       "      <th>396</th>\n",
       "      <td>zimbabwe</td>\n",
       "      <td>africa</td>\n",
       "      <td>2002</td>\n",
       "      <td>1.706104e+08</td>\n",
       "      <td>Africa</td>\n",
       "      <td>39.989</td>\n",
       "      <td>11926563</td>\n",
       "      <td>672.038623</td>\n",
       "      <td>ZWE</td>\n",
       "      <td>716</td>\n",
       "    </tr>\n",
       "  </tbody>\n",
       "</table>\n",
       "<p>397 rows × 10 columns</p>\n",
       "</div>"
      ],
      "text/plain": [
       "    country_from continent_from  Year  kg_CO2eq_tonne-km continent  lifeExp  \\\n",
       "0        albania         europe  1997       6.200736e+07    Europe   72.950   \n",
       "1        albania         europe  2002       3.028127e+08    Europe   75.651   \n",
       "2        albania         europe  2007       3.583407e+08    Europe   76.423   \n",
       "3        algeria         africa  1987       2.214205e+08    Africa   65.799   \n",
       "4        algeria         africa  1992       4.667653e+08    Africa   67.744   \n",
       "..           ...            ...   ...                ...       ...      ...   \n",
       "392       zambia         africa  2002       7.862133e+07    Africa   39.193   \n",
       "393       zambia         africa  2007       4.976818e+07    Africa   42.384   \n",
       "394     zimbabwe         africa  1992       1.767716e+08    Africa   60.377   \n",
       "395     zimbabwe         africa  1997       5.400112e+07    Africa   46.809   \n",
       "396     zimbabwe         africa  2002       1.706104e+08    Africa   39.989   \n",
       "\n",
       "          pop    gdpPercap iso_alpha  iso_num  \n",
       "0     3428038  3193.054604       ALB        8  \n",
       "1     3508512  4604.211737       ALB        8  \n",
       "2     3600523  5937.029526       ALB        8  \n",
       "3    23254956  5681.358539       DZA       12  \n",
       "4    26298373  5023.216647       DZA       12  \n",
       "..        ...          ...       ...      ...  \n",
       "392  10595811  1071.613938       ZMB      894  \n",
       "393  11746035  1271.211593       ZMB      894  \n",
       "394  10704340   693.420786       ZWE      716  \n",
       "395  11404948   792.449960       ZWE      716  \n",
       "396  11926563   672.038623       ZWE      716  \n",
       "\n",
       "[397 rows x 10 columns]"
      ]
     },
     "execution_count": 24,
     "metadata": {},
     "output_type": "execute_result"
    }
   ],
   "source": [
    "co2_mx_merged"
   ]
  },
  {
   "cell_type": "code",
   "execution_count": 27,
   "metadata": {},
   "outputs": [
    {
     "data": {
      "application/vnd.plotly.v1+json": {
       "config": {
        "plotlyServerURL": "https://plot.ly"
       },
       "data": [
        {
         "hovertemplate": "<b>%{hovertext}</b><br><br>continent_from=africa<br>Year=1987<br>gdpPercap=%{x}<br>kg_CO2eq_tonne-km=%{y}<br>pop=%{marker.size}<extra></extra>",
         "hovertext": [
          "egypt",
          "ethiopia",
          "morocco",
          "guinea",
          "cameroon",
          "algeria",
          "kenya",
          "djibouti",
          "libya",
          "malawi",
          "tunisia"
         ],
         "ids": [
          "egypt",
          "ethiopia",
          "morocco",
          "guinea",
          "cameroon",
          "algeria",
          "kenya",
          "djibouti",
          "libya",
          "malawi",
          "tunisia"
         ],
         "legendgroup": "africa",
         "marker": {
          "color": "#636efa",
          "size": [
           52799062,
           42999530,
           22987397,
           5650262,
           10780667,
           23254956,
           21198082,
           311025,
           3799845,
           7824747,
           7724976
          ],
          "sizemode": "area",
          "sizeref": 366300.86,
          "symbol": "circle"
         },
         "mode": "markers",
         "name": "africa",
         "orientation": "v",
         "showlegend": true,
         "type": "scatter",
         "x": [
          3885.46071,
          573.7413142000001,
          2755.046991,
          805.5724717999999,
          2602.664206,
          5681.358539,
          1361.936856,
          2880.102568,
          11770.5898,
          635.5173633999998,
          3810.419296
         ],
         "xaxis": "x",
         "y": [
          690973301.2062325,
          51528942.965893,
          173050599.82973155,
          8562600.469461609,
          33521823.637909453,
          221420534.20248356,
          36469947.58582098,
          7952986.57326595,
          124242166.59461766,
          12895054.335572137,
          54895948.738785625
         ],
         "yaxis": "y"
        },
        {
         "hovertemplate": "<b>%{hovertext}</b><br><br>continent_from=north america<br>Year=1987<br>gdpPercap=%{x}<br>kg_CO2eq_tonne-km=%{y}<br>pop=%{marker.size}<extra></extra>",
         "hovertext": [
          "mexico",
          "honduras",
          "guatemala",
          "costa rica",
          "panama",
          "canada",
          "cuba",
          "trinidad and tobago"
         ],
         "ids": [
          "mexico",
          "honduras",
          "guatemala",
          "costa rica",
          "panama",
          "canada",
          "cuba",
          "trinidad and tobago"
         ],
         "legendgroup": "north america",
         "marker": {
          "color": "#EF553B",
          "size": [
           80122492,
           4372203,
           7326406,
           2799811,
           2253639,
           26549700,
           10239839,
           1191336
          ],
          "sizemode": "area",
          "sizeref": 366300.86,
          "symbol": "circle"
         },
         "mode": "markers",
         "name": "north america",
         "orientation": "v",
         "showlegend": true,
         "type": "scatter",
         "x": [
          8688.156003,
          3023.096699,
          4246.485974,
          5629.915318,
          7034.779161,
          26626.51503,
          7532.924762999999,
          7388.597823
         ],
         "xaxis": "x",
         "y": [
          4566192460.518372,
          103907180.75525811,
          192514302.36087808,
          179044802.17370743,
          118931249.53215483,
          3885744832.4368606,
          1835903.9381395362,
          83494179.24720572
         ],
         "yaxis": "y"
        },
        {
         "hovertemplate": "<b>%{hovertext}</b><br><br>continent_from=south america<br>Year=1987<br>gdpPercap=%{x}<br>kg_CO2eq_tonne-km=%{y}<br>pop=%{marker.size}<extra></extra>",
         "hovertext": [
          "brazil",
          "paraguay",
          "colombia",
          "chile",
          "venezuela",
          "argentina",
          "uruguay",
          "ecuador",
          "peru"
         ],
         "ids": [
          "brazil",
          "paraguay",
          "colombia",
          "chile",
          "venezuela",
          "argentina",
          "uruguay",
          "ecuador",
          "peru"
         ],
         "legendgroup": "south america",
         "marker": {
          "color": "#00cc96",
          "size": [
           142938076,
           3886512,
           30964245,
           12463354,
           17910182,
           31620918,
           3045153,
           9545158,
           20195924
          ],
          "sizemode": "area",
          "sizeref": 366300.86,
          "symbol": "circle"
         },
         "mode": "markers",
         "name": "south america",
         "orientation": "v",
         "showlegend": true,
         "type": "scatter",
         "x": [
          7807.095818000002,
          3998.875695,
          4903.2191,
          5547.063754,
          9883.584648,
          9139.671389,
          7452.398969,
          6481.776993,
          6360.943444
         ],
         "xaxis": "x",
         "y": [
          1367735576.6729956,
          8428139.820289409,
          141797608.263742,
          177817065.1858859,
          476431235.99411434,
          244098030.74017733,
          74621856.22179118,
          25119551.815533586,
          576201122.5641656
         ],
         "yaxis": "y"
        },
        {
         "hovertemplate": "<b>%{hovertext}</b><br><br>continent_from=asia<br>Year=1987<br>gdpPercap=%{x}<br>kg_CO2eq_tonne-km=%{y}<br>pop=%{marker.size}<extra></extra>",
         "hovertext": [
          "thailand",
          "taiwan",
          "syria",
          "philippines",
          "oman",
          "china",
          "saudi arabia",
          "sri lanka",
          "japan",
          "israel",
          "jordan",
          "indonesia",
          "malaysia",
          "india",
          "turkey"
         ],
         "ids": [
          "thailand",
          "taiwan",
          "syria",
          "philippines",
          "oman",
          "china",
          "saudi arabia",
          "sri lanka",
          "japan",
          "israel",
          "jordan",
          "indonesia",
          "malaysia",
          "india",
          "turkey"
         ],
         "legendgroup": "asia",
         "marker": {
          "color": "#ab63fa",
          "size": [
           52910342,
           19757799,
           11242847,
           60017788,
           1593882,
           1084035000,
           14619745,
           16495304,
           122091325,
           4203148,
           2820042,
           169276000,
           16331785,
           788000000,
           52881328
          ],
          "sizemode": "area",
          "sizeref": 366300.86,
          "symbol": "circle"
         },
         "mode": "markers",
         "name": "asia",
         "orientation": "v",
         "showlegend": true,
         "type": "scatter",
         "x": [
          2982.653773,
          11054.56175,
          3116.774285,
          2189.634995,
          18115.22313,
          1378.904018,
          21198.26136,
          1876.766827,
          22375.94189,
          17122.47986,
          4448.679912,
          1748.356961,
          5249.802653,
          976.5126756,
          5089.043686
         ],
         "xaxis": "x",
         "y": [
          320222160.33541065,
          1614087368.8207686,
          236438082.9360989,
          226184952.6712347,
          145797462.43389928,
          7175728035.908899,
          3051368774.049443,
          95457266.70761925,
          12876684549.07515,
          257572520.90514112,
          305481222.1650135,
          304440848.4076214,
          1777775896.0830286,
          1494103130.7786381,
          282590608.11489403
         ],
         "yaxis": "y"
        },
        {
         "hovertemplate": "<b>%{hovertext}</b><br><br>continent_from=europe<br>Year=1987<br>gdpPercap=%{x}<br>kg_CO2eq_tonne-km=%{y}<br>pop=%{marker.size}<extra></extra>",
         "hovertext": [
          "bulgaria",
          "switzerland",
          "netherlands",
          "finland",
          "spain",
          "norway",
          "france",
          "greece",
          "sweden",
          "hungary",
          "ireland",
          "poland",
          "austria",
          "italy",
          "belgium",
          "portugal",
          "iceland",
          "united kingdom",
          "denmark"
         ],
         "ids": [
          "bulgaria",
          "switzerland",
          "netherlands",
          "finland",
          "spain",
          "norway",
          "france",
          "greece",
          "sweden",
          "hungary",
          "ireland",
          "poland",
          "austria",
          "italy",
          "belgium",
          "portugal",
          "iceland",
          "united kingdom",
          "denmark"
         ],
         "legendgroup": "europe",
         "marker": {
          "color": "#FFA15A",
          "size": [
           8971958,
           6649942,
           14665278,
           4931729,
           38880702,
           4186147,
           55630100,
           9974490,
           8421403,
           10612740,
           3539900,
           37740710,
           7578903,
           56729703,
           9870200,
           9915289,
           244676,
           56981620,
           5127024
          ],
          "sizemode": "area",
          "sizeref": 366300.86,
          "symbol": "circle"
         },
         "mode": "markers",
         "name": "europe",
         "orientation": "v",
         "showlegend": true,
         "type": "scatter",
         "x": [
          8239.854824,
          30281.70459,
          23651.32361,
          21141.01223,
          15764.98313,
          31540.9748,
          22066.44214,
          16120.52839,
          23586.92927,
          12986.47998,
          13872.86652,
          9082.351172,
          23687.82607,
          19207.23482,
          22525.56308,
          13039.30876,
          26923.20628,
          21664.78767,
          25116.17581
         ],
         "xaxis": "x",
         "y": [
          623944782.7872318,
          1281929793.142974,
          6764746539.356868,
          1328477448.1054797,
          1342358628.4904528,
          982098922.2869328,
          5722624502.574258,
          856525852.8127782,
          2339120471.934613,
          444958832.3971582,
          428221397.053799,
          1132519151.0465117,
          1676384313.4543679,
          6836029996.024713,
          3116912596.1466703,
          896931906.53023,
          37090496.45428324,
          4508912132.262415,
          1042429686.972025
         ],
         "yaxis": "y"
        },
        {
         "hovertemplate": "<b>%{hovertext}</b><br><br>continent_from=oceania<br>Year=1987<br>gdpPercap=%{x}<br>kg_CO2eq_tonne-km=%{y}<br>pop=%{marker.size}<extra></extra>",
         "hovertext": [
          "new zealand",
          "australia"
         ],
         "ids": [
          "new zealand",
          "australia"
         ],
         "legendgroup": "oceania",
         "marker": {
          "color": "#19d3f3",
          "size": [
           3317166,
           16257249
          ],
          "sizemode": "area",
          "sizeref": 366300.86,
          "symbol": "circle"
         },
         "mode": "markers",
         "name": "oceania",
         "orientation": "v",
         "showlegend": true,
         "type": "scatter",
         "x": [
          19007.19129,
          21888.88903
         ],
         "xaxis": "x",
         "y": [
          735267338.0360278,
          441559180.7329204
         ],
         "yaxis": "y"
        }
       ],
       "frames": [
        {
         "data": [
          {
           "hovertemplate": "<b>%{hovertext}</b><br><br>continent_from=africa<br>Year=1987<br>gdpPercap=%{x}<br>kg_CO2eq_tonne-km=%{y}<br>pop=%{marker.size}<extra></extra>",
           "hovertext": [
            "egypt",
            "ethiopia",
            "morocco",
            "guinea",
            "cameroon",
            "algeria",
            "kenya",
            "djibouti",
            "libya",
            "malawi",
            "tunisia"
           ],
           "ids": [
            "egypt",
            "ethiopia",
            "morocco",
            "guinea",
            "cameroon",
            "algeria",
            "kenya",
            "djibouti",
            "libya",
            "malawi",
            "tunisia"
           ],
           "legendgroup": "africa",
           "marker": {
            "color": "#636efa",
            "size": [
             52799062,
             42999530,
             22987397,
             5650262,
             10780667,
             23254956,
             21198082,
             311025,
             3799845,
             7824747,
             7724976
            ],
            "sizemode": "area",
            "sizeref": 366300.86,
            "symbol": "circle"
           },
           "mode": "markers",
           "name": "africa",
           "orientation": "v",
           "showlegend": true,
           "type": "scatter",
           "x": [
            3885.46071,
            573.7413142000001,
            2755.046991,
            805.5724717999999,
            2602.664206,
            5681.358539,
            1361.936856,
            2880.102568,
            11770.5898,
            635.5173633999998,
            3810.419296
           ],
           "xaxis": "x",
           "y": [
            690973301.2062325,
            51528942.965893,
            173050599.82973155,
            8562600.469461609,
            33521823.637909453,
            221420534.20248356,
            36469947.58582098,
            7952986.57326595,
            124242166.59461766,
            12895054.335572137,
            54895948.738785625
           ],
           "yaxis": "y"
          },
          {
           "hovertemplate": "<b>%{hovertext}</b><br><br>continent_from=north america<br>Year=1987<br>gdpPercap=%{x}<br>kg_CO2eq_tonne-km=%{y}<br>pop=%{marker.size}<extra></extra>",
           "hovertext": [
            "mexico",
            "honduras",
            "guatemala",
            "costa rica",
            "panama",
            "canada",
            "cuba",
            "trinidad and tobago"
           ],
           "ids": [
            "mexico",
            "honduras",
            "guatemala",
            "costa rica",
            "panama",
            "canada",
            "cuba",
            "trinidad and tobago"
           ],
           "legendgroup": "north america",
           "marker": {
            "color": "#EF553B",
            "size": [
             80122492,
             4372203,
             7326406,
             2799811,
             2253639,
             26549700,
             10239839,
             1191336
            ],
            "sizemode": "area",
            "sizeref": 366300.86,
            "symbol": "circle"
           },
           "mode": "markers",
           "name": "north america",
           "orientation": "v",
           "showlegend": true,
           "type": "scatter",
           "x": [
            8688.156003,
            3023.096699,
            4246.485974,
            5629.915318,
            7034.779161,
            26626.51503,
            7532.924762999999,
            7388.597823
           ],
           "xaxis": "x",
           "y": [
            4566192460.518372,
            103907180.75525811,
            192514302.36087808,
            179044802.17370743,
            118931249.53215483,
            3885744832.4368606,
            1835903.9381395362,
            83494179.24720572
           ],
           "yaxis": "y"
          },
          {
           "hovertemplate": "<b>%{hovertext}</b><br><br>continent_from=south america<br>Year=1987<br>gdpPercap=%{x}<br>kg_CO2eq_tonne-km=%{y}<br>pop=%{marker.size}<extra></extra>",
           "hovertext": [
            "brazil",
            "paraguay",
            "colombia",
            "chile",
            "venezuela",
            "argentina",
            "uruguay",
            "ecuador",
            "peru"
           ],
           "ids": [
            "brazil",
            "paraguay",
            "colombia",
            "chile",
            "venezuela",
            "argentina",
            "uruguay",
            "ecuador",
            "peru"
           ],
           "legendgroup": "south america",
           "marker": {
            "color": "#00cc96",
            "size": [
             142938076,
             3886512,
             30964245,
             12463354,
             17910182,
             31620918,
             3045153,
             9545158,
             20195924
            ],
            "sizemode": "area",
            "sizeref": 366300.86,
            "symbol": "circle"
           },
           "mode": "markers",
           "name": "south america",
           "orientation": "v",
           "showlegend": true,
           "type": "scatter",
           "x": [
            7807.095818000002,
            3998.875695,
            4903.2191,
            5547.063754,
            9883.584648,
            9139.671389,
            7452.398969,
            6481.776993,
            6360.943444
           ],
           "xaxis": "x",
           "y": [
            1367735576.6729956,
            8428139.820289409,
            141797608.263742,
            177817065.1858859,
            476431235.99411434,
            244098030.74017733,
            74621856.22179118,
            25119551.815533586,
            576201122.5641656
           ],
           "yaxis": "y"
          },
          {
           "hovertemplate": "<b>%{hovertext}</b><br><br>continent_from=asia<br>Year=1987<br>gdpPercap=%{x}<br>kg_CO2eq_tonne-km=%{y}<br>pop=%{marker.size}<extra></extra>",
           "hovertext": [
            "thailand",
            "taiwan",
            "syria",
            "philippines",
            "oman",
            "china",
            "saudi arabia",
            "sri lanka",
            "japan",
            "israel",
            "jordan",
            "indonesia",
            "malaysia",
            "india",
            "turkey"
           ],
           "ids": [
            "thailand",
            "taiwan",
            "syria",
            "philippines",
            "oman",
            "china",
            "saudi arabia",
            "sri lanka",
            "japan",
            "israel",
            "jordan",
            "indonesia",
            "malaysia",
            "india",
            "turkey"
           ],
           "legendgroup": "asia",
           "marker": {
            "color": "#ab63fa",
            "size": [
             52910342,
             19757799,
             11242847,
             60017788,
             1593882,
             1084035000,
             14619745,
             16495304,
             122091325,
             4203148,
             2820042,
             169276000,
             16331785,
             788000000,
             52881328
            ],
            "sizemode": "area",
            "sizeref": 366300.86,
            "symbol": "circle"
           },
           "mode": "markers",
           "name": "asia",
           "orientation": "v",
           "showlegend": true,
           "type": "scatter",
           "x": [
            2982.653773,
            11054.56175,
            3116.774285,
            2189.634995,
            18115.22313,
            1378.904018,
            21198.26136,
            1876.766827,
            22375.94189,
            17122.47986,
            4448.679912,
            1748.356961,
            5249.802653,
            976.5126756,
            5089.043686
           ],
           "xaxis": "x",
           "y": [
            320222160.33541065,
            1614087368.8207686,
            236438082.9360989,
            226184952.6712347,
            145797462.43389928,
            7175728035.908899,
            3051368774.049443,
            95457266.70761925,
            12876684549.07515,
            257572520.90514112,
            305481222.1650135,
            304440848.4076214,
            1777775896.0830286,
            1494103130.7786381,
            282590608.11489403
           ],
           "yaxis": "y"
          },
          {
           "hovertemplate": "<b>%{hovertext}</b><br><br>continent_from=europe<br>Year=1987<br>gdpPercap=%{x}<br>kg_CO2eq_tonne-km=%{y}<br>pop=%{marker.size}<extra></extra>",
           "hovertext": [
            "bulgaria",
            "switzerland",
            "netherlands",
            "finland",
            "spain",
            "norway",
            "france",
            "greece",
            "sweden",
            "hungary",
            "ireland",
            "poland",
            "austria",
            "italy",
            "belgium",
            "portugal",
            "iceland",
            "united kingdom",
            "denmark"
           ],
           "ids": [
            "bulgaria",
            "switzerland",
            "netherlands",
            "finland",
            "spain",
            "norway",
            "france",
            "greece",
            "sweden",
            "hungary",
            "ireland",
            "poland",
            "austria",
            "italy",
            "belgium",
            "portugal",
            "iceland",
            "united kingdom",
            "denmark"
           ],
           "legendgroup": "europe",
           "marker": {
            "color": "#FFA15A",
            "size": [
             8971958,
             6649942,
             14665278,
             4931729,
             38880702,
             4186147,
             55630100,
             9974490,
             8421403,
             10612740,
             3539900,
             37740710,
             7578903,
             56729703,
             9870200,
             9915289,
             244676,
             56981620,
             5127024
            ],
            "sizemode": "area",
            "sizeref": 366300.86,
            "symbol": "circle"
           },
           "mode": "markers",
           "name": "europe",
           "orientation": "v",
           "showlegend": true,
           "type": "scatter",
           "x": [
            8239.854824,
            30281.70459,
            23651.32361,
            21141.01223,
            15764.98313,
            31540.9748,
            22066.44214,
            16120.52839,
            23586.92927,
            12986.47998,
            13872.86652,
            9082.351172,
            23687.82607,
            19207.23482,
            22525.56308,
            13039.30876,
            26923.20628,
            21664.78767,
            25116.17581
           ],
           "xaxis": "x",
           "y": [
            623944782.7872318,
            1281929793.142974,
            6764746539.356868,
            1328477448.1054797,
            1342358628.4904528,
            982098922.2869328,
            5722624502.574258,
            856525852.8127782,
            2339120471.934613,
            444958832.3971582,
            428221397.053799,
            1132519151.0465117,
            1676384313.4543679,
            6836029996.024713,
            3116912596.1466703,
            896931906.53023,
            37090496.45428324,
            4508912132.262415,
            1042429686.972025
           ],
           "yaxis": "y"
          },
          {
           "hovertemplate": "<b>%{hovertext}</b><br><br>continent_from=oceania<br>Year=1987<br>gdpPercap=%{x}<br>kg_CO2eq_tonne-km=%{y}<br>pop=%{marker.size}<extra></extra>",
           "hovertext": [
            "new zealand",
            "australia"
           ],
           "ids": [
            "new zealand",
            "australia"
           ],
           "legendgroup": "oceania",
           "marker": {
            "color": "#19d3f3",
            "size": [
             3317166,
             16257249
            ],
            "sizemode": "area",
            "sizeref": 366300.86,
            "symbol": "circle"
           },
           "mode": "markers",
           "name": "oceania",
           "orientation": "v",
           "showlegend": true,
           "type": "scatter",
           "x": [
            19007.19129,
            21888.88903
           ],
           "xaxis": "x",
           "y": [
            735267338.0360278,
            441559180.7329204
           ],
           "yaxis": "y"
          }
         ],
         "name": "1987"
        },
        {
         "data": [
          {
           "hovertemplate": "<b>%{hovertext}</b><br><br>continent_from=africa<br>Year=1992<br>gdpPercap=%{x}<br>kg_CO2eq_tonne-km=%{y}<br>pop=%{marker.size}<extra></extra>",
           "hovertext": [
            "egypt",
            "ethiopia",
            "kenya",
            "madagascar",
            "malawi",
            "guinea",
            "morocco",
            "tunisia",
            "benin",
            "botswana",
            "senegal",
            "algeria",
            "south africa",
            "zimbabwe"
           ],
           "ids": [
            "egypt",
            "ethiopia",
            "kenya",
            "madagascar",
            "malawi",
            "guinea",
            "morocco",
            "tunisia",
            "benin",
            "botswana",
            "senegal",
            "algeria",
            "south africa",
            "zimbabwe"
           ],
           "legendgroup": "africa",
           "marker": {
            "color": "#636efa",
            "size": [
             59402198,
             52088559,
             25020539,
             12210395,
             10014249,
             6990574,
             25798239,
             8523077,
             4981671,
             1342614,
             8307920,
             26298373,
             39964159,
             10704340
            ],
            "sizemode": "area",
            "sizeref": 366300.86,
            "symbol": "circle"
           },
           "mode": "markers",
           "name": "africa",
           "orientation": "v",
           "showlegend": true,
           "type": "scatter",
           "x": [
            3794.755195,
            421.3534653,
            1341.9217210000004,
            1040.67619,
            563.2000145,
            794.3484384,
            2948.047252,
            4332.720164,
            1191.207681,
            7954.111645,
            1367.899369,
            5023.216647,
            7225.069257999998,
            693.4207856
           ],
           "xaxis": "x",
           "y": [
            934962134.8324282,
            23081981.418036956,
            97482325.26943716,
            13579341.543151138,
            62918103.2889501,
            10629289.837583214,
            215140853.83391032,
            181886111.31486547,
            42427611.319661476,
            33532509.280811418,
            73722891.64311415,
            466765318.5517447,
            724664895.5671633,
            176771559.16891456
           ],
           "yaxis": "y"
          },
          {
           "hovertemplate": "<b>%{hovertext}</b><br><br>continent_from=north america<br>Year=1992<br>gdpPercap=%{x}<br>kg_CO2eq_tonne-km=%{y}<br>pop=%{marker.size}<extra></extra>",
           "hovertext": [
            "panama",
            "el salvador",
            "mexico",
            "honduras",
            "nicaragua",
            "canada",
            "trinidad and tobago",
            "costa rica"
           ],
           "ids": [
            "panama",
            "el salvador",
            "mexico",
            "honduras",
            "nicaragua",
            "canada",
            "trinidad and tobago",
            "costa rica"
           ],
           "legendgroup": "north america",
           "marker": {
            "color": "#EF553B",
            "size": [
             2484997,
             5274649,
             88111030,
             5077347,
             4017939,
             28523502,
             1183669,
             3173216
            ],
            "sizemode": "area",
            "sizeref": 366300.86,
            "symbol": "circle"
           },
           "mode": "markers",
           "name": "north america",
           "orientation": "v",
           "showlegend": true,
           "type": "scatter",
           "x": [
            6618.74305,
            4444.2317,
            9472.384295,
            3081.694603,
            2170.151724,
            26342.88426,
            7370.990932,
            6160.416317
           ],
           "xaxis": "x",
           "y": [
            255689469.94212297,
            226730775.92979333,
            9292405933.24542,
            74333015.75816931,
            145688004.62483808,
            4721678304.740463,
            57944598.68921198,
            266639597.4501038
           ],
           "yaxis": "y"
          },
          {
           "hovertemplate": "<b>%{hovertext}</b><br><br>continent_from=south america<br>Year=1992<br>gdpPercap=%{x}<br>kg_CO2eq_tonne-km=%{y}<br>pop=%{marker.size}<extra></extra>",
           "hovertext": [
            "paraguay",
            "peru",
            "chile",
            "brazil",
            "colombia",
            "uruguay",
            "venezuela",
            "ecuador",
            "argentina"
           ],
           "ids": [
            "paraguay",
            "peru",
            "chile",
            "brazil",
            "colombia",
            "uruguay",
            "venezuela",
            "ecuador",
            "argentina"
           ],
           "legendgroup": "south america",
           "marker": {
            "color": "#00cc96",
            "size": [
             4483945,
             22430449,
             13572994,
             155975974,
             34202721,
             3149262,
             20265563,
             10748394,
             33958947
            ],
            "sizemode": "area",
            "sizeref": 366300.86,
            "symbol": "circle"
           },
           "mode": "markers",
           "name": "south america",
           "orientation": "v",
           "showlegend": true,
           "type": "scatter",
           "x": [
            4196.411078,
            4446.380924,
            7596.125964,
            6950.283020999998,
            5444.648617,
            8137.004775,
            10733.92631,
            7103.702595000002,
            9308.41871
           ],
           "xaxis": "x",
           "y": [
            50004779.809188046,
            537932217.7193679,
            469361048.6161453,
            2935507962.479108,
            531163390.407764,
            118540465.14271325,
            924006020.4649988,
            80080837.15853421,
            642176701.8167722
           ],
           "yaxis": "y"
          },
          {
           "hovertemplate": "<b>%{hovertext}</b><br><br>continent_from=asia<br>Year=1992<br>gdpPercap=%{x}<br>kg_CO2eq_tonne-km=%{y}<br>pop=%{marker.size}<extra></extra>",
           "hovertext": [
            "oman",
            "japan",
            "jordan",
            "kuwait",
            "indonesia",
            "india",
            "malaysia",
            "pakistan",
            "syria",
            "china",
            "sri lanka",
            "turkey",
            "philippines",
            "taiwan",
            "thailand"
           ],
           "ids": [
            "oman",
            "japan",
            "jordan",
            "kuwait",
            "indonesia",
            "india",
            "malaysia",
            "pakistan",
            "syria",
            "china",
            "sri lanka",
            "turkey",
            "philippines",
            "taiwan",
            "thailand"
           ],
           "legendgroup": "asia",
           "marker": {
            "color": "#ab63fa",
            "size": [
             1915208,
             124329269,
             3867409,
             1418095,
             184816000,
             872000000,
             18319502,
             120065004,
             13219062,
             1164970000,
             17587060,
             58179144,
             67185766,
             20686918,
             56667095
            ],
            "sizemode": "area",
            "sizeref": 366300.86,
            "symbol": "circle"
           },
           "mode": "markers",
           "name": "asia",
           "orientation": "v",
           "showlegend": true,
           "type": "scatter",
           "x": [
            18616.70691,
            26824.89511,
            3431.593647,
            34932.91959,
            2383.140898,
            1164.406809,
            7277.912802,
            1971.829464,
            3340.542768,
            1655.784158,
            2153.739222,
            5678.348271,
            2279.324017000001,
            15215.6579,
            4616.896545000001
           ],
           "xaxis": "x",
           "y": [
            197259562.027249,
            15430880119.187355,
            595323906.5583673,
            664267959.7347387,
            646256995.3270217,
            495204116.37565696,
            3675331891.4520636,
            1554155644.217815,
            282656684.62366956,
            6820887320.120253,
            113788859.12138954,
            2138065710.0484488,
            595217404.410488,
            2084601295.0784984,
            1145175950.632106
           ],
           "yaxis": "y"
          },
          {
           "hovertemplate": "<b>%{hovertext}</b><br><br>continent_from=europe<br>Year=1992<br>gdpPercap=%{x}<br>kg_CO2eq_tonne-km=%{y}<br>pop=%{marker.size}<extra></extra>",
           "hovertext": [
            "finland",
            "france",
            "poland",
            "ireland",
            "iceland",
            "hungary",
            "netherlands",
            "greece",
            "germany",
            "norway",
            "italy",
            "united kingdom",
            "austria",
            "sweden",
            "switzerland",
            "spain",
            "bulgaria",
            "belgium",
            "croatia",
            "portugal",
            "romania",
            "slovenia",
            "denmark"
           ],
           "ids": [
            "finland",
            "france",
            "poland",
            "ireland",
            "iceland",
            "hungary",
            "netherlands",
            "greece",
            "germany",
            "norway",
            "italy",
            "united kingdom",
            "austria",
            "sweden",
            "switzerland",
            "spain",
            "bulgaria",
            "belgium",
            "croatia",
            "portugal",
            "romania",
            "slovenia",
            "denmark"
           ],
           "legendgroup": "europe",
           "marker": {
            "color": "#FFA15A",
            "size": [
             5041039,
             57374179,
             38370697,
             3557761,
             259012,
             10348684,
             15174244,
             10325429,
             80597764,
             4286357,
             56840847,
             57866349,
             7914969,
             8718867,
             6995447,
             39549438,
             8658506,
             10045622,
             4494013,
             9927680,
             22797027,
             1999210,
             5171393
            ],
            "sizemode": "area",
            "sizeref": 366300.86,
            "symbol": "circle"
           },
           "mode": "markers",
           "name": "europe",
           "orientation": "v",
           "showlegend": true,
           "type": "scatter",
           "x": [
            20647.16499,
            24703.79615,
            7738.881247,
            17558.81555,
            25144.39201,
            10535.62855,
            26790.94961,
            17541.49634,
            26505.30317,
            33965.66115,
            22013.64486,
            22705.09254,
            27042.01868,
            23880.01683,
            31871.5303,
            18603.06452,
            6302.623438000001,
            25575.57069,
            8447.794873,
            16207.266630000002,
            6598.409903,
            14214.71681,
            26406.73985
           ],
           "xaxis": "x",
           "y": [
            1634465843.1716204,
            6508820926.694926,
            3105973524.3146358,
            577986151.1024002,
            48176254.80797647,
            1045874489.6107935,
            8490378471.309538,
            1376405347.9903128,
            24859460044.472324,
            1196450965.751372,
            14368222866.291521,
            6503867059.8086195,
            2558214634.3149705,
            2959755420.582161,
            1495171343.885994,
            2638406698.3290405,
            250426599.67298353,
            6193603080.580593,
            415686658.77686584,
            2184109468.7782197,
            796338013.4616011,
            335448586.06613785,
            1373409649.3530056
           ],
           "yaxis": "y"
          },
          {
           "hovertemplate": "<b>%{hovertext}</b><br><br>continent_from=oceania<br>Year=1992<br>gdpPercap=%{x}<br>kg_CO2eq_tonne-km=%{y}<br>pop=%{marker.size}<extra></extra>",
           "hovertext": [
            "new zealand",
            "australia"
           ],
           "ids": [
            "new zealand",
            "australia"
           ],
           "legendgroup": "oceania",
           "marker": {
            "color": "#19d3f3",
            "size": [
             3437674,
             17481977
            ],
            "sizemode": "area",
            "sizeref": 366300.86,
            "symbol": "circle"
           },
           "mode": "markers",
           "name": "oceania",
           "orientation": "v",
           "showlegend": true,
           "type": "scatter",
           "x": [
            18363.32494,
            23424.76683
           ],
           "xaxis": "x",
           "y": [
            970798705.9651212,
            480674280.056988
           ],
           "yaxis": "y"
          }
         ],
         "name": "1992"
        },
        {
         "data": [
          {
           "hovertemplate": "<b>%{hovertext}</b><br><br>continent_from=africa<br>Year=1997<br>gdpPercap=%{x}<br>kg_CO2eq_tonne-km=%{y}<br>pop=%{marker.size}<extra></extra>",
           "hovertext": [
            "tunisia",
            "zambia",
            "uganda",
            "zimbabwe",
            "malawi",
            "kenya",
            "rwanda",
            "senegal",
            "south africa",
            "sudan",
            "namibia",
            "morocco",
            "tanzania",
            "togo",
            "burkina faso",
            "benin",
            "cameroon",
            "gabon",
            "algeria",
            "guinea"
           ],
           "ids": [
            "tunisia",
            "zambia",
            "uganda",
            "zimbabwe",
            "malawi",
            "kenya",
            "rwanda",
            "senegal",
            "south africa",
            "sudan",
            "namibia",
            "morocco",
            "tanzania",
            "togo",
            "burkina faso",
            "benin",
            "cameroon",
            "gabon",
            "algeria",
            "guinea"
           ],
           "legendgroup": "africa",
           "marker": {
            "color": "#636efa",
            "size": [
             9231669,
             9417789,
             21210254,
             11404948,
             10419991,
             28263827,
             7212583,
             9535314,
             42835005,
             32160729,
             1774766,
             28529501,
             30686889,
             4320890,
             10352843,
             6066080,
             14195809,
             1126189,
             29072015,
             8048834
            ],
            "sizemode": "area",
            "sizeref": 366300.86,
            "symbol": "circle"
           },
           "mode": "markers",
           "name": "africa",
           "orientation": "v",
           "showlegend": true,
           "type": "scatter",
           "x": [
            4876.798614,
            1071.353818,
            816.559081,
            792.4499602999998,
            692.2758102999999,
            1360.4850210000004,
            589.9445051,
            1392.368347,
            7479.188244,
            1632.2107640000004,
            3899.52426,
            2982.101858,
            789.1862231,
            982.2869243,
            946.2949618,
            1232.975292,
            1694.337469,
            14722.841880000002,
            4797.295051,
            869.4497667999998
           ],
           "xaxis": "x",
           "y": [
            373651979.6982459,
            17666604.527634826,
            78715995.93651298,
            54001115.247540906,
            10092247.132862898,
            612794697.0225788,
            9655629.814769013,
            89491408.14214157,
            455623305.9065062,
            67202519.59598842,
            131611355.5467156,
            365802911.4882468,
            73698552.86109094,
            17697155.357046474,
            30431861.543332048,
            29671941.76084714,
            32476144.06586763,
            25625636.95301542,
            506569494.3158022,
            47742801.87134088
           ],
           "yaxis": "y"
          },
          {
           "hovertemplate": "<b>%{hovertext}</b><br><br>continent_from=north america<br>Year=1997<br>gdpPercap=%{x}<br>kg_CO2eq_tonne-km=%{y}<br>pop=%{marker.size}<extra></extra>",
           "hovertext": [
            "trinidad and tobago",
            "panama",
            "nicaragua",
            "mexico",
            "honduras",
            "guatemala",
            "el salvador",
            "canada",
            "costa rica"
           ],
           "ids": [
            "trinidad and tobago",
            "panama",
            "nicaragua",
            "mexico",
            "honduras",
            "guatemala",
            "el salvador",
            "canada",
            "costa rica"
           ],
           "legendgroup": "north america",
           "marker": {
            "color": "#EF553B",
            "size": [
             1138101,
             2734531,
             4609572,
             95895146,
             5867957,
             9803875,
             5783439,
             30305843,
             3518107
            ],
            "sizemode": "area",
            "sizeref": 366300.86,
            "symbol": "circle"
           },
           "mode": "markers",
           "name": "north america",
           "orientation": "v",
           "showlegend": true,
           "type": "scatter",
           "x": [
            8792.573126000001,
            7113.692252,
            2253.023004,
            9767.29753,
            3160.454906,
            4684.313807,
            5154.825496,
            28954.92589,
            6677.045314
           ],
           "xaxis": "x",
           "y": [
            81899039.74553138,
            312712666.0307479,
            138089912.79141903,
            10604997270.237019,
            336443449.2549831,
            544548218.2905422,
            491385806.0247284,
            5967054091.935912,
            639880250.6935623
           ],
           "yaxis": "y"
          },
          {
           "hovertemplate": "<b>%{hovertext}</b><br><br>continent_from=south america<br>Year=1997<br>gdpPercap=%{x}<br>kg_CO2eq_tonne-km=%{y}<br>pop=%{marker.size}<extra></extra>",
           "hovertext": [
            "venezuela",
            "uruguay",
            "peru",
            "paraguay",
            "bolivia",
            "brazil",
            "chile",
            "argentina",
            "colombia",
            "ecuador"
           ],
           "ids": [
            "venezuela",
            "uruguay",
            "peru",
            "paraguay",
            "bolivia",
            "brazil",
            "chile",
            "argentina",
            "colombia",
            "ecuador"
           ],
           "legendgroup": "south america",
           "marker": {
            "color": "#00cc96",
            "size": [
             22374398,
             3262838,
             24748122,
             5154123,
             7693188,
             168546719,
             14599929,
             36203463,
             37657830,
             11911819
            ],
            "sizemode": "area",
            "sizeref": 366300.86,
            "symbol": "circle"
           },
           "mode": "markers",
           "name": "south america",
           "orientation": "v",
           "showlegend": true,
           "type": "scatter",
           "x": [
            10165.49518,
            9230.240708,
            5838.347657,
            4247.400261,
            3326.143191,
            7957.980823999998,
            10118.05318,
            10967.28195,
            6117.361746000001,
            7429.4558769999985
           ],
           "xaxis": "x",
           "y": [
            1141482640.133183,
            206452276.17174432,
            1086212980.8796277,
            72350435.79676196,
            87623388.82508734,
            5162238534.443384,
            946573107.7599932,
            1134553611.074202,
            1099667105.0693583,
            280530247.555243
           ],
           "yaxis": "y"
          },
          {
           "hovertemplate": "<b>%{hovertext}</b><br><br>continent_from=asia<br>Year=1997<br>gdpPercap=%{x}<br>kg_CO2eq_tonne-km=%{y}<br>pop=%{marker.size}<extra></extra>",
           "hovertext": [
            "turkey",
            "lebanon",
            "jordan",
            "japan",
            "thailand",
            "philippines",
            "pakistan",
            "oman",
            "sri lanka",
            "mongolia",
            "taiwan",
            "kuwait",
            "china",
            "india",
            "indonesia",
            "iran"
           ],
           "ids": [
            "turkey",
            "lebanon",
            "jordan",
            "japan",
            "thailand",
            "philippines",
            "pakistan",
            "oman",
            "sri lanka",
            "mongolia",
            "taiwan",
            "kuwait",
            "china",
            "india",
            "indonesia",
            "iran"
           ],
           "legendgroup": "asia",
           "marker": {
            "color": "#ab63fa",
            "size": [
             63047647,
             3430388,
             4526235,
             125956499,
             60216677,
             75012988,
             135564834,
             2283635,
             18698655,
             2494803,
             21628605,
             1765345,
             1230075000,
             959000000,
             199278000,
             63327987
            ],
            "sizemode": "area",
            "sizeref": 366300.86,
            "symbol": "circle"
           },
           "mode": "markers",
           "name": "asia",
           "orientation": "v",
           "showlegend": true,
           "type": "scatter",
           "x": [
            6601.429915,
            8754.96385,
            3645.379572,
            28816.58499,
            5852.625497,
            2536.534925,
            2049.3505210000008,
            19702.05581,
            2664.477257,
            1902.2521,
            20206.82098,
            40300.61996,
            2289.234136,
            1458.817442,
            3119.335603,
            8263.590301
           ],
           "xaxis": "x",
           "y": [
            2688292006.459028,
            257861460.2153978,
            744922231.7015823,
            17466832537.070705,
            967803022.2511826,
            1192633406.1714776,
            1216843048.923848,
            242007026.86032748,
            248980382.831345,
            51726866.08283855,
            2693338886.7020392,
            930329840.8135045,
            17860460595.44042,
            1457522522.6280355,
            1496335869.1093602,
            1337442792.7199569
           ],
           "yaxis": "y"
          },
          {
           "hovertemplate": "<b>%{hovertext}</b><br><br>continent_from=europe<br>Year=1997<br>gdpPercap=%{x}<br>kg_CO2eq_tonne-km=%{y}<br>pop=%{marker.size}<extra></extra>",
           "hovertext": [
            "united kingdom",
            "portugal",
            "slovenia",
            "norway",
            "spain",
            "netherlands",
            "sweden",
            "switzerland",
            "albania",
            "denmark",
            "finland",
            "iceland",
            "croatia",
            "hungary",
            "germany",
            "belgium",
            "italy",
            "greece",
            "france",
            "austria",
            "ireland"
           ],
           "ids": [
            "united kingdom",
            "portugal",
            "slovenia",
            "norway",
            "spain",
            "netherlands",
            "sweden",
            "switzerland",
            "albania",
            "denmark",
            "finland",
            "iceland",
            "croatia",
            "hungary",
            "germany",
            "belgium",
            "italy",
            "greece",
            "france",
            "austria",
            "ireland"
           ],
           "legendgroup": "europe",
           "marker": {
            "color": "#FFA15A",
            "size": [
             58808266,
             10156415,
             2011612,
             4405672,
             39855442,
             15604464,
             8897619,
             7193761,
             3428038,
             5283663,
             5134406,
             271192,
             4444595,
             10244684,
             82011073,
             10199787,
             57479469,
             10502372,
             58623428,
             8069876,
             3667233
            ],
            "sizemode": "area",
            "sizeref": 366300.86,
            "symbol": "circle"
           },
           "mode": "markers",
           "name": "europe",
           "orientation": "v",
           "showlegend": true,
           "type": "scatter",
           "x": [
            26074.53136,
            17641.03156,
            17161.10735,
            41283.16433,
            20445.29896,
            30246.13063,
            25266.59499,
            32135.323010000004,
            3193.054604,
            29804.34567,
            23723.9502,
            28061.099660000003,
            9875.604515,
            11712.7768,
            27788.88416,
            27561.19663,
            24675.02446,
            18747.69814,
            25889.78487,
            29095.920660000003,
            24521.94713
           ],
           "xaxis": "x",
           "y": [
            8372223761.661336,
            2354344008.6976123,
            504187901.1707329,
            1201763519.4617949,
            5521855903.958356,
            9390708842.40803,
            2481860794.8550854,
            1478258910.4893734,
            62007360.307917155,
            972672134.7661339,
            866846440.2079887,
            57749831.639174275,
            915259224.54106,
            947243989.2864496,
            16013917885.70185,
            14566764811.283728,
            9875417607.504755,
            1888616224.2052512,
            6862665898.178645,
            1032311824.9252809,
            418656430.05316985
           ],
           "yaxis": "y"
          },
          {
           "hovertemplate": "<b>%{hovertext}</b><br><br>continent_from=oceania<br>Year=1997<br>gdpPercap=%{x}<br>kg_CO2eq_tonne-km=%{y}<br>pop=%{marker.size}<extra></extra>",
           "hovertext": [
            "new zealand"
           ],
           "ids": [
            "new zealand"
           ],
           "legendgroup": "oceania",
           "marker": {
            "color": "#19d3f3",
            "size": [
             3676187
            ],
            "sizemode": "area",
            "sizeref": 366300.86,
            "symbol": "circle"
           },
           "mode": "markers",
           "name": "oceania",
           "orientation": "v",
           "showlegend": true,
           "type": "scatter",
           "x": [
            21050.41377
           ],
           "xaxis": "x",
           "y": [
            1258718319.9373906
           ],
           "yaxis": "y"
          }
         ],
         "name": "1997"
        },
        {
         "data": [
          {
           "hovertemplate": "<b>%{hovertext}</b><br><br>continent_from=africa<br>Year=2002<br>gdpPercap=%{x}<br>kg_CO2eq_tonne-km=%{y}<br>pop=%{marker.size}<extra></extra>",
           "hovertext": [
            "south africa",
            "sierra leone",
            "senegal",
            "rwanda",
            "egypt",
            "ethiopia",
            "zambia",
            "algeria",
            "uganda",
            "tunisia",
            "benin",
            "togo",
            "sudan",
            "cameroon",
            "burundi",
            "tanzania",
            "burkina faso",
            "zimbabwe",
            "kenya",
            "ghana",
            "niger",
            "namibia",
            "morocco",
            "guinea",
            "malawi",
            "mali",
            "madagascar",
            "nigeria",
            "gabon",
            "gambia"
           ],
           "ids": [
            "south africa",
            "sierra leone",
            "senegal",
            "rwanda",
            "egypt",
            "ethiopia",
            "zambia",
            "algeria",
            "uganda",
            "tunisia",
            "benin",
            "togo",
            "sudan",
            "cameroon",
            "burundi",
            "tanzania",
            "burkina faso",
            "zimbabwe",
            "kenya",
            "ghana",
            "niger",
            "namibia",
            "morocco",
            "guinea",
            "malawi",
            "mali",
            "madagascar",
            "nigeria",
            "gabon",
            "gambia"
           ],
           "legendgroup": "africa",
           "marker": {
            "color": "#636efa",
            "size": [
             44433622,
             5359092,
             10870037,
             7852401,
             73312559,
             67946797,
             10595811,
             31287142,
             24739869,
             9770575,
             7026113,
             4977378,
             37090298,
             15929988,
             7021078,
             34593779,
             12251209,
             11926563,
             31386842,
             20550751,
             11140655,
             1972153,
             31167783,
             8807818,
             11824495,
             10580176,
             16473477,
             119901274,
             1299304,
             1457766
            ],
            "sizemode": "area",
            "sizeref": 366300.86,
            "symbol": "circle"
           },
           "mode": "markers",
           "name": "africa",
           "orientation": "v",
           "showlegend": true,
           "type": "scatter",
           "x": [
            7710.946444,
            699.4897129999998,
            1519.635262,
            785.6537647999999,
            4754.604414,
            530.0535319,
            1071.6139380000004,
            5288.040382,
            927.7210018,
            5722.895654999998,
            1372.877931,
            886.2205765000001,
            1993.398314,
            1934.011449,
            446.4035126,
            899.0742111,
            1037.645221,
            672.0386227000001,
            1287.514732,
            1111.9845779999996,
            601.0745012,
            4072.324751,
            3258.495584,
            945.5835837,
            665.4231186000002,
            951.4097518,
            894.6370822,
            1615.286395,
            12521.71392,
            660.5855997
           ],
           "xaxis": "x",
           "y": [
            597450894.470777,
            79278306.77366665,
            187965215.32599533,
            10348917.787786596,
            1404601263.8426936,
            51843970.72537344,
            78621333.19024472,
            3142806521.4243016,
            51184981.628023215,
            516033130.577737,
            52728342.189128004,
            30729874.463981073,
            166032417.12094438,
            78857801.37069423,
            3802887.587758632,
            99557817.25033078,
            33880166.402432375,
            170610387.10606763,
            148975805.74547923,
            147940159.3409388,
            61852609.36567062,
            95456232.87076779,
            612889438.9012297,
            82243114.3122318,
            108666257.39407644,
            39442434.14625612,
            10534439.281507477,
            338249054.4959398,
            16608895.40946501,
            20539510.369600672
           ],
           "yaxis": "y"
          },
          {
           "hovertemplate": "<b>%{hovertext}</b><br><br>continent_from=north america<br>Year=2002<br>gdpPercap=%{x}<br>kg_CO2eq_tonne-km=%{y}<br>pop=%{marker.size}<extra></extra>",
           "hovertext": [
            "cuba",
            "el salvador",
            "costa rica",
            "trinidad and tobago",
            "canada",
            "panama",
            "nicaragua",
            "guatemala",
            "mexico",
            "honduras"
           ],
           "ids": [
            "cuba",
            "el salvador",
            "costa rica",
            "trinidad and tobago",
            "canada",
            "panama",
            "nicaragua",
            "guatemala",
            "mexico",
            "honduras"
           ],
           "legendgroup": "north america",
           "marker": {
            "color": "#EF553B",
            "size": [
             11226999,
             6353681,
             3834934,
             1101832,
             31902268,
             2990875,
             5146848,
             11178650,
             102479927,
             6677328
            ],
            "sizemode": "area",
            "sizeref": 366300.86,
            "symbol": "circle"
           },
           "mode": "markers",
           "name": "north america",
           "orientation": "v",
           "showlegend": true,
           "type": "scatter",
           "x": [
            6340.646683,
            5351.568665999999,
            7723.447195000002,
            11460.60023,
            33328.96507,
            7356.0319340000015,
            2474.548819,
            4858.347495,
            10742.44053,
            3099.72866
           ],
           "xaxis": "x",
           "y": [
            212201558.34980932,
            738849018.339669,
            838289729.9834818,
            110821019.61498456,
            8093657699.0013075,
            532095188.3738773,
            229215128.09474924,
            1149212004.1472745,
            19620905246.275005,
            482999611.8084273
           ],
           "yaxis": "y"
          },
          {
           "hovertemplate": "<b>%{hovertext}</b><br><br>continent_from=south america<br>Year=2002<br>gdpPercap=%{x}<br>kg_CO2eq_tonne-km=%{y}<br>pop=%{marker.size}<extra></extra>",
           "hovertext": [
            "colombia",
            "ecuador",
            "peru",
            "paraguay",
            "chile",
            "venezuela",
            "uruguay",
            "argentina",
            "bolivia",
            "brazil"
           ],
           "ids": [
            "colombia",
            "ecuador",
            "peru",
            "paraguay",
            "chile",
            "venezuela",
            "uruguay",
            "argentina",
            "bolivia",
            "brazil"
           ],
           "legendgroup": "south america",
           "marker": {
            "color": "#00cc96",
            "size": [
             41008227,
             12921234,
             26769436,
             5884491,
             15497046,
             24287670,
             3363085,
             38331121,
             8445134,
             179914212
            ],
            "sizemode": "area",
            "sizeref": 366300.86,
            "symbol": "circle"
           },
           "mode": "markers",
           "name": "south america",
           "orientation": "v",
           "showlegend": true,
           "type": "scatter",
           "x": [
            5755.259962,
            5773.044512,
            5909.020073,
            3783.674243,
            10778.78385,
            8605.047831,
            7727.002004000001,
            8797.640716,
            3413.26269,
            8131.212843000001
           ],
           "xaxis": "x",
           "y": [
            1307407969.4631865,
            490314056.540551,
            1508381845.7993324,
            84539914.26773103,
            1368507334.7235763,
            1045392457.051562,
            198667300.7874962,
            530790297.3140224,
            304327201.8970095,
            4818312489.9644575
           ],
           "yaxis": "y"
          },
          {
           "hovertemplate": "<b>%{hovertext}</b><br><br>continent_from=asia<br>Year=2002<br>gdpPercap=%{x}<br>kg_CO2eq_tonne-km=%{y}<br>pop=%{marker.size}<extra></extra>",
           "hovertext": [
            "china",
            "saudi arabia",
            "philippines",
            "turkey",
            "sri lanka",
            "cambodia",
            "syria",
            "taiwan",
            "thailand",
            "indonesia",
            "malaysia",
            "india",
            "lebanon",
            "mongolia",
            "israel",
            "japan",
            "pakistan",
            "oman",
            "jordan",
            "iran"
           ],
           "ids": [
            "china",
            "saudi arabia",
            "philippines",
            "turkey",
            "sri lanka",
            "cambodia",
            "syria",
            "taiwan",
            "thailand",
            "indonesia",
            "malaysia",
            "india",
            "lebanon",
            "mongolia",
            "israel",
            "japan",
            "pakistan",
            "oman",
            "jordan",
            "iran"
           ],
           "legendgroup": "asia",
           "marker": {
            "color": "#ab63fa",
            "size": [
             1280400000,
             24501530,
             82995088,
             67308928,
             19576783,
             12926707,
             17155814,
             22454239,
             62806748,
             211060000,
             22662365,
             1034172547,
             3677780,
             2674234,
             6029529,
             127065841,
             153403524,
             2713462,
             5307470,
             66907826
            ],
            "sizemode": "area",
            "sizeref": 366300.86,
            "symbol": "circle"
           },
           "mode": "markers",
           "name": "asia",
           "orientation": "v",
           "showlegend": true,
           "type": "scatter",
           "x": [
            3119.280896,
            19014.54118,
            2650.921068,
            6508.085718,
            3015.378833,
            896.2260152999999,
            4090.925331,
            23235.42329,
            5913.187529,
            2873.91287,
            10206.97794,
            1746.769454,
            9313.93883,
            2140.739323,
            21905.59514,
            28604.5919,
            2092.712441,
            19774.83687,
            3844.917194,
            9240.761975
           ],
           "xaxis": "x",
           "y": [
            17074498469.874712,
            5924559863.220056,
            976120624.3201421,
            1534519750.5731456,
            231966751.14791733,
            44846369.527753025,
            1074611546.056614,
            2493145453.4722934,
            1321209415.1085486,
            1884369133.4487681,
            6929384831.337818,
            2350167518.7838383,
            390649329.57416403,
            90706868.32973543,
            494685555.556658,
            16743722726.819176,
            1457324921.8791635,
            492235817.7996058,
            607732205.7079992,
            2189475975.8363323
           ],
           "yaxis": "y"
          },
          {
           "hovertemplate": "<b>%{hovertext}</b><br><br>continent_from=europe<br>Year=2002<br>gdpPercap=%{x}<br>kg_CO2eq_tonne-km=%{y}<br>pop=%{marker.size}<extra></extra>",
           "hovertext": [
            "slovenia",
            "italy",
            "romania",
            "portugal",
            "poland",
            "croatia",
            "sweden",
            "albania",
            "united kingdom",
            "austria",
            "belgium",
            "spain",
            "switzerland",
            "bulgaria",
            "denmark",
            "germany",
            "netherlands",
            "greece",
            "iceland",
            "hungary",
            "france",
            "ireland",
            "norway",
            "finland"
           ],
           "ids": [
            "slovenia",
            "italy",
            "romania",
            "portugal",
            "poland",
            "croatia",
            "sweden",
            "albania",
            "united kingdom",
            "austria",
            "belgium",
            "spain",
            "switzerland",
            "bulgaria",
            "denmark",
            "germany",
            "netherlands",
            "greece",
            "iceland",
            "hungary",
            "france",
            "ireland",
            "norway",
            "finland"
           ],
           "legendgroup": "europe",
           "marker": {
            "color": "#FFA15A",
            "size": [
             2011497,
             57926999,
             22404337,
             10433867,
             38625976,
             4481020,
             8954175,
             3508512,
             59912431,
             8148312,
             10311970,
             40152517,
             7361757,
             7661799,
             5374693,
             82350671,
             16122830,
             10603863,
             288030,
             10083313,
             59925035,
             3879155,
             4535591,
             5193039
            ],
            "sizemode": "area",
            "sizeref": 366300.86,
            "symbol": "circle"
           },
           "mode": "markers",
           "name": "europe",
           "orientation": "v",
           "showlegend": true,
           "type": "scatter",
           "x": [
            20660.01936,
            27968.09817,
            7885.360081,
            19970.90787,
            12002.23908,
            11628.38895,
            29341.630930000007,
            4604.211737,
            29478.99919,
            32417.60769,
            30485.88375,
            24835.47166,
            34480.95771,
            7696.777725,
            32166.50006,
            30035.80198,
            33724.75778,
            22514.2548,
            31163.20196,
            14843.93556,
            28926.03234,
            34077.04939,
            44683.97525,
            28204.59057
           ],
           "xaxis": "x",
           "y": [
            501705993.85855186,
            13154205191.520954,
            1301720988.9389298,
            3504048269.652887,
            4889078243.992826,
            741478690.9203578,
            2429556124.605441,
            302812656.64402276,
            11488975724.737032,
            1001013921.4786829,
            14223679773.182034,
            8918034685.281015,
            1515109002.5759666,
            642067201.5913774,
            1194352391.5465841,
            17067588104.705845,
            11998884307.812025,
            2388202412.0582557,
            59611166.89837637,
            1193094735.643592,
            6579878407.322545,
            607277208.9983433,
            1369096821.6361098,
            734399495.675434
           ],
           "yaxis": "y"
          },
          {
           "hovertemplate": "<b>%{hovertext}</b><br><br>continent_from=oceania<br>Year=2002<br>gdpPercap=%{x}<br>kg_CO2eq_tonne-km=%{y}<br>pop=%{marker.size}<extra></extra>",
           "hovertext": [
            "australia",
            "new zealand"
           ],
           "ids": [
            "australia",
            "new zealand"
           ],
           "legendgroup": "oceania",
           "marker": {
            "color": "#19d3f3",
            "size": [
             19546792,
             3908037
            ],
            "sizemode": "area",
            "sizeref": 366300.86,
            "symbol": "circle"
           },
           "mode": "markers",
           "name": "oceania",
           "orientation": "v",
           "showlegend": true,
           "type": "scatter",
           "x": [
            30687.75473,
            23189.80135
           ],
           "xaxis": "x",
           "y": [
            672405484.6319077,
            1107250319.651349
           ],
           "yaxis": "y"
          }
         ],
         "name": "2002"
        },
        {
         "data": [
          {
           "hovertemplate": "<b>%{hovertext}</b><br><br>continent_from=africa<br>Year=2007<br>gdpPercap=%{x}<br>kg_CO2eq_tonne-km=%{y}<br>pop=%{marker.size}<extra></extra>",
           "hovertext": [
            "togo",
            "madagascar",
            "botswana",
            "zambia",
            "tanzania",
            "malawi",
            "benin",
            "uganda",
            "kenya",
            "tunisia",
            "algeria",
            "rwanda",
            "niger",
            "nigeria",
            "gambia",
            "egypt",
            "senegal",
            "mali",
            "mauritania",
            "ethiopia",
            "cameroon",
            "morocco",
            "south africa",
            "ghana"
           ],
           "ids": [
            "togo",
            "madagascar",
            "botswana",
            "zambia",
            "tanzania",
            "malawi",
            "benin",
            "uganda",
            "kenya",
            "tunisia",
            "algeria",
            "rwanda",
            "niger",
            "nigeria",
            "gambia",
            "egypt",
            "senegal",
            "mali",
            "mauritania",
            "ethiopia",
            "cameroon",
            "morocco",
            "south africa",
            "ghana"
           ],
           "legendgroup": "africa",
           "marker": {
            "color": "#636efa",
            "size": [
             5701579,
             19167654,
             1639131,
             11746035,
             38139640,
             13327079,
             8078314,
             29170398,
             35610177,
             10276158,
             33333216,
             8860588,
             12894865,
             135031164,
             1688359,
             80264543,
             12267493,
             12031795,
             3270065,
             76511887,
             17696293,
             33757175,
             43997828,
             22873338
            ],
            "sizemode": "area",
            "sizeref": 366300.86,
            "symbol": "circle"
           },
           "mode": "markers",
           "name": "africa",
           "orientation": "v",
           "showlegend": true,
           "type": "scatter",
           "x": [
            882.9699437999999,
            1044.770126,
            12569.85177,
            1271.211593,
            1107.482182,
            759.3499101,
            1441.284873,
            1056.380121,
            1463.249282,
            7092.923025,
            6223.367465,
            863.0884639000002,
            619.6768923999998,
            2013.977305,
            752.7497265,
            5581.180998,
            1712.472136,
            1042.581557,
            1803.151496,
            690.8055759,
            2042.09524,
            3820.17523,
            9269.657808,
            1327.60891
           ],
           "xaxis": "x",
           "y": [
            30536662.824390344,
            36523103.28583947,
            51716880.95857917,
            49768177.551656075,
            156985222.23516387,
            25549163.694428794,
            124776729.67726995,
            121560121.82893552,
            332293135.25435746,
            703411044.0370879,
            2576274336.4359837,
            24371348.518514678,
            52025363.51316444,
            798150752.8648845,
            26356902.89771104,
            1295516686.6028845,
            339971659.718186,
            45614350.40207234,
            70147625.08026442,
            69873939.82905167,
            97413754.22342913,
            883372528.9697354,
            950039554.834329,
            200881500.62481076
           ],
           "yaxis": "y"
          },
          {
           "hovertemplate": "<b>%{hovertext}</b><br><br>continent_from=north america<br>Year=2007<br>gdpPercap=%{x}<br>kg_CO2eq_tonne-km=%{y}<br>pop=%{marker.size}<extra></extra>",
           "hovertext": [
            "jamaica",
            "trinidad and tobago",
            "panama",
            "costa rica",
            "nicaragua",
            "el salvador",
            "honduras",
            "mexico",
            "guatemala",
            "canada"
           ],
           "ids": [
            "jamaica",
            "trinidad and tobago",
            "panama",
            "costa rica",
            "nicaragua",
            "el salvador",
            "honduras",
            "mexico",
            "guatemala",
            "canada"
           ],
           "legendgroup": "north america",
           "marker": {
            "color": "#EF553B",
            "size": [
             2780132,
             1056608,
             3242173,
             4133884,
             5675356,
             6939688,
             7483763,
             108700891,
             12572928,
             33390141
            ],
            "sizemode": "area",
            "sizeref": 366300.86,
            "symbol": "circle"
           },
           "mode": "markers",
           "name": "north america",
           "orientation": "v",
           "showlegend": true,
           "type": "scatter",
           "x": [
            7320.8802620000015,
            18008.50924,
            9809.185636,
            9645.06142,
            2749.320965,
            5728.353514,
            3548.3308460000007,
            11977.57496,
            5186.050003,
            36319.23501
           ],
           "xaxis": "x",
           "y": [
            84149000.47534816,
            128448592.24427436,
            699272846.1536701,
            1085367057.6515079,
            396395372.1280059,
            853290175.8237687,
            565443806.4686971,
            22018306446.39362,
            1381435027.590785,
            9487062521.09342
           ],
           "yaxis": "y"
          },
          {
           "hovertemplate": "<b>%{hovertext}</b><br><br>continent_from=south america<br>Year=2007<br>gdpPercap=%{x}<br>kg_CO2eq_tonne-km=%{y}<br>pop=%{marker.size}<extra></extra>",
           "hovertext": [
            "venezuela",
            "bolivia",
            "argentina",
            "uruguay",
            "brazil",
            "ecuador",
            "peru",
            "paraguay",
            "chile",
            "colombia"
           ],
           "ids": [
            "venezuela",
            "bolivia",
            "argentina",
            "uruguay",
            "brazil",
            "ecuador",
            "peru",
            "paraguay",
            "chile",
            "colombia"
           ],
           "legendgroup": "south america",
           "marker": {
            "color": "#00cc96",
            "size": [
             26084662,
             9119152,
             40301927,
             3447496,
             190010647,
             13755680,
             28674757,
             6667147,
             16284741,
             44227550
            ],
            "sizemode": "area",
            "sizeref": 366300.86,
            "symbol": "circle"
           },
           "mode": "markers",
           "name": "south america",
           "orientation": "v",
           "showlegend": true,
           "type": "scatter",
           "x": [
            11415.80569,
            3822.137084,
            12779.37964,
            10611.46299,
            9065.800825,
            6873.262326000001,
            7408.905561,
            4172.838464,
            13171.63885,
            7006.580419
           ],
           "xaxis": "x",
           "y": [
            2498445341.28008,
            302419326.9368421,
            1370398347.6958745,
            172725173.1388158,
            5378320515.281626,
            844344385.9461377,
            2090982771.0885715,
            129824760.95851265,
            2026767255.1510592,
            1898610515.48034
           ],
           "yaxis": "y"
          },
          {
           "hovertemplate": "<b>%{hovertext}</b><br><br>continent_from=asia<br>Year=2007<br>gdpPercap=%{x}<br>kg_CO2eq_tonne-km=%{y}<br>pop=%{marker.size}<extra></extra>",
           "hovertext": [
            "israel",
            "thailand",
            "lebanon",
            "jordan",
            "indonesia",
            "turkey",
            "bangladesh",
            "india",
            "japan",
            "saudi arabia",
            "oman",
            "pakistan",
            "philippines",
            "syria",
            "mongolia",
            "china",
            "malaysia"
           ],
           "ids": [
            "israel",
            "thailand",
            "lebanon",
            "jordan",
            "indonesia",
            "turkey",
            "bangladesh",
            "india",
            "japan",
            "saudi arabia",
            "oman",
            "pakistan",
            "philippines",
            "syria",
            "mongolia",
            "china",
            "malaysia"
           ],
           "legendgroup": "asia",
           "marker": {
            "color": "#ab63fa",
            "size": [
             6426679,
             65068149,
             3921278,
             6053193,
             223547000,
             71158647,
             150448339,
             1110396331,
             127467972,
             27601038,
             3204897,
             169270617,
             91077287,
             19314747,
             2874127,
             1318683096,
             24821286
            ],
            "sizemode": "area",
            "sizeref": 366300.86,
            "symbol": "circle"
           },
           "mode": "markers",
           "name": "asia",
           "orientation": "v",
           "showlegend": true,
           "type": "scatter",
           "x": [
            25523.2771,
            7458.396326999998,
            10461.05868,
            4519.461171,
            3540.651564,
            8458.276384,
            1391.253792,
            2452.210407,
            31656.06806,
            21654.83194,
            22316.19287,
            2605.94758,
            3190.481016,
            4184.548089,
            3095.7722710000007,
            4959.114854,
            12451.6558
           ],
           "xaxis": "x",
           "y": [
            570132329.8546356,
            2196319335.332409,
            592575186.4826261,
            908470750.6172973,
            2119563486.2465842,
            4949476192.057896,
            3403230480.9076324,
            2620564012.433464,
            13847948402.232605,
            8118756599.492823,
            781880960.4442326,
            1884901035.2531197,
            1166920444.4601853,
            3245185721.0144334,
            277884270.12573266,
            23753629900.740845,
            6251728127.26408
           ],
           "yaxis": "y"
          },
          {
           "hovertemplate": "<b>%{hovertext}</b><br><br>continent_from=europe<br>Year=2007<br>gdpPercap=%{x}<br>kg_CO2eq_tonne-km=%{y}<br>pop=%{marker.size}<extra></extra>",
           "hovertext": [
            "hungary",
            "albania",
            "italy",
            "united kingdom",
            "austria",
            "belgium",
            "iceland",
            "ireland",
            "bulgaria",
            "romania",
            "portugal",
            "croatia",
            "poland",
            "denmark",
            "norway",
            "france",
            "finland",
            "serbia",
            "switzerland",
            "montenegro",
            "spain",
            "greece",
            "netherlands",
            "slovenia",
            "germany",
            "sweden"
           ],
           "ids": [
            "hungary",
            "albania",
            "italy",
            "united kingdom",
            "austria",
            "belgium",
            "iceland",
            "ireland",
            "bulgaria",
            "romania",
            "portugal",
            "croatia",
            "poland",
            "denmark",
            "norway",
            "france",
            "finland",
            "serbia",
            "switzerland",
            "montenegro",
            "spain",
            "greece",
            "netherlands",
            "slovenia",
            "germany",
            "sweden"
           ],
           "legendgroup": "europe",
           "marker": {
            "color": "#FFA15A",
            "size": [
             9956108,
             3600523,
             58147733,
             60776238,
             8199783,
             10392226,
             301931,
             4109086,
             7322858,
             22276056,
             10642836,
             4493312,
             38518241,
             5468120,
             4627926,
             61083916,
             5238460,
             10150265,
             7554661,
             684736,
             40448191,
             10706290,
             16570613,
             2009245,
             82400996,
             9031088
            ],
            "sizemode": "area",
            "sizeref": 366300.86,
            "symbol": "circle"
           },
           "mode": "markers",
           "name": "europe",
           "orientation": "v",
           "showlegend": true,
           "type": "scatter",
           "x": [
            18008.94444,
            5937.029525999998,
            28569.7197,
            33203.26128,
            36126.4927,
            33692.60508,
            36180.78919,
            40675.99635,
            10680.79282,
            10808.47561,
            20509.64777,
            14619.222719999998,
            15389.924680000002,
            35278.41874,
            49357.19017,
            30470.0167,
            33207.0844,
            9786.534714,
            37506.41907,
            9253.896111,
            28821.0637,
            27538.41188,
            36797.93332,
            25768.25759,
            32170.37442,
            33859.74835
           ],
           "xaxis": "x",
           "y": [
            642349042.4732794,
            358340718.33981806,
            16118616358.75574,
            17075723641.771503,
            1213028291.9581778,
            18387729985.21011,
            103728576.86001089,
            748058278.1939993,
            689162466.1320618,
            3000692562.3989453,
            3450386298.1643023,
            994060209.7386276,
            3033305763.897205,
            1325805576.0961463,
            1984678808.4899135,
            8316665324.881607,
            795367442.6477636,
            1039179269.6476657,
            1816944937.2083373,
            174107272.9868131,
            10317792328.270756,
            3215671366.940018,
            21143065717.84763,
            741896418.3576418,
            22276928827.935394,
            2688314689.0920124
           ],
           "yaxis": "y"
          },
          {
           "hovertemplate": "<b>%{hovertext}</b><br><br>continent_from=oceania<br>Year=2007<br>gdpPercap=%{x}<br>kg_CO2eq_tonne-km=%{y}<br>pop=%{marker.size}<extra></extra>",
           "hovertext": [
            "australia",
            "new zealand"
           ],
           "ids": [
            "australia",
            "new zealand"
           ],
           "legendgroup": "oceania",
           "marker": {
            "color": "#19d3f3",
            "size": [
             20434176,
             4115771
            ],
            "sizemode": "area",
            "sizeref": 366300.86,
            "symbol": "circle"
           },
           "mode": "markers",
           "name": "oceania",
           "orientation": "v",
           "showlegend": true,
           "type": "scatter",
           "x": [
            34435.367439999995,
            25185.00911
           ],
           "xaxis": "x",
           "y": [
            1225494681.4775014,
            1380785502.952931
           ],
           "yaxis": "y"
          }
         ],
         "name": "2007"
        }
       ],
       "layout": {
        "legend": {
         "itemsizing": "constant",
         "title": {
          "text": "Continent"
         },
         "tracegroupgap": 0
        },
        "sliders": [
         {
          "active": 0,
          "currentvalue": {
           "prefix": "Year="
          },
          "len": 0.9,
          "pad": {
           "b": 10,
           "t": 60
          },
          "steps": [
           {
            "args": [
             [
              "1987"
             ],
             {
              "frame": {
               "duration": 0,
               "redraw": false
              },
              "fromcurrent": true,
              "mode": "immediate",
              "transition": {
               "duration": 0,
               "easing": "linear"
              }
             }
            ],
            "label": "1987",
            "method": "animate"
           },
           {
            "args": [
             [
              "1992"
             ],
             {
              "frame": {
               "duration": 0,
               "redraw": false
              },
              "fromcurrent": true,
              "mode": "immediate",
              "transition": {
               "duration": 0,
               "easing": "linear"
              }
             }
            ],
            "label": "1992",
            "method": "animate"
           },
           {
            "args": [
             [
              "1997"
             ],
             {
              "frame": {
               "duration": 0,
               "redraw": false
              },
              "fromcurrent": true,
              "mode": "immediate",
              "transition": {
               "duration": 0,
               "easing": "linear"
              }
             }
            ],
            "label": "1997",
            "method": "animate"
           },
           {
            "args": [
             [
              "2002"
             ],
             {
              "frame": {
               "duration": 0,
               "redraw": false
              },
              "fromcurrent": true,
              "mode": "immediate",
              "transition": {
               "duration": 0,
               "easing": "linear"
              }
             }
            ],
            "label": "2002",
            "method": "animate"
           },
           {
            "args": [
             [
              "2007"
             ],
             {
              "frame": {
               "duration": 0,
               "redraw": false
              },
              "fromcurrent": true,
              "mode": "immediate",
              "transition": {
               "duration": 0,
               "easing": "linear"
              }
             }
            ],
            "label": "2007",
            "method": "animate"
           }
          ],
          "x": 0.1,
          "xanchor": "left",
          "y": 0,
          "yanchor": "top"
         }
        ],
        "template": {
         "data": {
          "bar": [
           {
            "error_x": {
             "color": "#2a3f5f"
            },
            "error_y": {
             "color": "#2a3f5f"
            },
            "marker": {
             "line": {
              "color": "#E5ECF6",
              "width": 0.5
             },
             "pattern": {
              "fillmode": "overlay",
              "size": 10,
              "solidity": 0.2
             }
            },
            "type": "bar"
           }
          ],
          "barpolar": [
           {
            "marker": {
             "line": {
              "color": "#E5ECF6",
              "width": 0.5
             },
             "pattern": {
              "fillmode": "overlay",
              "size": 10,
              "solidity": 0.2
             }
            },
            "type": "barpolar"
           }
          ],
          "carpet": [
           {
            "aaxis": {
             "endlinecolor": "#2a3f5f",
             "gridcolor": "white",
             "linecolor": "white",
             "minorgridcolor": "white",
             "startlinecolor": "#2a3f5f"
            },
            "baxis": {
             "endlinecolor": "#2a3f5f",
             "gridcolor": "white",
             "linecolor": "white",
             "minorgridcolor": "white",
             "startlinecolor": "#2a3f5f"
            },
            "type": "carpet"
           }
          ],
          "choropleth": [
           {
            "colorbar": {
             "outlinewidth": 0,
             "ticks": ""
            },
            "type": "choropleth"
           }
          ],
          "contour": [
           {
            "colorbar": {
             "outlinewidth": 0,
             "ticks": ""
            },
            "colorscale": [
             [
              0,
              "#0d0887"
             ],
             [
              0.1111111111111111,
              "#46039f"
             ],
             [
              0.2222222222222222,
              "#7201a8"
             ],
             [
              0.3333333333333333,
              "#9c179e"
             ],
             [
              0.4444444444444444,
              "#bd3786"
             ],
             [
              0.5555555555555556,
              "#d8576b"
             ],
             [
              0.6666666666666666,
              "#ed7953"
             ],
             [
              0.7777777777777778,
              "#fb9f3a"
             ],
             [
              0.8888888888888888,
              "#fdca26"
             ],
             [
              1,
              "#f0f921"
             ]
            ],
            "type": "contour"
           }
          ],
          "contourcarpet": [
           {
            "colorbar": {
             "outlinewidth": 0,
             "ticks": ""
            },
            "type": "contourcarpet"
           }
          ],
          "heatmap": [
           {
            "colorbar": {
             "outlinewidth": 0,
             "ticks": ""
            },
            "colorscale": [
             [
              0,
              "#0d0887"
             ],
             [
              0.1111111111111111,
              "#46039f"
             ],
             [
              0.2222222222222222,
              "#7201a8"
             ],
             [
              0.3333333333333333,
              "#9c179e"
             ],
             [
              0.4444444444444444,
              "#bd3786"
             ],
             [
              0.5555555555555556,
              "#d8576b"
             ],
             [
              0.6666666666666666,
              "#ed7953"
             ],
             [
              0.7777777777777778,
              "#fb9f3a"
             ],
             [
              0.8888888888888888,
              "#fdca26"
             ],
             [
              1,
              "#f0f921"
             ]
            ],
            "type": "heatmap"
           }
          ],
          "heatmapgl": [
           {
            "colorbar": {
             "outlinewidth": 0,
             "ticks": ""
            },
            "colorscale": [
             [
              0,
              "#0d0887"
             ],
             [
              0.1111111111111111,
              "#46039f"
             ],
             [
              0.2222222222222222,
              "#7201a8"
             ],
             [
              0.3333333333333333,
              "#9c179e"
             ],
             [
              0.4444444444444444,
              "#bd3786"
             ],
             [
              0.5555555555555556,
              "#d8576b"
             ],
             [
              0.6666666666666666,
              "#ed7953"
             ],
             [
              0.7777777777777778,
              "#fb9f3a"
             ],
             [
              0.8888888888888888,
              "#fdca26"
             ],
             [
              1,
              "#f0f921"
             ]
            ],
            "type": "heatmapgl"
           }
          ],
          "histogram": [
           {
            "marker": {
             "pattern": {
              "fillmode": "overlay",
              "size": 10,
              "solidity": 0.2
             }
            },
            "type": "histogram"
           }
          ],
          "histogram2d": [
           {
            "colorbar": {
             "outlinewidth": 0,
             "ticks": ""
            },
            "colorscale": [
             [
              0,
              "#0d0887"
             ],
             [
              0.1111111111111111,
              "#46039f"
             ],
             [
              0.2222222222222222,
              "#7201a8"
             ],
             [
              0.3333333333333333,
              "#9c179e"
             ],
             [
              0.4444444444444444,
              "#bd3786"
             ],
             [
              0.5555555555555556,
              "#d8576b"
             ],
             [
              0.6666666666666666,
              "#ed7953"
             ],
             [
              0.7777777777777778,
              "#fb9f3a"
             ],
             [
              0.8888888888888888,
              "#fdca26"
             ],
             [
              1,
              "#f0f921"
             ]
            ],
            "type": "histogram2d"
           }
          ],
          "histogram2dcontour": [
           {
            "colorbar": {
             "outlinewidth": 0,
             "ticks": ""
            },
            "colorscale": [
             [
              0,
              "#0d0887"
             ],
             [
              0.1111111111111111,
              "#46039f"
             ],
             [
              0.2222222222222222,
              "#7201a8"
             ],
             [
              0.3333333333333333,
              "#9c179e"
             ],
             [
              0.4444444444444444,
              "#bd3786"
             ],
             [
              0.5555555555555556,
              "#d8576b"
             ],
             [
              0.6666666666666666,
              "#ed7953"
             ],
             [
              0.7777777777777778,
              "#fb9f3a"
             ],
             [
              0.8888888888888888,
              "#fdca26"
             ],
             [
              1,
              "#f0f921"
             ]
            ],
            "type": "histogram2dcontour"
           }
          ],
          "mesh3d": [
           {
            "colorbar": {
             "outlinewidth": 0,
             "ticks": ""
            },
            "type": "mesh3d"
           }
          ],
          "parcoords": [
           {
            "line": {
             "colorbar": {
              "outlinewidth": 0,
              "ticks": ""
             }
            },
            "type": "parcoords"
           }
          ],
          "pie": [
           {
            "automargin": true,
            "type": "pie"
           }
          ],
          "scatter": [
           {
            "fillpattern": {
             "fillmode": "overlay",
             "size": 10,
             "solidity": 0.2
            },
            "type": "scatter"
           }
          ],
          "scatter3d": [
           {
            "line": {
             "colorbar": {
              "outlinewidth": 0,
              "ticks": ""
             }
            },
            "marker": {
             "colorbar": {
              "outlinewidth": 0,
              "ticks": ""
             }
            },
            "type": "scatter3d"
           }
          ],
          "scattercarpet": [
           {
            "marker": {
             "colorbar": {
              "outlinewidth": 0,
              "ticks": ""
             }
            },
            "type": "scattercarpet"
           }
          ],
          "scattergeo": [
           {
            "marker": {
             "colorbar": {
              "outlinewidth": 0,
              "ticks": ""
             }
            },
            "type": "scattergeo"
           }
          ],
          "scattergl": [
           {
            "marker": {
             "colorbar": {
              "outlinewidth": 0,
              "ticks": ""
             }
            },
            "type": "scattergl"
           }
          ],
          "scattermapbox": [
           {
            "marker": {
             "colorbar": {
              "outlinewidth": 0,
              "ticks": ""
             }
            },
            "type": "scattermapbox"
           }
          ],
          "scatterpolar": [
           {
            "marker": {
             "colorbar": {
              "outlinewidth": 0,
              "ticks": ""
             }
            },
            "type": "scatterpolar"
           }
          ],
          "scatterpolargl": [
           {
            "marker": {
             "colorbar": {
              "outlinewidth": 0,
              "ticks": ""
             }
            },
            "type": "scatterpolargl"
           }
          ],
          "scatterternary": [
           {
            "marker": {
             "colorbar": {
              "outlinewidth": 0,
              "ticks": ""
             }
            },
            "type": "scatterternary"
           }
          ],
          "surface": [
           {
            "colorbar": {
             "outlinewidth": 0,
             "ticks": ""
            },
            "colorscale": [
             [
              0,
              "#0d0887"
             ],
             [
              0.1111111111111111,
              "#46039f"
             ],
             [
              0.2222222222222222,
              "#7201a8"
             ],
             [
              0.3333333333333333,
              "#9c179e"
             ],
             [
              0.4444444444444444,
              "#bd3786"
             ],
             [
              0.5555555555555556,
              "#d8576b"
             ],
             [
              0.6666666666666666,
              "#ed7953"
             ],
             [
              0.7777777777777778,
              "#fb9f3a"
             ],
             [
              0.8888888888888888,
              "#fdca26"
             ],
             [
              1,
              "#f0f921"
             ]
            ],
            "type": "surface"
           }
          ],
          "table": [
           {
            "cells": {
             "fill": {
              "color": "#EBF0F8"
             },
             "line": {
              "color": "white"
             }
            },
            "header": {
             "fill": {
              "color": "#C8D4E3"
             },
             "line": {
              "color": "white"
             }
            },
            "type": "table"
           }
          ]
         },
         "layout": {
          "annotationdefaults": {
           "arrowcolor": "#2a3f5f",
           "arrowhead": 0,
           "arrowwidth": 1
          },
          "autotypenumbers": "strict",
          "coloraxis": {
           "colorbar": {
            "outlinewidth": 0,
            "ticks": ""
           }
          },
          "colorscale": {
           "diverging": [
            [
             0,
             "#8e0152"
            ],
            [
             0.1,
             "#c51b7d"
            ],
            [
             0.2,
             "#de77ae"
            ],
            [
             0.3,
             "#f1b6da"
            ],
            [
             0.4,
             "#fde0ef"
            ],
            [
             0.5,
             "#f7f7f7"
            ],
            [
             0.6,
             "#e6f5d0"
            ],
            [
             0.7,
             "#b8e186"
            ],
            [
             0.8,
             "#7fbc41"
            ],
            [
             0.9,
             "#4d9221"
            ],
            [
             1,
             "#276419"
            ]
           ],
           "sequential": [
            [
             0,
             "#0d0887"
            ],
            [
             0.1111111111111111,
             "#46039f"
            ],
            [
             0.2222222222222222,
             "#7201a8"
            ],
            [
             0.3333333333333333,
             "#9c179e"
            ],
            [
             0.4444444444444444,
             "#bd3786"
            ],
            [
             0.5555555555555556,
             "#d8576b"
            ],
            [
             0.6666666666666666,
             "#ed7953"
            ],
            [
             0.7777777777777778,
             "#fb9f3a"
            ],
            [
             0.8888888888888888,
             "#fdca26"
            ],
            [
             1,
             "#f0f921"
            ]
           ],
           "sequentialminus": [
            [
             0,
             "#0d0887"
            ],
            [
             0.1111111111111111,
             "#46039f"
            ],
            [
             0.2222222222222222,
             "#7201a8"
            ],
            [
             0.3333333333333333,
             "#9c179e"
            ],
            [
             0.4444444444444444,
             "#bd3786"
            ],
            [
             0.5555555555555556,
             "#d8576b"
            ],
            [
             0.6666666666666666,
             "#ed7953"
            ],
            [
             0.7777777777777778,
             "#fb9f3a"
            ],
            [
             0.8888888888888888,
             "#fdca26"
            ],
            [
             1,
             "#f0f921"
            ]
           ]
          },
          "colorway": [
           "#636efa",
           "#EF553B",
           "#00cc96",
           "#ab63fa",
           "#FFA15A",
           "#19d3f3",
           "#FF6692",
           "#B6E880",
           "#FF97FF",
           "#FECB52"
          ],
          "font": {
           "color": "#2a3f5f"
          },
          "geo": {
           "bgcolor": "white",
           "lakecolor": "white",
           "landcolor": "#E5ECF6",
           "showlakes": true,
           "showland": true,
           "subunitcolor": "white"
          },
          "hoverlabel": {
           "align": "left"
          },
          "hovermode": "closest",
          "mapbox": {
           "style": "light"
          },
          "paper_bgcolor": "white",
          "plot_bgcolor": "#E5ECF6",
          "polar": {
           "angularaxis": {
            "gridcolor": "white",
            "linecolor": "white",
            "ticks": ""
           },
           "bgcolor": "#E5ECF6",
           "radialaxis": {
            "gridcolor": "white",
            "linecolor": "white",
            "ticks": ""
           }
          },
          "scene": {
           "xaxis": {
            "backgroundcolor": "#E5ECF6",
            "gridcolor": "white",
            "gridwidth": 2,
            "linecolor": "white",
            "showbackground": true,
            "ticks": "",
            "zerolinecolor": "white"
           },
           "yaxis": {
            "backgroundcolor": "#E5ECF6",
            "gridcolor": "white",
            "gridwidth": 2,
            "linecolor": "white",
            "showbackground": true,
            "ticks": "",
            "zerolinecolor": "white"
           },
           "zaxis": {
            "backgroundcolor": "#E5ECF6",
            "gridcolor": "white",
            "gridwidth": 2,
            "linecolor": "white",
            "showbackground": true,
            "ticks": "",
            "zerolinecolor": "white"
           }
          },
          "shapedefaults": {
           "line": {
            "color": "#2a3f5f"
           }
          },
          "ternary": {
           "aaxis": {
            "gridcolor": "white",
            "linecolor": "white",
            "ticks": ""
           },
           "baxis": {
            "gridcolor": "white",
            "linecolor": "white",
            "ticks": ""
           },
           "bgcolor": "#E5ECF6",
           "caxis": {
            "gridcolor": "white",
            "linecolor": "white",
            "ticks": ""
           }
          },
          "title": {
           "x": 0.05
          },
          "xaxis": {
           "automargin": true,
           "gridcolor": "white",
           "linecolor": "white",
           "ticks": "",
           "title": {
            "standoff": 15
           },
           "zerolinecolor": "white",
           "zerolinewidth": 2
          },
          "yaxis": {
           "automargin": true,
           "gridcolor": "white",
           "linecolor": "white",
           "ticks": "",
           "title": {
            "standoff": 15
           },
           "zerolinecolor": "white",
           "zerolinewidth": 2
          }
         }
        },
        "title": {
         "font": {
          "size": 24
         },
         "text": "GDP per Capita vs kg CO2eq produced from food import"
        },
        "updatemenus": [
         {
          "buttons": [
           {
            "args": [
             null,
             {
              "frame": {
               "duration": 500,
               "redraw": false
              },
              "fromcurrent": true,
              "mode": "immediate",
              "transition": {
               "duration": 500,
               "easing": "linear"
              }
             }
            ],
            "label": "&#9654;",
            "method": "animate"
           },
           {
            "args": [
             [
              null
             ],
             {
              "frame": {
               "duration": 0,
               "redraw": false
              },
              "fromcurrent": true,
              "mode": "immediate",
              "transition": {
               "duration": 0,
               "easing": "linear"
              }
             }
            ],
            "label": "&#9724;",
            "method": "animate"
           }
          ],
          "direction": "left",
          "pad": {
           "r": 10,
           "t": 70
          },
          "showactive": false,
          "type": "buttons",
          "x": 0.1,
          "xanchor": "right",
          "y": 0,
          "yanchor": "top"
         }
        ],
        "xaxis": {
         "anchor": "y",
         "domain": [
          0,
          1
         ],
         "title": {
          "text": "GDP per Capita (log scale)"
         },
         "type": "log"
        },
        "yaxis": {
         "anchor": "x",
         "domain": [
          0,
          1
         ],
         "title": {
          "text": "kg CO2eq (log scale)"
         },
         "type": "log"
        }
       }
      }
     },
     "metadata": {},
     "output_type": "display_data"
    }
   ],
   "source": [
    "# Create a moving bubble chart\n",
    "fig = px.scatter(co2_mx_merged.sort_values(by='Year'),  \n",
    "                 #x=\"gdpPercap\", \n",
    "                 y=\"kg_CO2eq_tonne-km\", \n",
    "                 size=\"pop\", \n",
    "                 color=\"continent_from\", \n",
    "                 hover_name=\"country_from\", \n",
    "                 log_x=True,\n",
    "                 log_y=True, \n",
    "                 size_max=60, \n",
    "                 animation_frame=\"Year\", \n",
    "                 animation_group=\"country_from\",\n",
    "                 title=\"GDP per Capita vs kg CO2eq produced from food import\")\n",
    "\n",
    "# Update layout for better visualization\n",
    "fig.update_layout(xaxis_title='GDP per Capita (log scale)',\n",
    "                  yaxis_title='kg CO2eq (log scale)',\n",
    "                  legend_title='Continent',\n",
    "                  title_font_size=24)\n",
    "\n",
    "# Show the figure\n",
    "fig.show()\n"
   ]
  }
 ],
 "metadata": {
  "kernelspec": {
   "display_name": "Python 3",
   "language": "python",
   "name": "python3"
  },
  "language_info": {
   "codemirror_mode": {
    "name": "ipython",
    "version": 3
   },
   "file_extension": ".py",
   "mimetype": "text/x-python",
   "name": "python",
   "nbconvert_exporter": "python",
   "pygments_lexer": "ipython3",
   "version": "3.12.3"
  }
 },
 "nbformat": 4,
 "nbformat_minor": 2
}
