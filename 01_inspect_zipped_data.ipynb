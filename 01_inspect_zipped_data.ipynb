{
 "cells": [
  {
   "cell_type": "markdown",
   "metadata": {},
   "source": [
    "# **Raw data**\n",
    "\n",
    "I have downloaded all data from https://www.fao.org/faostat/en/#home --> \"Bulk Download\"\n",
    "I will inspect tables related to \"emissions\""
   ]
  },
  {
   "cell_type": "code",
   "execution_count": 1,
   "metadata": {},
   "outputs": [],
   "source": [
    "import os\n",
    "import zipfile\n",
    "import pandas as pd\n",
    "import random"
   ]
  },
  {
   "cell_type": "code",
   "execution_count": 2,
   "metadata": {},
   "outputs": [
    {
     "data": {
      "text/plain": [
       "'.\\\\data\\\\FAOSTAT'"
      ]
     },
     "execution_count": 2,
     "metadata": {},
     "output_type": "execute_result"
    }
   ],
   "source": [
    "path = r\".\\data\\FAOSTAT\"\n",
    "path"
   ]
  },
  {
   "cell_type": "code",
   "execution_count": 3,
   "metadata": {},
   "outputs": [],
   "source": [
    "path_out = r\".\\data\\FAOSTAT\\sample_data\""
   ]
  },
  {
   "cell_type": "code",
   "execution_count": 4,
   "metadata": {},
   "outputs": [],
   "source": [
    "# Function to read CSV files from zip archives and save a sample\n",
    "def read_csv_from_zip(zip_file_path, csv_filename_pattern, sample_size=20000):\n",
    "    with zipfile.ZipFile(zip_file_path, 'r') as zip_ref:\n",
    "        for file_name in zip_ref.namelist():\n",
    "            if file_name.endswith('.csv') and csv_filename_pattern in file_name:\n",
    "                with zip_ref.open(file_name) as csv_file:\n",
    "                    print(f\"Sample from {file_name}:\")\n",
    "                    df = pd.read_csv(csv_file, encoding=\"ISO-8859-1\")\n",
    "                    sample = df.sample(min(sample_size, len(df)))\n",
    "                    #Save each sample as a smaller dataframe\n",
    "                    sample.to_csv(f\"{path_out}\\\\sample_{file_name}\", index=False)"
   ]
  },
  {
   "cell_type": "code",
   "execution_count": 50,
   "metadata": {},
   "outputs": [],
   "source": [
    "# # Alternative low memmory\n",
    "# def read_csv_from_zip(zip_file_path, csv_filename_pattern, sample_size=1000, chunk_size=10000):\n",
    "#     with zipfile.ZipFile(zip_file_path, 'r') as zip_ref:\n",
    "#         for file_name in zip_ref.namelist():\n",
    "#             if file_name.endswith('.csv') and csv_filename_pattern in file_name:\n",
    "#                 with zip_ref.open(file_name) as csv_file:\n",
    "#                     print(f\"Sample from {file_name}:\")\n",
    "#                     reader = pd.read_csv(csv_file, encoding=\"ISO-8859-1\", chunksize=chunk_size)\n",
    "#                     sample = pd.concat([chunk.sample(min(sample_size, len(chunk))) for chunk in reader])\n",
    "#                     # Save each sample as a smaller dataframe\n",
    "#                     sample.to_csv(f\"{path_out}\\\\sample_{file_name}\", index=False)"
   ]
  },
  {
   "cell_type": "code",
   "execution_count": null,
   "metadata": {},
   "outputs": [],
   "source": [
    "# Iterate through zip files in the path\n",
    "for file_name in os.listdir(path):\n",
    "    if file_name.endswith('.zip'):\n",
    "        zip_file_path = os.path.join(path, file_name)\n",
    "        read_csv_from_zip(zip_file_path, \"All_Data_\")"
   ]
  }
 ],
 "metadata": {
  "kernelspec": {
   "display_name": "Python 3",
   "language": "python",
   "name": "python3"
  },
  "language_info": {
   "codemirror_mode": {
    "name": "ipython",
    "version": 3
   },
   "file_extension": ".py",
   "mimetype": "text/x-python",
   "name": "python",
   "nbconvert_exporter": "python",
   "pygments_lexer": "ipython3",
   "version": "3.12.2"
  }
 },
 "nbformat": 4,
 "nbformat_minor": 2
}
