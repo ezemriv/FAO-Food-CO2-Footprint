{
 "cells": [
  {
   "cell_type": "markdown",
   "metadata": {},
   "source": [
    "# Merge emissions table created in /food_emissions with all other \"food and country\" tables\n",
    "\n",
    "After manual inspection of all food/country tables:\n",
    "\n",
    "**FEATURES TO EXTRACT:**\n",
    "\n",
    "64\tSUA_Crops_Livestock:\n",
    "- Protein supply quantity (g/capita/day), Food supply quantity (tonnes), Food supply (kcal/capita/day), Food supply quantity (g/capita/day), Tourist consumption\n",
    "\n",
    "60\tPrices_E_All:\n",
    "- Producer Price (USD/tonne)\n",
    "\n",
    "61\tProduction_Crops_Livestock:\n",
    "- Area harvested, Production, Yield\n",
    "\n",
    "66\tTrade_CropsLivestock_E:\n",
    "- Export Value, Import Value, Export Quantity, Import Quantity\n",
    "\n",
    "69\tValue_of_Production:\n",
    "- Gross Production Value (current thousand US$)\n"
   ]
  },
  {
   "cell_type": "code",
   "execution_count": 100,
   "metadata": {},
   "outputs": [],
   "source": [
    "import pandas as pd\n",
    "import numpy as np\n",
    "import zipfile\n",
    "import io\n",
    "import os\n",
    "\n",
    "#supress warnings\n",
    "import warnings\n",
    "warnings.filterwarnings('ignore')"
   ]
  },
  {
   "cell_type": "code",
   "execution_count": 101,
   "metadata": {},
   "outputs": [],
   "source": [
    "def load_fao_table(table_number, path):\n",
    "    # Loop through all files in the directory\n",
    "    for filename in os.listdir(path):\n",
    "        # Extract the number from the start of the filename\n",
    "        file_number_str = filename.split('-')[0]\n",
    "        try:\n",
    "            file_number = int(file_number_str)\n",
    "            # Check if the number matches the table number\n",
    "            if file_number == table_number:\n",
    "                full_path = os.path.join(path, filename)\n",
    "\n",
    "                if filename.endswith(\".zip\"):\n",
    "                    # Open the zip file\n",
    "                    with zipfile.ZipFile(full_path, 'r') as zip_ref:\n",
    "                        # Iterate through the file names in the zip archive\n",
    "                        for file_name in zip_ref.namelist():\n",
    "                            # Check if the file name contains the pattern \"All_Data_\" and ends with .csv\n",
    "                            if \"All_Data\" in file_name and file_name.endswith(\".csv\"):\n",
    "                                # Read the CSV file into a DataFrame\n",
    "                                with zip_ref.open(file_name) as file:\n",
    "                                    return pd.read_csv(file, encoding=\"ISO-8859-1\")\n",
    "\n",
    "                elif filename.endswith(\".csv\"):\n",
    "                    # Read the CSV file into a DataFrame\n",
    "                    return pd.read_csv(full_path, encoding=\"ISO-8859-1\")\n",
    "\n",
    "        except ValueError:\n",
    "            # Handle the case where the filename doesn't start with a valid number\n",
    "            continue\n",
    "    \n",
    "    # Return None if no matching file is found\n",
    "    return None"
   ]
  },
  {
   "cell_type": "markdown",
   "metadata": {},
   "source": [
    "## Load merged emissions dataset"
   ]
  },
  {
   "cell_type": "code",
   "execution_count": 102,
   "metadata": {},
   "outputs": [],
   "source": [
    "emissions_df = pd.read_parquet(r'..\\data\\FAOSTAT\\clean_data\\all_tables_processed\\food_emissions\\merged_food_emissions_v2.parquet')"
   ]
  },
  {
   "cell_type": "markdown",
   "metadata": {},
   "source": [
    "## Load table with new MORE GENERAL items\n",
    "\n",
    "Most food tables have specific items like \"meat of cattle\", etc.\n",
    "\n",
    "I will change all of these to the more general terms used in EMISSIONS TABLES: por ex. \"Cattle, dairy\"\n",
    "\n",
    "Create a dictionary to change super specific item names to more general names"
   ]
  },
  {
   "cell_type": "code",
   "execution_count": 103,
   "metadata": {},
   "outputs": [],
   "source": [
    "new_items_df = pd.read_csv(r'..\\data\\FAOSTAT\\clean_data\\food_codes_categorized_final.csv', encoding = 'ISO-8859-1')\n",
    "new_items_df.dropna(subset='Item_emissions_table', inplace=True)\n",
    "new_items_df['Item_code_emissions_table'] = new_items_df['Item_code_emissions_table'].astype('int64')"
   ]
  },
  {
   "cell_type": "code",
   "execution_count": 104,
   "metadata": {},
   "outputs": [
    {
     "name": "stdout",
     "output_type": "stream",
     "text": [
      "140\n",
      "140\n"
     ]
    }
   ],
   "source": [
    "# I saw some changes between tables. Just in case I will use ALL item codes and items and an \"OR CONDITIONAL\"\n",
    "all_item_codes = list(new_items_df['Item_Code'].unique()) + list(new_items_df['Item_code_emissions_table'].unique())\n",
    "print(len(all_item_codes))\n",
    "\n",
    "all_items = list(new_items_df['Item'].unique()) + list(new_items_df['Item_emissions_table'].unique())\n",
    "print(len(all_items))"
   ]
  },
  {
   "cell_type": "markdown",
   "metadata": {},
   "source": [
    "## Load food and country tables and extract features\n",
    "\n",
    "Iterate through selected food and country tables and extract features to merge with emissions table"
   ]
  },
  {
   "cell_type": "code",
   "execution_count": 8,
   "metadata": {},
   "outputs": [],
   "source": [
    "directory = r'..\\data\\FAOSTAT\\all_raw'"
   ]
  },
  {
   "cell_type": "code",
   "execution_count": 9,
   "metadata": {},
   "outputs": [],
   "source": [
    "selected_tables = [64, 60, 61, 66, 69]"
   ]
  },
  {
   "cell_type": "code",
   "execution_count": 10,
   "metadata": {},
   "outputs": [],
   "source": [
    "selected_elements = [\n",
    "    \"Protein supply quantity (g/capita/day)\",\n",
    "    \"Food supply quantity (tonnes)\",\n",
    "    \"Food supply (kcal/capita/day)\",\n",
    "    \"Food supply quantity (g/capita/day)\",\n",
    "    \"Tourist consumption\",\n",
    "    \"Producer Price (USD/tonne)\",\n",
    "    \"Area harvested\",\n",
    "    \"Production\",\n",
    "    \"Yield\",\n",
    "    \"Export Value\",\n",
    "    \"Import Value\",\n",
    "    \"Export Quantity\",\n",
    "    \"Import Quantity\",\n",
    "    \"Gross Production Value (current thousand US$)\"\n",
    "]"
   ]
  },
  {
   "cell_type": "code",
   "execution_count": 27,
   "metadata": {},
   "outputs": [],
   "source": [
    "merged_df = pd.DataFrame()\n",
    "\n",
    "for table in selected_tables:\n",
    "    # Load the data\n",
    "    df = load_fao_table(table, directory)\n",
    "\n",
    "    # select food items in emissions table\n",
    "    df = df[df['Item Code'].isin(all_item_codes)]# | df['Item'].isin(all_items)].copy()\n",
    "\n",
    "    # Select elements defined in the beginning\n",
    "    df = df[df['Element'].isin(selected_elements)]\n",
    "    \n",
    "    # Replace spaces and commas in column names\n",
    "    cols_with_spaces = ['Element', 'Unit']\n",
    "    for col in cols_with_spaces:\n",
    "        df[col] = df[col].str.replace(' ', '_').str.replace(',', '_')\n",
    "\n",
    "    # Combine 'Element' and 'Unit' columns\n",
    "    df['Element'] = df['Element'] + \"_\" + df['Unit']\n",
    "\n",
    "    # Group by Area, Year, Item, and Element, then sum the values\n",
    "    grouped = df.groupby(['Area Code', 'Area', 'Year', 'Item Code', 'Item', 'Element'])['Value'].sum().reset_index()\n",
    "\n",
    "    # Pivot the table to have combinations of Items and Elements as columns\n",
    "    pivot_df = grouped.pivot_table(index=['Area Code', 'Area', 'Year', 'Item Code', 'Item'], \n",
    "                                    columns=['Element'], \n",
    "                                    values='Value', \n",
    "                                    aggfunc='sum').reset_index()\n",
    "\n",
    "    if merged_df.empty:\n",
    "        merged_df = pivot_df\n",
    "    else:\n",
    "        merged_df = pd.merge(merged_df, pivot_df, on=['Area Code', 'Area', 'Year', 'Item Code', 'Item'], how='outer')"
   ]
  },
  {
   "cell_type": "code",
   "execution_count": 30,
   "metadata": {},
   "outputs": [],
   "source": [
    "merged_df.to_parquet(r'..\\data\\FAOSTAT\\clean_data\\all_tables_processed\\full_food_dataset_v1.parquet', index=False)"
   ]
  },
  {
   "cell_type": "markdown",
   "metadata": {},
   "source": [
    "# Convert specific items to aggregated items and aggregate by item ,year and area"
   ]
  },
  {
   "cell_type": "code",
   "execution_count": 133,
   "metadata": {},
   "outputs": [],
   "source": [
    "merged_df = pd.read_parquet(r'..\\data\\FAOSTAT\\clean_data\\all_tables_processed\\full_food_dataset_v1.parquet')"
   ]
  },
  {
   "cell_type": "code",
   "execution_count": 134,
   "metadata": {},
   "outputs": [],
   "source": [
    "merged_df.drop(columns=['Export_Quantity_t_x', 'Production_t_x', 'Import_Quantity_t_x'], inplace=True)"
   ]
  },
  {
   "cell_type": "code",
   "execution_count": 135,
   "metadata": {},
   "outputs": [
    {
     "data": {
      "text/plain": [
       "\" stacked_corr = merged_df.corr(numeric_only=True).stack().reset_index()\\n# Rename the columns for better readability\\nstacked_corr.columns = ['Feature 1', 'Feature 2', 'Correlation']\\n#Filter out self-correlations\\nfiltered_corr = stacked_corr[stacked_corr['Feature 1'] != stacked_corr['Feature 2']]\\n\\nfiltered_corr.sort_values(by='Correlation', ascending=False).head(10) \""
      ]
     },
     "execution_count": 135,
     "metadata": {},
     "output_type": "execute_result"
    }
   ],
   "source": [
    "\"\"\" stacked_corr = merged_df.corr(numeric_only=True).stack().reset_index()\n",
    "# Rename the columns for better readability\n",
    "stacked_corr.columns = ['Feature 1', 'Feature 2', 'Correlation']\n",
    "#Filter out self-correlations\n",
    "filtered_corr = stacked_corr[stacked_corr['Feature 1'] != stacked_corr['Feature 2']]\n",
    "\n",
    "filtered_corr.sort_values(by='Correlation', ascending=False).head(10) \"\"\""
   ]
  },
  {
   "cell_type": "code",
   "execution_count": 136,
   "metadata": {},
   "outputs": [],
   "source": [
    "# merged_df[merged_df['Year'] == 2021].to_csv('merged_df_2021.csv', index=False)\n",
    "# emissions_df[emissions_df['Year'] == 2021].to_csv('emissions_df_2021.csv', index=False)"
   ]
  },
  {
   "cell_type": "code",
   "execution_count": 137,
   "metadata": {},
   "outputs": [],
   "source": [
    "# Merge with new agreggated items from emissions table\n",
    "merged_df_new_items = pd.merge(merged_df, new_items_df, left_on='Item Code', right_on='Item_Code', how='left')"
   ]
  },
  {
   "cell_type": "code",
   "execution_count": 138,
   "metadata": {},
   "outputs": [
    {
     "name": "stdout",
     "output_type": "stream",
     "text": [
      "['Food_supply_(kcal/capita/day)_kcal/cap/d', 'Food_supply_quantity_(g/capita/day)_g/cap/d', 'Food_supply_quantity_(tonnes)_t', 'Protein_supply_quantity_(g/capita/day)_g/cap/d', 'Tourist_consumption_t', 'Producer_Price_(USD/tonne)_USD', 'Area_harvested_ha', 'Production_1000_No', 'Production_t_y', 'Yield_100_g/An', 'Yield_100_g/ha', 'Yield_100_mg/An', 'Yield_No/An', 'Export_Quantity_1000_An', 'Export_Quantity_An', 'Export_Quantity_t_y', 'Export_Value_1000_USD', 'Import_Quantity_1000_An', 'Import_Quantity_An', 'Import_Quantity_t_y', 'Import_Value_1000_USD', 'Gross_Production_Value_(current_thousand_US$)_1000_USD']\n"
     ]
    }
   ],
   "source": [
    "# Define columns to aggregate and columns to sum\n",
    "group_by_columns = ['Area Code', 'Area', 'Year', 'Item_code_emissions_table', 'Item_emissions_table']\n",
    "\n",
    "sum_columns = merged_df_new_items.columns.to_list()[5:27]\n",
    "print(sum_columns)"
   ]
  },
  {
   "cell_type": "code",
   "execution_count": 139,
   "metadata": {},
   "outputs": [],
   "source": [
    "aggregated_df = merged_df_new_items.groupby(group_by_columns)[sum_columns].sum().reset_index()"
   ]
  },
  {
   "cell_type": "code",
   "execution_count": 140,
   "metadata": {},
   "outputs": [
    {
     "data": {
      "text/html": [
       "<div>\n",
       "<style scoped>\n",
       "    .dataframe tbody tr th:only-of-type {\n",
       "        vertical-align: middle;\n",
       "    }\n",
       "\n",
       "    .dataframe tbody tr th {\n",
       "        vertical-align: top;\n",
       "    }\n",
       "\n",
       "    .dataframe thead th {\n",
       "        text-align: right;\n",
       "    }\n",
       "</style>\n",
       "<table border=\"1\" class=\"dataframe\">\n",
       "  <thead>\n",
       "    <tr style=\"text-align: right;\">\n",
       "      <th></th>\n",
       "      <th>Area Code</th>\n",
       "      <th>Area</th>\n",
       "      <th>Year</th>\n",
       "      <th>Item_code_emissions_table</th>\n",
       "      <th>Item_emissions_table</th>\n",
       "      <th>Food_supply_(kcal/capita/day)_kcal/cap/d</th>\n",
       "      <th>Food_supply_quantity_(g/capita/day)_g/cap/d</th>\n",
       "      <th>Food_supply_quantity_(tonnes)_t</th>\n",
       "      <th>Protein_supply_quantity_(g/capita/day)_g/cap/d</th>\n",
       "      <th>Tourist_consumption_t</th>\n",
       "      <th>...</th>\n",
       "      <th>Yield_No/An</th>\n",
       "      <th>Export_Quantity_1000_An</th>\n",
       "      <th>Export_Quantity_An</th>\n",
       "      <th>Export_Quantity_t_y</th>\n",
       "      <th>Export_Value_1000_USD</th>\n",
       "      <th>Import_Quantity_1000_An</th>\n",
       "      <th>Import_Quantity_An</th>\n",
       "      <th>Import_Quantity_t_y</th>\n",
       "      <th>Import_Value_1000_USD</th>\n",
       "      <th>Gross_Production_Value_(current_thousand_US$)_1000_USD</th>\n",
       "    </tr>\n",
       "  </thead>\n",
       "  <tbody>\n",
       "    <tr>\n",
       "      <th>92262</th>\n",
       "      <td>98</td>\n",
       "      <td>Croatia</td>\n",
       "      <td>2017</td>\n",
       "      <td>1757</td>\n",
       "      <td>Cattle</td>\n",
       "      <td>0.00</td>\n",
       "      <td>0.00</td>\n",
       "      <td>0.00</td>\n",
       "      <td>0.00</td>\n",
       "      <td>0.0</td>\n",
       "      <td>...</td>\n",
       "      <td>0.0</td>\n",
       "      <td>0.0</td>\n",
       "      <td>133977.0</td>\n",
       "      <td>0.00</td>\n",
       "      <td>156613.0</td>\n",
       "      <td>0.0</td>\n",
       "      <td>137463.0</td>\n",
       "      <td>0.00</td>\n",
       "      <td>84105.0</td>\n",
       "      <td>0.0</td>\n",
       "    </tr>\n",
       "    <tr>\n",
       "      <th>229327</th>\n",
       "      <td>235</td>\n",
       "      <td>Uzbekistan</td>\n",
       "      <td>2009</td>\n",
       "      <td>83</td>\n",
       "      <td>Sorghum</td>\n",
       "      <td>0.00</td>\n",
       "      <td>0.00</td>\n",
       "      <td>0.00</td>\n",
       "      <td>0.00</td>\n",
       "      <td>0.0</td>\n",
       "      <td>...</td>\n",
       "      <td>0.0</td>\n",
       "      <td>0.0</td>\n",
       "      <td>0.0</td>\n",
       "      <td>0.00</td>\n",
       "      <td>0.0</td>\n",
       "      <td>0.0</td>\n",
       "      <td>0.0</td>\n",
       "      <td>0.00</td>\n",
       "      <td>0.0</td>\n",
       "      <td>0.0</td>\n",
       "    </tr>\n",
       "    <tr>\n",
       "      <th>174618</th>\n",
       "      <td>179</td>\n",
       "      <td>Qatar</td>\n",
       "      <td>2012</td>\n",
       "      <td>15</td>\n",
       "      <td>Wheat</td>\n",
       "      <td>0.00</td>\n",
       "      <td>0.00</td>\n",
       "      <td>0.00</td>\n",
       "      <td>0.00</td>\n",
       "      <td>0.0</td>\n",
       "      <td>...</td>\n",
       "      <td>0.0</td>\n",
       "      <td>0.0</td>\n",
       "      <td>0.0</td>\n",
       "      <td>8151.00</td>\n",
       "      <td>4523.0</td>\n",
       "      <td>0.0</td>\n",
       "      <td>0.0</td>\n",
       "      <td>230335.00</td>\n",
       "      <td>85514.0</td>\n",
       "      <td>0.0</td>\n",
       "    </tr>\n",
       "    <tr>\n",
       "      <th>1504</th>\n",
       "      <td>2</td>\n",
       "      <td>Afghanistan</td>\n",
       "      <td>2016</td>\n",
       "      <td>15</td>\n",
       "      <td>Wheat</td>\n",
       "      <td>1377.11</td>\n",
       "      <td>381.47</td>\n",
       "      <td>4822649.65</td>\n",
       "      <td>41.58</td>\n",
       "      <td>0.0</td>\n",
       "      <td>...</td>\n",
       "      <td>0.0</td>\n",
       "      <td>0.0</td>\n",
       "      <td>0.0</td>\n",
       "      <td>88.77</td>\n",
       "      <td>43.0</td>\n",
       "      <td>0.0</td>\n",
       "      <td>0.0</td>\n",
       "      <td>2315422.74</td>\n",
       "      <td>608416.0</td>\n",
       "      <td>0.0</td>\n",
       "    </tr>\n",
       "    <tr>\n",
       "      <th>120165</th>\n",
       "      <td>122</td>\n",
       "      <td>Lesotho</td>\n",
       "      <td>1974</td>\n",
       "      <td>1052</td>\n",
       "      <td>Chickens; layers</td>\n",
       "      <td>0.00</td>\n",
       "      <td>0.00</td>\n",
       "      <td>0.00</td>\n",
       "      <td>0.00</td>\n",
       "      <td>0.0</td>\n",
       "      <td>...</td>\n",
       "      <td>56.0</td>\n",
       "      <td>0.0</td>\n",
       "      <td>0.0</td>\n",
       "      <td>0.00</td>\n",
       "      <td>0.0</td>\n",
       "      <td>0.0</td>\n",
       "      <td>0.0</td>\n",
       "      <td>84.00</td>\n",
       "      <td>224.0</td>\n",
       "      <td>0.0</td>\n",
       "    </tr>\n",
       "  </tbody>\n",
       "</table>\n",
       "<p>5 rows × 27 columns</p>\n",
       "</div>"
      ],
      "text/plain": [
       "        Area Code         Area  Year  Item_code_emissions_table  \\\n",
       "92262          98      Croatia  2017                       1757   \n",
       "229327        235   Uzbekistan  2009                         83   \n",
       "174618        179        Qatar  2012                         15   \n",
       "1504            2  Afghanistan  2016                         15   \n",
       "120165        122      Lesotho  1974                       1052   \n",
       "\n",
       "       Item_emissions_table  Food_supply_(kcal/capita/day)_kcal/cap/d  \\\n",
       "92262                Cattle                                      0.00   \n",
       "229327              Sorghum                                      0.00   \n",
       "174618                Wheat                                      0.00   \n",
       "1504                  Wheat                                   1377.11   \n",
       "120165     Chickens; layers                                      0.00   \n",
       "\n",
       "        Food_supply_quantity_(g/capita/day)_g/cap/d  \\\n",
       "92262                                          0.00   \n",
       "229327                                         0.00   \n",
       "174618                                         0.00   \n",
       "1504                                         381.47   \n",
       "120165                                         0.00   \n",
       "\n",
       "        Food_supply_quantity_(tonnes)_t  \\\n",
       "92262                              0.00   \n",
       "229327                             0.00   \n",
       "174618                             0.00   \n",
       "1504                         4822649.65   \n",
       "120165                             0.00   \n",
       "\n",
       "        Protein_supply_quantity_(g/capita/day)_g/cap/d  Tourist_consumption_t  \\\n",
       "92262                                             0.00                    0.0   \n",
       "229327                                            0.00                    0.0   \n",
       "174618                                            0.00                    0.0   \n",
       "1504                                             41.58                    0.0   \n",
       "120165                                            0.00                    0.0   \n",
       "\n",
       "        ...  Yield_No/An  Export_Quantity_1000_An  Export_Quantity_An  \\\n",
       "92262   ...          0.0                      0.0            133977.0   \n",
       "229327  ...          0.0                      0.0                 0.0   \n",
       "174618  ...          0.0                      0.0                 0.0   \n",
       "1504    ...          0.0                      0.0                 0.0   \n",
       "120165  ...         56.0                      0.0                 0.0   \n",
       "\n",
       "        Export_Quantity_t_y  Export_Value_1000_USD  Import_Quantity_1000_An  \\\n",
       "92262                  0.00               156613.0                      0.0   \n",
       "229327                 0.00                    0.0                      0.0   \n",
       "174618              8151.00                 4523.0                      0.0   \n",
       "1504                  88.77                   43.0                      0.0   \n",
       "120165                 0.00                    0.0                      0.0   \n",
       "\n",
       "        Import_Quantity_An  Import_Quantity_t_y  Import_Value_1000_USD  \\\n",
       "92262             137463.0                 0.00                84105.0   \n",
       "229327                 0.0                 0.00                    0.0   \n",
       "174618                 0.0            230335.00                85514.0   \n",
       "1504                   0.0           2315422.74               608416.0   \n",
       "120165                 0.0                84.00                  224.0   \n",
       "\n",
       "        Gross_Production_Value_(current_thousand_US$)_1000_USD  \n",
       "92262                                                 0.0       \n",
       "229327                                                0.0       \n",
       "174618                                                0.0       \n",
       "1504                                                  0.0       \n",
       "120165                                                0.0       \n",
       "\n",
       "[5 rows x 27 columns]"
      ]
     },
     "execution_count": 140,
     "metadata": {},
     "output_type": "execute_result"
    }
   ],
   "source": [
    "aggregated_df.sample(5)"
   ]
  },
  {
   "cell_type": "markdown",
   "metadata": {},
   "source": [
    "# Merge with emissions table"
   ]
  },
  {
   "cell_type": "markdown",
   "metadata": {},
   "source": [
    "Also aggregate by item and year (loosing country data)"
   ]
  },
  {
   "cell_type": "code",
   "execution_count": 141,
   "metadata": {},
   "outputs": [
    {
     "name": "stdout",
     "output_type": "stream",
     "text": [
      "['Stocks_(An)', 'Burning_crop_residues_(Emissions_CH4_CO2eq)_(kt)', 'Burning_crop_residues_(Emissions_N2O_CO2eq)_(kt)', 'Crop_residues_(Emissions_N2O_CO2eq)_(kt)', 'Crops_total_(Emissions_CH4_CO2eq)_(kt)', 'Crops_total_(Emissions_N2O_CO2eq)_(kt)', 'Rice_cultivation_(Emissions_CH4_CO2eq)_(kt)', 'Synthetic_fertilizers_(Emissions_N2O_CO2eq)_(kt)', 'Emissions_(N2O_CO2eq)_(Manure_applied)_(kt)', 'Enteric_fermentation_(Emissions_CH4_CO2eq)_(kt)', 'Livestock_total_(Emissions_CH4_CO2eq)_(kt)', 'Livestock_total_(Emissions_N2O_CO2eq)_(kt)', 'Manure_left_on_pasture_(Emissions_N2O_CO2eq)_(kt)', 'Manure_management_(Emissions_CH4_CO2eq)_(kt)', 'Manure_management_(Emissions_N2O_CO2eq)_(kt)', 'production_TOTAL_(emissions_CO2eq)_(kt)']\n"
     ]
    }
   ],
   "source": [
    "# Define columns to aggregate and columns to sum\n",
    "group_by_columns = ['Area Code', 'Area', 'Year', 'Item Code', 'Item', 'crops_or_livestock']\n",
    "\n",
    "sum_columns = [col for col in emissions_df.columns if col not in group_by_columns+['Area Code', 'Area']]\n",
    "print(sum_columns)"
   ]
  },
  {
   "cell_type": "code",
   "execution_count": 142,
   "metadata": {},
   "outputs": [],
   "source": [
    "aggregated_df_emissions = emissions_df.groupby(group_by_columns)[sum_columns].sum().reset_index()"
   ]
  },
  {
   "cell_type": "code",
   "execution_count": 168,
   "metadata": {},
   "outputs": [],
   "source": [
    "full_food_df = pd.merge(aggregated_df_emissions, aggregated_df, \n",
    "                        left_on=['Area Code', 'Area', 'Year', 'Item Code'],\n",
    "                        right_on=['Area Code', 'Area', 'Year', 'Item_code_emissions_table'],\n",
    "                        how='inner')"
   ]
  },
  {
   "cell_type": "code",
   "execution_count": 169,
   "metadata": {},
   "outputs": [
    {
     "name": "stdout",
     "output_type": "stream",
     "text": [
      "(320982, 27)\n",
      "(252987, 22)\n",
      "Final shape: (232040, 46)\n"
     ]
    }
   ],
   "source": [
    "print(aggregated_df.shape)\n",
    "print(aggregated_df_emissions.shape)\n",
    "print(f'Final shape: {full_food_df.shape}')"
   ]
  },
  {
   "cell_type": "code",
   "execution_count": 175,
   "metadata": {},
   "outputs": [],
   "source": [
    "#Save sample to check manually\n",
    "full_food_df[(full_food_df['Year'] == 2021) & (full_food_df['Area'] == 'World')].to_csv('2021_food_test.csv', index=False)"
   ]
  },
  {
   "cell_type": "markdown",
   "metadata": {},
   "source": [
    "## Remove items: Cattle, Chickens, Poultry Birds\n",
    "\n",
    "Whole animal items. They don`t contain information about production, yield, etc. "
   ]
  },
  {
   "cell_type": "code",
   "execution_count": 170,
   "metadata": {},
   "outputs": [],
   "source": [
    "whole_animal_items = [1054,1757,2029]\n",
    "\n",
    "full_food_df = full_food_df[~full_food_df['Item_code_emissions_table'].isin(whole_animal_items)]"
   ]
  },
  {
   "cell_type": "markdown",
   "metadata": {},
   "source": [
    "## Remove columns without data for most items\n",
    "\n",
    "After manual inspection"
   ]
  },
  {
   "cell_type": "code",
   "execution_count": 171,
   "metadata": {},
   "outputs": [],
   "source": [
    "column_names = [\n",
    "    \"Item_code_emissions_table\",\n",
    "    \"Item_emissions_table\",\n",
    "    \"Producer_Price_(USD/tonne)_USD\",\n",
    "    \"Production_1000_No\",\n",
    "    \"Yield_100_g/An\",\n",
    "    \"Yield_100_mg/An\",\n",
    "    \"Yield_No/An\",\n",
    "    \"Export_Quantity_1000_An\",\n",
    "    \"Export_Quantity_An\",\n",
    "    \"Import_Quantity_1000_An\",\n",
    "    \"Import_Quantity_An\"\n",
    "]\n",
    "\n",
    "full_food_df = full_food_df.drop(columns=column_names)"
   ]
  },
  {
   "cell_type": "code",
   "execution_count": 174,
   "metadata": {},
   "outputs": [],
   "source": [
    "full_food_df.to_parquet(r'..\\data\\FAOSTAT\\clean_data\\all_tables_processed\\full_food_dataset_v2_aggregated_byitem.parquet', index=False)"
   ]
  }
 ],
 "metadata": {
  "kernelspec": {
   "display_name": "Python 3",
   "language": "python",
   "name": "python3"
  },
  "language_info": {
   "codemirror_mode": {
    "name": "ipython",
    "version": 3
   },
   "file_extension": ".py",
   "mimetype": "text/x-python",
   "name": "python",
   "nbconvert_exporter": "python",
   "pygments_lexer": "ipython3",
   "version": "3.12.3"
  }
 },
 "nbformat": 4,
 "nbformat_minor": 2
}
