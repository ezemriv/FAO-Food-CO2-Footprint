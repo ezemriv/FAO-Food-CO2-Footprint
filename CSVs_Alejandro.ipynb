{
 "cells": [
  {
   "cell_type": "markdown",
   "metadata": {},
   "source": [
    "# **Raw data**\n",
    "\n",
    "I have downloaded all data from https://www.fao.org/faostat/en/#home --> \"Bulk Download\"\n",
    "I will inspect tables related to \"emissions\""
   ]
  },
  {
   "cell_type": "code",
   "execution_count": 1,
   "metadata": {},
   "outputs": [],
   "source": [
    "import os\n",
    "import zipfile\n",
    "import pandas as pd\n",
    "import random"
   ]
  },
  {
   "cell_type": "code",
   "execution_count": 2,
   "metadata": {},
   "outputs": [
    {
     "data": {
      "text/plain": [
       "'.\\\\data\\\\FAOSTAT'"
      ]
     },
     "execution_count": 2,
     "metadata": {},
     "output_type": "execute_result"
    }
   ],
   "source": [
    "path = r\".\\data\\FAOSTAT\"\n",
    "path"
   ]
  },
  {
   "cell_type": "code",
   "execution_count": 3,
   "metadata": {},
   "outputs": [],
   "source": [
    "path_out = r\".\\data\\FAOSTAT\\sample_data\""
   ]
  },
  {
   "cell_type": "code",
   "execution_count": 4,
   "metadata": {},
   "outputs": [],
   "source": [
    "# Function to read CSV files from zip archives and save a sample\n",
    "def read_csv_from_zip(zip_file_path, csv_filename_pattern, sample_size=20000):\n",
    "    with zipfile.ZipFile(zip_file_path, 'r') as zip_ref:\n",
    "        for file_name in zip_ref.namelist():\n",
    "            if file_name.endswith('.csv') and csv_filename_pattern in file_name:\n",
    "                with zip_ref.open(file_name) as csv_file:\n",
    "                    print(f\"Sample from {file_name}:\")\n",
    "                    df = pd.read_csv(csv_file, encoding=\"ISO-8859-1\")\n",
    "                    sample = df.sample(min(sample_size, len(df)))\n",
    "                    #Save each sample as a smaller dataframe\n",
    "                    sample.to_csv(f\"{path_out}\\\\sample_{file_name}\", index=False)"
   ]
  },
  {
   "cell_type": "code",
   "execution_count": 50,
   "metadata": {},
   "outputs": [],
   "source": [
    "# # Alternative low memmory\n",
    "# def read_csv_from_zip(zip_file_path, csv_filename_pattern, sample_size=1000, chunk_size=10000):\n",
    "#     with zipfile.ZipFile(zip_file_path, 'r') as zip_ref:\n",
    "#         for file_name in zip_ref.namelist():\n",
    "#             if file_name.endswith('.csv') and csv_filename_pattern in file_name:\n",
    "#                 with zip_ref.open(file_name) as csv_file:\n",
    "#                     print(f\"Sample from {file_name}:\")\n",
    "#                     reader = pd.read_csv(csv_file, encoding=\"ISO-8859-1\", chunksize=chunk_size)\n",
    "#                     sample = pd.concat([chunk.sample(min(sample_size, len(chunk))) for chunk in reader])\n",
    "#                     # Save each sample as a smaller dataframe\n",
    "#                     sample.to_csv(f\"{path_out}\\\\sample_{file_name}\", index=False)"
   ]
  },
  {
   "cell_type": "code",
   "execution_count": null,
   "metadata": {},
   "outputs": [],
   "source": [
    "# Iterate through zip files in the path\n",
    "for file_name in os.listdir(path):\n",
    "    if file_name.endswith('.zip'):\n",
    "        zip_file_path = os.path.join(path, file_name)\n",
    "        read_csv_from_zip(zip_file_path, \"All_Data_\")"
   ]
  },
  {
   "cell_type": "code",
   "execution_count": 7,
   "metadata": {},
   "outputs": [],
   "source": [
    "def read_CSV (numero):\n",
    "    full_path = f\"data/sample_data/{numero}-sample_Food_Security_Data_E_All_Data_(Normalized).csv\"\n",
    "    try:\n",
    "        df = pd.read_csv(full_path)\n",
    "    except:\n",
    "        print(\"no existe el archivo\")\n",
    "    \n",
    "    # Creamos un nombre de variable dinámico\n",
    "    nombre_variable = f\"df_{numero}\"\n",
    "    \n",
    "    # Asignamos el DataFrame a la variable dinámica\n",
    "    globals()[nombre_variable] = df\n",
    "    \n",
    "    return df"
   ]
  },
  {
   "cell_type": "markdown",
   "metadata": {},
   "source": [
    "### 37.(data/sample_data/37-sample_Food_Security_Data_E_All_Data_(Normalized).csv)"
   ]
  },
  {
   "cell_type": "code",
   "execution_count": 9,
   "metadata": {},
   "outputs": [
    {
     "data": {
      "text/html": [
       "<div>\n",
       "<style scoped>\n",
       "    .dataframe tbody tr th:only-of-type {\n",
       "        vertical-align: middle;\n",
       "    }\n",
       "\n",
       "    .dataframe tbody tr th {\n",
       "        vertical-align: top;\n",
       "    }\n",
       "\n",
       "    .dataframe thead th {\n",
       "        text-align: right;\n",
       "    }\n",
       "</style>\n",
       "<table border=\"1\" class=\"dataframe\">\n",
       "  <thead>\n",
       "    <tr style=\"text-align: right;\">\n",
       "      <th></th>\n",
       "      <th>Area Code</th>\n",
       "      <th>Area Code (M49)</th>\n",
       "      <th>Area</th>\n",
       "      <th>Item Code</th>\n",
       "      <th>Item</th>\n",
       "      <th>Element Code</th>\n",
       "      <th>Element</th>\n",
       "      <th>Year Code</th>\n",
       "      <th>Year</th>\n",
       "      <th>Unit</th>\n",
       "      <th>Value</th>\n",
       "      <th>Flag</th>\n",
       "      <th>Note</th>\n",
       "    </tr>\n",
       "  </thead>\n",
       "  <tbody>\n",
       "    <tr>\n",
       "      <th>0</th>\n",
       "      <td>157</td>\n",
       "      <td>'558</td>\n",
       "      <td>Nicaragua</td>\n",
       "      <td>210401M</td>\n",
       "      <td>Prevalence of severe food insecurity in the ma...</td>\n",
       "      <td>61211</td>\n",
       "      <td>Confidence interval: Lower bound</td>\n",
       "      <td>20172019</td>\n",
       "      <td>2017-2019</td>\n",
       "      <td>%</td>\n",
       "      <td>NaN</td>\n",
       "      <td>Q</td>\n",
       "      <td>NaN</td>\n",
       "    </tr>\n",
       "    <tr>\n",
       "      <th>1</th>\n",
       "      <td>5855</td>\n",
       "      <td>'127</td>\n",
       "      <td>Southern Asia (excluding India)</td>\n",
       "      <td>210081M</td>\n",
       "      <td>Number of moderately or severely food insecure...</td>\n",
       "      <td>61321</td>\n",
       "      <td>Confidence interval: Lower bound</td>\n",
       "      <td>20172019</td>\n",
       "      <td>2017-2019</td>\n",
       "      <td>million No</td>\n",
       "      <td>47.5</td>\n",
       "      <td>E</td>\n",
       "      <td>NaN</td>\n",
       "    </tr>\n",
       "    <tr>\n",
       "      <th>2</th>\n",
       "      <td>80</td>\n",
       "      <td>'070</td>\n",
       "      <td>Bosnia and Herzegovina</td>\n",
       "      <td>210081M</td>\n",
       "      <td>Number of moderately or severely food insecure...</td>\n",
       "      <td>6132</td>\n",
       "      <td>Value</td>\n",
       "      <td>20152017</td>\n",
       "      <td>2015-2017</td>\n",
       "      <td>million No</td>\n",
       "      <td>0.2</td>\n",
       "      <td>A</td>\n",
       "      <td>FAO data</td>\n",
       "    </tr>\n",
       "    <tr>\n",
       "      <th>3</th>\n",
       "      <td>96</td>\n",
       "      <td>'344</td>\n",
       "      <td>China, Hong Kong SAR</td>\n",
       "      <td>21013</td>\n",
       "      <td>Average protein supply (g/cap/day) (3-year ave...</td>\n",
       "      <td>6123</td>\n",
       "      <td>Value</td>\n",
       "      <td>20162018</td>\n",
       "      <td>2016-2018</td>\n",
       "      <td>g/cap/d</td>\n",
       "      <td>131</td>\n",
       "      <td>E</td>\n",
       "      <td>NaN</td>\n",
       "    </tr>\n",
       "    <tr>\n",
       "      <th>4</th>\n",
       "      <td>5502</td>\n",
       "      <td>'054</td>\n",
       "      <td>Melanesia</td>\n",
       "      <td>21025</td>\n",
       "      <td>Percentage of children under 5 years of age wh...</td>\n",
       "      <td>6121</td>\n",
       "      <td>Value</td>\n",
       "      <td>2011</td>\n",
       "      <td>2011</td>\n",
       "      <td>%</td>\n",
       "      <td>43</td>\n",
       "      <td>X</td>\n",
       "      <td>NaN</td>\n",
       "    </tr>\n",
       "  </tbody>\n",
       "</table>\n",
       "</div>"
      ],
      "text/plain": [
       "   Area Code Area Code (M49)                             Area Item Code  \\\n",
       "0        157            '558                        Nicaragua   210401M   \n",
       "1       5855            '127  Southern Asia (excluding India)   210081M   \n",
       "2         80            '070           Bosnia and Herzegovina   210081M   \n",
       "3         96            '344             China, Hong Kong SAR     21013   \n",
       "4       5502            '054                        Melanesia     21025   \n",
       "\n",
       "                                                Item  Element Code  \\\n",
       "0  Prevalence of severe food insecurity in the ma...         61211   \n",
       "1  Number of moderately or severely food insecure...         61321   \n",
       "2  Number of moderately or severely food insecure...          6132   \n",
       "3  Average protein supply (g/cap/day) (3-year ave...          6123   \n",
       "4  Percentage of children under 5 years of age wh...          6121   \n",
       "\n",
       "                            Element  Year Code       Year        Unit Value  \\\n",
       "0  Confidence interval: Lower bound   20172019  2017-2019           %   NaN   \n",
       "1  Confidence interval: Lower bound   20172019  2017-2019  million No  47.5   \n",
       "2                             Value   20152017  2015-2017  million No   0.2   \n",
       "3                             Value   20162018  2016-2018     g/cap/d   131   \n",
       "4                             Value       2011       2011           %    43   \n",
       "\n",
       "  Flag      Note  \n",
       "0    Q       NaN  \n",
       "1    E       NaN  \n",
       "2    A  FAO data  \n",
       "3    E       NaN  \n",
       "4    X       NaN  "
      ]
     },
     "execution_count": 9,
     "metadata": {},
     "output_type": "execute_result"
    }
   ],
   "source": [
    "numero = 37\n",
    "df_37 = read_CSV(numero)\n",
    "df_37.head()"
   ]
  }
 ],
 "metadata": {
  "kernelspec": {
   "display_name": "Python 3",
   "language": "python",
   "name": "python3"
  },
  "language_info": {
   "codemirror_mode": {
    "name": "ipython",
    "version": 3
   },
   "file_extension": ".py",
   "mimetype": "text/x-python",
   "name": "python",
   "nbconvert_exporter": "python",
   "pygments_lexer": "ipython3",
   "version": "3.12.2"
  }
 },
 "nbformat": 4,
 "nbformat_minor": 2
}
