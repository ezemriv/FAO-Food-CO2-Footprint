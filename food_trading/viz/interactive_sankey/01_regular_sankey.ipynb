{
 "cells": [
  {
   "cell_type": "markdown",
   "metadata": {},
   "source": [
    "# Sankey diagram of connections in trading between continents\n",
    "\n",
    "This can be used in the future to show trading between continents and emissions consequences."
   ]
  },
  {
   "cell_type": "code",
   "execution_count": 1,
   "metadata": {},
   "outputs": [],
   "source": [
    "#Use python 3.11\n",
    "import pandas as pd\n",
    "import plotly.graph_objects as go\n",
    "import seaborn as sns"
   ]
  },
  {
   "cell_type": "code",
   "execution_count": 94,
   "metadata": {},
   "outputs": [],
   "source": [
    "# Load data\n",
    "df = pd.read_csv(r'..\\data\\continent_trade_matrix_CO2eq.csv')"
   ]
  },
  {
   "cell_type": "code",
   "execution_count": 95,
   "metadata": {},
   "outputs": [
    {
     "name": "stdout",
     "output_type": "stream",
     "text": [
      "2022 1986\n"
     ]
    }
   ],
   "source": [
    "print(df.year.max(), df.year.min())"
   ]
  },
  {
   "cell_type": "code",
   "execution_count": 96,
   "metadata": {},
   "outputs": [],
   "source": [
    "#Drop antarctica\n",
    "df = df[df['target']!= 'antarctica']\n",
    "df = df[df['source']!= 'antarctica']"
   ]
  },
  {
   "cell_type": "code",
   "execution_count": 97,
   "metadata": {},
   "outputs": [],
   "source": [
    "unique_continents = sorted(set(df['source'].unique()) | set(df['target'].unique()))"
   ]
  },
  {
   "cell_type": "code",
   "execution_count": 98,
   "metadata": {},
   "outputs": [],
   "source": [
    "hex_colors = [\n",
    "    \"#4E79A7\",  # Blue, Africa\n",
    "    \"#EDC948\",  # Yellow, Asia\n",
    "    \"#E15759\",  # Red, Europe\n",
    "    \"#76B7B2\",  # Light Blue, North America\n",
    "    \"#B07AA1\",  # Purple, Oceania\n",
    "    \"#59A14F\",  # Green, South America\n",
    "]"
   ]
  },
  {
   "cell_type": "code",
   "execution_count": 99,
   "metadata": {},
   "outputs": [
    {
     "data": {
      "application/vnd.plotly.v1+json": {
       "config": {
        "plotlyServerURL": "https://plotly.com"
       },
       "data": [
        {
         "link": {
          "color": [
           "#4E79A7",
           "#4E79A7",
           "#4E79A7",
           "#4E79A7",
           "#4E79A7",
           "#4E79A7",
           "#EDC948",
           "#EDC948",
           "#EDC948",
           "#EDC948",
           "#EDC948",
           "#EDC948",
           "#E15759",
           "#E15759",
           "#E15759",
           "#E15759",
           "#E15759",
           "#E15759",
           "#76B7B2",
           "#76B7B2",
           "#76B7B2",
           "#76B7B2",
           "#76B7B2",
           "#76B7B2",
           "#B07AA1",
           "#B07AA1",
           "#B07AA1",
           "#B07AA1",
           "#B07AA1",
           "#B07AA1",
           "#59A14F",
           "#59A14F",
           "#59A14F",
           "#59A14F",
           "#59A14F",
           "#59A14F"
          ],
          "source": [
           0,
           1,
           2,
           3,
           4,
           5,
           0,
           1,
           2,
           3,
           4,
           5,
           0,
           1,
           2,
           3,
           4,
           5,
           0,
           1,
           2,
           3,
           4,
           5,
           0,
           1,
           2,
           3,
           4,
           5,
           0,
           1,
           2,
           3,
           4,
           5
          ],
          "target": [
           0,
           0,
           0,
           0,
           0,
           0,
           1,
           1,
           1,
           1,
           1,
           1,
           2,
           2,
           2,
           2,
           2,
           2,
           3,
           3,
           3,
           3,
           3,
           3,
           4,
           4,
           4,
           4,
           4,
           4,
           5,
           5,
           5,
           5,
           5,
           5
          ],
          "value": [
           3271872522.1492333,
           1498421298.2912989,
           939585212.2108284,
           586044604.1319495,
           197607065.4101397,
           1724142933.852362,
           12027511961.310703,
           76169138987.10359,
           6146135267.366811,
           21883091499.88344,
           9823840574.779558,
           36047685197.60919,
           21240093834.559948,
           6416982664.185406,
           75882149639.76518,
           35489733194.40388,
           1040886510.6067046,
           65100906889.59533,
           5165234602.399802,
           5132126832.778924,
           2446482855.722324,
           59608694549.612526,
           855673936.9762158,
           21409234694.46585,
           42638609.91620484,
           651413231.2670661,
           899330269.5765455,
           1373637711.5996523,
           59162311.96474481,
           911572659.0956866,
           193687177.0261712,
           296853360.66846204,
           778217166.1861289,
           957702412.1966212,
           106330480.51386952,
           21935327575.673428
          ]
         },
         "node": {
          "color": [
           "#4E79A7",
           "#EDC948",
           "#E15759",
           "#76B7B2",
           "#B07AA1",
           "#59A14F"
          ],
          "label": [
           "africa",
           "asia",
           "europe",
           "north america",
           "oceania",
           "south america"
          ]
         },
         "type": "sankey"
        }
       ],
       "layout": {
        "font": {
         "size": 16
        },
        "template": {
         "data": {
          "bar": [
           {
            "error_x": {
             "color": "#2a3f5f"
            },
            "error_y": {
             "color": "#2a3f5f"
            },
            "marker": {
             "line": {
              "color": "#E5ECF6",
              "width": 0.5
             },
             "pattern": {
              "fillmode": "overlay",
              "size": 10,
              "solidity": 0.2
             }
            },
            "type": "bar"
           }
          ],
          "barpolar": [
           {
            "marker": {
             "line": {
              "color": "#E5ECF6",
              "width": 0.5
             },
             "pattern": {
              "fillmode": "overlay",
              "size": 10,
              "solidity": 0.2
             }
            },
            "type": "barpolar"
           }
          ],
          "carpet": [
           {
            "aaxis": {
             "endlinecolor": "#2a3f5f",
             "gridcolor": "white",
             "linecolor": "white",
             "minorgridcolor": "white",
             "startlinecolor": "#2a3f5f"
            },
            "baxis": {
             "endlinecolor": "#2a3f5f",
             "gridcolor": "white",
             "linecolor": "white",
             "minorgridcolor": "white",
             "startlinecolor": "#2a3f5f"
            },
            "type": "carpet"
           }
          ],
          "choropleth": [
           {
            "colorbar": {
             "outlinewidth": 0,
             "ticks": ""
            },
            "type": "choropleth"
           }
          ],
          "contour": [
           {
            "colorbar": {
             "outlinewidth": 0,
             "ticks": ""
            },
            "colorscale": [
             [
              0,
              "#0d0887"
             ],
             [
              0.1111111111111111,
              "#46039f"
             ],
             [
              0.2222222222222222,
              "#7201a8"
             ],
             [
              0.3333333333333333,
              "#9c179e"
             ],
             [
              0.4444444444444444,
              "#bd3786"
             ],
             [
              0.5555555555555556,
              "#d8576b"
             ],
             [
              0.6666666666666666,
              "#ed7953"
             ],
             [
              0.7777777777777778,
              "#fb9f3a"
             ],
             [
              0.8888888888888888,
              "#fdca26"
             ],
             [
              1,
              "#f0f921"
             ]
            ],
            "type": "contour"
           }
          ],
          "contourcarpet": [
           {
            "colorbar": {
             "outlinewidth": 0,
             "ticks": ""
            },
            "type": "contourcarpet"
           }
          ],
          "heatmap": [
           {
            "colorbar": {
             "outlinewidth": 0,
             "ticks": ""
            },
            "colorscale": [
             [
              0,
              "#0d0887"
             ],
             [
              0.1111111111111111,
              "#46039f"
             ],
             [
              0.2222222222222222,
              "#7201a8"
             ],
             [
              0.3333333333333333,
              "#9c179e"
             ],
             [
              0.4444444444444444,
              "#bd3786"
             ],
             [
              0.5555555555555556,
              "#d8576b"
             ],
             [
              0.6666666666666666,
              "#ed7953"
             ],
             [
              0.7777777777777778,
              "#fb9f3a"
             ],
             [
              0.8888888888888888,
              "#fdca26"
             ],
             [
              1,
              "#f0f921"
             ]
            ],
            "type": "heatmap"
           }
          ],
          "heatmapgl": [
           {
            "colorbar": {
             "outlinewidth": 0,
             "ticks": ""
            },
            "colorscale": [
             [
              0,
              "#0d0887"
             ],
             [
              0.1111111111111111,
              "#46039f"
             ],
             [
              0.2222222222222222,
              "#7201a8"
             ],
             [
              0.3333333333333333,
              "#9c179e"
             ],
             [
              0.4444444444444444,
              "#bd3786"
             ],
             [
              0.5555555555555556,
              "#d8576b"
             ],
             [
              0.6666666666666666,
              "#ed7953"
             ],
             [
              0.7777777777777778,
              "#fb9f3a"
             ],
             [
              0.8888888888888888,
              "#fdca26"
             ],
             [
              1,
              "#f0f921"
             ]
            ],
            "type": "heatmapgl"
           }
          ],
          "histogram": [
           {
            "marker": {
             "pattern": {
              "fillmode": "overlay",
              "size": 10,
              "solidity": 0.2
             }
            },
            "type": "histogram"
           }
          ],
          "histogram2d": [
           {
            "colorbar": {
             "outlinewidth": 0,
             "ticks": ""
            },
            "colorscale": [
             [
              0,
              "#0d0887"
             ],
             [
              0.1111111111111111,
              "#46039f"
             ],
             [
              0.2222222222222222,
              "#7201a8"
             ],
             [
              0.3333333333333333,
              "#9c179e"
             ],
             [
              0.4444444444444444,
              "#bd3786"
             ],
             [
              0.5555555555555556,
              "#d8576b"
             ],
             [
              0.6666666666666666,
              "#ed7953"
             ],
             [
              0.7777777777777778,
              "#fb9f3a"
             ],
             [
              0.8888888888888888,
              "#fdca26"
             ],
             [
              1,
              "#f0f921"
             ]
            ],
            "type": "histogram2d"
           }
          ],
          "histogram2dcontour": [
           {
            "colorbar": {
             "outlinewidth": 0,
             "ticks": ""
            },
            "colorscale": [
             [
              0,
              "#0d0887"
             ],
             [
              0.1111111111111111,
              "#46039f"
             ],
             [
              0.2222222222222222,
              "#7201a8"
             ],
             [
              0.3333333333333333,
              "#9c179e"
             ],
             [
              0.4444444444444444,
              "#bd3786"
             ],
             [
              0.5555555555555556,
              "#d8576b"
             ],
             [
              0.6666666666666666,
              "#ed7953"
             ],
             [
              0.7777777777777778,
              "#fb9f3a"
             ],
             [
              0.8888888888888888,
              "#fdca26"
             ],
             [
              1,
              "#f0f921"
             ]
            ],
            "type": "histogram2dcontour"
           }
          ],
          "mesh3d": [
           {
            "colorbar": {
             "outlinewidth": 0,
             "ticks": ""
            },
            "type": "mesh3d"
           }
          ],
          "parcoords": [
           {
            "line": {
             "colorbar": {
              "outlinewidth": 0,
              "ticks": ""
             }
            },
            "type": "parcoords"
           }
          ],
          "pie": [
           {
            "automargin": true,
            "type": "pie"
           }
          ],
          "scatter": [
           {
            "fillpattern": {
             "fillmode": "overlay",
             "size": 10,
             "solidity": 0.2
            },
            "type": "scatter"
           }
          ],
          "scatter3d": [
           {
            "line": {
             "colorbar": {
              "outlinewidth": 0,
              "ticks": ""
             }
            },
            "marker": {
             "colorbar": {
              "outlinewidth": 0,
              "ticks": ""
             }
            },
            "type": "scatter3d"
           }
          ],
          "scattercarpet": [
           {
            "marker": {
             "colorbar": {
              "outlinewidth": 0,
              "ticks": ""
             }
            },
            "type": "scattercarpet"
           }
          ],
          "scattergeo": [
           {
            "marker": {
             "colorbar": {
              "outlinewidth": 0,
              "ticks": ""
             }
            },
            "type": "scattergeo"
           }
          ],
          "scattergl": [
           {
            "marker": {
             "colorbar": {
              "outlinewidth": 0,
              "ticks": ""
             }
            },
            "type": "scattergl"
           }
          ],
          "scattermapbox": [
           {
            "marker": {
             "colorbar": {
              "outlinewidth": 0,
              "ticks": ""
             }
            },
            "type": "scattermapbox"
           }
          ],
          "scatterpolar": [
           {
            "marker": {
             "colorbar": {
              "outlinewidth": 0,
              "ticks": ""
             }
            },
            "type": "scatterpolar"
           }
          ],
          "scatterpolargl": [
           {
            "marker": {
             "colorbar": {
              "outlinewidth": 0,
              "ticks": ""
             }
            },
            "type": "scatterpolargl"
           }
          ],
          "scatterternary": [
           {
            "marker": {
             "colorbar": {
              "outlinewidth": 0,
              "ticks": ""
             }
            },
            "type": "scatterternary"
           }
          ],
          "surface": [
           {
            "colorbar": {
             "outlinewidth": 0,
             "ticks": ""
            },
            "colorscale": [
             [
              0,
              "#0d0887"
             ],
             [
              0.1111111111111111,
              "#46039f"
             ],
             [
              0.2222222222222222,
              "#7201a8"
             ],
             [
              0.3333333333333333,
              "#9c179e"
             ],
             [
              0.4444444444444444,
              "#bd3786"
             ],
             [
              0.5555555555555556,
              "#d8576b"
             ],
             [
              0.6666666666666666,
              "#ed7953"
             ],
             [
              0.7777777777777778,
              "#fb9f3a"
             ],
             [
              0.8888888888888888,
              "#fdca26"
             ],
             [
              1,
              "#f0f921"
             ]
            ],
            "type": "surface"
           }
          ],
          "table": [
           {
            "cells": {
             "fill": {
              "color": "#EBF0F8"
             },
             "line": {
              "color": "white"
             }
            },
            "header": {
             "fill": {
              "color": "#C8D4E3"
             },
             "line": {
              "color": "white"
             }
            },
            "type": "table"
           }
          ]
         },
         "layout": {
          "annotationdefaults": {
           "arrowcolor": "#2a3f5f",
           "arrowhead": 0,
           "arrowwidth": 1
          },
          "autotypenumbers": "strict",
          "coloraxis": {
           "colorbar": {
            "outlinewidth": 0,
            "ticks": ""
           }
          },
          "colorscale": {
           "diverging": [
            [
             0,
             "#8e0152"
            ],
            [
             0.1,
             "#c51b7d"
            ],
            [
             0.2,
             "#de77ae"
            ],
            [
             0.3,
             "#f1b6da"
            ],
            [
             0.4,
             "#fde0ef"
            ],
            [
             0.5,
             "#f7f7f7"
            ],
            [
             0.6,
             "#e6f5d0"
            ],
            [
             0.7,
             "#b8e186"
            ],
            [
             0.8,
             "#7fbc41"
            ],
            [
             0.9,
             "#4d9221"
            ],
            [
             1,
             "#276419"
            ]
           ],
           "sequential": [
            [
             0,
             "#0d0887"
            ],
            [
             0.1111111111111111,
             "#46039f"
            ],
            [
             0.2222222222222222,
             "#7201a8"
            ],
            [
             0.3333333333333333,
             "#9c179e"
            ],
            [
             0.4444444444444444,
             "#bd3786"
            ],
            [
             0.5555555555555556,
             "#d8576b"
            ],
            [
             0.6666666666666666,
             "#ed7953"
            ],
            [
             0.7777777777777778,
             "#fb9f3a"
            ],
            [
             0.8888888888888888,
             "#fdca26"
            ],
            [
             1,
             "#f0f921"
            ]
           ],
           "sequentialminus": [
            [
             0,
             "#0d0887"
            ],
            [
             0.1111111111111111,
             "#46039f"
            ],
            [
             0.2222222222222222,
             "#7201a8"
            ],
            [
             0.3333333333333333,
             "#9c179e"
            ],
            [
             0.4444444444444444,
             "#bd3786"
            ],
            [
             0.5555555555555556,
             "#d8576b"
            ],
            [
             0.6666666666666666,
             "#ed7953"
            ],
            [
             0.7777777777777778,
             "#fb9f3a"
            ],
            [
             0.8888888888888888,
             "#fdca26"
            ],
            [
             1,
             "#f0f921"
            ]
           ]
          },
          "colorway": [
           "#636efa",
           "#EF553B",
           "#00cc96",
           "#ab63fa",
           "#FFA15A",
           "#19d3f3",
           "#FF6692",
           "#B6E880",
           "#FF97FF",
           "#FECB52"
          ],
          "font": {
           "color": "#2a3f5f"
          },
          "geo": {
           "bgcolor": "white",
           "lakecolor": "white",
           "landcolor": "#E5ECF6",
           "showlakes": true,
           "showland": true,
           "subunitcolor": "white"
          },
          "hoverlabel": {
           "align": "left"
          },
          "hovermode": "closest",
          "mapbox": {
           "style": "light"
          },
          "paper_bgcolor": "white",
          "plot_bgcolor": "#E5ECF6",
          "polar": {
           "angularaxis": {
            "gridcolor": "white",
            "linecolor": "white",
            "ticks": ""
           },
           "bgcolor": "#E5ECF6",
           "radialaxis": {
            "gridcolor": "white",
            "linecolor": "white",
            "ticks": ""
           }
          },
          "scene": {
           "xaxis": {
            "backgroundcolor": "#E5ECF6",
            "gridcolor": "white",
            "gridwidth": 2,
            "linecolor": "white",
            "showbackground": true,
            "ticks": "",
            "zerolinecolor": "white"
           },
           "yaxis": {
            "backgroundcolor": "#E5ECF6",
            "gridcolor": "white",
            "gridwidth": 2,
            "linecolor": "white",
            "showbackground": true,
            "ticks": "",
            "zerolinecolor": "white"
           },
           "zaxis": {
            "backgroundcolor": "#E5ECF6",
            "gridcolor": "white",
            "gridwidth": 2,
            "linecolor": "white",
            "showbackground": true,
            "ticks": "",
            "zerolinecolor": "white"
           }
          },
          "shapedefaults": {
           "line": {
            "color": "#2a3f5f"
           }
          },
          "ternary": {
           "aaxis": {
            "gridcolor": "white",
            "linecolor": "white",
            "ticks": ""
           },
           "baxis": {
            "gridcolor": "white",
            "linecolor": "white",
            "ticks": ""
           },
           "bgcolor": "#E5ECF6",
           "caxis": {
            "gridcolor": "white",
            "linecolor": "white",
            "ticks": ""
           }
          },
          "title": {
           "x": 0.05
          },
          "xaxis": {
           "automargin": true,
           "gridcolor": "white",
           "linecolor": "white",
           "ticks": "",
           "title": {
            "standoff": 15
           },
           "zerolinecolor": "white",
           "zerolinewidth": 2
          },
          "yaxis": {
           "automargin": true,
           "gridcolor": "white",
           "linecolor": "white",
           "ticks": "",
           "title": {
            "standoff": 15
           },
           "zerolinecolor": "white",
           "zerolinewidth": 2
          }
         }
        },
        "title": {
         "text": "2022 kg CO2eq Produced by Food Trade by Continent"
        }
       }
      }
     },
     "metadata": {},
     "output_type": "display_data"
    }
   ],
   "source": [
    "# Assuming your DataFrame is named 'df'\n",
    "year = 2022\n",
    "df_year = df[df['year'] == year]\n",
    "\n",
    "# Extract unique continents for labels\n",
    "unique_continents = sorted(set(df_year['source'].unique()) | set(df_year['target'].unique()))\n",
    "\n",
    "# Create mappings to node indices (0, 1, 2, ...)\n",
    "continent_to_index = {continent: i for i, continent in enumerate(unique_continents)}\n",
    "\n",
    "# Prepare data for Sankey diagram\n",
    "nodes = dict(label=unique_continents, color= hex_colors)  # Customize colors\n",
    "links = dict(\n",
    "    source=df_year['source'].map(continent_to_index),\n",
    "    target=df_year['target'].map(continent_to_index),\n",
    "    value=df_year['value'],\n",
    ")\n",
    "\n",
    "# Adjust link colors based on source node color\n",
    "opacity = 0.4\n",
    "link_colors = [nodes['color'][src].replace(\")\", f\", {opacity})\") for src in links['target']]\n",
    "\n",
    "# Create the Sankey diagram\n",
    "fig = go.Figure(data=[go.Sankey(\n",
    "    node= nodes,  # Customize colors,\n",
    "    link=dict(\n",
    "        source=links['source'],\n",
    "        target=links['target'],\n",
    "        value=links['value'],\n",
    "        color=link_colors  # Use adjusted colors\n",
    "    )\n",
    ")])\n",
    "\n",
    "fig.update_layout(\n",
    "    title_text=f\"{year} kg CO2eq Produced by Food Trade by Continent\",\n",
    "    font_size=16,\n",
    "    )\n",
    "\n",
    "fig.show()\n"
   ]
  },
  {
   "cell_type": "markdown",
   "metadata": {},
   "source": [
    "## Interactive inside output"
   ]
  },
  {
   "cell_type": "code",
   "execution_count": null,
   "metadata": {},
   "outputs": [],
   "source": [
    "hex_colors = [\n",
    "    \"#4E79A7\",  # Blue, Africa\n",
    "    \"#F28E2B\",  # Orange, Asia\n",
    "    \"#E15759\",  # Red, Europe\n",
    "    \"#76B7B2\",  # Light Blue, North America\n",
    "    \"#59A14F\",  # Green, Oceania\n",
    "    \"#EDC948\",  # Yellow, South America\n",
    "    \"#B07AA1\",  # Purple, Not assigned (extra color)\n",
    "    \"#FF9DA7\",  # Light Red, Not assigned (extra color)\n",
    "    \"#9C755F\",  # Brown, Not assigned (extra color)\n",
    "    \"#BAB0AC\"   # Gray, Not assigned (extra color)\n",
    "]"
   ]
  },
  {
   "cell_type": "code",
   "execution_count": 84,
   "metadata": {},
   "outputs": [
    {
     "data": {
      "application/vnd.plotly.v1+json": {
       "config": {
        "plotlyServerURL": "https://plotly.com"
       },
       "data": [
        {
         "link": {
          "color": [
           "#4E79A7",
           "#4E79A7",
           "#4E79A7",
           "#4E79A7",
           "#4E79A7",
           "#4E79A7",
           "#EDC948",
           "#EDC948",
           "#EDC948",
           "#EDC948",
           "#EDC948",
           "#EDC948",
           "#E15759",
           "#E15759",
           "#E15759",
           "#E15759",
           "#E15759",
           "#E15759",
           "#76B7B2",
           "#76B7B2",
           "#76B7B2",
           "#76B7B2",
           "#76B7B2",
           "#76B7B2",
           "#B07AA1",
           "#B07AA1",
           "#B07AA1",
           "#B07AA1",
           "#B07AA1",
           "#B07AA1",
           "#59A14F",
           "#59A14F",
           "#59A14F",
           "#59A14F",
           "#59A14F",
           "#59A14F"
          ],
          "source": [
           0,
           1,
           2,
           3,
           4,
           5,
           0,
           1,
           2,
           3,
           4,
           5,
           0,
           1,
           2,
           3,
           4,
           5,
           0,
           1,
           2,
           3,
           4,
           5,
           0,
           1,
           2,
           3,
           4,
           5,
           0,
           1,
           2,
           3,
           4,
           5
          ],
          "target": [
           0,
           0,
           0,
           0,
           0,
           0,
           1,
           1,
           1,
           1,
           1,
           1,
           2,
           2,
           2,
           2,
           2,
           2,
           3,
           3,
           3,
           3,
           3,
           3,
           4,
           4,
           4,
           4,
           4,
           4,
           5,
           5,
           5,
           5,
           5,
           5
          ],
          "value": [
           153472931.68630645,
           78067447.16366948,
           267953396.57371652,
           847276652.4054887,
           419586974.9638057,
           144981514.3756792,
           699237471.9226645,
           8946832342.329407,
           898680214.0181696,
           13372017687.754091,
           1910943853.138078,
           2341416116.2352405,
           4536081391.873009,
           3458329787.910292,
           9564266791.34999,
           10511024279.859509,
           917144252.2676886,
           8339981054.974679,
           335116846.3773505,
           4440517894.825532,
           1444128574.018602,
           12334809315.285858,
           931507468.0230352,
           9629972117.353762,
           3653540.081492307,
           178043246.90412745,
           227242490.9332679,
           293125722.9381001,
           25260168.173107613,
           257483042.38078365,
           1776432.2057291537,
           136951595.16084993,
           207212761.65491605,
           507295935.4417252,
           47746964.248095736,
           2745429546.928564
          ]
         },
         "node": {
          "color": [
           "#4E79A7",
           "#EDC948",
           "#E15759",
           "#76B7B2",
           "#B07AA1",
           "#59A14F"
          ],
          "label": [
           "africa",
           "asia",
           "europe",
           "north america",
           "oceania",
           "south america"
          ]
         },
         "type": "sankey"
        }
       ],
       "frames": [
        {
         "data": [
          {
           "link": {
            "color": [
             "#4E79A7",
             "#4E79A7",
             "#4E79A7",
             "#4E79A7",
             "#4E79A7",
             "#4E79A7",
             "#EDC948",
             "#EDC948",
             "#EDC948",
             "#EDC948",
             "#EDC948",
             "#EDC948",
             "#E15759",
             "#E15759",
             "#E15759",
             "#E15759",
             "#E15759",
             "#E15759",
             "#76B7B2",
             "#76B7B2",
             "#76B7B2",
             "#76B7B2",
             "#76B7B2",
             "#76B7B2",
             "#B07AA1",
             "#B07AA1",
             "#B07AA1",
             "#B07AA1",
             "#B07AA1",
             "#B07AA1",
             "#59A14F",
             "#59A14F",
             "#59A14F",
             "#59A14F",
             "#59A14F",
             "#59A14F"
            ],
            "source": [
             0,
             1,
             2,
             3,
             4,
             5,
             0,
             1,
             2,
             3,
             4,
             5,
             0,
             1,
             2,
             3,
             4,
             5,
             0,
             1,
             2,
             3,
             4,
             5,
             0,
             1,
             2,
             3,
             4,
             5,
             0,
             1,
             2,
             3,
             4,
             5
            ],
            "target": [
             0,
             0,
             0,
             0,
             0,
             0,
             1,
             1,
             1,
             1,
             1,
             1,
             2,
             2,
             2,
             2,
             2,
             2,
             3,
             3,
             3,
             3,
             3,
             3,
             4,
             4,
             4,
             4,
             4,
             4,
             5,
             5,
             5,
             5,
             5,
             5
            ],
            "value": [
             153472931.68630645,
             78067447.16366948,
             267953396.57371652,
             847276652.4054887,
             419586974.9638057,
             144981514.3756792,
             699237471.9226645,
             8946832342.329407,
             898680214.0181696,
             13372017687.754091,
             1910943853.138078,
             2341416116.2352405,
             4536081391.873009,
             3458329787.910292,
             9564266791.34999,
             10511024279.859509,
             917144252.2676886,
             8339981054.974679,
             335116846.3773505,
             4440517894.825532,
             1444128574.018602,
             12334809315.285858,
             931507468.0230352,
             9629972117.353762,
             3653540.081492307,
             178043246.90412745,
             227242490.9332679,
             293125722.9381001,
             25260168.173107613,
             257483042.38078365,
             1776432.2057291537,
             136951595.16084993,
             207212761.65491605,
             507295935.4417252,
             47746964.248095736,
             2745429546.928564
            ]
           },
           "node": {
            "color": [
             "#4E79A7",
             "#EDC948",
             "#E15759",
             "#76B7B2",
             "#B07AA1",
             "#59A14F"
            ],
            "label": [
             "africa",
             "asia",
             "europe",
             "north america",
             "oceania",
             "south america"
            ]
           },
           "type": "sankey"
          }
         ],
         "layout": {
          "title": {
           "text": "1986 kg CO2eq Produced by Food Trade by Continent"
          }
         },
         "name": "1986"
        },
        {
         "data": [
          {
           "link": {
            "color": [
             "#4E79A7",
             "#4E79A7",
             "#4E79A7",
             "#4E79A7",
             "#4E79A7",
             "#4E79A7",
             "#EDC948",
             "#EDC948",
             "#EDC948",
             "#EDC948",
             "#EDC948",
             "#EDC948",
             "#E15759",
             "#E15759",
             "#E15759",
             "#E15759",
             "#E15759",
             "#E15759",
             "#76B7B2",
             "#76B7B2",
             "#76B7B2",
             "#76B7B2",
             "#76B7B2",
             "#76B7B2",
             "#B07AA1",
             "#B07AA1",
             "#B07AA1",
             "#B07AA1",
             "#B07AA1",
             "#B07AA1",
             "#59A14F",
             "#59A14F",
             "#59A14F",
             "#59A14F",
             "#59A14F",
             "#59A14F"
            ],
            "source": [
             0,
             1,
             2,
             3,
             4,
             5,
             0,
             1,
             2,
             3,
             4,
             5,
             0,
             1,
             2,
             3,
             4,
             5,
             0,
             1,
             2,
             3,
             4,
             5,
             0,
             1,
             2,
             3,
             4,
             5,
             0,
             1,
             2,
             3,
             4,
             5
            ],
            "target": [
             0,
             0,
             0,
             0,
             0,
             0,
             1,
             1,
             1,
             1,
             1,
             1,
             2,
             2,
             2,
             2,
             2,
             2,
             3,
             3,
             3,
             3,
             3,
             3,
             4,
             4,
             4,
             4,
             4,
             4,
             5,
             5,
             5,
             5,
             5,
             5
            ],
            "value": [
             82649909.12592214,
             65248870.58784126,
             305364876.38084173,
             589673632.3913747,
             294787975.32478416,
             77788642.32901005,
             765746238.5502778,
             8338582002.471166,
             987486283.080212,
             16390904295.801617,
             2306872746.413636,
             3231993021.7315054,
             4855196860.240801,
             3468807848.02515,
             11125023026.878683,
             12258306623.778414,
             869490598.3721668,
             8819147605.7069,
             294034601.9891291,
             3875679246.981905,
             1339589856.0570507,
             14829740151.542562,
             848714097.0897652,
             9700377242.982092,
             751817.7920598979,
             151621156.73374382,
             206041866.1099396,
             400703923.07184935,
             27918448.05294635,
             411955173.06353456,
             3456540.2041354277,
             44593632.82821216,
             186228270.2566096,
             380409471.7729127,
             47848893.878719375,
             2429713378.3381057
            ]
           },
           "node": {
            "color": [
             "#4E79A7",
             "#EDC948",
             "#E15759",
             "#76B7B2",
             "#B07AA1",
             "#59A14F"
            ],
            "label": [
             "africa",
             "asia",
             "europe",
             "north america",
             "oceania",
             "south america"
            ]
           },
           "type": "sankey"
          }
         ],
         "layout": {
          "title": {
           "text": "1987 kg CO2eq Produced by Food Trade by Continent"
          }
         },
         "name": "1987"
        },
        {
         "data": [
          {
           "link": {
            "color": [
             "#4E79A7",
             "#4E79A7",
             "#4E79A7",
             "#4E79A7",
             "#4E79A7",
             "#4E79A7",
             "#EDC948",
             "#EDC948",
             "#EDC948",
             "#EDC948",
             "#EDC948",
             "#EDC948",
             "#E15759",
             "#E15759",
             "#E15759",
             "#E15759",
             "#E15759",
             "#E15759",
             "#76B7B2",
             "#76B7B2",
             "#76B7B2",
             "#76B7B2",
             "#76B7B2",
             "#76B7B2",
             "#B07AA1",
             "#B07AA1",
             "#B07AA1",
             "#B07AA1",
             "#B07AA1",
             "#B07AA1",
             "#59A14F",
             "#59A14F",
             "#59A14F",
             "#59A14F",
             "#59A14F",
             "#59A14F"
            ],
            "source": [
             0,
             1,
             2,
             3,
             4,
             5,
             0,
             1,
             2,
             3,
             4,
             5,
             0,
             1,
             2,
             3,
             4,
             5,
             0,
             1,
             2,
             3,
             4,
             5,
             0,
             1,
             2,
             3,
             4,
             5,
             0,
             1,
             2,
             3,
             4,
             5
            ],
            "target": [
             0,
             0,
             0,
             0,
             0,
             0,
             1,
             1,
             1,
             1,
             1,
             1,
             2,
             2,
             2,
             2,
             2,
             2,
             3,
             3,
             3,
             3,
             3,
             3,
             4,
             4,
             4,
             4,
             4,
             4,
             5,
             5,
             5,
             5,
             5,
             5
            ],
            "value": [
             100443781.53632316,
             82091921.65768816,
             347792262.92465675,
             884010805.636832,
             338936777.6890584,
             88991341.72523028,
             1282974919.7921362,
             9518678062.31975,
             1163725376.727256,
             17972494911.449013,
             2028417567.137914,
             3743980948.8042927,
             5472124196.84287,
             3557310614.0583854,
             11603025084.780811,
             13123362183.14469,
             976362386.6612296,
             10550714190.654917,
             389235381.9704491,
             4485272587.029045,
             1140913835.1270587,
             9859007353.185251,
             893278707.843282,
             9633392031.741516,
             1182937.2494871437,
             128633268.84797762,
             203971010.82605729,
             378805252.6096878,
             28161587.546248328,
             449798918.80132014,
             648520.5310558861,
             11365263.201968906,
             105786399.79964,
             305883703.0480885,
             43863866.18898583,
             2593619234.4283776
            ]
           },
           "node": {
            "color": [
             "#4E79A7",
             "#EDC948",
             "#E15759",
             "#76B7B2",
             "#B07AA1",
             "#59A14F"
            ],
            "label": [
             "africa",
             "asia",
             "europe",
             "north america",
             "oceania",
             "south america"
            ]
           },
           "type": "sankey"
          }
         ],
         "layout": {
          "title": {
           "text": "1988 kg CO2eq Produced by Food Trade by Continent"
          }
         },
         "name": "1988"
        },
        {
         "data": [
          {
           "link": {
            "color": [
             "#4E79A7",
             "#4E79A7",
             "#4E79A7",
             "#4E79A7",
             "#4E79A7",
             "#4E79A7",
             "#EDC948",
             "#EDC948",
             "#EDC948",
             "#EDC948",
             "#EDC948",
             "#EDC948",
             "#E15759",
             "#E15759",
             "#E15759",
             "#E15759",
             "#E15759",
             "#E15759",
             "#76B7B2",
             "#76B7B2",
             "#76B7B2",
             "#76B7B2",
             "#76B7B2",
             "#76B7B2",
             "#B07AA1",
             "#B07AA1",
             "#B07AA1",
             "#B07AA1",
             "#B07AA1",
             "#B07AA1",
             "#59A14F",
             "#59A14F",
             "#59A14F",
             "#59A14F",
             "#59A14F",
             "#59A14F"
            ],
            "source": [
             0,
             1,
             2,
             3,
             4,
             5,
             0,
             1,
             2,
             3,
             4,
             5,
             0,
             1,
             2,
             3,
             4,
             5,
             0,
             1,
             2,
             3,
             4,
             5,
             0,
             1,
             2,
             3,
             4,
             5,
             0,
             1,
             2,
             3,
             4,
             5
            ],
            "target": [
             0,
             0,
             0,
             0,
             0,
             0,
             1,
             1,
             1,
             1,
             1,
             1,
             2,
             2,
             2,
             2,
             2,
             2,
             3,
             3,
             3,
             3,
             3,
             3,
             4,
             4,
             4,
             4,
             4,
             4,
             5,
             5,
             5,
             5,
             5,
             5
            ],
            "value": [
             114409551.66486757,
             128503436.4422437,
             405428835.3905842,
             929684526.0848284,
             151165977.55811483,
             57503884.75628764,
             1259994409.1139948,
             10476221693.059572,
             1316112662.5320275,
             18746038167.629604,
             2082855403.322704,
             4327923254.737577,
             5738341839.860052,
             2940973239.873178,
             11353260855.792437,
             13080058108.933714,
             738359618.0828289,
             9921374875.460833,
             406668885.0565661,
             5451947887.648644,
             1309839311.5198567,
             17532490992.52218,
             836109177.3211473,
             10931115884.163967,
             1186246.0514965393,
             99610068.17229237,
             234199106.9387738,
             357283900.19671416,
             27922257.688223068,
             248670693.37119496,
             667134.9771668946,
             15045541.237028211,
             80640018.63195151,
             182811799.39182648,
             23345528.976379987,
             1064488808.6040056
            ]
           },
           "node": {
            "color": [
             "#4E79A7",
             "#EDC948",
             "#E15759",
             "#76B7B2",
             "#B07AA1",
             "#59A14F"
            ],
            "label": [
             "africa",
             "asia",
             "europe",
             "north america",
             "oceania",
             "south america"
            ]
           },
           "type": "sankey"
          }
         ],
         "layout": {
          "title": {
           "text": "1989 kg CO2eq Produced by Food Trade by Continent"
          }
         },
         "name": "1989"
        },
        {
         "data": [
          {
           "link": {
            "color": [
             "#4E79A7",
             "#4E79A7",
             "#4E79A7",
             "#4E79A7",
             "#4E79A7",
             "#4E79A7",
             "#EDC948",
             "#EDC948",
             "#EDC948",
             "#EDC948",
             "#EDC948",
             "#EDC948",
             "#E15759",
             "#E15759",
             "#E15759",
             "#E15759",
             "#E15759",
             "#E15759",
             "#76B7B2",
             "#76B7B2",
             "#76B7B2",
             "#76B7B2",
             "#76B7B2",
             "#76B7B2",
             "#B07AA1",
             "#B07AA1",
             "#B07AA1",
             "#B07AA1",
             "#B07AA1",
             "#B07AA1",
             "#59A14F",
             "#59A14F",
             "#59A14F",
             "#59A14F",
             "#59A14F",
             "#59A14F"
            ],
            "source": [
             0,
             1,
             2,
             3,
             4,
             5,
             0,
             1,
             2,
             3,
             4,
             5,
             0,
             1,
             2,
             3,
             4,
             5,
             0,
             1,
             2,
             3,
             4,
             5,
             0,
             1,
             2,
             3,
             4,
             5,
             0,
             1,
             2,
             3,
             4,
             5
            ],
            "target": [
             0,
             0,
             0,
             0,
             0,
             0,
             1,
             1,
             1,
             1,
             1,
             1,
             2,
             2,
             2,
             2,
             2,
             2,
             3,
             3,
             3,
             3,
             3,
             3,
             4,
             4,
             4,
             4,
             4,
             4,
             5,
             5,
             5,
             5,
             5,
             5
            ],
            "value": [
             124924507.5376308,
             124988635.21583222,
             378101628.5608236,
             682925425.6943587,
             317514056.2415638,
             59625859.01433472,
             514396034.44979256,
             9221927559.29094,
             1029022225.7076375,
             16567303795.79353,
             2015604710.2246385,
             4156389717.336192,
             4466896910.561881,
             3500026468.61993,
             12040884015.918833,
             13293454354.40601,
             876901075.3322842,
             12119995329.44323,
             265700746.11087385,
             5897226393.264981,
             1524207700.9801157,
             18303146631.91029,
             848429977.9521543,
             13526445399.357384,
             925890.6382245444,
             52692777.70645976,
             221013924.96830276,
             387664233.8944881,
             30196154.05200094,
             677326708.4402872,
             5960502.343267424,
             49089359.75155257,
             88642965.45727365,
             260200694.29132125,
             25111411.112286307,
             3406155412.8298583
            ]
           },
           "node": {
            "color": [
             "#4E79A7",
             "#EDC948",
             "#E15759",
             "#76B7B2",
             "#B07AA1",
             "#59A14F"
            ],
            "label": [
             "africa",
             "asia",
             "europe",
             "north america",
             "oceania",
             "south america"
            ]
           },
           "type": "sankey"
          }
         ],
         "layout": {
          "title": {
           "text": "1990 kg CO2eq Produced by Food Trade by Continent"
          }
         },
         "name": "1990"
        },
        {
         "data": [
          {
           "link": {
            "color": [
             "#4E79A7",
             "#4E79A7",
             "#4E79A7",
             "#4E79A7",
             "#4E79A7",
             "#4E79A7",
             "#EDC948",
             "#EDC948",
             "#EDC948",
             "#EDC948",
             "#EDC948",
             "#EDC948",
             "#E15759",
             "#E15759",
             "#E15759",
             "#E15759",
             "#E15759",
             "#E15759",
             "#76B7B2",
             "#76B7B2",
             "#76B7B2",
             "#76B7B2",
             "#76B7B2",
             "#76B7B2",
             "#B07AA1",
             "#B07AA1",
             "#B07AA1",
             "#B07AA1",
             "#B07AA1",
             "#B07AA1",
             "#59A14F",
             "#59A14F",
             "#59A14F",
             "#59A14F",
             "#59A14F",
             "#59A14F"
            ],
            "source": [
             0,
             1,
             2,
             3,
             4,
             5,
             0,
             1,
             2,
             3,
             4,
             5,
             0,
             1,
             2,
             3,
             4,
             5,
             0,
             1,
             2,
             3,
             4,
             5,
             0,
             1,
             2,
             3,
             4,
             5,
             0,
             1,
             2,
             3,
             4,
             5
            ],
            "target": [
             0,
             0,
             0,
             0,
             0,
             0,
             1,
             1,
             1,
             1,
             1,
             1,
             2,
             2,
             2,
             2,
             2,
             2,
             3,
             3,
             3,
             3,
             3,
             3,
             4,
             4,
             4,
             4,
             4,
             4,
             5,
             5,
             5,
             5,
             5,
             5
            ],
            "value": [
             207292075.628538,
             137251771.1465204,
             306869327.2997412,
             682051669.9776343,
             308545803.71034306,
             115189196.49846216,
             513365465.806945,
             11176976611.894745,
             1133269963.1295238,
             15843588425.026388,
             2552696922.7406178,
             6812808533.247271,
             6790153173.204749,
             4042313912.664994,
             22616134205.01059,
             22843117056.821888,
             789175729.0461282,
             22421909331.146744,
             735443974.3830744,
             6119155884.823899,
             1711084020.6234026,
             18592070205.62017,
             728578033.2514814,
             13316843329.041164,
             3497606.7324649445,
             45340376.93769912,
             248410132.33281013,
             290816809.5801817,
             20895959.137519702,
             680153091.6029524,
             1464787.006674733,
             129614881.73121992,
             216765687.9437673,
             408192283.9550375,
             33910485.48128015,
             4608359352.084864
            ]
           },
           "node": {
            "color": [
             "#4E79A7",
             "#EDC948",
             "#E15759",
             "#76B7B2",
             "#B07AA1",
             "#59A14F"
            ],
            "label": [
             "africa",
             "asia",
             "europe",
             "north america",
             "oceania",
             "south america"
            ]
           },
           "type": "sankey"
          }
         ],
         "layout": {
          "title": {
           "text": "1991 kg CO2eq Produced by Food Trade by Continent"
          }
         },
         "name": "1991"
        },
        {
         "data": [
          {
           "link": {
            "color": [
             "#4E79A7",
             "#4E79A7",
             "#4E79A7",
             "#4E79A7",
             "#4E79A7",
             "#4E79A7",
             "#EDC948",
             "#EDC948",
             "#EDC948",
             "#EDC948",
             "#EDC948",
             "#EDC948",
             "#E15759",
             "#E15759",
             "#E15759",
             "#E15759",
             "#E15759",
             "#E15759",
             "#76B7B2",
             "#76B7B2",
             "#76B7B2",
             "#76B7B2",
             "#76B7B2",
             "#76B7B2",
             "#B07AA1",
             "#B07AA1",
             "#B07AA1",
             "#B07AA1",
             "#B07AA1",
             "#B07AA1",
             "#59A14F",
             "#59A14F",
             "#59A14F",
             "#59A14F",
             "#59A14F",
             "#59A14F"
            ],
            "source": [
             0,
             1,
             2,
             3,
             4,
             5,
             0,
             1,
             2,
             3,
             4,
             5,
             0,
             1,
             2,
             3,
             4,
             5,
             0,
             1,
             2,
             3,
             4,
             5,
             0,
             1,
             2,
             3,
             4,
             5,
             0,
             1,
             2,
             3,
             4,
             5
            ],
            "target": [
             0,
             0,
             0,
             0,
             0,
             0,
             1,
             1,
             1,
             1,
             1,
             1,
             2,
             2,
             2,
             2,
             2,
             2,
             3,
             3,
             3,
             3,
             3,
             3,
             4,
             4,
             4,
             4,
             4,
             4,
             5,
             5,
             5,
             5,
             5,
             5
            ],
            "value": [
             243709805.08035943,
             233032563.5478823,
             315086709.45383906,
             1543568528.4240365,
             282434667.9080059,
             439732652.4556491,
             554635846.6463088,
             13939068475.719477,
             1188982755.6747613,
             18198878473.534733,
             2615035767.6719985,
             6491941272.46379,
             6965686767.016701,
             4029113013.037618,
             25027303400.19015,
             25752637962.211143,
             831376821.3426621,
             28339699541.466595,
             445427768.5546254,
             6219296397.310733,
             1491375059.5650055,
             21677050111.65856,
             1009087192.3314784,
             11599505022.415232,
             918954.0145571836,
             45310460.18199784,
             250522215.69969743,
             519677135.7837328,
             15539764.841965102,
             619504455.5001588,
             2364540.138852929,
             88393096.7138843,
             228997494.5907376,
             435718821.1557057,
             45224097.40874814,
             5488075373.606663
            ]
           },
           "node": {
            "color": [
             "#4E79A7",
             "#EDC948",
             "#E15759",
             "#76B7B2",
             "#B07AA1",
             "#59A14F"
            ],
            "label": [
             "africa",
             "asia",
             "europe",
             "north america",
             "oceania",
             "south america"
            ]
           },
           "type": "sankey"
          }
         ],
         "layout": {
          "title": {
           "text": "1992 kg CO2eq Produced by Food Trade by Continent"
          }
         },
         "name": "1992"
        },
        {
         "data": [
          {
           "link": {
            "color": [
             "#4E79A7",
             "#4E79A7",
             "#4E79A7",
             "#4E79A7",
             "#4E79A7",
             "#4E79A7",
             "#EDC948",
             "#EDC948",
             "#EDC948",
             "#EDC948",
             "#EDC948",
             "#EDC948",
             "#E15759",
             "#E15759",
             "#E15759",
             "#E15759",
             "#E15759",
             "#E15759",
             "#76B7B2",
             "#76B7B2",
             "#76B7B2",
             "#76B7B2",
             "#76B7B2",
             "#76B7B2",
             "#B07AA1",
             "#B07AA1",
             "#B07AA1",
             "#B07AA1",
             "#B07AA1",
             "#B07AA1",
             "#59A14F",
             "#59A14F",
             "#59A14F",
             "#59A14F",
             "#59A14F",
             "#59A14F"
            ],
            "source": [
             0,
             1,
             2,
             3,
             4,
             5,
             0,
             1,
             2,
             3,
             4,
             5,
             0,
             1,
             2,
             3,
             4,
             5,
             0,
             1,
             2,
             3,
             4,
             5,
             0,
             1,
             2,
             3,
             4,
             5,
             0,
             1,
             2,
             3,
             4,
             5
            ],
            "target": [
             0,
             0,
             0,
             0,
             0,
             0,
             1,
             1,
             1,
             1,
             1,
             1,
             2,
             2,
             2,
             2,
             2,
             2,
             3,
             3,
             3,
             3,
             3,
             3,
             4,
             4,
             4,
             4,
             4,
             4,
             5,
             5,
             5,
             5,
             5,
             5
            ],
            "value": [
             197984154.0358669,
             180534196.5688616,
             321938185.55520177,
             574586138.7173533,
             195138399.32124263,
             231687500.79459172,
             740505778.4304531,
             13878056436.376846,
             1008471649.8009412,
             17918694583.390316,
             3015195575.000839,
             6301375170.190212,
             6510989845.012185,
             3581636230.439151,
             25932371160.67477,
             23006834351.70325,
             784221705.0590649,
             24025299134.92205,
             424902880.2167381,
             6431348263.198497,
             1731314508.7799451,
             22401466690.88108,
             1134044457.920972,
             11856386564.589314,
             878273.5594836661,
             73287569.85522608,
             239278215.75893557,
             739532259.3971504,
             18989903.16747758,
             474257236.3565999,
             4196928.509451855,
             116334141.99969724,
             217544794.1601545,
             506813614.8370133,
             74129442.66744564,
             6726364209.474166
            ]
           },
           "node": {
            "color": [
             "#4E79A7",
             "#EDC948",
             "#E15759",
             "#76B7B2",
             "#B07AA1",
             "#59A14F"
            ],
            "label": [
             "africa",
             "asia",
             "europe",
             "north america",
             "oceania",
             "south america"
            ]
           },
           "type": "sankey"
          }
         ],
         "layout": {
          "title": {
           "text": "1993 kg CO2eq Produced by Food Trade by Continent"
          }
         },
         "name": "1993"
        },
        {
         "data": [
          {
           "link": {
            "color": [
             "#4E79A7",
             "#4E79A7",
             "#4E79A7",
             "#4E79A7",
             "#4E79A7",
             "#4E79A7",
             "#EDC948",
             "#EDC948",
             "#EDC948",
             "#EDC948",
             "#EDC948",
             "#EDC948",
             "#E15759",
             "#E15759",
             "#E15759",
             "#E15759",
             "#E15759",
             "#E15759",
             "#76B7B2",
             "#76B7B2",
             "#76B7B2",
             "#76B7B2",
             "#76B7B2",
             "#76B7B2",
             "#B07AA1",
             "#B07AA1",
             "#B07AA1",
             "#B07AA1",
             "#B07AA1",
             "#B07AA1",
             "#59A14F",
             "#59A14F",
             "#59A14F",
             "#59A14F",
             "#59A14F",
             "#59A14F"
            ],
            "source": [
             0,
             1,
             2,
             3,
             4,
             5,
             0,
             1,
             2,
             3,
             4,
             5,
             0,
             1,
             2,
             3,
             4,
             5,
             0,
             1,
             2,
             3,
             4,
             5,
             0,
             1,
             2,
             3,
             4,
             5,
             0,
             1,
             2,
             3,
             4,
             5
            ],
            "target": [
             0,
             0,
             0,
             0,
             0,
             0,
             1,
             1,
             1,
             1,
             1,
             1,
             2,
             2,
             2,
             2,
             2,
             2,
             3,
             3,
             3,
             3,
             3,
             3,
             4,
             4,
             4,
             4,
             4,
             4,
             5,
             5,
             5,
             5,
             5,
             5
            ],
            "value": [
             222297775.7552908,
             227769399.4190306,
             348243629.1092547,
             1245047655.1880596,
             480346205.2340322,
             375233373.51153415,
             967442911.5752296,
             14376626118.355892,
             1128873852.615355,
             19419630094.21622,
             3478368684.078699,
             5787110952.773471,
             7977745066.779654,
             3817337695.639752,
             27923148933.02321,
             21992832239.67068,
             888272919.5598446,
             28131533847.130917,
             438221904.15040725,
             5486765532.720949,
             1860616352.5611336,
             26029846040.13948,
             1300986382.4341545,
             12212512608.723442,
             437045.1608326175,
             179737227.34611142,
             13216666.23780609,
             560997878.4900738,
             23361670.88202565,
             418576817.9433098,
             39580551.64768214,
             192004258.84358785,
             575421757.8499846,
             534142957.5325639,
             121387697.58160174,
             7545810432.622433
            ]
           },
           "node": {
            "color": [
             "#4E79A7",
             "#EDC948",
             "#E15759",
             "#76B7B2",
             "#B07AA1",
             "#59A14F"
            ],
            "label": [
             "africa",
             "asia",
             "europe",
             "north america",
             "oceania",
             "south america"
            ]
           },
           "type": "sankey"
          }
         ],
         "layout": {
          "title": {
           "text": "1994 kg CO2eq Produced by Food Trade by Continent"
          }
         },
         "name": "1994"
        },
        {
         "data": [
          {
           "link": {
            "color": [
             "#4E79A7",
             "#4E79A7",
             "#4E79A7",
             "#4E79A7",
             "#4E79A7",
             "#4E79A7",
             "#EDC948",
             "#EDC948",
             "#EDC948",
             "#EDC948",
             "#EDC948",
             "#EDC948",
             "#E15759",
             "#E15759",
             "#E15759",
             "#E15759",
             "#E15759",
             "#E15759",
             "#76B7B2",
             "#76B7B2",
             "#76B7B2",
             "#76B7B2",
             "#76B7B2",
             "#76B7B2",
             "#B07AA1",
             "#B07AA1",
             "#B07AA1",
             "#B07AA1",
             "#B07AA1",
             "#B07AA1",
             "#59A14F",
             "#59A14F",
             "#59A14F",
             "#59A14F",
             "#59A14F",
             "#59A14F"
            ],
            "source": [
             0,
             1,
             2,
             3,
             4,
             5,
             0,
             1,
             2,
             3,
             4,
             5,
             0,
             1,
             2,
             3,
             4,
             5,
             0,
             1,
             2,
             3,
             4,
             5,
             0,
             1,
             2,
             3,
             4,
             5,
             0,
             1,
             2,
             3,
             4,
             5
            ],
            "target": [
             0,
             0,
             0,
             0,
             0,
             0,
             1,
             1,
             1,
             1,
             1,
             1,
             2,
             2,
             2,
             2,
             2,
             2,
             3,
             3,
             3,
             3,
             3,
             3,
             4,
             4,
             4,
             4,
             4,
             4,
             5,
             5,
             5,
             5,
             5,
             5
            ],
            "value": [
             379652356.14895713,
             248645769.12537143,
             315208951.1752837,
             1158335127.870833,
             58902489.88353924,
             651871007.7048829,
             776456975.1997184,
             13678733754.924109,
             1554359187.97188,
             22892131732.95412,
             3593291110.933207,
             6345061817.515903,
             7300410313.248088,
             3461914456.1080446,
             27216001514.32624,
             20568928061.93544,
             930813787.0982962,
             28542793495.776123,
             675305378.5498005,
             6173852015.108841,
             1555805032.264192,
             24373469891.107475,
             1084068805.8828037,
             11866742559.433365,
             555255.6954251007,
             210110526.68740892,
             11205434.263987904,
             228778824.35851145,
             16256953.472278258,
             680869656.2497727,
             34511410.948561706,
             163409643.01674384,
             1069820126.3737257,
             536273131.5381516,
             135025420.85702822,
             8304877536.53838
            ]
           },
           "node": {
            "color": [
             "#4E79A7",
             "#EDC948",
             "#E15759",
             "#76B7B2",
             "#B07AA1",
             "#59A14F"
            ],
            "label": [
             "africa",
             "asia",
             "europe",
             "north america",
             "oceania",
             "south america"
            ]
           },
           "type": "sankey"
          }
         ],
         "layout": {
          "title": {
           "text": "1995 kg CO2eq Produced by Food Trade by Continent"
          }
         },
         "name": "1995"
        },
        {
         "data": [
          {
           "link": {
            "color": [
             "#4E79A7",
             "#4E79A7",
             "#4E79A7",
             "#4E79A7",
             "#4E79A7",
             "#4E79A7",
             "#EDC948",
             "#EDC948",
             "#EDC948",
             "#EDC948",
             "#EDC948",
             "#EDC948",
             "#E15759",
             "#E15759",
             "#E15759",
             "#E15759",
             "#E15759",
             "#E15759",
             "#76B7B2",
             "#76B7B2",
             "#76B7B2",
             "#76B7B2",
             "#76B7B2",
             "#76B7B2",
             "#B07AA1",
             "#B07AA1",
             "#B07AA1",
             "#B07AA1",
             "#B07AA1",
             "#B07AA1",
             "#59A14F",
             "#59A14F",
             "#59A14F",
             "#59A14F",
             "#59A14F",
             "#59A14F"
            ],
            "source": [
             0,
             1,
             2,
             3,
             4,
             5,
             0,
             1,
             2,
             3,
             4,
             5,
             0,
             1,
             2,
             3,
             4,
             5,
             0,
             1,
             2,
             3,
             4,
             5,
             0,
             1,
             2,
             3,
             4,
             5,
             0,
             1,
             2,
             3,
             4,
             5
            ],
            "target": [
             0,
             0,
             0,
             0,
             0,
             0,
             1,
             1,
             1,
             1,
             1,
             1,
             2,
             2,
             2,
             2,
             2,
             2,
             3,
             3,
             3,
             3,
             3,
             3,
             4,
             4,
             4,
             4,
             4,
             4,
             5,
             5,
             5,
             5,
             5,
             5
            ],
            "value": [
             430201583.7819299,
             220289205.7196272,
             238076699.65550724,
             1214235922.1204016,
             332336808.9363875,
             704251157.3416348,
             1264691829.06925,
             14704801336.609236,
             1266423789.21499,
             20811179633.765694,
             4514809793.686692,
             10671867460.505186,
             8940200054.443317,
             3952422480.8871217,
             29812902370.173428,
             20850574551.7056,
             1133508113.406423,
             28542275741.675617,
             734854339.7968972,
             6130169435.071883,
             1572969056.2778697,
             18795734330.82096,
             1184381858.0178714,
             11606870682.391289,
             1791710.4838264422,
             148733474.91439256,
             227871417.97294787,
             594013936.096271,
             58053785.08473625,
             818685143.2735547,
             34248575.567132406,
             188096859.3921509,
             236592254.09709564,
             735314115.4114021,
             224012165.54575765,
             9781502245.59095
            ]
           },
           "node": {
            "color": [
             "#4E79A7",
             "#EDC948",
             "#E15759",
             "#76B7B2",
             "#B07AA1",
             "#59A14F"
            ],
            "label": [
             "africa",
             "asia",
             "europe",
             "north america",
             "oceania",
             "south america"
            ]
           },
           "type": "sankey"
          }
         ],
         "layout": {
          "title": {
           "text": "1996 kg CO2eq Produced by Food Trade by Continent"
          }
         },
         "name": "1996"
        },
        {
         "data": [
          {
           "link": {
            "color": [
             "#4E79A7",
             "#4E79A7",
             "#4E79A7",
             "#4E79A7",
             "#4E79A7",
             "#4E79A7",
             "#EDC948",
             "#EDC948",
             "#EDC948",
             "#EDC948",
             "#EDC948",
             "#EDC948",
             "#E15759",
             "#E15759",
             "#E15759",
             "#E15759",
             "#E15759",
             "#E15759",
             "#76B7B2",
             "#76B7B2",
             "#76B7B2",
             "#76B7B2",
             "#76B7B2",
             "#76B7B2",
             "#B07AA1",
             "#B07AA1",
             "#B07AA1",
             "#B07AA1",
             "#B07AA1",
             "#B07AA1",
             "#59A14F",
             "#59A14F",
             "#59A14F",
             "#59A14F",
             "#59A14F",
             "#59A14F"
            ],
            "source": [
             0,
             1,
             2,
             3,
             4,
             5,
             0,
             1,
             2,
             3,
             4,
             5,
             0,
             1,
             2,
             3,
             4,
             5,
             0,
             1,
             2,
             3,
             4,
             5,
             0,
             1,
             2,
             3,
             4,
             5,
             0,
             1,
             2,
             3,
             4,
             5
            ],
            "target": [
             0,
             0,
             0,
             0,
             0,
             0,
             1,
             1,
             1,
             1,
             1,
             1,
             2,
             2,
             2,
             2,
             2,
             2,
             3,
             3,
             3,
             3,
             3,
             3,
             4,
             4,
             4,
             4,
             4,
             4,
             5,
             5,
             5,
             5,
             5,
             5
            ],
            "value": [
             1111224708.805642,
             300823552.3631602,
             291855888.983624,
             641929377.8499136,
             241490776.22084665,
             467411179.7249482,
             1487164571.0203218,
             10260494163.876907,
             1207098578.2091208,
             19816942416.71405,
             3884749733.128029,
             14196883033.032616,
             8069223590.746852,
             4252651231.3953567,
             29995597152.45533,
             19973026970.29137,
             1373764302.4504912,
             25947992931.757195,
             817238334.1514026,
             5930244306.86086,
             1717848046.6850586,
             30052747601.83324,
             1467055027.8909,
             12088080578.292658,
             498653.2387749095,
             108511525.17622544,
             14871789.189102571,
             282258379.51088744,
             17285427.377201974,
             835292545.4451982,
             36996811.64865903,
             138693987.24454072,
             295599824.98973393,
             706263518.79443,
             235178156.7057545,
             9812975091.764597
            ]
           },
           "node": {
            "color": [
             "#4E79A7",
             "#EDC948",
             "#E15759",
             "#76B7B2",
             "#B07AA1",
             "#59A14F"
            ],
            "label": [
             "africa",
             "asia",
             "europe",
             "north america",
             "oceania",
             "south america"
            ]
           },
           "type": "sankey"
          }
         ],
         "layout": {
          "title": {
           "text": "1997 kg CO2eq Produced by Food Trade by Continent"
          }
         },
         "name": "1997"
        },
        {
         "data": [
          {
           "link": {
            "color": [
             "#4E79A7",
             "#4E79A7",
             "#4E79A7",
             "#4E79A7",
             "#4E79A7",
             "#4E79A7",
             "#EDC948",
             "#EDC948",
             "#EDC948",
             "#EDC948",
             "#EDC948",
             "#EDC948",
             "#E15759",
             "#E15759",
             "#E15759",
             "#E15759",
             "#E15759",
             "#E15759",
             "#76B7B2",
             "#76B7B2",
             "#76B7B2",
             "#76B7B2",
             "#76B7B2",
             "#76B7B2",
             "#B07AA1",
             "#B07AA1",
             "#B07AA1",
             "#B07AA1",
             "#B07AA1",
             "#B07AA1",
             "#59A14F",
             "#59A14F",
             "#59A14F",
             "#59A14F",
             "#59A14F",
             "#59A14F"
            ],
            "source": [
             0,
             1,
             2,
             3,
             4,
             5,
             0,
             1,
             2,
             3,
             4,
             5,
             0,
             1,
             2,
             3,
             4,
             5,
             0,
             1,
             2,
             3,
             4,
             5,
             0,
             1,
             2,
             3,
             4,
             5,
             0,
             1,
             2,
             3,
             4,
             5
            ],
            "target": [
             0,
             0,
             0,
             0,
             0,
             0,
             1,
             1,
             1,
             1,
             1,
             1,
             2,
             2,
             2,
             2,
             2,
             2,
             3,
             3,
             3,
             3,
             3,
             3,
             4,
             4,
             4,
             4,
             4,
             4,
             5,
             5,
             5,
             5,
             5,
             5
            ],
            "value": [
             1016071040.774668,
             343602435.8887596,
             416032260.44086486,
             1255900352.0629888,
             481959162.2691872,
             751844706.4566467,
             3280068947.988101,
             22904637880.680767,
             3004864329.012203,
             23232214917.273613,
             5704779600.1623,
             21052263655.255783,
             9891431340.758102,
             3865010128.252152,
             31261152225.66095,
             21084057468.10275,
             1812668783.3675103,
             23967949505.488567,
             934108651.298972,
             4910154054.227489,
             1897040595.1876397,
             33542907922.472157,
             1839787443.3015647,
             13596462918.3761,
             710944.5541036378,
             65182136.016455054,
             13421582.5570643,
             243140433.15734056,
             14436576.669185216,
             869947398.4442359,
             3949442.6493961792,
             215677416.9868729,
             332074785.7243855,
             756535815.7408057,
             167368326.66565138,
             12426674259.757551
            ]
           },
           "node": {
            "color": [
             "#4E79A7",
             "#EDC948",
             "#E15759",
             "#76B7B2",
             "#B07AA1",
             "#59A14F"
            ],
            "label": [
             "africa",
             "asia",
             "europe",
             "north america",
             "oceania",
             "south america"
            ]
           },
           "type": "sankey"
          }
         ],
         "layout": {
          "title": {
           "text": "1998 kg CO2eq Produced by Food Trade by Continent"
          }
         },
         "name": "1998"
        },
        {
         "data": [
          {
           "link": {
            "color": [
             "#4E79A7",
             "#4E79A7",
             "#4E79A7",
             "#4E79A7",
             "#4E79A7",
             "#4E79A7",
             "#EDC948",
             "#EDC948",
             "#EDC948",
             "#EDC948",
             "#EDC948",
             "#EDC948",
             "#E15759",
             "#E15759",
             "#E15759",
             "#E15759",
             "#E15759",
             "#E15759",
             "#76B7B2",
             "#76B7B2",
             "#76B7B2",
             "#76B7B2",
             "#76B7B2",
             "#76B7B2",
             "#B07AA1",
             "#B07AA1",
             "#B07AA1",
             "#B07AA1",
             "#B07AA1",
             "#B07AA1",
             "#59A14F",
             "#59A14F",
             "#59A14F",
             "#59A14F",
             "#59A14F",
             "#59A14F"
            ],
            "source": [
             0,
             1,
             2,
             3,
             4,
             5,
             0,
             1,
             2,
             3,
             4,
             5,
             0,
             1,
             2,
             3,
             4,
             5,
             0,
             1,
             2,
             3,
             4,
             5,
             0,
             1,
             2,
             3,
             4,
             5,
             0,
             1,
             2,
             3,
             4,
             5
            ],
            "target": [
             0,
             0,
             0,
             0,
             0,
             0,
             1,
             1,
             1,
             1,
             1,
             1,
             2,
             2,
             2,
             2,
             2,
             2,
             3,
             3,
             3,
             3,
             3,
             3,
             4,
             4,
             4,
             4,
             4,
             4,
             5,
             5,
             5,
             5,
             5,
             5
            ],
            "value": [
             915715781.77466,
             390313099.2245594,
             460764104.5704096,
             1626062014.0776358,
             644833911.5624588,
             537283988.9938866,
             3217051278.4781485,
             21222436251.31985,
             2570091972.717389,
             19779749026.340847,
             5559887610.30074,
             19149587988.650883,
             9853040710.850054,
             4653834244.192564,
             32830184768.8791,
             20421567318.94759,
             2036305908.5381627,
             29239970012.679016,
             1413007827.5182188,
             6251151237.698712,
             2616787356.45046,
             36843654361.6278,
             2075278098.6752048,
             15163565184.032598,
             5257097.4525635,
             155085011.89513594,
             305201344.4710768,
             531612728.8838105,
             28857388.1569755,
             878281296.9382457,
             3125337.246930052,
             154163775.76141012,
             265731993.16778103,
             667004960.0477548,
             129161634.59019472,
             10840731347.554668
            ]
           },
           "node": {
            "color": [
             "#4E79A7",
             "#EDC948",
             "#E15759",
             "#76B7B2",
             "#B07AA1",
             "#59A14F"
            ],
            "label": [
             "africa",
             "asia",
             "europe",
             "north america",
             "oceania",
             "south america"
            ]
           },
           "type": "sankey"
          }
         ],
         "layout": {
          "title": {
           "text": "1999 kg CO2eq Produced by Food Trade by Continent"
          }
         },
         "name": "1999"
        },
        {
         "data": [
          {
           "link": {
            "color": [
             "#4E79A7",
             "#4E79A7",
             "#4E79A7",
             "#4E79A7",
             "#4E79A7",
             "#4E79A7",
             "#EDC948",
             "#EDC948",
             "#EDC948",
             "#EDC948",
             "#EDC948",
             "#EDC948",
             "#E15759",
             "#E15759",
             "#E15759",
             "#E15759",
             "#E15759",
             "#E15759",
             "#76B7B2",
             "#76B7B2",
             "#76B7B2",
             "#76B7B2",
             "#76B7B2",
             "#76B7B2",
             "#B07AA1",
             "#B07AA1",
             "#B07AA1",
             "#B07AA1",
             "#B07AA1",
             "#B07AA1",
             "#59A14F",
             "#59A14F",
             "#59A14F",
             "#59A14F",
             "#59A14F",
             "#59A14F"
            ],
            "source": [
             0,
             1,
             2,
             3,
             4,
             5,
             0,
             1,
             2,
             3,
             4,
             5,
             0,
             1,
             2,
             3,
             4,
             5,
             0,
             1,
             2,
             3,
             4,
             5,
             0,
             1,
             2,
             3,
             4,
             5,
             0,
             1,
             2,
             3,
             4,
             5
            ],
            "target": [
             0,
             0,
             0,
             0,
             0,
             0,
             1,
             1,
             1,
             1,
             1,
             1,
             2,
             2,
             2,
             2,
             2,
             2,
             3,
             3,
             3,
             3,
             3,
             3,
             4,
             4,
             4,
             4,
             4,
             4,
             5,
             5,
             5,
             5,
             5,
             5
            ],
            "value": [
             1098925893.7836428,
             567807027.5738624,
             529854882.6453038,
             1651518610.8249853,
             664695824.6320634,
             770014370.7631009,
             3831000011.303692,
             26280448229.944744,
             2915289175.2253776,
             23599319506.931297,
             6580724993.422495,
             24787357740.90552,
             10458710096.544916,
             3997446043.983533,
             34766877586.96691,
             20663300312.39265,
             2344737936.643114,
             31182974590.36733,
             1389953996.1035063,
             5608150169.2608,
             2656528351.5527697,
             38243842303.03577,
             1991579525.6440587,
             15305119656.51363,
             5244777.255935637,
             186560097.2497896,
             317974497.640177,
             569269240.2794391,
             44128238.37450231,
             869766548.4234953,
             3525648.466107537,
             182927944.05947405,
             331942727.71340084,
             589292230.3011858,
             149429763.12811953,
             12281291452.715338
            ]
           },
           "node": {
            "color": [
             "#4E79A7",
             "#EDC948",
             "#E15759",
             "#76B7B2",
             "#B07AA1",
             "#59A14F"
            ],
            "label": [
             "africa",
             "asia",
             "europe",
             "north america",
             "oceania",
             "south america"
            ]
           },
           "type": "sankey"
          }
         ],
         "layout": {
          "title": {
           "text": "2000 kg CO2eq Produced by Food Trade by Continent"
          }
         },
         "name": "2000"
        },
        {
         "data": [
          {
           "link": {
            "color": [
             "#4E79A7",
             "#4E79A7",
             "#4E79A7",
             "#4E79A7",
             "#4E79A7",
             "#4E79A7",
             "#EDC948",
             "#EDC948",
             "#EDC948",
             "#EDC948",
             "#EDC948",
             "#EDC948",
             "#E15759",
             "#E15759",
             "#E15759",
             "#E15759",
             "#E15759",
             "#E15759",
             "#76B7B2",
             "#76B7B2",
             "#76B7B2",
             "#76B7B2",
             "#76B7B2",
             "#76B7B2",
             "#B07AA1",
             "#B07AA1",
             "#B07AA1",
             "#B07AA1",
             "#B07AA1",
             "#B07AA1",
             "#59A14F",
             "#59A14F",
             "#59A14F",
             "#59A14F",
             "#59A14F",
             "#59A14F"
            ],
            "source": [
             0,
             1,
             2,
             3,
             4,
             5,
             0,
             1,
             2,
             3,
             4,
             5,
             0,
             1,
             2,
             3,
             4,
             5,
             0,
             1,
             2,
             3,
             4,
             5,
             0,
             1,
             2,
             3,
             4,
             5,
             0,
             1,
             2,
             3,
             4,
             5
            ],
            "target": [
             0,
             0,
             0,
             0,
             0,
             0,
             1,
             1,
             1,
             1,
             1,
             1,
             2,
             2,
             2,
             2,
             2,
             2,
             3,
             3,
             3,
             3,
             3,
             3,
             4,
             4,
             4,
             4,
             4,
             4,
             5,
             5,
             5,
             5,
             5,
             5
            ],
            "value": [
             1255675355.4620068,
             520735971.3023287,
             493939377.4299535,
             1328820775.4073772,
             633347097.531815,
             1528317156.3873715,
             4527683881.164676,
             27697680761.60051,
             2796558419.299741,
             21657566469.149693,
             6751587347.98526,
             23862139619.51261,
             10713245173.332245,
             4471494920.375153,
             35799212156.00645,
             19421009268.955757,
             2266106828.2619395,
             31816326195.415447,
             1125787838.767881,
             6047294538.77605,
             2491262157.364577,
             41374550589.93736,
             1951874263.4154053,
             14548161569.19312,
             7266955.834466595,
             212561821.01714137,
             305943131.2993445,
             461387628.7861763,
             54466713.35553857,
             830388706.9218328,
             3647176.53108828,
             151977199.62981388,
             276835999.17082393,
             524990273.8820106,
             105831560.955027,
             11609680892.451252
            ]
           },
           "node": {
            "color": [
             "#4E79A7",
             "#EDC948",
             "#E15759",
             "#76B7B2",
             "#B07AA1",
             "#59A14F"
            ],
            "label": [
             "africa",
             "asia",
             "europe",
             "north america",
             "oceania",
             "south america"
            ]
           },
           "type": "sankey"
          }
         ],
         "layout": {
          "title": {
           "text": "2001 kg CO2eq Produced by Food Trade by Continent"
          }
         },
         "name": "2001"
        },
        {
         "data": [
          {
           "link": {
            "color": [
             "#4E79A7",
             "#4E79A7",
             "#4E79A7",
             "#4E79A7",
             "#4E79A7",
             "#4E79A7",
             "#EDC948",
             "#EDC948",
             "#EDC948",
             "#EDC948",
             "#EDC948",
             "#EDC948",
             "#E15759",
             "#E15759",
             "#E15759",
             "#E15759",
             "#E15759",
             "#E15759",
             "#76B7B2",
             "#76B7B2",
             "#76B7B2",
             "#76B7B2",
             "#76B7B2",
             "#76B7B2",
             "#B07AA1",
             "#B07AA1",
             "#B07AA1",
             "#B07AA1",
             "#B07AA1",
             "#B07AA1",
             "#59A14F",
             "#59A14F",
             "#59A14F",
             "#59A14F",
             "#59A14F",
             "#59A14F"
            ],
            "source": [
             0,
             1,
             2,
             3,
             4,
             5,
             0,
             1,
             2,
             3,
             4,
             5,
             0,
             1,
             2,
             3,
             4,
             5,
             0,
             1,
             2,
             3,
             4,
             5,
             0,
             1,
             2,
             3,
             4,
             5,
             0,
             1,
             2,
             3,
             4,
             5
            ],
            "target": [
             0,
             0,
             0,
             0,
             0,
             0,
             1,
             1,
             1,
             1,
             1,
             1,
             2,
             2,
             2,
             2,
             2,
             2,
             3,
             3,
             3,
             3,
             3,
             3,
             4,
             4,
             4,
             4,
             4,
             4,
             5,
             5,
             5,
             5,
             5,
             5
            ],
            "value": [
             1457846391.9373846,
             903459896.7177649,
             585547169.0760075,
             1522455667.130152,
             756816571.4784355,
             3249919747.582062,
             6012603202.455494,
             35875203967.80384,
             2935521728.589394,
             20362212568.92626,
             7015267168.818968,
             23296778589.471703,
             11272813425.038618,
             4396607473.8013935,
             40023589284.06042,
             19625955360.982117,
             1974053814.4959192,
             37255788964.87538,
             1381173126.6914935,
             6105747080.692937,
             2561225665.460749,
             42795247925.32433,
             2407426182.283262,
             16244775613.9019,
             7936138.647726743,
             251479117.9481285,
             325421908.12260485,
             431376395.2853391,
             48328259.501349926,
             758691768.5355897,
             11388101.372589748,
             89095738.57625175,
             232297601.9035635,
             467836050.11402726,
             89625576.43130198,
             10791006018.565788
            ]
           },
           "node": {
            "color": [
             "#4E79A7",
             "#EDC948",
             "#E15759",
             "#76B7B2",
             "#B07AA1",
             "#59A14F"
            ],
            "label": [
             "africa",
             "asia",
             "europe",
             "north america",
             "oceania",
             "south america"
            ]
           },
           "type": "sankey"
          }
         ],
         "layout": {
          "title": {
           "text": "2002 kg CO2eq Produced by Food Trade by Continent"
          }
         },
         "name": "2002"
        },
        {
         "data": [
          {
           "link": {
            "color": [
             "#4E79A7",
             "#4E79A7",
             "#4E79A7",
             "#4E79A7",
             "#4E79A7",
             "#4E79A7",
             "#EDC948",
             "#EDC948",
             "#EDC948",
             "#EDC948",
             "#EDC948",
             "#EDC948",
             "#E15759",
             "#E15759",
             "#E15759",
             "#E15759",
             "#E15759",
             "#E15759",
             "#76B7B2",
             "#76B7B2",
             "#76B7B2",
             "#76B7B2",
             "#76B7B2",
             "#76B7B2",
             "#B07AA1",
             "#B07AA1",
             "#B07AA1",
             "#B07AA1",
             "#B07AA1",
             "#B07AA1",
             "#59A14F",
             "#59A14F",
             "#59A14F",
             "#59A14F",
             "#59A14F",
             "#59A14F"
            ],
            "source": [
             0,
             1,
             2,
             3,
             4,
             5,
             0,
             1,
             2,
             3,
             4,
             5,
             0,
             1,
             2,
             3,
             4,
             5,
             0,
             1,
             2,
             3,
             4,
             5,
             0,
             1,
             2,
             3,
             4,
             5,
             0,
             1,
             2,
             3,
             4,
             5
            ],
            "target": [
             0,
             0,
             0,
             0,
             0,
             0,
             1,
             1,
             1,
             1,
             1,
             1,
             2,
             2,
             2,
             2,
             2,
             2,
             3,
             3,
             3,
             3,
             3,
             3,
             4,
             4,
             4,
             4,
             4,
             4,
             5,
             5,
             5,
             5,
             5,
             5
            ],
            "value": [
             1325713256.7722604,
             808165218.8697598,
             545471638.7026777,
             1138150727.950556,
             392700005.4969923,
             3371106729.1821246,
             7278576691.963855,
             42766695700.7446,
             3188079303.8720326,
             20527248996.839863,
             5625242823.506108,
             26233036614.87579,
             12037999271.097763,
             4389809523.579364,
             39661897367.31292,
             21591137418.125027,
             2214431604.735249,
             41959692974.20609,
             1457062421.661477,
             6705176113.095022,
             2568191044.9452176,
             43838593351.32441,
             2203006943.534013,
             16313019039.54943,
             15973703.628251627,
             541588834.8790003,
             359985036.4055343,
             631521598.8535894,
             43786619.6606501,
             453631074.9952511,
             3866240.2061004224,
             138692556.10167012,
             247157417.1729962,
             476993026.3252836,
             92310261.36440556,
             11404678607.631298
            ]
           },
           "node": {
            "color": [
             "#4E79A7",
             "#EDC948",
             "#E15759",
             "#76B7B2",
             "#B07AA1",
             "#59A14F"
            ],
            "label": [
             "africa",
             "asia",
             "europe",
             "north america",
             "oceania",
             "south america"
            ]
           },
           "type": "sankey"
          }
         ],
         "layout": {
          "title": {
           "text": "2003 kg CO2eq Produced by Food Trade by Continent"
          }
         },
         "name": "2003"
        },
        {
         "data": [
          {
           "link": {
            "color": [
             "#4E79A7",
             "#4E79A7",
             "#4E79A7",
             "#4E79A7",
             "#4E79A7",
             "#4E79A7",
             "#EDC948",
             "#EDC948",
             "#EDC948",
             "#EDC948",
             "#EDC948",
             "#EDC948",
             "#E15759",
             "#E15759",
             "#E15759",
             "#E15759",
             "#E15759",
             "#E15759",
             "#76B7B2",
             "#76B7B2",
             "#76B7B2",
             "#76B7B2",
             "#76B7B2",
             "#76B7B2",
             "#B07AA1",
             "#B07AA1",
             "#B07AA1",
             "#B07AA1",
             "#B07AA1",
             "#B07AA1",
             "#59A14F",
             "#59A14F",
             "#59A14F",
             "#59A14F",
             "#59A14F",
             "#59A14F"
            ],
            "source": [
             0,
             1,
             2,
             3,
             4,
             5,
             0,
             1,
             2,
             3,
             4,
             5,
             0,
             1,
             2,
             3,
             4,
             5,
             0,
             1,
             2,
             3,
             4,
             5,
             0,
             1,
             2,
             3,
             4,
             5,
             0,
             1,
             2,
             3,
             4,
             5
            ],
            "target": [
             0,
             0,
             0,
             0,
             0,
             0,
             1,
             1,
             1,
             1,
             1,
             1,
             2,
             2,
             2,
             2,
             2,
             2,
             3,
             3,
             3,
             3,
             3,
             3,
             4,
             4,
             4,
             4,
             4,
             4,
             5,
             5,
             5,
             5,
             5,
             5
            ],
            "value": [
             1127078865.8711352,
             664859536.4039896,
             465145759.94064265,
             1089549720.9256752,
             499800049.40852153,
             4273494036.612877,
             6403092457.823376,
             38959453390.60141,
             3020612980.709942,
             21484579438.353752,
             6639360723.229506,
             29286013724.473103,
             10978705677.051792,
             4764308907.140089,
             41572007951.50446,
             22535388784.626648,
             1970067367.1762009,
             41127186660.97376,
             1380548611.2533555,
             6017721571.417465,
             2362401314.2841506,
             43727525310.78967,
             2205855746.8964605,
             16465672485.08512,
             11195059.263101231,
             528279207.693821,
             352200842.1794316,
             720809438.4480196,
             47703032.43899465,
             457857861.37202615,
             2876180.651732654,
             147047230.17437428,
             116251365.71171808,
             464414820.49480367,
             75338034.89696369,
             11121892338.878262
            ]
           },
           "node": {
            "color": [
             "#4E79A7",
             "#EDC948",
             "#E15759",
             "#76B7B2",
             "#B07AA1",
             "#59A14F"
            ],
            "label": [
             "africa",
             "asia",
             "europe",
             "north america",
             "oceania",
             "south america"
            ]
           },
           "type": "sankey"
          }
         ],
         "layout": {
          "title": {
           "text": "2004 kg CO2eq Produced by Food Trade by Continent"
          }
         },
         "name": "2004"
        },
        {
         "data": [
          {
           "link": {
            "color": [
             "#4E79A7",
             "#4E79A7",
             "#4E79A7",
             "#4E79A7",
             "#4E79A7",
             "#4E79A7",
             "#EDC948",
             "#EDC948",
             "#EDC948",
             "#EDC948",
             "#EDC948",
             "#EDC948",
             "#E15759",
             "#E15759",
             "#E15759",
             "#E15759",
             "#E15759",
             "#E15759",
             "#76B7B2",
             "#76B7B2",
             "#76B7B2",
             "#76B7B2",
             "#76B7B2",
             "#76B7B2",
             "#B07AA1",
             "#B07AA1",
             "#B07AA1",
             "#B07AA1",
             "#B07AA1",
             "#B07AA1",
             "#59A14F",
             "#59A14F",
             "#59A14F",
             "#59A14F",
             "#59A14F",
             "#59A14F"
            ],
            "source": [
             0,
             1,
             2,
             3,
             4,
             5,
             0,
             1,
             2,
             3,
             4,
             5,
             0,
             1,
             2,
             3,
             4,
             5,
             0,
             1,
             2,
             3,
             4,
             5,
             0,
             1,
             2,
             3,
             4,
             5,
             0,
             1,
             2,
             3,
             4,
             5
            ],
            "target": [
             0,
             0,
             0,
             0,
             0,
             0,
             1,
             1,
             1,
             1,
             1,
             1,
             2,
             2,
             2,
             2,
             2,
             2,
             3,
             3,
             3,
             3,
             3,
             3,
             4,
             4,
             4,
             4,
             4,
             4,
             5,
             5,
             5,
             5,
             5,
             5
            ],
            "value": [
             1116955881.2523465,
             1074787236.5848975,
             631675191.3203344,
             1108955085.4996812,
             481377468.5271496,
             3220776147.4235067,
             6877443435.056489,
             40432392840.949615,
             3203176513.5090885,
             20397038215.668167,
             6175348138.607269,
             31303292375.709835,
             12567764459.91908,
             5192618166.005291,
             44571636784.957664,
             20363511214.751213,
             1723913824.9040484,
             47975986176.890045,
             1623615618.0003445,
             5844655171.597922,
             2249981380.8828464,
             46873615958.9121,
             2248198555.1792946,
             17459323189.453285,
             14031542.409884555,
             619253445.6942179,
             341720498.6824873,
             756148959.9040196,
             47514956.488587625,
             555410623.3783363,
             3075858.95940335,
             114685922.19252874,
             146867812.22062922,
             434964241.5026887,
             45180051.749964856,
             11998194294.066902
            ]
           },
           "node": {
            "color": [
             "#4E79A7",
             "#EDC948",
             "#E15759",
             "#76B7B2",
             "#B07AA1",
             "#59A14F"
            ],
            "label": [
             "africa",
             "asia",
             "europe",
             "north america",
             "oceania",
             "south america"
            ]
           },
           "type": "sankey"
          }
         ],
         "layout": {
          "title": {
           "text": "2005 kg CO2eq Produced by Food Trade by Continent"
          }
         },
         "name": "2005"
        },
        {
         "data": [
          {
           "link": {
            "color": [
             "#4E79A7",
             "#4E79A7",
             "#4E79A7",
             "#4E79A7",
             "#4E79A7",
             "#4E79A7",
             "#EDC948",
             "#EDC948",
             "#EDC948",
             "#EDC948",
             "#EDC948",
             "#EDC948",
             "#E15759",
             "#E15759",
             "#E15759",
             "#E15759",
             "#E15759",
             "#E15759",
             "#76B7B2",
             "#76B7B2",
             "#76B7B2",
             "#76B7B2",
             "#76B7B2",
             "#76B7B2",
             "#B07AA1",
             "#B07AA1",
             "#B07AA1",
             "#B07AA1",
             "#B07AA1",
             "#B07AA1",
             "#59A14F",
             "#59A14F",
             "#59A14F",
             "#59A14F",
             "#59A14F",
             "#59A14F"
            ],
            "source": [
             0,
             1,
             2,
             3,
             4,
             5,
             0,
             1,
             2,
             3,
             4,
             5,
             0,
             1,
             2,
             3,
             4,
             5,
             0,
             1,
             2,
             3,
             4,
             5,
             0,
             1,
             2,
             3,
             4,
             5,
             0,
             1,
             2,
             3,
             4,
             5
            ],
            "target": [
             0,
             0,
             0,
             0,
             0,
             0,
             1,
             1,
             1,
             1,
             1,
             1,
             2,
             2,
             2,
             2,
             2,
             2,
             3,
             3,
             3,
             3,
             3,
             3,
             4,
             4,
             4,
             4,
             4,
             4,
             5,
             5,
             5,
             5,
             5,
             5
            ],
            "value": [
             1220805046.219281,
             757355639.7141844,
             559172203.6405787,
             1284235710.1739771,
             533568589.591502,
             2211942862.842046,
             7014008638.44975,
             45182345618.79118,
             3088198554.624979,
             21660073661.12717,
             6219563400.179211,
             32167973893.202934,
             12652902033.070694,
             5528086619.347344,
             46915682149.805984,
             25716960928.813297,
             1826835551.4235344,
             51436809057.25418,
             1705903279.7293708,
             6351534600.061275,
             2263503799.2817354,
             50906426533.30312,
             2054800500.9819884,
             17941186947.14677,
             17729132.04526139,
             675614117.016191,
             359908944.9111845,
             733904019.7048475,
             46615457.38652411,
             547305529.873412,
             6236291.006431938,
             132569524.38040936,
             192582772.54932383,
             562944236.9492077,
             38512238.65687136,
             14162880909.072138
            ]
           },
           "node": {
            "color": [
             "#4E79A7",
             "#EDC948",
             "#E15759",
             "#76B7B2",
             "#B07AA1",
             "#59A14F"
            ],
            "label": [
             "africa",
             "asia",
             "europe",
             "north america",
             "oceania",
             "south america"
            ]
           },
           "type": "sankey"
          }
         ],
         "layout": {
          "title": {
           "text": "2006 kg CO2eq Produced by Food Trade by Continent"
          }
         },
         "name": "2006"
        },
        {
         "data": [
          {
           "link": {
            "color": [
             "#4E79A7",
             "#4E79A7",
             "#4E79A7",
             "#4E79A7",
             "#4E79A7",
             "#4E79A7",
             "#EDC948",
             "#EDC948",
             "#EDC948",
             "#EDC948",
             "#EDC948",
             "#EDC948",
             "#E15759",
             "#E15759",
             "#E15759",
             "#E15759",
             "#E15759",
             "#E15759",
             "#76B7B2",
             "#76B7B2",
             "#76B7B2",
             "#76B7B2",
             "#76B7B2",
             "#76B7B2",
             "#B07AA1",
             "#B07AA1",
             "#B07AA1",
             "#B07AA1",
             "#B07AA1",
             "#B07AA1",
             "#59A14F",
             "#59A14F",
             "#59A14F",
             "#59A14F",
             "#59A14F",
             "#59A14F"
            ],
            "source": [
             0,
             1,
             2,
             3,
             4,
             5,
             0,
             1,
             2,
             3,
             4,
             5,
             0,
             1,
             2,
             3,
             4,
             5,
             0,
             1,
             2,
             3,
             4,
             5,
             0,
             1,
             2,
             3,
             4,
             5,
             0,
             1,
             2,
             3,
             4,
             5
            ],
            "target": [
             0,
             0,
             0,
             0,
             0,
             0,
             1,
             1,
             1,
             1,
             1,
             1,
             2,
             2,
             2,
             2,
             2,
             2,
             3,
             3,
             3,
             3,
             3,
             3,
             4,
             4,
             4,
             4,
             4,
             4,
             5,
             5,
             5,
             5,
             5,
             5
            ],
            "value": [
             1534053087.689329,
             1196450141.8284776,
             790472102.815269,
             1862755472.7696517,
             463929643.53050566,
             3613695234.009935,
             8870717957.327263,
             53823741774.36123,
             3299845930.162003,
             16908926854.62986,
             5953740085.662545,
             37565096114.85874,
             13941018784.004633,
             5488037614.05187,
             46547015430.88504,
             29586117808.60684,
             2040318997.9078643,
             52415920255.73677,
             1658142055.415747,
             6059566935.464895,
             2694034180.5907626,
             52563460856.24491,
             2184211257.042724,
             17166798409.40956,
             13501902.477771085,
             781338226.1409917,
             424855703.6482674,
             806809197.4485468,
             49859408.7665892,
             587797510.0147333,
             15267883.224209769,
             153075324.88078523,
             177325942.59507418,
             692748013.0291983,
             70939904.09727117,
             15636977594.985971
            ]
           },
           "node": {
            "color": [
             "#4E79A7",
             "#EDC948",
             "#E15759",
             "#76B7B2",
             "#B07AA1",
             "#59A14F"
            ],
            "label": [
             "africa",
             "asia",
             "europe",
             "north america",
             "oceania",
             "south america"
            ]
           },
           "type": "sankey"
          }
         ],
         "layout": {
          "title": {
           "text": "2007 kg CO2eq Produced by Food Trade by Continent"
          }
         },
         "name": "2007"
        },
        {
         "data": [
          {
           "link": {
            "color": [
             "#4E79A7",
             "#4E79A7",
             "#4E79A7",
             "#4E79A7",
             "#4E79A7",
             "#4E79A7",
             "#EDC948",
             "#EDC948",
             "#EDC948",
             "#EDC948",
             "#EDC948",
             "#EDC948",
             "#E15759",
             "#E15759",
             "#E15759",
             "#E15759",
             "#E15759",
             "#E15759",
             "#76B7B2",
             "#76B7B2",
             "#76B7B2",
             "#76B7B2",
             "#76B7B2",
             "#76B7B2",
             "#B07AA1",
             "#B07AA1",
             "#B07AA1",
             "#B07AA1",
             "#B07AA1",
             "#B07AA1",
             "#59A14F",
             "#59A14F",
             "#59A14F",
             "#59A14F",
             "#59A14F",
             "#59A14F"
            ],
            "source": [
             0,
             1,
             2,
             3,
             4,
             5,
             0,
             1,
             2,
             3,
             4,
             5,
             0,
             1,
             2,
             3,
             4,
             5,
             0,
             1,
             2,
             3,
             4,
             5,
             0,
             1,
             2,
             3,
             4,
             5,
             0,
             1,
             2,
             3,
             4,
             5
            ],
            "target": [
             0,
             0,
             0,
             0,
             0,
             0,
             1,
             1,
             1,
             1,
             1,
             1,
             2,
             2,
             2,
             2,
             2,
             2,
             3,
             3,
             3,
             3,
             3,
             3,
             4,
             4,
             4,
             4,
             4,
             4,
             5,
             5,
             5,
             5,
             5,
             5
            ],
            "value": [
             2317444791.041512,
             1875627821.2356656,
             697940354.6154678,
             870951701.4605839,
             289712744.7612973,
             3383362362.700981,
             7466107571.461257,
             50199769763.00157,
             3006917935.944091,
             21092995306.11918,
             4999756766.871423,
             35131406331.02272,
             15162757777.95693,
             5848932998.542572,
             49789071976.48194,
             27618424522.34526,
             1222217844.671779,
             59563832046.22911,
             1869930179.1679947,
             6781758664.839155,
             2046265369.000273,
             52791970169.16485,
             1354776481.5473075,
             16765412599.810743,
             11190781.189313686,
             853376298.5357423,
             370710197.6078672,
             1144261755.8715377,
             52799082.89151749,
             507520591.6271445,
             18107471.133372918,
             241514943.11037332,
             199242973.8185517,
             723890025.6371155,
             91627996.03620076,
             16175682207.021034
            ]
           },
           "node": {
            "color": [
             "#4E79A7",
             "#EDC948",
             "#E15759",
             "#76B7B2",
             "#B07AA1",
             "#59A14F"
            ],
            "label": [
             "africa",
             "asia",
             "europe",
             "north america",
             "oceania",
             "south america"
            ]
           },
           "type": "sankey"
          }
         ],
         "layout": {
          "title": {
           "text": "2008 kg CO2eq Produced by Food Trade by Continent"
          }
         },
         "name": "2008"
        },
        {
         "data": [
          {
           "link": {
            "color": [
             "#4E79A7",
             "#4E79A7",
             "#4E79A7",
             "#4E79A7",
             "#4E79A7",
             "#4E79A7",
             "#EDC948",
             "#EDC948",
             "#EDC948",
             "#EDC948",
             "#EDC948",
             "#EDC948",
             "#E15759",
             "#E15759",
             "#E15759",
             "#E15759",
             "#E15759",
             "#E15759",
             "#76B7B2",
             "#76B7B2",
             "#76B7B2",
             "#76B7B2",
             "#76B7B2",
             "#76B7B2",
             "#B07AA1",
             "#B07AA1",
             "#B07AA1",
             "#B07AA1",
             "#B07AA1",
             "#B07AA1",
             "#59A14F",
             "#59A14F",
             "#59A14F",
             "#59A14F",
             "#59A14F",
             "#59A14F"
            ],
            "source": [
             0,
             1,
             2,
             3,
             4,
             5,
             0,
             1,
             2,
             3,
             4,
             5,
             0,
             1,
             2,
             3,
             4,
             5,
             0,
             1,
             2,
             3,
             4,
             5,
             0,
             1,
             2,
             3,
             4,
             5,
             0,
             1,
             2,
             3,
             4,
             5
            ],
            "target": [
             0,
             0,
             0,
             0,
             0,
             0,
             1,
             1,
             1,
             1,
             1,
             1,
             2,
             2,
             2,
             2,
             2,
             2,
             3,
             3,
             3,
             3,
             3,
             3,
             4,
             4,
             4,
             4,
             4,
             4,
             5,
             5,
             5,
             5,
             5,
             5
            ],
            "value": [
             2320321936.956887,
             966880577.6339796,
             897627900.4915216,
             805048361.3181281,
             445086965.9895424,
             3354271908.7517724,
             7446715210.27559,
             52108161960.00183,
             3347791732.934832,
             22569427363.353584,
             5801723661.595229,
             35471264467.15898,
             13382944913.188194,
             5971205097.216872,
             54122556583.55673,
             24755322618.230927,
             1560643625.3196218,
             54308784784.083786,
             1803865911.5114903,
             7057501340.949308,
             1838388044.3092344,
             49840337285.23499,
             1731240513.1180248,
             18437722492.298004,
             10824907.774110015,
             782157914.673362,
             392197624.0091738,
             1064993871.6205366,
             48792129.17933256,
             449541638.76933056,
             22525345.921467267,
             225094996.98733667,
             196524654.133158,
             628172536.4517624,
             68226282.95179859,
             16415669232.249744
            ]
           },
           "node": {
            "color": [
             "#4E79A7",
             "#EDC948",
             "#E15759",
             "#76B7B2",
             "#B07AA1",
             "#59A14F"
            ],
            "label": [
             "africa",
             "asia",
             "europe",
             "north america",
             "oceania",
             "south america"
            ]
           },
           "type": "sankey"
          }
         ],
         "layout": {
          "title": {
           "text": "2009 kg CO2eq Produced by Food Trade by Continent"
          }
         },
         "name": "2009"
        },
        {
         "data": [
          {
           "link": {
            "color": [
             "#4E79A7",
             "#4E79A7",
             "#4E79A7",
             "#4E79A7",
             "#4E79A7",
             "#4E79A7",
             "#EDC948",
             "#EDC948",
             "#EDC948",
             "#EDC948",
             "#EDC948",
             "#EDC948",
             "#E15759",
             "#E15759",
             "#E15759",
             "#E15759",
             "#E15759",
             "#E15759",
             "#76B7B2",
             "#76B7B2",
             "#76B7B2",
             "#76B7B2",
             "#76B7B2",
             "#76B7B2",
             "#B07AA1",
             "#B07AA1",
             "#B07AA1",
             "#B07AA1",
             "#B07AA1",
             "#B07AA1",
             "#59A14F",
             "#59A14F",
             "#59A14F",
             "#59A14F",
             "#59A14F",
             "#59A14F"
            ],
            "source": [
             0,
             1,
             2,
             3,
             4,
             5,
             0,
             1,
             2,
             3,
             4,
             5,
             0,
             1,
             2,
             3,
             4,
             5,
             0,
             1,
             2,
             3,
             4,
             5,
             0,
             1,
             2,
             3,
             4,
             5,
             0,
             1,
             2,
             3,
             4,
             5
            ],
            "target": [
             0,
             0,
             0,
             0,
             0,
             0,
             1,
             1,
             1,
             1,
             1,
             1,
             2,
             2,
             2,
             2,
             2,
             2,
             3,
             3,
             3,
             3,
             3,
             3,
             4,
             4,
             4,
             4,
             4,
             4,
             5,
             5,
             5,
             5,
             5,
             5
            ],
            "value": [
             1985840817.9242132,
             778062378.106309,
             752765093.7580122,
             633317190.604745,
             158887931.11765283,
             897567090.6728164,
             8758287176.620731,
             55750516145.87152,
             4033688431.1145353,
             27291523650.41832,
             5745772676.308154,
             39188301497.80658,
             14306231375.136536,
             5711733967.443869,
             54451917885.43176,
             26387016747.57456,
             1295670673.1819308,
             53056435571.42661,
             1804351567.608341,
             5973876156.018679,
             1897625795.2942083,
             53126638372.99473,
             1166225005.2711115,
             18138689102.44464,
             8880447.491797186,
             914187049.4711984,
             434756374.3109508,
             1066279847.6458482,
             51695935.98045172,
             496720702.2277903,
             24439697.368323985,
             244188029.4762851,
             309115293.26673704,
             774717981.348742,
             46742734.26369727,
             18727559300.29799
            ]
           },
           "node": {
            "color": [
             "#4E79A7",
             "#EDC948",
             "#E15759",
             "#76B7B2",
             "#B07AA1",
             "#59A14F"
            ],
            "label": [
             "africa",
             "asia",
             "europe",
             "north america",
             "oceania",
             "south america"
            ]
           },
           "type": "sankey"
          }
         ],
         "layout": {
          "title": {
           "text": "2010 kg CO2eq Produced by Food Trade by Continent"
          }
         },
         "name": "2010"
        },
        {
         "data": [
          {
           "link": {
            "color": [
             "#4E79A7",
             "#4E79A7",
             "#4E79A7",
             "#4E79A7",
             "#4E79A7",
             "#4E79A7",
             "#EDC948",
             "#EDC948",
             "#EDC948",
             "#EDC948",
             "#EDC948",
             "#EDC948",
             "#E15759",
             "#E15759",
             "#E15759",
             "#E15759",
             "#E15759",
             "#E15759",
             "#76B7B2",
             "#76B7B2",
             "#76B7B2",
             "#76B7B2",
             "#76B7B2",
             "#76B7B2",
             "#B07AA1",
             "#B07AA1",
             "#B07AA1",
             "#B07AA1",
             "#B07AA1",
             "#B07AA1",
             "#59A14F",
             "#59A14F",
             "#59A14F",
             "#59A14F",
             "#59A14F",
             "#59A14F"
            ],
            "source": [
             0,
             1,
             2,
             3,
             4,
             5,
             0,
             1,
             2,
             3,
             4,
             5,
             0,
             1,
             2,
             3,
             4,
             5,
             0,
             1,
             2,
             3,
             4,
             5,
             0,
             1,
             2,
             3,
             4,
             5,
             0,
             1,
             2,
             3,
             4,
             5
            ],
            "target": [
             0,
             0,
             0,
             0,
             0,
             0,
             1,
             1,
             1,
             1,
             1,
             1,
             2,
             2,
             2,
             2,
             2,
             2,
             3,
             3,
             3,
             3,
             3,
             3,
             4,
             4,
             4,
             4,
             4,
             4,
             5,
             5,
             5,
             5,
             5,
             5
            ],
            "value": [
             1198000450.757907,
             1129446386.0973969,
             832970809.7512007,
             1388839604.4808772,
             638892459.4531863,
             4874343897.344033,
             9485003076.928198,
             56080228535.71069,
             4060676879.942588,
             27812935544.84321,
             6238719563.373521,
             42954113083.95147,
             13078762212.439306,
             5564201790.547334,
             57423691240.29787,
             27322032899.94991,
             1140436948.3166733,
             55175554562.48898,
             1923656806.868381,
             6561794000.56416,
             1994888086.959389,
             56337080768.83342,
             708398044.477507,
             17725794782.39686,
             15487371.119043084,
             732182622.2207814,
             502933623.380684,
             1162366567.552244,
             51078802.4288663,
             411482803.8636983,
             30656884.90829059,
             265848949.6647268,
             343080269.5543762,
             706081977.1629716,
             75057938.99151134,
             19791466312.943768
            ]
           },
           "node": {
            "color": [
             "#4E79A7",
             "#EDC948",
             "#E15759",
             "#76B7B2",
             "#B07AA1",
             "#59A14F"
            ],
            "label": [
             "africa",
             "asia",
             "europe",
             "north america",
             "oceania",
             "south america"
            ]
           },
           "type": "sankey"
          }
         ],
         "layout": {
          "title": {
           "text": "2011 kg CO2eq Produced by Food Trade by Continent"
          }
         },
         "name": "2011"
        },
        {
         "data": [
          {
           "link": {
            "color": [
             "#4E79A7",
             "#4E79A7",
             "#4E79A7",
             "#4E79A7",
             "#4E79A7",
             "#4E79A7",
             "#EDC948",
             "#EDC948",
             "#EDC948",
             "#EDC948",
             "#EDC948",
             "#EDC948",
             "#E15759",
             "#E15759",
             "#E15759",
             "#E15759",
             "#E15759",
             "#E15759",
             "#76B7B2",
             "#76B7B2",
             "#76B7B2",
             "#76B7B2",
             "#76B7B2",
             "#76B7B2",
             "#B07AA1",
             "#B07AA1",
             "#B07AA1",
             "#B07AA1",
             "#B07AA1",
             "#B07AA1",
             "#59A14F",
             "#59A14F",
             "#59A14F",
             "#59A14F",
             "#59A14F",
             "#59A14F"
            ],
            "source": [
             0,
             1,
             2,
             3,
             4,
             5,
             0,
             1,
             2,
             3,
             4,
             5,
             0,
             1,
             2,
             3,
             4,
             5,
             0,
             1,
             2,
             3,
             4,
             5,
             0,
             1,
             2,
             3,
             4,
             5,
             0,
             1,
             2,
             3,
             4,
             5
            ],
            "target": [
             0,
             0,
             0,
             0,
             0,
             0,
             1,
             1,
             1,
             1,
             1,
             1,
             2,
             2,
             2,
             2,
             2,
             2,
             3,
             3,
             3,
             3,
             3,
             3,
             4,
             4,
             4,
             4,
             4,
             4,
             5,
             5,
             5,
             5,
             5,
             5
            ],
            "value": [
             1895845504.1322465,
             1117758654.4674852,
             944954707.4730898,
             660847201.714186,
             250310595.60853425,
             4182080679.9633646,
             9642233859.09644,
             63358269578.27704,
             4804360775.530327,
             28226220134.71889,
             7927242242.852253,
             44564656193.02332,
             13698723883.585758,
             5938145172.75347,
             60968364482.05611,
             26571541102.800625,
             1269742259.005975,
             52256247292.67161,
             1982336400.9631245,
             5470756987.733548,
             1958444059.6378672,
             56288055567.30138,
             995437848.693816,
             16327436695.774158,
             14136899.340308668,
             950482213.819642,
             568215509.1930615,
             1355562030.0681796,
             61601601.75225049,
             484253574.9819625,
             55682091.74659022,
             299757103.741082,
             482371501.675274,
             640051903.277268,
             112793165.86724728,
             22104612094.28185
            ]
           },
           "node": {
            "color": [
             "#4E79A7",
             "#EDC948",
             "#E15759",
             "#76B7B2",
             "#B07AA1",
             "#59A14F"
            ],
            "label": [
             "africa",
             "asia",
             "europe",
             "north america",
             "oceania",
             "south america"
            ]
           },
           "type": "sankey"
          }
         ],
         "layout": {
          "title": {
           "text": "2012 kg CO2eq Produced by Food Trade by Continent"
          }
         },
         "name": "2012"
        },
        {
         "data": [
          {
           "link": {
            "color": [
             "#4E79A7",
             "#4E79A7",
             "#4E79A7",
             "#4E79A7",
             "#4E79A7",
             "#4E79A7",
             "#EDC948",
             "#EDC948",
             "#EDC948",
             "#EDC948",
             "#EDC948",
             "#EDC948",
             "#E15759",
             "#E15759",
             "#E15759",
             "#E15759",
             "#E15759",
             "#E15759",
             "#76B7B2",
             "#76B7B2",
             "#76B7B2",
             "#76B7B2",
             "#76B7B2",
             "#76B7B2",
             "#B07AA1",
             "#B07AA1",
             "#B07AA1",
             "#B07AA1",
             "#B07AA1",
             "#B07AA1",
             "#59A14F",
             "#59A14F",
             "#59A14F",
             "#59A14F",
             "#59A14F",
             "#59A14F"
            ],
            "source": [
             0,
             1,
             2,
             3,
             4,
             5,
             0,
             1,
             2,
             3,
             4,
             5,
             0,
             1,
             2,
             3,
             4,
             5,
             0,
             1,
             2,
             3,
             4,
             5,
             0,
             1,
             2,
             3,
             4,
             5,
             0,
             1,
             2,
             3,
             4,
             5
            ],
            "target": [
             0,
             0,
             0,
             0,
             0,
             0,
             1,
             1,
             1,
             1,
             1,
             1,
             2,
             2,
             2,
             2,
             2,
             2,
             3,
             3,
             3,
             3,
             3,
             3,
             4,
             4,
             4,
             4,
             4,
             4,
             5,
             5,
             5,
             5,
             5,
             5
            ],
            "value": [
             2324372267.58679,
             1485615565.2677867,
             998778992.7159594,
             930857682.9447588,
             469411637.9643954,
             4815951605.841597,
             11115721532.31911,
             64261427183.33119,
             5356292611.732162,
             26184919179.509388,
             7791260004.7333,
             51028245187.59429,
             14647432985.856483,
             6400154490.063474,
             60035165776.41591,
             28397182370.33003,
             1191126589.258256,
             53683214698.98628,
             2024634654.6044052,
             6195566028.322758,
             2109097674.976423,
             57177032252.3202,
             817658633.6725864,
             17226353175.44598,
             15408672.47811244,
             901664237.9811536,
             588151118.4875098,
             1651621787.5135758,
             60161689.49433289,
             520327831.0345525,
             41950408.3843693,
             345837538.39522874,
             467432717.1506439,
             1177096437.1918616,
             156010538.70615163,
             19502757246.23044
            ]
           },
           "node": {
            "color": [
             "#4E79A7",
             "#EDC948",
             "#E15759",
             "#76B7B2",
             "#B07AA1",
             "#59A14F"
            ],
            "label": [
             "africa",
             "asia",
             "europe",
             "north america",
             "oceania",
             "south america"
            ]
           },
           "type": "sankey"
          }
         ],
         "layout": {
          "title": {
           "text": "2013 kg CO2eq Produced by Food Trade by Continent"
          }
         },
         "name": "2013"
        },
        {
         "data": [
          {
           "link": {
            "color": [
             "#4E79A7",
             "#4E79A7",
             "#4E79A7",
             "#4E79A7",
             "#4E79A7",
             "#4E79A7",
             "#EDC948",
             "#EDC948",
             "#EDC948",
             "#EDC948",
             "#EDC948",
             "#EDC948",
             "#E15759",
             "#E15759",
             "#E15759",
             "#E15759",
             "#E15759",
             "#E15759",
             "#76B7B2",
             "#76B7B2",
             "#76B7B2",
             "#76B7B2",
             "#76B7B2",
             "#76B7B2",
             "#B07AA1",
             "#B07AA1",
             "#B07AA1",
             "#B07AA1",
             "#B07AA1",
             "#B07AA1",
             "#59A14F",
             "#59A14F",
             "#59A14F",
             "#59A14F",
             "#59A14F",
             "#59A14F"
            ],
            "source": [
             0,
             1,
             2,
             3,
             4,
             5,
             0,
             1,
             2,
             3,
             4,
             5,
             0,
             1,
             2,
             3,
             4,
             5,
             0,
             1,
             2,
             3,
             4,
             5,
             0,
             1,
             2,
             3,
             4,
             5,
             0,
             1,
             2,
             3,
             4,
             5
            ],
            "target": [
             0,
             0,
             0,
             0,
             0,
             0,
             1,
             1,
             1,
             1,
             1,
             1,
             2,
             2,
             2,
             2,
             2,
             2,
             3,
             3,
             3,
             3,
             3,
             3,
             4,
             4,
             4,
             4,
             4,
             4,
             5,
             5,
             5,
             5,
             5,
             5
            ],
            "value": [
             2486947464.1854315,
             1419412959.920438,
             1097308660.2140946,
             877992974.3835304,
             258689928.307516,
             4303848382.505983,
             14674009250.07336,
             76217159008.0283,
             6293637170.875626,
             27499590042.58253,
             8634581955.170559,
             54793094882.59093,
             14344109068.660969,
             6142096483.830553,
             63896940903.98422,
             31625452145.714645,
             1064237706.2853206,
             52272961160.99523,
             2261628460.112468,
             5855734862.853428,
             2280967526.366477,
             57270116798.419205,
             918532578.3079998,
             13086894537.60893,
             14829526.536380162,
             839366639.0313425,
             709561053.418302,
             1695590985.0411704,
             69953038.08057445,
             792663143.9353472,
             44547306.037870586,
             339087932.21423066,
             482090494.2445856,
             1329930193.1454098,
             130798535.96332344,
             15357534556.25331
            ]
           },
           "node": {
            "color": [
             "#4E79A7",
             "#EDC948",
             "#E15759",
             "#76B7B2",
             "#B07AA1",
             "#59A14F"
            ],
            "label": [
             "africa",
             "asia",
             "europe",
             "north america",
             "oceania",
             "south america"
            ]
           },
           "type": "sankey"
          }
         ],
         "layout": {
          "title": {
           "text": "2014 kg CO2eq Produced by Food Trade by Continent"
          }
         },
         "name": "2014"
        },
        {
         "data": [
          {
           "link": {
            "color": [
             "#4E79A7",
             "#4E79A7",
             "#4E79A7",
             "#4E79A7",
             "#4E79A7",
             "#4E79A7",
             "#EDC948",
             "#EDC948",
             "#EDC948",
             "#EDC948",
             "#EDC948",
             "#EDC948",
             "#E15759",
             "#E15759",
             "#E15759",
             "#E15759",
             "#E15759",
             "#E15759",
             "#76B7B2",
             "#76B7B2",
             "#76B7B2",
             "#76B7B2",
             "#76B7B2",
             "#76B7B2",
             "#B07AA1",
             "#B07AA1",
             "#B07AA1",
             "#B07AA1",
             "#B07AA1",
             "#B07AA1",
             "#59A14F",
             "#59A14F",
             "#59A14F",
             "#59A14F",
             "#59A14F",
             "#59A14F"
            ],
            "source": [
             0,
             1,
             2,
             3,
             4,
             5,
             0,
             1,
             2,
             3,
             4,
             5,
             0,
             1,
             2,
             3,
             4,
             5,
             0,
             1,
             2,
             3,
             4,
             5,
             0,
             1,
             2,
             3,
             4,
             5,
             0,
             1,
             2,
             3,
             4,
             5
            ],
            "target": [
             0,
             0,
             0,
             0,
             0,
             0,
             1,
             1,
             1,
             1,
             1,
             1,
             2,
             2,
             2,
             2,
             2,
             2,
             3,
             3,
             3,
             3,
             3,
             3,
             4,
             4,
             4,
             4,
             4,
             4,
             5,
             5,
             5,
             5,
             5,
             5
            ],
            "value": [
             2195120638.987925,
             1318667983.8143196,
             1126677655.971528,
             660543128.6833711,
             290184750.3859799,
             4613742526.651795,
             15610481573.988148,
             76861395817.71771,
             6672262349.875906,
             27336658981.04122,
             10016697009.611803,
             61194547195.61438,
             15716613889.99562,
             5786760987.193652,
             66364365629.87406,
             31629956486.72216,
             907000675.5359486,
             53802398702.6201,
             2681228379.8836846,
             5328174197.615505,
             2100854043.026979,
             61831370406.63547,
             1120956731.051631,
             17110248788.007145,
             18909966.38779522,
             739679115.2349848,
             827502260.5985073,
             1581289856.5501332,
             55160776.22515932,
             942686130.6104956,
             41845353.90632336,
             255388376.0747764,
             540209651.8713061,
             1159123816.7095528,
             118658826.0656413,
             14382090716.682886
            ]
           },
           "node": {
            "color": [
             "#4E79A7",
             "#EDC948",
             "#E15759",
             "#76B7B2",
             "#B07AA1",
             "#59A14F"
            ],
            "label": [
             "africa",
             "asia",
             "europe",
             "north america",
             "oceania",
             "south america"
            ]
           },
           "type": "sankey"
          }
         ],
         "layout": {
          "title": {
           "text": "2015 kg CO2eq Produced by Food Trade by Continent"
          }
         },
         "name": "2015"
        },
        {
         "data": [
          {
           "link": {
            "color": [
             "#4E79A7",
             "#4E79A7",
             "#4E79A7",
             "#4E79A7",
             "#4E79A7",
             "#4E79A7",
             "#EDC948",
             "#EDC948",
             "#EDC948",
             "#EDC948",
             "#EDC948",
             "#EDC948",
             "#E15759",
             "#E15759",
             "#E15759",
             "#E15759",
             "#E15759",
             "#E15759",
             "#76B7B2",
             "#76B7B2",
             "#76B7B2",
             "#76B7B2",
             "#76B7B2",
             "#76B7B2",
             "#B07AA1",
             "#B07AA1",
             "#B07AA1",
             "#B07AA1",
             "#B07AA1",
             "#B07AA1",
             "#59A14F",
             "#59A14F",
             "#59A14F",
             "#59A14F",
             "#59A14F",
             "#59A14F"
            ],
            "source": [
             0,
             1,
             2,
             3,
             4,
             5,
             0,
             1,
             2,
             3,
             4,
             5,
             0,
             1,
             2,
             3,
             4,
             5,
             0,
             1,
             2,
             3,
             4,
             5,
             0,
             1,
             2,
             3,
             4,
             5,
             0,
             1,
             2,
             3,
             4,
             5
            ],
            "target": [
             0,
             0,
             0,
             0,
             0,
             0,
             1,
             1,
             1,
             1,
             1,
             1,
             2,
             2,
             2,
             2,
             2,
             2,
             3,
             3,
             3,
             3,
             3,
             3,
             4,
             4,
             4,
             4,
             4,
             4,
             5,
             5,
             5,
             5,
             5,
             5
            ],
            "value": [
             19721654684.2201,
             2352105509.0350904,
             6530987619.2680645,
             1255564910.5868664,
             222162310.15484977,
             4688084378.491225,
             14195655202.421408,
             71953592136.162,
             8018109147.961592,
             29269663316.793125,
             10994299623.444023,
             65220918431.35513,
             16354567471.323742,
             6017956403.599169,
             67098236326.94646,
             34663235495.90126,
             1028019425.0055714,
             55254606504.94371,
             2432924063.258918,
             5414657190.629821,
             2100112488.6928344,
             51699628273.08407,
             1155954136.1989195,
             17299398676.274277,
             44502107.17837082,
             560806379.62073,
             866866892.7300259,
             1518168417.146174,
             51294309.40531258,
             1147864990.864849,
             46654447.61995013,
             289615523.01849955,
             684916068.3210015,
             1286114394.8559904,
             99655319.95476788,
             15368599934.638117
            ]
           },
           "node": {
            "color": [
             "#4E79A7",
             "#EDC948",
             "#E15759",
             "#76B7B2",
             "#B07AA1",
             "#59A14F"
            ],
            "label": [
             "africa",
             "asia",
             "europe",
             "north america",
             "oceania",
             "south america"
            ]
           },
           "type": "sankey"
          }
         ],
         "layout": {
          "title": {
           "text": "2016 kg CO2eq Produced by Food Trade by Continent"
          }
         },
         "name": "2016"
        },
        {
         "data": [
          {
           "link": {
            "color": [
             "#4E79A7",
             "#4E79A7",
             "#4E79A7",
             "#4E79A7",
             "#4E79A7",
             "#4E79A7",
             "#EDC948",
             "#EDC948",
             "#EDC948",
             "#EDC948",
             "#EDC948",
             "#EDC948",
             "#E15759",
             "#E15759",
             "#E15759",
             "#E15759",
             "#E15759",
             "#E15759",
             "#76B7B2",
             "#76B7B2",
             "#76B7B2",
             "#76B7B2",
             "#76B7B2",
             "#76B7B2",
             "#B07AA1",
             "#B07AA1",
             "#B07AA1",
             "#B07AA1",
             "#B07AA1",
             "#B07AA1",
             "#59A14F",
             "#59A14F",
             "#59A14F",
             "#59A14F",
             "#59A14F",
             "#59A14F"
            ],
            "source": [
             0,
             1,
             2,
             3,
             4,
             5,
             0,
             1,
             2,
             3,
             4,
             5,
             0,
             1,
             2,
             3,
             4,
             5,
             0,
             1,
             2,
             3,
             4,
             5,
             0,
             1,
             2,
             3,
             4,
             5,
             0,
             1,
             2,
             3,
             4,
             5
            ],
            "target": [
             0,
             0,
             0,
             0,
             0,
             0,
             1,
             1,
             1,
             1,
             1,
             1,
             2,
             2,
             2,
             2,
             2,
             2,
             3,
             3,
             3,
             3,
             3,
             3,
             4,
             4,
             4,
             4,
             4,
             4,
             5,
             5,
             5,
             5,
             5,
             5
            ],
            "value": [
             3878686738.429584,
             2173402840.5026083,
             1551986817.1027277,
             1117421938.9086564,
             252085585.24302244,
             3771238324.7835913,
             17243549041.219757,
             80314648414.7389,
             8128154656.711655,
             26535589393.53282,
             12461446835.999489,
             68198276345.82634,
             17146152239.511925,
             6709079586.803722,
             71647428844.66832,
             37026067105.89131,
             965605945.3528186,
             58894230544.47105,
             2907057476.599508,
             5560789258.536403,
             1703153034.485179,
             70066801468.99387,
             1023750366.4771872,
             17087385132.10638,
             139845138.87714857,
             568628856.3449789,
             789854765.3024093,
             1626555184.15642,
             57878539.78718859,
             1007147452.7018274,
             27323819.933177244,
             369761813.2677316,
             844612368.3047886,
             1361555836.264947,
             115928795.07755291,
             15730948667.791113
            ]
           },
           "node": {
            "color": [
             "#4E79A7",
             "#EDC948",
             "#E15759",
             "#76B7B2",
             "#B07AA1",
             "#59A14F"
            ],
            "label": [
             "africa",
             "asia",
             "europe",
             "north america",
             "oceania",
             "south america"
            ]
           },
           "type": "sankey"
          }
         ],
         "layout": {
          "title": {
           "text": "2017 kg CO2eq Produced by Food Trade by Continent"
          }
         },
         "name": "2017"
        },
        {
         "data": [
          {
           "link": {
            "color": [
             "#4E79A7",
             "#4E79A7",
             "#4E79A7",
             "#4E79A7",
             "#4E79A7",
             "#4E79A7",
             "#EDC948",
             "#EDC948",
             "#EDC948",
             "#EDC948",
             "#EDC948",
             "#EDC948",
             "#E15759",
             "#E15759",
             "#E15759",
             "#E15759",
             "#E15759",
             "#E15759",
             "#76B7B2",
             "#76B7B2",
             "#76B7B2",
             "#76B7B2",
             "#76B7B2",
             "#76B7B2",
             "#B07AA1",
             "#B07AA1",
             "#B07AA1",
             "#B07AA1",
             "#B07AA1",
             "#B07AA1",
             "#59A14F",
             "#59A14F",
             "#59A14F",
             "#59A14F",
             "#59A14F",
             "#59A14F"
            ],
            "source": [
             0,
             1,
             2,
             3,
             4,
             5,
             0,
             1,
             2,
             3,
             4,
             5,
             0,
             1,
             2,
             3,
             4,
             5,
             0,
             1,
             2,
             3,
             4,
             5,
             0,
             1,
             2,
             3,
             4,
             5,
             0,
             1,
             2,
             3,
             4,
             5
            ],
            "target": [
             0,
             0,
             0,
             0,
             0,
             0,
             1,
             1,
             1,
             1,
             1,
             1,
             2,
             2,
             2,
             2,
             2,
             2,
             3,
             3,
             3,
             3,
             3,
             3,
             4,
             4,
             4,
             4,
             4,
             4,
             5,
             5,
             5,
             5,
             5,
             5
            ],
            "value": [
             3660422794.837525,
             2226999560.198345,
             1298333020.9900606,
             733551439.9538374,
             113195580.77954917,
             1758934046.179046,
             17930974487.888363,
             85879763691.3294,
             8032538324.140422,
             26125304988.325344,
             11124092789.35692,
             67530747540.48253,
             18535961337.12423,
             7301579847.76042,
             71974970048.89565,
             39405097836.56896,
             805134348.5968349,
             63116086031.15212,
             3107220231.46568,
             5078185761.321457,
             2068706708.355421,
             76016816322.88687,
             982177844.2809912,
             19423950066.951824,
             123683607.93227816,
             584801767.7648565,
             824607032.125822,
             1726102709.3857903,
             61120879.87900397,
             1091244426.9324124,
             39977634.86919269,
             298340521.1628269,
             838357486.7230898,
             1506388398.204483,
             127798023.30747862,
             17660138438.14569
            ]
           },
           "node": {
            "color": [
             "#4E79A7",
             "#EDC948",
             "#E15759",
             "#76B7B2",
             "#B07AA1",
             "#59A14F"
            ],
            "label": [
             "africa",
             "asia",
             "europe",
             "north america",
             "oceania",
             "south america"
            ]
           },
           "type": "sankey"
          }
         ],
         "layout": {
          "title": {
           "text": "2018 kg CO2eq Produced by Food Trade by Continent"
          }
         },
         "name": "2018"
        },
        {
         "data": [
          {
           "link": {
            "color": [
             "#4E79A7",
             "#4E79A7",
             "#4E79A7",
             "#4E79A7",
             "#4E79A7",
             "#4E79A7",
             "#EDC948",
             "#EDC948",
             "#EDC948",
             "#EDC948",
             "#EDC948",
             "#EDC948",
             "#E15759",
             "#E15759",
             "#E15759",
             "#E15759",
             "#E15759",
             "#E15759",
             "#76B7B2",
             "#76B7B2",
             "#76B7B2",
             "#76B7B2",
             "#76B7B2",
             "#76B7B2",
             "#B07AA1",
             "#B07AA1",
             "#B07AA1",
             "#B07AA1",
             "#B07AA1",
             "#B07AA1",
             "#59A14F",
             "#59A14F",
             "#59A14F",
             "#59A14F",
             "#59A14F",
             "#59A14F"
            ],
            "source": [
             0,
             1,
             2,
             3,
             4,
             5,
             0,
             1,
             2,
             3,
             4,
             5,
             0,
             1,
             2,
             3,
             4,
             5,
             0,
             1,
             2,
             3,
             4,
             5,
             0,
             1,
             2,
             3,
             4,
             5,
             0,
             1,
             2,
             3,
             4,
             5
            ],
            "target": [
             0,
             0,
             0,
             0,
             0,
             0,
             1,
             1,
             1,
             1,
             1,
             1,
             2,
             2,
             2,
             2,
             2,
             2,
             3,
             3,
             3,
             3,
             3,
             3,
             4,
             4,
             4,
             4,
             4,
             4,
             5,
             5,
             5,
             5,
             5,
             5
            ],
            "value": [
             3972415332.53968,
             2289016581.98749,
             1647952424.2279432,
             1236495077.3401847,
             190149043.95253685,
             2042553037.6913376,
             18217913634.104546,
             79658390978.391,
             8498920719.854954,
             25800708159.509937,
             11262566474.10033,
             79523871503.47093,
             17727121567.133404,
             7308016456.476896,
             75060918367.43544,
             39823772882.183945,
             743632674.3565218,
             61132497314.8631,
             2894013031.596277,
             4518131898.830159,
             2860812818.474908,
             71042438918.09076,
             974058976.7097602,
             15533580659.356298,
             84796309.26692599,
             523457985.4527721,
             858695184.9790715,
             1749673349.4881637,
             53449903.28147593,
             1131432216.574659,
             52735858.90831834,
             335965212.0121695,
             846357702.3747221,
             1330927825.8770344,
             59333900.40716158,
             20600399990.3066
            ]
           },
           "node": {
            "color": [
             "#4E79A7",
             "#EDC948",
             "#E15759",
             "#76B7B2",
             "#B07AA1",
             "#59A14F"
            ],
            "label": [
             "africa",
             "asia",
             "europe",
             "north america",
             "oceania",
             "south america"
            ]
           },
           "type": "sankey"
          }
         ],
         "layout": {
          "title": {
           "text": "2019 kg CO2eq Produced by Food Trade by Continent"
          }
         },
         "name": "2019"
        },
        {
         "data": [
          {
           "link": {
            "color": [
             "#4E79A7",
             "#4E79A7",
             "#4E79A7",
             "#4E79A7",
             "#4E79A7",
             "#4E79A7",
             "#EDC948",
             "#EDC948",
             "#EDC948",
             "#EDC948",
             "#EDC948",
             "#EDC948",
             "#E15759",
             "#E15759",
             "#E15759",
             "#E15759",
             "#E15759",
             "#E15759",
             "#76B7B2",
             "#76B7B2",
             "#76B7B2",
             "#76B7B2",
             "#76B7B2",
             "#76B7B2",
             "#B07AA1",
             "#B07AA1",
             "#B07AA1",
             "#B07AA1",
             "#B07AA1",
             "#B07AA1",
             "#59A14F",
             "#59A14F",
             "#59A14F",
             "#59A14F",
             "#59A14F",
             "#59A14F"
            ],
            "source": [
             0,
             1,
             2,
             3,
             4,
             5,
             0,
             1,
             2,
             3,
             4,
             5,
             0,
             1,
             2,
             3,
             4,
             5,
             0,
             1,
             2,
             3,
             4,
             5,
             0,
             1,
             2,
             3,
             4,
             5,
             0,
             1,
             2,
             3,
             4,
             5
            ],
            "target": [
             0,
             0,
             0,
             0,
             0,
             0,
             1,
             1,
             1,
             1,
             1,
             1,
             2,
             2,
             2,
             2,
             2,
             2,
             3,
             3,
             3,
             3,
             3,
             3,
             4,
             4,
             4,
             4,
             4,
             4,
             5,
             5,
             5,
             5,
             5,
             5
            ],
            "value": [
             3964179619.803944,
             2017377230.6019287,
             1455892661.6368835,
             865065346.602325,
             78434648.4073565,
             1948006981.9079995,
             17011769900.556896,
             81400113873.13214,
             9117244952.313612,
             28416713842.99021,
             11116071327.38132,
             81470572700.73024,
             19895911215.681293,
             7057716457.07421,
             71939407839.64899,
             38795941803.15211,
             655107807.8525609,
             66783462790.38686,
             3764575280.1812863,
             4331506362.119346,
             1961062629.8630052,
             56535035346.82087,
             938214505.5574124,
             20203088440.74232,
             78794957.31469886,
             546378311.5244728,
             832445707.486974,
             1752357554.882542,
             58547407.88860119,
             1140519351.0688336,
             47306937.28669203,
             442683159.9130452,
             805113821.9127405,
             1317279785.6221871,
             129242536.0633698,
             19404918805.15173
            ]
           },
           "node": {
            "color": [
             "#4E79A7",
             "#EDC948",
             "#E15759",
             "#76B7B2",
             "#B07AA1",
             "#59A14F"
            ],
            "label": [
             "africa",
             "asia",
             "europe",
             "north america",
             "oceania",
             "south america"
            ]
           },
           "type": "sankey"
          }
         ],
         "layout": {
          "title": {
           "text": "2020 kg CO2eq Produced by Food Trade by Continent"
          }
         },
         "name": "2020"
        },
        {
         "data": [
          {
           "link": {
            "color": [
             "#4E79A7",
             "#4E79A7",
             "#4E79A7",
             "#4E79A7",
             "#4E79A7",
             "#4E79A7",
             "#EDC948",
             "#EDC948",
             "#EDC948",
             "#EDC948",
             "#EDC948",
             "#EDC948",
             "#E15759",
             "#E15759",
             "#E15759",
             "#E15759",
             "#E15759",
             "#E15759",
             "#76B7B2",
             "#76B7B2",
             "#76B7B2",
             "#76B7B2",
             "#76B7B2",
             "#76B7B2",
             "#B07AA1",
             "#B07AA1",
             "#B07AA1",
             "#B07AA1",
             "#B07AA1",
             "#B07AA1",
             "#59A14F",
             "#59A14F",
             "#59A14F",
             "#59A14F",
             "#59A14F",
             "#59A14F"
            ],
            "source": [
             0,
             1,
             2,
             3,
             4,
             5,
             0,
             1,
             2,
             3,
             4,
             5,
             0,
             1,
             2,
             3,
             4,
             5,
             0,
             1,
             2,
             3,
             4,
             5,
             0,
             1,
             2,
             3,
             4,
             5,
             0,
             1,
             2,
             3,
             4,
             5
            ],
            "target": [
             0,
             0,
             0,
             0,
             0,
             0,
             1,
             1,
             1,
             1,
             1,
             1,
             2,
             2,
             2,
             2,
             2,
             2,
             3,
             3,
             3,
             3,
             3,
             3,
             4,
             4,
             4,
             4,
             4,
             4,
             5,
             5,
             5,
             5,
             5,
             5
            ],
            "value": [
             3907754087.612563,
             2027457447.7842247,
             1357027006.150127,
             853925743.9350731,
             295616772.3170803,
             2099671415.3208976,
             19388041553.339947,
             85844968923.86761,
             9173273328.750246,
             30042248251.461006,
             12818923789.327707,
             77693167167.29727,
             21120686755.546974,
             6688453339.419225,
             72716389041.07536,
             37363653530.37027,
             853100363.8552594,
             69894637328.21608,
             4228455765.766213,
             5054619835.911098,
             2216483333.921568,
             60088836291.61292,
             1014369953.6064882,
             21424248615.071934,
             64764390.21483455,
             557110615.0793045,
             893375290.4188765,
             1414448245.8884797,
             59291970.79732457,
             1046120988.7688398,
             111498209.61833212,
             335348242.8502877,
             976320454.5301838,
             1210105008.0474606,
             157583525.44919407,
             20975692332.25623
            ]
           },
           "node": {
            "color": [
             "#4E79A7",
             "#EDC948",
             "#E15759",
             "#76B7B2",
             "#B07AA1",
             "#59A14F"
            ],
            "label": [
             "africa",
             "asia",
             "europe",
             "north america",
             "oceania",
             "south america"
            ]
           },
           "type": "sankey"
          }
         ],
         "layout": {
          "title": {
           "text": "2021 kg CO2eq Produced by Food Trade by Continent"
          }
         },
         "name": "2021"
        },
        {
         "data": [
          {
           "link": {
            "color": [
             "#4E79A7",
             "#4E79A7",
             "#4E79A7",
             "#4E79A7",
             "#4E79A7",
             "#4E79A7",
             "#EDC948",
             "#EDC948",
             "#EDC948",
             "#EDC948",
             "#EDC948",
             "#EDC948",
             "#E15759",
             "#E15759",
             "#E15759",
             "#E15759",
             "#E15759",
             "#E15759",
             "#76B7B2",
             "#76B7B2",
             "#76B7B2",
             "#76B7B2",
             "#76B7B2",
             "#76B7B2",
             "#B07AA1",
             "#B07AA1",
             "#B07AA1",
             "#B07AA1",
             "#B07AA1",
             "#B07AA1",
             "#59A14F",
             "#59A14F",
             "#59A14F",
             "#59A14F",
             "#59A14F",
             "#59A14F"
            ],
            "source": [
             0,
             1,
             2,
             3,
             4,
             5,
             0,
             1,
             2,
             3,
             4,
             5,
             0,
             1,
             2,
             3,
             4,
             5,
             0,
             1,
             2,
             3,
             4,
             5,
             0,
             1,
             2,
             3,
             4,
             5,
             0,
             1,
             2,
             3,
             4,
             5
            ],
            "target": [
             0,
             0,
             0,
             0,
             0,
             0,
             1,
             1,
             1,
             1,
             1,
             1,
             2,
             2,
             2,
             2,
             2,
             2,
             3,
             3,
             3,
             3,
             3,
             3,
             4,
             4,
             4,
             4,
             4,
             4,
             5,
             5,
             5,
             5,
             5,
             5
            ],
            "value": [
             3271872522.1492333,
             1498421298.2912989,
             939585212.2108284,
             586044604.1319495,
             197607065.4101397,
             1724142933.852362,
             12027511961.310703,
             76169138987.10359,
             6146135267.366811,
             21883091499.88344,
             9823840574.779558,
             36047685197.60919,
             21240093834.559948,
             6416982664.185406,
             75882149639.76518,
             35489733194.40388,
             1040886510.6067046,
             65100906889.59533,
             5165234602.399802,
             5132126832.778924,
             2446482855.722324,
             59608694549.612526,
             855673936.9762158,
             21409234694.46585,
             42638609.91620484,
             651413231.2670661,
             899330269.5765455,
             1373637711.5996523,
             59162311.96474481,
             911572659.0956866,
             193687177.0261712,
             296853360.66846204,
             778217166.1861289,
             957702412.1966212,
             106330480.51386952,
             21935327575.673428
            ]
           },
           "node": {
            "color": [
             "#4E79A7",
             "#EDC948",
             "#E15759",
             "#76B7B2",
             "#B07AA1",
             "#59A14F"
            ],
            "label": [
             "africa",
             "asia",
             "europe",
             "north america",
             "oceania",
             "south america"
            ]
           },
           "type": "sankey"
          }
         ],
         "layout": {
          "title": {
           "text": "2022 kg CO2eq Produced by Food Trade by Continent"
          }
         },
         "name": "2022"
        }
       ],
       "layout": {
        "font": {
         "size": 16
        },
        "sliders": [
         {
          "steps": [
           {
            "args": [
             [
              "1986"
             ],
             {
              "frame": {
               "duration": 1000,
               "redraw": true
              },
              "mode": "immediate",
              "transition": {
               "duration": 300
              }
             }
            ],
            "label": "1986",
            "method": "animate"
           },
           {
            "args": [
             [
              "1987"
             ],
             {
              "frame": {
               "duration": 1000,
               "redraw": true
              },
              "mode": "immediate",
              "transition": {
               "duration": 300
              }
             }
            ],
            "label": "1987",
            "method": "animate"
           },
           {
            "args": [
             [
              "1988"
             ],
             {
              "frame": {
               "duration": 1000,
               "redraw": true
              },
              "mode": "immediate",
              "transition": {
               "duration": 300
              }
             }
            ],
            "label": "1988",
            "method": "animate"
           },
           {
            "args": [
             [
              "1989"
             ],
             {
              "frame": {
               "duration": 1000,
               "redraw": true
              },
              "mode": "immediate",
              "transition": {
               "duration": 300
              }
             }
            ],
            "label": "1989",
            "method": "animate"
           },
           {
            "args": [
             [
              "1990"
             ],
             {
              "frame": {
               "duration": 1000,
               "redraw": true
              },
              "mode": "immediate",
              "transition": {
               "duration": 300
              }
             }
            ],
            "label": "1990",
            "method": "animate"
           },
           {
            "args": [
             [
              "1991"
             ],
             {
              "frame": {
               "duration": 1000,
               "redraw": true
              },
              "mode": "immediate",
              "transition": {
               "duration": 300
              }
             }
            ],
            "label": "1991",
            "method": "animate"
           },
           {
            "args": [
             [
              "1992"
             ],
             {
              "frame": {
               "duration": 1000,
               "redraw": true
              },
              "mode": "immediate",
              "transition": {
               "duration": 300
              }
             }
            ],
            "label": "1992",
            "method": "animate"
           },
           {
            "args": [
             [
              "1993"
             ],
             {
              "frame": {
               "duration": 1000,
               "redraw": true
              },
              "mode": "immediate",
              "transition": {
               "duration": 300
              }
             }
            ],
            "label": "1993",
            "method": "animate"
           },
           {
            "args": [
             [
              "1994"
             ],
             {
              "frame": {
               "duration": 1000,
               "redraw": true
              },
              "mode": "immediate",
              "transition": {
               "duration": 300
              }
             }
            ],
            "label": "1994",
            "method": "animate"
           },
           {
            "args": [
             [
              "1995"
             ],
             {
              "frame": {
               "duration": 1000,
               "redraw": true
              },
              "mode": "immediate",
              "transition": {
               "duration": 300
              }
             }
            ],
            "label": "1995",
            "method": "animate"
           },
           {
            "args": [
             [
              "1996"
             ],
             {
              "frame": {
               "duration": 1000,
               "redraw": true
              },
              "mode": "immediate",
              "transition": {
               "duration": 300
              }
             }
            ],
            "label": "1996",
            "method": "animate"
           },
           {
            "args": [
             [
              "1997"
             ],
             {
              "frame": {
               "duration": 1000,
               "redraw": true
              },
              "mode": "immediate",
              "transition": {
               "duration": 300
              }
             }
            ],
            "label": "1997",
            "method": "animate"
           },
           {
            "args": [
             [
              "1998"
             ],
             {
              "frame": {
               "duration": 1000,
               "redraw": true
              },
              "mode": "immediate",
              "transition": {
               "duration": 300
              }
             }
            ],
            "label": "1998",
            "method": "animate"
           },
           {
            "args": [
             [
              "1999"
             ],
             {
              "frame": {
               "duration": 1000,
               "redraw": true
              },
              "mode": "immediate",
              "transition": {
               "duration": 300
              }
             }
            ],
            "label": "1999",
            "method": "animate"
           },
           {
            "args": [
             [
              "2000"
             ],
             {
              "frame": {
               "duration": 1000,
               "redraw": true
              },
              "mode": "immediate",
              "transition": {
               "duration": 300
              }
             }
            ],
            "label": "2000",
            "method": "animate"
           },
           {
            "args": [
             [
              "2001"
             ],
             {
              "frame": {
               "duration": 1000,
               "redraw": true
              },
              "mode": "immediate",
              "transition": {
               "duration": 300
              }
             }
            ],
            "label": "2001",
            "method": "animate"
           },
           {
            "args": [
             [
              "2002"
             ],
             {
              "frame": {
               "duration": 1000,
               "redraw": true
              },
              "mode": "immediate",
              "transition": {
               "duration": 300
              }
             }
            ],
            "label": "2002",
            "method": "animate"
           },
           {
            "args": [
             [
              "2003"
             ],
             {
              "frame": {
               "duration": 1000,
               "redraw": true
              },
              "mode": "immediate",
              "transition": {
               "duration": 300
              }
             }
            ],
            "label": "2003",
            "method": "animate"
           },
           {
            "args": [
             [
              "2004"
             ],
             {
              "frame": {
               "duration": 1000,
               "redraw": true
              },
              "mode": "immediate",
              "transition": {
               "duration": 300
              }
             }
            ],
            "label": "2004",
            "method": "animate"
           },
           {
            "args": [
             [
              "2005"
             ],
             {
              "frame": {
               "duration": 1000,
               "redraw": true
              },
              "mode": "immediate",
              "transition": {
               "duration": 300
              }
             }
            ],
            "label": "2005",
            "method": "animate"
           },
           {
            "args": [
             [
              "2006"
             ],
             {
              "frame": {
               "duration": 1000,
               "redraw": true
              },
              "mode": "immediate",
              "transition": {
               "duration": 300
              }
             }
            ],
            "label": "2006",
            "method": "animate"
           },
           {
            "args": [
             [
              "2007"
             ],
             {
              "frame": {
               "duration": 1000,
               "redraw": true
              },
              "mode": "immediate",
              "transition": {
               "duration": 300
              }
             }
            ],
            "label": "2007",
            "method": "animate"
           },
           {
            "args": [
             [
              "2008"
             ],
             {
              "frame": {
               "duration": 1000,
               "redraw": true
              },
              "mode": "immediate",
              "transition": {
               "duration": 300
              }
             }
            ],
            "label": "2008",
            "method": "animate"
           },
           {
            "args": [
             [
              "2009"
             ],
             {
              "frame": {
               "duration": 1000,
               "redraw": true
              },
              "mode": "immediate",
              "transition": {
               "duration": 300
              }
             }
            ],
            "label": "2009",
            "method": "animate"
           },
           {
            "args": [
             [
              "2010"
             ],
             {
              "frame": {
               "duration": 1000,
               "redraw": true
              },
              "mode": "immediate",
              "transition": {
               "duration": 300
              }
             }
            ],
            "label": "2010",
            "method": "animate"
           },
           {
            "args": [
             [
              "2011"
             ],
             {
              "frame": {
               "duration": 1000,
               "redraw": true
              },
              "mode": "immediate",
              "transition": {
               "duration": 300
              }
             }
            ],
            "label": "2011",
            "method": "animate"
           },
           {
            "args": [
             [
              "2012"
             ],
             {
              "frame": {
               "duration": 1000,
               "redraw": true
              },
              "mode": "immediate",
              "transition": {
               "duration": 300
              }
             }
            ],
            "label": "2012",
            "method": "animate"
           },
           {
            "args": [
             [
              "2013"
             ],
             {
              "frame": {
               "duration": 1000,
               "redraw": true
              },
              "mode": "immediate",
              "transition": {
               "duration": 300
              }
             }
            ],
            "label": "2013",
            "method": "animate"
           },
           {
            "args": [
             [
              "2014"
             ],
             {
              "frame": {
               "duration": 1000,
               "redraw": true
              },
              "mode": "immediate",
              "transition": {
               "duration": 300
              }
             }
            ],
            "label": "2014",
            "method": "animate"
           },
           {
            "args": [
             [
              "2015"
             ],
             {
              "frame": {
               "duration": 1000,
               "redraw": true
              },
              "mode": "immediate",
              "transition": {
               "duration": 300
              }
             }
            ],
            "label": "2015",
            "method": "animate"
           },
           {
            "args": [
             [
              "2016"
             ],
             {
              "frame": {
               "duration": 1000,
               "redraw": true
              },
              "mode": "immediate",
              "transition": {
               "duration": 300
              }
             }
            ],
            "label": "2016",
            "method": "animate"
           },
           {
            "args": [
             [
              "2017"
             ],
             {
              "frame": {
               "duration": 1000,
               "redraw": true
              },
              "mode": "immediate",
              "transition": {
               "duration": 300
              }
             }
            ],
            "label": "2017",
            "method": "animate"
           },
           {
            "args": [
             [
              "2018"
             ],
             {
              "frame": {
               "duration": 1000,
               "redraw": true
              },
              "mode": "immediate",
              "transition": {
               "duration": 300
              }
             }
            ],
            "label": "2018",
            "method": "animate"
           },
           {
            "args": [
             [
              "2019"
             ],
             {
              "frame": {
               "duration": 1000,
               "redraw": true
              },
              "mode": "immediate",
              "transition": {
               "duration": 300
              }
             }
            ],
            "label": "2019",
            "method": "animate"
           },
           {
            "args": [
             [
              "2020"
             ],
             {
              "frame": {
               "duration": 1000,
               "redraw": true
              },
              "mode": "immediate",
              "transition": {
               "duration": 300
              }
             }
            ],
            "label": "2020",
            "method": "animate"
           },
           {
            "args": [
             [
              "2021"
             ],
             {
              "frame": {
               "duration": 1000,
               "redraw": true
              },
              "mode": "immediate",
              "transition": {
               "duration": 300
              }
             }
            ],
            "label": "2021",
            "method": "animate"
           },
           {
            "args": [
             [
              "2022"
             ],
             {
              "frame": {
               "duration": 1000,
               "redraw": true
              },
              "mode": "immediate",
              "transition": {
               "duration": 300
              }
             }
            ],
            "label": "2022",
            "method": "animate"
           }
          ],
          "transition": {
           "duration": 300
          },
          "x": 0.1,
          "xanchor": "left",
          "y": 0,
          "yanchor": "top"
         }
        ],
        "template": {
         "data": {
          "bar": [
           {
            "error_x": {
             "color": "#2a3f5f"
            },
            "error_y": {
             "color": "#2a3f5f"
            },
            "marker": {
             "line": {
              "color": "#E5ECF6",
              "width": 0.5
             },
             "pattern": {
              "fillmode": "overlay",
              "size": 10,
              "solidity": 0.2
             }
            },
            "type": "bar"
           }
          ],
          "barpolar": [
           {
            "marker": {
             "line": {
              "color": "#E5ECF6",
              "width": 0.5
             },
             "pattern": {
              "fillmode": "overlay",
              "size": 10,
              "solidity": 0.2
             }
            },
            "type": "barpolar"
           }
          ],
          "carpet": [
           {
            "aaxis": {
             "endlinecolor": "#2a3f5f",
             "gridcolor": "white",
             "linecolor": "white",
             "minorgridcolor": "white",
             "startlinecolor": "#2a3f5f"
            },
            "baxis": {
             "endlinecolor": "#2a3f5f",
             "gridcolor": "white",
             "linecolor": "white",
             "minorgridcolor": "white",
             "startlinecolor": "#2a3f5f"
            },
            "type": "carpet"
           }
          ],
          "choropleth": [
           {
            "colorbar": {
             "outlinewidth": 0,
             "ticks": ""
            },
            "type": "choropleth"
           }
          ],
          "contour": [
           {
            "colorbar": {
             "outlinewidth": 0,
             "ticks": ""
            },
            "colorscale": [
             [
              0,
              "#0d0887"
             ],
             [
              0.1111111111111111,
              "#46039f"
             ],
             [
              0.2222222222222222,
              "#7201a8"
             ],
             [
              0.3333333333333333,
              "#9c179e"
             ],
             [
              0.4444444444444444,
              "#bd3786"
             ],
             [
              0.5555555555555556,
              "#d8576b"
             ],
             [
              0.6666666666666666,
              "#ed7953"
             ],
             [
              0.7777777777777778,
              "#fb9f3a"
             ],
             [
              0.8888888888888888,
              "#fdca26"
             ],
             [
              1,
              "#f0f921"
             ]
            ],
            "type": "contour"
           }
          ],
          "contourcarpet": [
           {
            "colorbar": {
             "outlinewidth": 0,
             "ticks": ""
            },
            "type": "contourcarpet"
           }
          ],
          "heatmap": [
           {
            "colorbar": {
             "outlinewidth": 0,
             "ticks": ""
            },
            "colorscale": [
             [
              0,
              "#0d0887"
             ],
             [
              0.1111111111111111,
              "#46039f"
             ],
             [
              0.2222222222222222,
              "#7201a8"
             ],
             [
              0.3333333333333333,
              "#9c179e"
             ],
             [
              0.4444444444444444,
              "#bd3786"
             ],
             [
              0.5555555555555556,
              "#d8576b"
             ],
             [
              0.6666666666666666,
              "#ed7953"
             ],
             [
              0.7777777777777778,
              "#fb9f3a"
             ],
             [
              0.8888888888888888,
              "#fdca26"
             ],
             [
              1,
              "#f0f921"
             ]
            ],
            "type": "heatmap"
           }
          ],
          "heatmapgl": [
           {
            "colorbar": {
             "outlinewidth": 0,
             "ticks": ""
            },
            "colorscale": [
             [
              0,
              "#0d0887"
             ],
             [
              0.1111111111111111,
              "#46039f"
             ],
             [
              0.2222222222222222,
              "#7201a8"
             ],
             [
              0.3333333333333333,
              "#9c179e"
             ],
             [
              0.4444444444444444,
              "#bd3786"
             ],
             [
              0.5555555555555556,
              "#d8576b"
             ],
             [
              0.6666666666666666,
              "#ed7953"
             ],
             [
              0.7777777777777778,
              "#fb9f3a"
             ],
             [
              0.8888888888888888,
              "#fdca26"
             ],
             [
              1,
              "#f0f921"
             ]
            ],
            "type": "heatmapgl"
           }
          ],
          "histogram": [
           {
            "marker": {
             "pattern": {
              "fillmode": "overlay",
              "size": 10,
              "solidity": 0.2
             }
            },
            "type": "histogram"
           }
          ],
          "histogram2d": [
           {
            "colorbar": {
             "outlinewidth": 0,
             "ticks": ""
            },
            "colorscale": [
             [
              0,
              "#0d0887"
             ],
             [
              0.1111111111111111,
              "#46039f"
             ],
             [
              0.2222222222222222,
              "#7201a8"
             ],
             [
              0.3333333333333333,
              "#9c179e"
             ],
             [
              0.4444444444444444,
              "#bd3786"
             ],
             [
              0.5555555555555556,
              "#d8576b"
             ],
             [
              0.6666666666666666,
              "#ed7953"
             ],
             [
              0.7777777777777778,
              "#fb9f3a"
             ],
             [
              0.8888888888888888,
              "#fdca26"
             ],
             [
              1,
              "#f0f921"
             ]
            ],
            "type": "histogram2d"
           }
          ],
          "histogram2dcontour": [
           {
            "colorbar": {
             "outlinewidth": 0,
             "ticks": ""
            },
            "colorscale": [
             [
              0,
              "#0d0887"
             ],
             [
              0.1111111111111111,
              "#46039f"
             ],
             [
              0.2222222222222222,
              "#7201a8"
             ],
             [
              0.3333333333333333,
              "#9c179e"
             ],
             [
              0.4444444444444444,
              "#bd3786"
             ],
             [
              0.5555555555555556,
              "#d8576b"
             ],
             [
              0.6666666666666666,
              "#ed7953"
             ],
             [
              0.7777777777777778,
              "#fb9f3a"
             ],
             [
              0.8888888888888888,
              "#fdca26"
             ],
             [
              1,
              "#f0f921"
             ]
            ],
            "type": "histogram2dcontour"
           }
          ],
          "mesh3d": [
           {
            "colorbar": {
             "outlinewidth": 0,
             "ticks": ""
            },
            "type": "mesh3d"
           }
          ],
          "parcoords": [
           {
            "line": {
             "colorbar": {
              "outlinewidth": 0,
              "ticks": ""
             }
            },
            "type": "parcoords"
           }
          ],
          "pie": [
           {
            "automargin": true,
            "type": "pie"
           }
          ],
          "scatter": [
           {
            "fillpattern": {
             "fillmode": "overlay",
             "size": 10,
             "solidity": 0.2
            },
            "type": "scatter"
           }
          ],
          "scatter3d": [
           {
            "line": {
             "colorbar": {
              "outlinewidth": 0,
              "ticks": ""
             }
            },
            "marker": {
             "colorbar": {
              "outlinewidth": 0,
              "ticks": ""
             }
            },
            "type": "scatter3d"
           }
          ],
          "scattercarpet": [
           {
            "marker": {
             "colorbar": {
              "outlinewidth": 0,
              "ticks": ""
             }
            },
            "type": "scattercarpet"
           }
          ],
          "scattergeo": [
           {
            "marker": {
             "colorbar": {
              "outlinewidth": 0,
              "ticks": ""
             }
            },
            "type": "scattergeo"
           }
          ],
          "scattergl": [
           {
            "marker": {
             "colorbar": {
              "outlinewidth": 0,
              "ticks": ""
             }
            },
            "type": "scattergl"
           }
          ],
          "scattermapbox": [
           {
            "marker": {
             "colorbar": {
              "outlinewidth": 0,
              "ticks": ""
             }
            },
            "type": "scattermapbox"
           }
          ],
          "scatterpolar": [
           {
            "marker": {
             "colorbar": {
              "outlinewidth": 0,
              "ticks": ""
             }
            },
            "type": "scatterpolar"
           }
          ],
          "scatterpolargl": [
           {
            "marker": {
             "colorbar": {
              "outlinewidth": 0,
              "ticks": ""
             }
            },
            "type": "scatterpolargl"
           }
          ],
          "scatterternary": [
           {
            "marker": {
             "colorbar": {
              "outlinewidth": 0,
              "ticks": ""
             }
            },
            "type": "scatterternary"
           }
          ],
          "surface": [
           {
            "colorbar": {
             "outlinewidth": 0,
             "ticks": ""
            },
            "colorscale": [
             [
              0,
              "#0d0887"
             ],
             [
              0.1111111111111111,
              "#46039f"
             ],
             [
              0.2222222222222222,
              "#7201a8"
             ],
             [
              0.3333333333333333,
              "#9c179e"
             ],
             [
              0.4444444444444444,
              "#bd3786"
             ],
             [
              0.5555555555555556,
              "#d8576b"
             ],
             [
              0.6666666666666666,
              "#ed7953"
             ],
             [
              0.7777777777777778,
              "#fb9f3a"
             ],
             [
              0.8888888888888888,
              "#fdca26"
             ],
             [
              1,
              "#f0f921"
             ]
            ],
            "type": "surface"
           }
          ],
          "table": [
           {
            "cells": {
             "fill": {
              "color": "#EBF0F8"
             },
             "line": {
              "color": "white"
             }
            },
            "header": {
             "fill": {
              "color": "#C8D4E3"
             },
             "line": {
              "color": "white"
             }
            },
            "type": "table"
           }
          ]
         },
         "layout": {
          "annotationdefaults": {
           "arrowcolor": "#2a3f5f",
           "arrowhead": 0,
           "arrowwidth": 1
          },
          "autotypenumbers": "strict",
          "coloraxis": {
           "colorbar": {
            "outlinewidth": 0,
            "ticks": ""
           }
          },
          "colorscale": {
           "diverging": [
            [
             0,
             "#8e0152"
            ],
            [
             0.1,
             "#c51b7d"
            ],
            [
             0.2,
             "#de77ae"
            ],
            [
             0.3,
             "#f1b6da"
            ],
            [
             0.4,
             "#fde0ef"
            ],
            [
             0.5,
             "#f7f7f7"
            ],
            [
             0.6,
             "#e6f5d0"
            ],
            [
             0.7,
             "#b8e186"
            ],
            [
             0.8,
             "#7fbc41"
            ],
            [
             0.9,
             "#4d9221"
            ],
            [
             1,
             "#276419"
            ]
           ],
           "sequential": [
            [
             0,
             "#0d0887"
            ],
            [
             0.1111111111111111,
             "#46039f"
            ],
            [
             0.2222222222222222,
             "#7201a8"
            ],
            [
             0.3333333333333333,
             "#9c179e"
            ],
            [
             0.4444444444444444,
             "#bd3786"
            ],
            [
             0.5555555555555556,
             "#d8576b"
            ],
            [
             0.6666666666666666,
             "#ed7953"
            ],
            [
             0.7777777777777778,
             "#fb9f3a"
            ],
            [
             0.8888888888888888,
             "#fdca26"
            ],
            [
             1,
             "#f0f921"
            ]
           ],
           "sequentialminus": [
            [
             0,
             "#0d0887"
            ],
            [
             0.1111111111111111,
             "#46039f"
            ],
            [
             0.2222222222222222,
             "#7201a8"
            ],
            [
             0.3333333333333333,
             "#9c179e"
            ],
            [
             0.4444444444444444,
             "#bd3786"
            ],
            [
             0.5555555555555556,
             "#d8576b"
            ],
            [
             0.6666666666666666,
             "#ed7953"
            ],
            [
             0.7777777777777778,
             "#fb9f3a"
            ],
            [
             0.8888888888888888,
             "#fdca26"
            ],
            [
             1,
             "#f0f921"
            ]
           ]
          },
          "colorway": [
           "#636efa",
           "#EF553B",
           "#00cc96",
           "#ab63fa",
           "#FFA15A",
           "#19d3f3",
           "#FF6692",
           "#B6E880",
           "#FF97FF",
           "#FECB52"
          ],
          "font": {
           "color": "#2a3f5f"
          },
          "geo": {
           "bgcolor": "white",
           "lakecolor": "white",
           "landcolor": "#E5ECF6",
           "showlakes": true,
           "showland": true,
           "subunitcolor": "white"
          },
          "hoverlabel": {
           "align": "left"
          },
          "hovermode": "closest",
          "mapbox": {
           "style": "light"
          },
          "paper_bgcolor": "white",
          "plot_bgcolor": "#E5ECF6",
          "polar": {
           "angularaxis": {
            "gridcolor": "white",
            "linecolor": "white",
            "ticks": ""
           },
           "bgcolor": "#E5ECF6",
           "radialaxis": {
            "gridcolor": "white",
            "linecolor": "white",
            "ticks": ""
           }
          },
          "scene": {
           "xaxis": {
            "backgroundcolor": "#E5ECF6",
            "gridcolor": "white",
            "gridwidth": 2,
            "linecolor": "white",
            "showbackground": true,
            "ticks": "",
            "zerolinecolor": "white"
           },
           "yaxis": {
            "backgroundcolor": "#E5ECF6",
            "gridcolor": "white",
            "gridwidth": 2,
            "linecolor": "white",
            "showbackground": true,
            "ticks": "",
            "zerolinecolor": "white"
           },
           "zaxis": {
            "backgroundcolor": "#E5ECF6",
            "gridcolor": "white",
            "gridwidth": 2,
            "linecolor": "white",
            "showbackground": true,
            "ticks": "",
            "zerolinecolor": "white"
           }
          },
          "shapedefaults": {
           "line": {
            "color": "#2a3f5f"
           }
          },
          "ternary": {
           "aaxis": {
            "gridcolor": "white",
            "linecolor": "white",
            "ticks": ""
           },
           "baxis": {
            "gridcolor": "white",
            "linecolor": "white",
            "ticks": ""
           },
           "bgcolor": "#E5ECF6",
           "caxis": {
            "gridcolor": "white",
            "linecolor": "white",
            "ticks": ""
           }
          },
          "title": {
           "x": 0.05
          },
          "xaxis": {
           "automargin": true,
           "gridcolor": "white",
           "linecolor": "white",
           "ticks": "",
           "title": {
            "standoff": 15
           },
           "zerolinecolor": "white",
           "zerolinewidth": 2
          },
          "yaxis": {
           "automargin": true,
           "gridcolor": "white",
           "linecolor": "white",
           "ticks": "",
           "title": {
            "standoff": 15
           },
           "zerolinecolor": "white",
           "zerolinewidth": 2
          }
         }
        },
        "title": {
         "text": "1986 kg CO2eq Produced by Food Trade by Continent"
        },
        "updatemenus": [
         {
          "buttons": [
           {
            "args": [
             null,
             {
              "frame": {
               "duration": 600,
               "redraw": true
              },
              "fromcurrent": true
             }
            ],
            "label": "Play",
            "method": "animate"
           }
          ],
          "showactive": false,
          "type": "buttons"
         }
        ]
       }
      }
     },
     "metadata": {},
     "output_type": "display_data"
    }
   ],
   "source": [
    "import plotly.graph_objects as go\n",
    "import pandas as pd\n",
    "\n",
    "# Assuming 'df' is your DataFrame and contains columns 'year', 'source', 'target', and 'value'\n",
    "# List of unique years in the dataset\n",
    "years = df['year'].unique()\n",
    "\n",
    "# Create an empty list to hold the frames for the animation\n",
    "frames = []\n",
    "\n",
    "# Prepare unique continents and colors (customize as needed)\n",
    "unique_continents = sorted(set(df['source'].unique()) | set(df['target'].unique()))\n",
    "continent_to_index = {continent: i for i, continent in enumerate(unique_continents)}\n",
    "\n",
    "# Generate color palette\n",
    "#palette = sns.color_palette(\"colorblind\", len(unique_continents))\n",
    "# Convert Seaborn colors to hex colors\n",
    "#hex_colors = palette.as_hex()\n",
    "\n",
    "hex_colors = [\n",
    "    \"#4E79A7\",  # Blue, Africa\n",
    "    \"#EDC948\",  # Yellow, Asia\n",
    "    \"#E15759\",  # Red, Europe\n",
    "    \"#76B7B2\",  # Light Blue, North America\n",
    "    \"#B07AA1\",  # Purple, Oceania\n",
    "    \"#59A14F\",  # Green, South America\n",
    "]\n",
    "\n",
    "# Function to create link colors with opacity\n",
    "def adjust_link_colors(source_indices, colors, opacity=0.2):\n",
    "    return [colors[src].replace(\")\", f\", {opacity})\") for src in source_indices]\n",
    "\n",
    "# Create a frame for each year\n",
    "for year in years:\n",
    "    df_year = df[df['year'] == year]\n",
    "    nodes = dict(label=unique_continents, color=hex_colors)\n",
    "    links = dict(\n",
    "        source=df_year['source'].map(continent_to_index),\n",
    "        target=df_year['target'].map(continent_to_index),\n",
    "        value=df_year['value']\n",
    "    )\n",
    "    link_colors = adjust_link_colors(links['target'], hex_colors)\n",
    "    \n",
    "    frame = go.Frame(\n",
    "        data=[go.Sankey(\n",
    "            node=nodes,\n",
    "            link=dict(\n",
    "                source=links['source'],\n",
    "                target=links['target'],\n",
    "                value=links['value'],\n",
    "                color=link_colors\n",
    "            )\n",
    "        )],\n",
    "        name=str(year),\n",
    "        layout=go.Layout(title_text=f\"{year} kg CO2eq Produced by Food Trade by Continent\")\n",
    "    )\n",
    "    frames.append(frame)\n",
    "\n",
    "# Create initial plot\n",
    "initial_year = years[0]\n",
    "df_initial = df[df['year'] == initial_year]\n",
    "nodes_initial = dict(label=unique_continents, color=hex_colors)\n",
    "links_initial = dict(\n",
    "    source=df_initial['source'].map(continent_to_index),\n",
    "    target=df_initial['target'].map(continent_to_index),\n",
    "    value=df_initial['value']\n",
    ")\n",
    "link_colors_initial = adjust_link_colors(links_initial['target'], hex_colors)\n",
    "\n",
    "fig = go.Figure(\n",
    "    data=[go.Sankey(\n",
    "        node=nodes_initial,\n",
    "        link=dict(\n",
    "            source=links_initial['source'],\n",
    "            target=links_initial['target'],\n",
    "            value=links_initial['value'],\n",
    "            color=link_colors_initial\n",
    "        )\n",
    "    )],\n",
    "    frames=frames\n",
    ")\n",
    "\n",
    "# Add animation settings\n",
    "fig.update_layout(\n",
    "    updatemenus=[dict(type=\"buttons\", showactive=False, buttons=[dict(label=\"Play\",\n",
    "                      method=\"animate\", args=[None, dict(frame=dict(duration=600, redraw=True), \n",
    "                                                        fromcurrent=True)])])],\n",
    "    sliders=[dict(\n",
    "        steps=[dict(method='animate', args=[[str(year)], dict(mode='immediate', frame=dict(duration=1000, redraw=True), transition=dict(duration=300))],\n",
    "                    label=str(year)) for year in years],\n",
    "        transition=dict(duration=300),\n",
    "        x=0.1,\n",
    "        xanchor=\"left\",\n",
    "        y=0,\n",
    "        yanchor=\"top\"\n",
    "    )],\n",
    "    title_text=f\"{initial_year} kg CO2eq Produced by Food Trade by Continent\",\n",
    "    font_size=16\n",
    ")\n",
    "\n",
    "fig.show()"
   ]
  },
  {
   "cell_type": "markdown",
   "metadata": {},
   "source": [
    "## Save to chart studio"
   ]
  },
  {
   "cell_type": "code",
   "execution_count": 85,
   "metadata": {},
   "outputs": [],
   "source": [
    "import chart_studio \n",
    "\n",
    "username = \"ezemriv\"\n",
    "password = \"dmanBuRgSIAPjUFi4m1X\"\n",
    "\n",
    "chart_studio.tools.set_credentials_file(username=username, api_key=password)\n",
    "\n",
    "import chart_studio.plotly as py\n",
    "import chart_studio.tools as tls"
   ]
  },
  {
   "cell_type": "code",
   "execution_count": 86,
   "metadata": {},
   "outputs": [
    {
     "data": {
      "text/plain": [
       "'https://plotly.com/~ezemriv/7/'"
      ]
     },
     "execution_count": 86,
     "metadata": {},
     "output_type": "execute_result"
    }
   ],
   "source": [
    "py.plot(fig, filename = 'Interactive_Sankey_CO2eq_trade_continents', auto_open=False)"
   ]
  },
  {
   "cell_type": "markdown",
   "metadata": {},
   "source": [
    "# One plot every 10 years from 2022 back"
   ]
  },
  {
   "cell_type": "code",
   "execution_count": 100,
   "metadata": {},
   "outputs": [],
   "source": [
    "# Assuming your DataFrame is named 'df'\n",
    "# Create a list of years from 2022 backwards in steps of 10 years\n",
    "years = list(range(2022, df['year'].min() - 1, -10))\n",
    "\n",
    "# Filter out years that are not in the DataFrame\n",
    "years = [year for year in years if year in df['year'].unique()]\n",
    "\n",
    "# Loop through each year and create Sankey diagrams\n",
    "for year in years:\n",
    "    df_year = df[df['year'] == year]\n",
    "\n",
    "    # Extract unique continents for labels\n",
    "    unique_continents = sorted(set(df_year['source'].unique()) | set(df_year['target'].unique()))\n",
    "\n",
    "    # Create mappings to node indices (0, 1, 2, ...)\n",
    "    continent_to_index = {continent: i for i, continent in enumerate(unique_continents)}\n",
    "\n",
    "    # Prepare data for Sankey diagram\n",
    "    nodes = dict(label=unique_continents, color=hex_colors)  # Customize colors\n",
    "    links = dict(\n",
    "        source=df_year['source'].map(continent_to_index),\n",
    "        target=df_year['target'].map(continent_to_index),\n",
    "        value=df_year['value'],\n",
    "    )\n",
    "\n",
    "    # Adjust link colors based on source node color\n",
    "    opacity = 0.4\n",
    "    link_colors = [nodes['color'][src].replace(\")\", f\", {opacity})\") for src in links['target']]\n",
    "\n",
    "    # Create the Sankey diagram\n",
    "    fig = go.Figure(data=[go.Sankey(\n",
    "        node=nodes,  # Customize colors,\n",
    "        link=dict(\n",
    "            source=links['source'],\n",
    "            target=links['target'],\n",
    "            value=links['value'],\n",
    "            color=link_colors  # Use adjusted colors\n",
    "        )\n",
    "    )])\n",
    "\n",
    "    fig.update_layout(\n",
    "        title_text=f\"{year} kg CO2eq Produced by Food Trade by Continent\",\n",
    "        font_size=16,\n",
    "    )\n",
    "\n",
    "    # Save each figure to an HTML file\n",
    "    fig.write_html(f\"sankey_{year}.html\")"
   ]
  }
 ],
 "metadata": {
  "kernelspec": {
   "display_name": "Python 3",
   "language": "python",
   "name": "python3"
  },
  "language_info": {
   "codemirror_mode": {
    "name": "ipython",
    "version": 3
   },
   "file_extension": ".py",
   "mimetype": "text/x-python",
   "name": "python",
   "nbconvert_exporter": "python",
   "pygments_lexer": "ipython3",
   "version": "3.12.3"
  }
 },
 "nbformat": 4,
 "nbformat_minor": 2
}
