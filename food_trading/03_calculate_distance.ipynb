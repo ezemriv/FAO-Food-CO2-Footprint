{
 "cells": [
  {
   "cell_type": "markdown",
   "metadata": {},
   "source": [
    "# Code to calculate distance from one country (its capital) to another"
   ]
  },
  {
   "cell_type": "code",
   "execution_count": 45,
   "metadata": {},
   "outputs": [],
   "source": [
    "#!pip install pandas geopy"
   ]
  },
  {
   "cell_type": "code",
   "execution_count": 46,
   "metadata": {},
   "outputs": [],
   "source": [
    "import csv\n",
    "from geopy.distance import great_circle\n",
    "import pandas as pd\n",
    "import numpy as np\n",
    "import geopandas as gpd"
   ]
  },
  {
   "cell_type": "code",
   "execution_count": 47,
   "metadata": {},
   "outputs": [],
   "source": [
    "countries_df = pd.read_csv(r\"..\\data\\FAOSTAT\\clean_data\\food_trading\\country_to_continent.csv\") #initial csv done with ChatGPT\n",
    "\n",
    "def calculate_distances():\n",
    "    distance_data = []\n",
    "\n",
    "    for index_from, continent_from in countries_df.iterrows():\n",
    "        from_coords = (continent_from[\"Latitude\"], continent_from[\"Longitude\"])\n",
    "\n",
    "        for index_to, Continent_to in countries_df.iterrows():\n",
    "            #if continent_from[\"Continent\"] != Continent_to[\"Continent\"]:\n",
    "            to_coords = (Continent_to[\"Latitude\"], Continent_to[\"Longitude\"])\n",
    "            distance = great_circle(from_coords, to_coords).kilometers\n",
    "            distance_data.append({\n",
    "                \"country_from\": continent_from[\"Country\"],\n",
    "                \"continent_from\": continent_from[\"Continent\"],\n",
    "                \"country_to\": Continent_to[\"Country\"],\n",
    "                \"Continent_to\": Continent_to[\"Continent\"],\n",
    "                \"distance_in_km\": distance\n",
    "            })\n",
    "\n",
    "    return pd.DataFrame(distance_data)"
   ]
  },
  {
   "cell_type": "code",
   "execution_count": 48,
   "metadata": {},
   "outputs": [],
   "source": [
    "# Generate the dataframe with all combinations of distances\n",
    "distance_df = calculate_distances()"
   ]
  },
  {
   "cell_type": "code",
   "execution_count": 49,
   "metadata": {},
   "outputs": [],
   "source": [
    "def get_categorical(df):\n",
    "  \"\"\"\n",
    "  Identifies categorical columns in a DataFrame\n",
    "\n",
    "  Args:\n",
    "      df (pandas.DataFrame): The DataFrame to identify categorical columns in\n",
    "\n",
    "  Returns:\n",
    "      list: A list containing the names of categorical columns\n",
    "  \"\"\"\n",
    "  l_cat = []\n",
    "  for col in df.columns:\n",
    "    if df[col].dtype.kind == 'O':  # Check for object dtype (categorical)\n",
    "      l_cat.append(col)\n",
    "  return l_cat"
   ]
  },
  {
   "cell_type": "code",
   "execution_count": 50,
   "metadata": {},
   "outputs": [],
   "source": [
    "for col in distance_df.columns:\n",
    "        if col in get_categorical(distance_df):\n",
    "            distance_df[col] = distance_df[col].astype(str).str.lower()"
   ]
  },
  {
   "cell_type": "code",
   "execution_count": 51,
   "metadata": {},
   "outputs": [
    {
     "data": {
      "text/plain": [
       "50625"
      ]
     },
     "execution_count": 51,
     "metadata": {},
     "output_type": "execute_result"
    }
   ],
   "source": [
    "len(distance_df)"
   ]
  },
  {
   "cell_type": "code",
   "execution_count": 52,
   "metadata": {},
   "outputs": [],
   "source": [
    "# Add column to determine if countries share continent or borders\n",
    "\n",
    "distance_df[\"same_continent\"] = np.where(distance_df[\"continent_from\"] == distance_df[\"Continent_to\"], 1, 0)"
   ]
  },
  {
   "cell_type": "code",
   "execution_count": 53,
   "metadata": {},
   "outputs": [
    {
     "data": {
      "text/html": [
       "<div>\n",
       "<style scoped>\n",
       "    .dataframe tbody tr th:only-of-type {\n",
       "        vertical-align: middle;\n",
       "    }\n",
       "\n",
       "    .dataframe tbody tr th {\n",
       "        vertical-align: top;\n",
       "    }\n",
       "\n",
       "    .dataframe thead th {\n",
       "        text-align: right;\n",
       "    }\n",
       "</style>\n",
       "<table border=\"1\" class=\"dataframe\">\n",
       "  <thead>\n",
       "    <tr style=\"text-align: right;\">\n",
       "      <th></th>\n",
       "      <th>country_from</th>\n",
       "      <th>continent_from</th>\n",
       "      <th>country_to</th>\n",
       "      <th>Continent_to</th>\n",
       "      <th>distance_in_km</th>\n",
       "      <th>same_continent</th>\n",
       "    </tr>\n",
       "  </thead>\n",
       "  <tbody>\n",
       "    <tr>\n",
       "      <th>0</th>\n",
       "      <td>afghanistan</td>\n",
       "      <td>asia</td>\n",
       "      <td>afghanistan</td>\n",
       "      <td>asia</td>\n",
       "      <td>0.000000</td>\n",
       "      <td>1</td>\n",
       "    </tr>\n",
       "    <tr>\n",
       "      <th>1</th>\n",
       "      <td>afghanistan</td>\n",
       "      <td>asia</td>\n",
       "      <td>albania</td>\n",
       "      <td>europe</td>\n",
       "      <td>4335.926901</td>\n",
       "      <td>0</td>\n",
       "    </tr>\n",
       "    <tr>\n",
       "      <th>2</th>\n",
       "      <td>afghanistan</td>\n",
       "      <td>asia</td>\n",
       "      <td>algeria</td>\n",
       "      <td>africa</td>\n",
       "      <td>5855.362822</td>\n",
       "      <td>0</td>\n",
       "    </tr>\n",
       "    <tr>\n",
       "      <th>3</th>\n",
       "      <td>afghanistan</td>\n",
       "      <td>asia</td>\n",
       "      <td>andorra</td>\n",
       "      <td>europe</td>\n",
       "      <td>5796.993207</td>\n",
       "      <td>0</td>\n",
       "    </tr>\n",
       "    <tr>\n",
       "      <th>4</th>\n",
       "      <td>afghanistan</td>\n",
       "      <td>asia</td>\n",
       "      <td>angola</td>\n",
       "      <td>africa</td>\n",
       "      <td>7596.963990</td>\n",
       "      <td>0</td>\n",
       "    </tr>\n",
       "    <tr>\n",
       "      <th>...</th>\n",
       "      <td>...</td>\n",
       "      <td>...</td>\n",
       "      <td>...</td>\n",
       "      <td>...</td>\n",
       "      <td>...</td>\n",
       "      <td>...</td>\n",
       "    </tr>\n",
       "    <tr>\n",
       "      <th>50620</th>\n",
       "      <td>yugoslavia</td>\n",
       "      <td>europe</td>\n",
       "      <td>taiwan</td>\n",
       "      <td>asia</td>\n",
       "      <td>8890.158133</td>\n",
       "      <td>0</td>\n",
       "    </tr>\n",
       "    <tr>\n",
       "      <th>50621</th>\n",
       "      <td>yugoslavia</td>\n",
       "      <td>europe</td>\n",
       "      <td>ussr</td>\n",
       "      <td>europe</td>\n",
       "      <td>1712.894461</td>\n",
       "      <td>1</td>\n",
       "    </tr>\n",
       "    <tr>\n",
       "      <th>50622</th>\n",
       "      <td>yugoslavia</td>\n",
       "      <td>europe</td>\n",
       "      <td>venezuela</td>\n",
       "      <td>south america</td>\n",
       "      <td>8982.127167</td>\n",
       "      <td>0</td>\n",
       "    </tr>\n",
       "    <tr>\n",
       "      <th>50623</th>\n",
       "      <td>yugoslavia</td>\n",
       "      <td>europe</td>\n",
       "      <td>wake island</td>\n",
       "      <td>oceania</td>\n",
       "      <td>12104.346148</td>\n",
       "      <td>0</td>\n",
       "    </tr>\n",
       "    <tr>\n",
       "      <th>50624</th>\n",
       "      <td>yugoslavia</td>\n",
       "      <td>europe</td>\n",
       "      <td>yugoslavia</td>\n",
       "      <td>europe</td>\n",
       "      <td>0.000000</td>\n",
       "      <td>1</td>\n",
       "    </tr>\n",
       "  </tbody>\n",
       "</table>\n",
       "<p>50625 rows × 6 columns</p>\n",
       "</div>"
      ],
      "text/plain": [
       "      country_from continent_from   country_to   Continent_to  distance_in_km  \\\n",
       "0      afghanistan           asia  afghanistan           asia        0.000000   \n",
       "1      afghanistan           asia      albania         europe     4335.926901   \n",
       "2      afghanistan           asia      algeria         africa     5855.362822   \n",
       "3      afghanistan           asia      andorra         europe     5796.993207   \n",
       "4      afghanistan           asia       angola         africa     7596.963990   \n",
       "...            ...            ...          ...            ...             ...   \n",
       "50620   yugoslavia         europe       taiwan           asia     8890.158133   \n",
       "50621   yugoslavia         europe         ussr         europe     1712.894461   \n",
       "50622   yugoslavia         europe    venezuela  south america     8982.127167   \n",
       "50623   yugoslavia         europe  wake island        oceania    12104.346148   \n",
       "50624   yugoslavia         europe   yugoslavia         europe        0.000000   \n",
       "\n",
       "       same_continent  \n",
       "0                   1  \n",
       "1                   0  \n",
       "2                   0  \n",
       "3                   0  \n",
       "4                   0  \n",
       "...               ...  \n",
       "50620               0  \n",
       "50621               1  \n",
       "50622               0  \n",
       "50623               0  \n",
       "50624               1  \n",
       "\n",
       "[50625 rows x 6 columns]"
      ]
     },
     "execution_count": 53,
     "metadata": {},
     "output_type": "execute_result"
    }
   ],
   "source": [
    "distance_df"
   ]
  },
  {
   "cell_type": "markdown",
   "metadata": {},
   "source": [
    "# Code to determine if countries shared borders"
   ]
  },
  {
   "cell_type": "code",
   "execution_count": 54,
   "metadata": {},
   "outputs": [
    {
     "name": "stderr",
     "output_type": "stream",
     "text": [
      "C:\\Users\\UX433F\\AppData\\Local\\Temp\\ipykernel_13000\\4058156283.py:2: FutureWarning: The geopandas.dataset module is deprecated and will be removed in GeoPandas 1.0. You can get the original 'naturalearth_lowres' data from https://www.naturalearthdata.com/downloads/110m-cultural-vectors/.\n",
      "  world = gpd.read_file(gpd.datasets.get_path('naturalearth_lowres'))\n"
     ]
    }
   ],
   "source": [
    "# Load GeoPandas world dataset\n",
    "world = gpd.read_file(gpd.datasets.get_path('naturalearth_lowres'))"
   ]
  },
  {
   "cell_type": "code",
   "execution_count": 55,
   "metadata": {},
   "outputs": [],
   "source": [
    "# Save GeoPandas countries to csv\n",
    "world = world.rename(columns={'name': 'country'})\n",
    "world['continent'] = world['continent'].astype(str).str.lower()\n",
    "world['country'] = world['country'].astype(str).str.lower()\n",
    "\n",
    "world[['continent', 'country']].to_csv(r'..\\data\\FAOSTAT\\clean_data\\geopandas_countries.csv', index=False)"
   ]
  },
  {
   "cell_type": "code",
   "execution_count": 56,
   "metadata": {},
   "outputs": [
    {
     "data": {
      "text/html": [
       "<div>\n",
       "<style scoped>\n",
       "    .dataframe tbody tr th:only-of-type {\n",
       "        vertical-align: middle;\n",
       "    }\n",
       "\n",
       "    .dataframe tbody tr th {\n",
       "        vertical-align: top;\n",
       "    }\n",
       "\n",
       "    .dataframe thead th {\n",
       "        text-align: right;\n",
       "    }\n",
       "</style>\n",
       "<table border=\"1\" class=\"dataframe\">\n",
       "  <thead>\n",
       "    <tr style=\"text-align: right;\">\n",
       "      <th></th>\n",
       "      <th>pop_est</th>\n",
       "      <th>continent</th>\n",
       "      <th>country</th>\n",
       "      <th>iso_a3</th>\n",
       "      <th>gdp_md_est</th>\n",
       "      <th>geometry</th>\n",
       "    </tr>\n",
       "  </thead>\n",
       "  <tbody>\n",
       "    <tr>\n",
       "      <th>0</th>\n",
       "      <td>889953.0</td>\n",
       "      <td>oceania</td>\n",
       "      <td>fiji</td>\n",
       "      <td>FJI</td>\n",
       "      <td>5496</td>\n",
       "      <td>MULTIPOLYGON (((180.00000 -16.06713, 180.00000...</td>\n",
       "    </tr>\n",
       "    <tr>\n",
       "      <th>1</th>\n",
       "      <td>58005463.0</td>\n",
       "      <td>africa</td>\n",
       "      <td>tanzania</td>\n",
       "      <td>TZA</td>\n",
       "      <td>63177</td>\n",
       "      <td>POLYGON ((33.90371 -0.95000, 34.07262 -1.05982...</td>\n",
       "    </tr>\n",
       "    <tr>\n",
       "      <th>2</th>\n",
       "      <td>603253.0</td>\n",
       "      <td>africa</td>\n",
       "      <td>w. sahara</td>\n",
       "      <td>ESH</td>\n",
       "      <td>907</td>\n",
       "      <td>POLYGON ((-8.66559 27.65643, -8.66512 27.58948...</td>\n",
       "    </tr>\n",
       "    <tr>\n",
       "      <th>3</th>\n",
       "      <td>37589262.0</td>\n",
       "      <td>north america</td>\n",
       "      <td>canada</td>\n",
       "      <td>CAN</td>\n",
       "      <td>1736425</td>\n",
       "      <td>MULTIPOLYGON (((-122.84000 49.00000, -122.9742...</td>\n",
       "    </tr>\n",
       "    <tr>\n",
       "      <th>4</th>\n",
       "      <td>328239523.0</td>\n",
       "      <td>north america</td>\n",
       "      <td>united states of america</td>\n",
       "      <td>USA</td>\n",
       "      <td>21433226</td>\n",
       "      <td>MULTIPOLYGON (((-122.84000 49.00000, -120.0000...</td>\n",
       "    </tr>\n",
       "  </tbody>\n",
       "</table>\n",
       "</div>"
      ],
      "text/plain": [
       "       pop_est      continent                   country iso_a3  gdp_md_est  \\\n",
       "0     889953.0        oceania                      fiji    FJI        5496   \n",
       "1   58005463.0         africa                  tanzania    TZA       63177   \n",
       "2     603253.0         africa                 w. sahara    ESH         907   \n",
       "3   37589262.0  north america                    canada    CAN     1736425   \n",
       "4  328239523.0  north america  united states of america    USA    21433226   \n",
       "\n",
       "                                            geometry  \n",
       "0  MULTIPOLYGON (((180.00000 -16.06713, 180.00000...  \n",
       "1  POLYGON ((33.90371 -0.95000, 34.07262 -1.05982...  \n",
       "2  POLYGON ((-8.66559 27.65643, -8.66512 27.58948...  \n",
       "3  MULTIPOLYGON (((-122.84000 49.00000, -122.9742...  \n",
       "4  MULTIPOLYGON (((-122.84000 49.00000, -120.0000...  "
      ]
     },
     "execution_count": 56,
     "metadata": {},
     "output_type": "execute_result"
    }
   ],
   "source": [
    "world.head()"
   ]
  },
  {
   "cell_type": "markdown",
   "metadata": {},
   "source": [
    "## Testing"
   ]
  },
  {
   "cell_type": "code",
   "execution_count": 57,
   "metadata": {},
   "outputs": [
    {
     "data": {
      "image/svg+xml": [
       "<svg xmlns=\"http://www.w3.org/2000/svg\" xmlns:xlink=\"http://www.w3.org/1999/xlink\" width=\"100.0\" height=\"100.0\" viewBox=\"-74.75214333794327 -56.58670758082317 22.460501953717696 36.09110468222562\" preserveAspectRatio=\"xMinYMin meet\"><g transform=\"matrix(1,0,0,-1,0,-77.08231047942073)\"><g><path fill-rule=\"evenodd\" fill=\"#66cc99\" stroke=\"#555555\" stroke-width=\"0.7218220936445124\" opacity=\"0.6\" d=\"M -68.63401022758323,-52.63637045887449 L -68.25,-53.1 L -67.75,-53.85 L -66.45,-54.45 L -65.05,-54.699999999999996 L -65.5,-55.2 L -66.45,-55.25 L -66.95992000000001,-54.896810000000016 L -67.56244,-54.87001 L -68.63335000000001,-54.869499999999995 L -68.63401022758323,-52.63637045887449 z\" /><path fill-rule=\"evenodd\" fill=\"#66cc99\" stroke=\"#555555\" stroke-width=\"0.7218220936445124\" opacity=\"0.6\" d=\"M -57.62513342958296,-30.21629485445426 L -57.87493730328188,-31.016556084926208 L -58.14244035504076,-32.044503676076154 L -58.13264767112145,-33.040566908502015 L -58.349611172098875,-33.26318897881541 L -58.42707414410439,-33.909454441057576 L -58.49544206402655,-34.43148976007008 L -57.22582963726366,-35.28802662530788 L -57.36235877137878,-35.977390232081476 L -56.73748735210545,-36.41312590916655 L -56.78828528504836,-36.901571547189334 L -57.74915686708346,-38.18387053807989 L -59.23185706240189,-38.720220228837235 L -61.23744523786564,-38.9284245745412 L -62.33595699731013,-38.827707208004334 L -62.125763108962936,-39.42410491308485 L -62.330530971919494,-40.17258635840034 L -62.145994432205214,-40.67689666113672 L -62.745802781816984,-41.0287614886121 L -63.77049475773255,-41.16678923926369 L -64.73208980981973,-40.80267709733515 L -65.11803524439158,-41.06431487402891 L -64.97856055363582,-42.05800099056934 L -64.3034079657425,-42.35901620866951 L -63.75594784204239,-42.043686618824495 L -63.458059048095876,-42.563138116222405 L -64.37880388045633,-42.87355844499969 L -65.18180396183975,-43.495380954767796 L -65.32882341171013,-44.501366062193696 L -65.5652689276616,-45.036785577169795 L -66.50996578638934,-45.03962778094586 L -67.29379391139247,-45.55189625425519 L -67.58054643418008,-46.30177296324257 L -66.59706641301729,-47.033924655953825 L -65.64102657740149,-47.23613453551193 L -65.98508826360079,-48.133289076531135 L -67.16617896184769,-48.697337334996945 L -67.81608761256643,-49.86966887797038 L -68.72874508327321,-50.26421843851883 L -69.13853919134777,-50.732510267947795 L -68.81556148952356,-51.771104011594126 L -68.14999487982038,-52.34998340612768 L -68.57154537624133,-52.299443855346226 L -69.49836218939609,-52.14276091263727 L -71.91480383979638,-52.0090223058659 L -72.32940385607407,-51.42595631287243 L -72.30997351753234,-50.67700977966632 L -72.97574683296469,-50.741450290734285 L -73.32805091011453,-50.378785088909915 L -73.4154357571201,-49.31843637471297 L -72.64824744331494,-48.87861825947683 L -72.33116085477201,-48.2442383766618 L -72.44735531278027,-47.73853281025352 L -71.91725847033024,-46.88483814879177 L -71.55200944689128,-45.5607329241771 L -71.65931555854536,-44.973688653341426 L -71.22277889675976,-44.784242852559416 L -71.32980078803622,-44.407521661151655 L -71.79362260607193,-44.207172133156064 L -71.46405615913051,-43.787611179378345 L -71.91542395698389,-43.40856454851745 L -72.14889807807856,-42.254888197601375 L -71.7468037584155,-42.05138640723598 L -71.91573401557763,-40.83233936947069 L -71.68076127794649,-39.808164157878046 L -71.41351660834906,-38.91602223079114 L -70.81466427273469,-38.55299529394074 L -71.11862504747549,-37.57682748794724 L -71.12188066270987,-36.65812387466232 L -70.36476925320164,-36.00508879978992 L -70.38804948594913,-35.16968759535949 L -69.81730912950152,-34.1935714657983 L -69.81477698431922,-33.273886000299825 L -70.0743993801536,-33.09120981214805 L -70.53506893581951,-31.36501026787031 L -69.91900834825194,-30.33633920666828 L -70.01355038112992,-29.367922865518572 L -69.65613033718317,-28.459141127233686 L -69.00123491074825,-27.52121388113618 L -68.29554155137043,-26.89933969493578 L -68.59479977077268,-26.506908868111296 L -68.38600114609736,-26.185016371365215 L -68.41765296087614,-24.51855478281688 L -67.32844295924417,-24.02530323659095 L -66.9852339341777,-22.98634856536284 L -67.1066735500636,-22.735924574476417 L -66.27333940292485,-21.83231047942072 L -64.96489213729461,-22.075861504812327 L -64.37702104354226,-22.79809132252354 L -63.986838141522476,-21.99364430103595 L -62.84646847192156,-22.03498544686945 L -62.685057135657885,-22.249029229422387 L -60.846564704009914,-23.880712579038292 L -60.02896603050403,-24.032796319273274 L -58.80712846539498,-24.77145924245331 L -57.77721716981794,-25.16233977630904 L -57.63366004091113,-25.60365650808164 L -58.61817359071975,-27.123718763947096 L -57.60975969097614,-27.395898532828387 L -56.486701626192996,-27.548499037386293 L -55.69584550639816,-27.387837009390864 L -54.78879492859505,-26.621785577096134 L -54.625290696823576,-25.739255466415514 L -54.13004960795439,-25.547639255477254 L -53.628348965048744,-26.124865004177472 L -53.64873531758789,-26.92347258881609 L -54.490725267135524,-27.47475676850579 L -55.16228634298457,-27.881915378533463 L -56.29089962423908,-28.852760512000895 L -57.62513342958296,-30.21629485445426 z\" /></g></g></svg>"
      ],
      "text/plain": [
       "<MULTIPOLYGON (((-68.634 -52.636, -68.25 -53.1, -67.75 -53.85, -66.45 -54.45...>"
      ]
     },
     "execution_count": 57,
     "metadata": {},
     "output_type": "execute_result"
    }
   ],
   "source": [
    "country1 = 'argentina'\n",
    "country2 = 'bolivia'\n",
    "\n",
    "geom1 = world[world['country'] == country1].geometry.values[0]\n",
    "geom1"
   ]
  },
  {
   "cell_type": "code",
   "execution_count": 58,
   "metadata": {},
   "outputs": [
    {
     "data": {
      "image/svg+xml": [
       "<svg xmlns=\"http://www.w3.org/2000/svg\" xmlns:xlink=\"http://www.w3.org/1999/xlink\" width=\"100.0\" height=\"100.0\" viewBox=\"-70.11486099310949 -23.397356036067606 13.140927091523928 14.159805468806645\" preserveAspectRatio=\"xMinYMin meet\"><g transform=\"matrix(1,0,0,-1,0,-32.63490660332857)\"><path fill-rule=\"evenodd\" fill=\"#66cc99\" stroke=\"#555555\" stroke-width=\"0.28319610937613293\" opacity=\"0.6\" d=\"M -69.52967810736496,-10.951734307502194 L -68.78615759954948,-11.03638030359628 L -68.27125362819326,-11.01452117273682 L -68.04819230820539,-10.712059014532485 L -67.17380123561074,-10.306812432499612 L -66.6469083319628,-9.931331475466862 L -65.33843522811642,-9.761987806846392 L -65.44483700220539,-10.511451104375432 L -65.32189876978302,-10.895872084194679 L -65.40228146021303,-11.566270440317155 L -64.3163529120316,-12.461978041232193 L -63.19649878605057,-12.627032565972435 L -62.803060268796386,-13.000653171442686 L -62.127080857986385,-13.198780612849724 L -61.71320431176078,-13.489202162330052 L -61.08412126325565,-13.479383640194598 L -60.503304002511136,-13.775954685117659 L -60.45919816755003,-14.354007256734555 L -60.26432634137737,-14.645979099183641 L -60.251148851142936,-15.07721892665932 L -60.54296566429515,-15.093910414289596 L -60.158389655179036,-16.258283786690086 L -58.24121985536668,-16.299573256091293 L -58.38805843772404,-16.877109063385276 L -58.28080400250225,-17.271710300366017 L -57.734558274961,-17.55246835700777 L -57.49837114117099,-18.174187513911292 L -57.67600887717431,-18.96183969490403 L -57.949997321185826,-19.40000416430682 L -57.85380164247451,-19.96999521248619 L -58.166392381408045,-20.176700941653678 L -58.183471442280506,-19.868399346600363 L -59.11504248720611,-19.3569060197754 L -60.04356462262649,-19.342746677327426 L -61.78632646345377,-19.633736667562964 L -62.2659612697708,-20.513734633061276 L -62.291179368729225,-21.051634616787393 L -62.685057135657885,-22.249029229422387 L -62.84646847192156,-22.03498544686945 L -63.986838141522476,-21.99364430103595 L -64.37702104354226,-22.79809132252354 L -64.96489213729461,-22.075861504812327 L -66.27333940292485,-21.83231047942072 L -67.1066735500636,-22.735924574476417 L -67.82817989772273,-22.872918796482175 L -68.21991309271128,-21.494346612231865 L -68.75716712103375,-20.372657972904463 L -68.44222510443092,-19.40506845467143 L -68.96681840684187,-18.981683444904107 L -69.10024695501949,-18.260125420812678 L -69.59042375352405,-17.580011895419332 L -68.9596353827533,-16.50069793057127 L -69.38976416693471,-15.660129082911652 L -69.16034664577495,-15.323973890853019 L -69.33953467474701,-14.953195489158832 L -68.9488866848366,-14.453639418193283 L -68.92922380234954,-13.602683607643009 L -68.88007951523997,-12.899729099176653 L -68.66507971868963,-12.561300144097173 L -69.52967810736496,-10.951734307502194 z\" /></g></svg>"
      ],
      "text/plain": [
       "<POLYGON ((-69.53 -10.952, -68.786 -11.036, -68.271 -11.015, -68.048 -10.712...>"
      ]
     },
     "execution_count": 58,
     "metadata": {},
     "output_type": "execute_result"
    }
   ],
   "source": [
    "geom2 = world[world['country'] == country2].geometry.values[0]\n",
    "geom2"
   ]
  },
  {
   "cell_type": "code",
   "execution_count": 59,
   "metadata": {},
   "outputs": [
    {
     "data": {
      "text/plain": [
       "True"
      ]
     },
     "execution_count": 59,
     "metadata": {},
     "output_type": "execute_result"
    }
   ],
   "source": [
    "geom1.touches(geom2)"
   ]
  },
  {
   "cell_type": "code",
   "execution_count": 60,
   "metadata": {},
   "outputs": [
    {
     "name": "stderr",
     "output_type": "stream",
     "text": [
      "C:\\Users\\UX433F\\AppData\\Local\\Temp\\ipykernel_13000\\3855674814.py:2: FutureWarning: The geopandas.dataset module is deprecated and will be removed in GeoPandas 1.0. You can get the original 'naturalearth_lowres' data from https://www.naturalearthdata.com/downloads/110m-cultural-vectors/.\n",
      "  world = gpd.read_file(gpd.datasets.get_path('naturalearth_lowres'))\n"
     ]
    }
   ],
   "source": [
    "# Load the world dataset and prepare the DataFrame\n",
    "world = gpd.read_file(gpd.datasets.get_path('naturalearth_lowres'))\n",
    "world = world.rename(columns={'name': 'country'})\n",
    "world['country'] = world['country'].astype(str).str.lower()\n",
    "\n",
    "def shares_border(country1, country2):\n",
    "    \"\"\"\n",
    "    NEEDS GEOPANDAS\n",
    "\n",
    "    Check if two countries share a border.\n",
    "\n",
    "    Parameters:\n",
    "    - country1 (str): The first country to check for shared borders.\n",
    "    - country2 (str): The second country to check for shared borders.\n",
    "\n",
    "    Returns:\n",
    "    - int or float: Returns 1 if the two countries share a border, 0 if they do not,\n",
    "      and NaN if either country is not found.\n",
    "    \"\"\"\n",
    "    \n",
    "    # Ensure the countries are lowercase for consistency\n",
    "    country1 = country1.lower()\n",
    "    country2 = country2.lower()\n",
    "      \n",
    "    # Check if both countries exist in the DataFrame\n",
    "    if country1 == country2:\n",
    "        return 1\n",
    "    elif country1 not in world['country'].values or country2 not in world['country'].values:\n",
    "        return np.nan\n",
    "    \n",
    "    geom1 = world[world['country'] == country1].geometry.values[0]\n",
    "    geom2 = world[world['country'] == country2].geometry.values[0]\n",
    "    \n",
    "    return 1 if geom1.touches(geom2) else 0"
   ]
  },
  {
   "cell_type": "code",
   "execution_count": 61,
   "metadata": {},
   "outputs": [
    {
     "data": {
      "text/plain": [
       "1"
      ]
     },
     "execution_count": 61,
     "metadata": {},
     "output_type": "execute_result"
    }
   ],
   "source": [
    "shares_border('argentina', 'chile')"
   ]
  },
  {
   "cell_type": "markdown",
   "metadata": {},
   "source": [
    "## Apply to dataframe"
   ]
  },
  {
   "cell_type": "code",
   "execution_count": 62,
   "metadata": {},
   "outputs": [],
   "source": [
    "distance_df['share_border'] = distance_df.apply(lambda row: shares_border(row['country_from'], row['country_to']), axis=1)\n"
   ]
  },
  {
   "cell_type": "code",
   "execution_count": 63,
   "metadata": {},
   "outputs": [],
   "source": [
    "distance_df.to_csv(r\"..\\data\\FAOSTAT\\clean_data\\food_trading\\country_matrix_v1.csv\", index=False)"
   ]
  }
 ],
 "metadata": {
  "kernelspec": {
   "display_name": "Python 3",
   "language": "python",
   "name": "python3"
  },
  "language_info": {
   "codemirror_mode": {
    "name": "ipython",
    "version": 3
   },
   "file_extension": ".py",
   "mimetype": "text/x-python",
   "name": "python",
   "nbconvert_exporter": "python",
   "pygments_lexer": "ipython3",
   "version": "3.12.3"
  }
 },
 "nbformat": 4,
 "nbformat_minor": 2
}
