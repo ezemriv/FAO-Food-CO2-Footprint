{
 "cells": [
  {
   "cell_type": "markdown",
   "metadata": {},
   "source": [
    "# Trade full matrix\n",
    "**Full table was open in colab and cleaned cause it was 7GB**\n",
    "\n",
    "### Table name:\n",
    "Trade: Detailed trade matrix\n",
    "\n",
    "Data was filtered for file to be smaller in: food_trading\\00_read_full_trade_matrix_incolab.ipynb\n",
    "\n",
    "### Metadata:\n",
    "\n",
    "https://www.fao.org/faostat/en/#data/TM/metadata\n"
   ]
  },
  {
   "cell_type": "markdown",
   "metadata": {},
   "source": [
    "# EDA"
   ]
  },
  {
   "cell_type": "code",
   "execution_count": 1,
   "metadata": {},
   "outputs": [],
   "source": [
    "import pandas as pd\n",
    "import numpy as np\n",
    "from ydata_profiling import ProfileReport"
   ]
  },
  {
   "cell_type": "code",
   "execution_count": 11,
   "metadata": {},
   "outputs": [],
   "source": [
    "trade_mx = pd.read_csv(r\"..\\data\\FAOSTAT\\clean_data\\food_trading\\trade_matrix_import_only.csv\")"
   ]
  },
  {
   "cell_type": "code",
   "execution_count": 12,
   "metadata": {},
   "outputs": [
    {
     "data": {
      "text/html": [
       "<div>\n",
       "<style scoped>\n",
       "    .dataframe tbody tr th:only-of-type {\n",
       "        vertical-align: middle;\n",
       "    }\n",
       "\n",
       "    .dataframe tbody tr th {\n",
       "        vertical-align: top;\n",
       "    }\n",
       "\n",
       "    .dataframe thead th {\n",
       "        text-align: right;\n",
       "    }\n",
       "</style>\n",
       "<table border=\"1\" class=\"dataframe\">\n",
       "  <thead>\n",
       "    <tr style=\"text-align: right;\">\n",
       "      <th></th>\n",
       "      <th>Unnamed: 0</th>\n",
       "      <th>Reporter Country Code</th>\n",
       "      <th>Partner Country Code</th>\n",
       "      <th>Item Code</th>\n",
       "      <th>Year</th>\n",
       "      <th>Unit</th>\n",
       "      <th>Value</th>\n",
       "      <th>Flag</th>\n",
       "    </tr>\n",
       "  </thead>\n",
       "  <tbody>\n",
       "    <tr>\n",
       "      <th>0</th>\n",
       "      <td>0</td>\n",
       "      <td>3</td>\n",
       "      <td>3</td>\n",
       "      <td>828</td>\n",
       "      <td>2004</td>\n",
       "      <td>t</td>\n",
       "      <td>12.00</td>\n",
       "      <td>A</td>\n",
       "    </tr>\n",
       "    <tr>\n",
       "      <th>1</th>\n",
       "      <td>1</td>\n",
       "      <td>4</td>\n",
       "      <td>2</td>\n",
       "      <td>231</td>\n",
       "      <td>2005</td>\n",
       "      <td>t</td>\n",
       "      <td>3.00</td>\n",
       "      <td>A</td>\n",
       "    </tr>\n",
       "    <tr>\n",
       "      <th>2</th>\n",
       "      <td>2</td>\n",
       "      <td>3</td>\n",
       "      <td>3</td>\n",
       "      <td>56</td>\n",
       "      <td>2005</td>\n",
       "      <td>t</td>\n",
       "      <td>52.00</td>\n",
       "      <td>A</td>\n",
       "    </tr>\n",
       "    <tr>\n",
       "      <th>3</th>\n",
       "      <td>3</td>\n",
       "      <td>7</td>\n",
       "      <td>2</td>\n",
       "      <td>176</td>\n",
       "      <td>2022</td>\n",
       "      <td>t</td>\n",
       "      <td>25.06</td>\n",
       "      <td>A</td>\n",
       "    </tr>\n",
       "    <tr>\n",
       "      <th>4</th>\n",
       "      <td>4</td>\n",
       "      <td>4</td>\n",
       "      <td>2</td>\n",
       "      <td>711</td>\n",
       "      <td>1996</td>\n",
       "      <td>t</td>\n",
       "      <td>171.00</td>\n",
       "      <td>A</td>\n",
       "    </tr>\n",
       "  </tbody>\n",
       "</table>\n",
       "</div>"
      ],
      "text/plain": [
       "   Unnamed: 0  Reporter Country Code  Partner Country Code  Item Code  Year  \\\n",
       "0           0                      3                     3        828  2004   \n",
       "1           1                      4                     2        231  2005   \n",
       "2           2                      3                     3         56  2005   \n",
       "3           3                      7                     2        176  2022   \n",
       "4           4                      4                     2        711  1996   \n",
       "\n",
       "  Unit   Value Flag  \n",
       "0    t   12.00    A  \n",
       "1    t    3.00    A  \n",
       "2    t   52.00    A  \n",
       "3    t   25.06    A  \n",
       "4    t  171.00    A  "
      ]
     },
     "execution_count": 12,
     "metadata": {},
     "output_type": "execute_result"
    }
   ],
   "source": [
    "trade_mx.head()"
   ]
  },
  {
   "cell_type": "code",
   "execution_count": 6,
   "metadata": {},
   "outputs": [
    {
     "data": {
      "text/html": [
       "<div>\n",
       "<style scoped>\n",
       "    .dataframe tbody tr th:only-of-type {\n",
       "        vertical-align: middle;\n",
       "    }\n",
       "\n",
       "    .dataframe tbody tr th {\n",
       "        vertical-align: top;\n",
       "    }\n",
       "\n",
       "    .dataframe thead th {\n",
       "        text-align: right;\n",
       "    }\n",
       "</style>\n",
       "<table border=\"1\" class=\"dataframe\">\n",
       "  <thead>\n",
       "    <tr style=\"text-align: right;\">\n",
       "      <th></th>\n",
       "      <th>Reporter Country Code</th>\n",
       "      <th>Partner Country Code</th>\n",
       "      <th>Item Code</th>\n",
       "      <th>Year</th>\n",
       "      <th>Unit</th>\n",
       "      <th>Value</th>\n",
       "      <th>Flag</th>\n",
       "    </tr>\n",
       "  </thead>\n",
       "  <tbody>\n",
       "    <tr>\n",
       "      <th>0</th>\n",
       "      <td>3</td>\n",
       "      <td>3</td>\n",
       "      <td>828</td>\n",
       "      <td>2004</td>\n",
       "      <td>t</td>\n",
       "      <td>12.0</td>\n",
       "      <td>A</td>\n",
       "    </tr>\n",
       "    <tr>\n",
       "      <th>2</th>\n",
       "      <td>3</td>\n",
       "      <td>3</td>\n",
       "      <td>56</td>\n",
       "      <td>2005</td>\n",
       "      <td>t</td>\n",
       "      <td>52.0</td>\n",
       "      <td>A</td>\n",
       "    </tr>\n",
       "    <tr>\n",
       "      <th>7</th>\n",
       "      <td>3</td>\n",
       "      <td>3</td>\n",
       "      <td>831</td>\n",
       "      <td>1999</td>\n",
       "      <td>t</td>\n",
       "      <td>1.0</td>\n",
       "      <td>X</td>\n",
       "    </tr>\n",
       "    <tr>\n",
       "      <th>14</th>\n",
       "      <td>3</td>\n",
       "      <td>3</td>\n",
       "      <td>534</td>\n",
       "      <td>2004</td>\n",
       "      <td>t</td>\n",
       "      <td>1.0</td>\n",
       "      <td>A</td>\n",
       "    </tr>\n",
       "    <tr>\n",
       "      <th>15184</th>\n",
       "      <td>52</td>\n",
       "      <td>52</td>\n",
       "      <td>634</td>\n",
       "      <td>2008</td>\n",
       "      <td>t</td>\n",
       "      <td>0.0</td>\n",
       "      <td>A</td>\n",
       "    </tr>\n",
       "  </tbody>\n",
       "</table>\n",
       "</div>"
      ],
      "text/plain": [
       "       Reporter Country Code  Partner Country Code  Item Code  Year Unit  \\\n",
       "0                          3                     3        828  2004    t   \n",
       "2                          3                     3         56  2005    t   \n",
       "7                          3                     3        831  1999    t   \n",
       "14                         3                     3        534  2004    t   \n",
       "15184                     52                    52        634  2008    t   \n",
       "\n",
       "       Value Flag  \n",
       "0       12.0    A  \n",
       "2       52.0    A  \n",
       "7        1.0    X  \n",
       "14       1.0    A  \n",
       "15184    0.0    A  "
      ]
     },
     "execution_count": 6,
     "metadata": {},
     "output_type": "execute_result"
    }
   ],
   "source": [
    "# There are RE-IMPORTS inside the same countries\n",
    "trade_mx[trade_mx['Reporter Country Code'] == trade_mx['Partner Country Code']].head()"
   ]
  },
  {
   "cell_type": "code",
   "execution_count": null,
   "metadata": {},
   "outputs": [
    {
     "data": {
      "text/plain": [
       "'profile = ProfileReport(\\n    trade_mx.sample(1000000),\\n    title=\"FAOSTAT Trade Matrix Profile Report\")\\n\\nprofile'"
      ]
     },
     "execution_count": 5,
     "metadata": {},
     "output_type": "execute_result"
    }
   ],
   "source": [
    "\"\"\"profile = ProfileReport(\n",
    "    trade_mx.sample(1000000),\n",
    "    title=\"FAOSTAT Trade Matrix Profile Report\")\n",
    "\n",
    "profile\"\"\"\n"
   ]
  },
  {
   "cell_type": "code",
   "execution_count": null,
   "metadata": {},
   "outputs": [
    {
     "data": {
      "text/plain": [
       "' profile.to_file(\"trade_matrix_sample_PROFILE.html\") '"
      ]
     },
     "execution_count": 6,
     "metadata": {},
     "output_type": "execute_result"
    }
   ],
   "source": [
    "\"\"\" profile.to_file(\"trade_matrix_sample_PROFILE.html\") \"\"\""
   ]
  },
  {
   "cell_type": "code",
   "execution_count": 10,
   "metadata": {},
   "outputs": [],
   "source": [
    "trade_mx.to_csv(r\"..\\data\\FAOSTAT\\clean_data\\food_trading\\trade_matrix_import_only.csv\", index=False)"
   ]
  }
 ],
 "metadata": {
  "kernelspec": {
   "display_name": "Python 3",
   "language": "python",
   "name": "python3"
  },
  "language_info": {
   "codemirror_mode": {
    "name": "ipython",
    "version": 3
   },
   "file_extension": ".py",
   "mimetype": "text/x-python",
   "name": "python",
   "nbconvert_exporter": "python",
   "pygments_lexer": "ipython3",
   "version": "3.12.3"
  }
 },
 "nbformat": 4,
 "nbformat_minor": 2
}
