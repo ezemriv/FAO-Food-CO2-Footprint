{
 "cells": [
  {
   "cell_type": "markdown",
   "metadata": {},
   "source": [
    "# Trade full matrix\n",
    "**Full table was open in colab and cleaned cause it was 7GB**\n",
    "\n",
    "### Table name:\n",
    "Trade: Detailed trade matrix\n",
    "\n",
    "Data was filtered for file to be smaller in: food_trading\\00_read_full_trade_matrix_incolab.ipynb\n",
    "\n",
    "### Metadata:\n",
    "\n",
    "https://www.fao.org/faostat/en/#data/TM/metadata\n"
   ]
  },
  {
   "cell_type": "markdown",
   "metadata": {},
   "source": [
    "# EDA"
   ]
  },
  {
   "cell_type": "code",
   "execution_count": 114,
   "metadata": {},
   "outputs": [],
   "source": [
    "import pandas as pd\n",
    "import numpy as np\n",
    "from ydata_profiling import ProfileReport\n",
    "import seaborn as sns"
   ]
  },
  {
   "cell_type": "code",
   "execution_count": 115,
   "metadata": {},
   "outputs": [],
   "source": [
    "trade_mx = pd.read_csv(r\"..\\data\\FAOSTAT\\clean_data\\food_trading\\trade_matrix__imports_clean_codesOnly.csv\")"
   ]
  },
  {
   "cell_type": "code",
   "execution_count": 116,
   "metadata": {},
   "outputs": [
    {
     "data": {
      "text/html": [
       "<div>\n",
       "<style scoped>\n",
       "    .dataframe tbody tr th:only-of-type {\n",
       "        vertical-align: middle;\n",
       "    }\n",
       "\n",
       "    .dataframe tbody tr th {\n",
       "        vertical-align: top;\n",
       "    }\n",
       "\n",
       "    .dataframe thead th {\n",
       "        text-align: right;\n",
       "    }\n",
       "</style>\n",
       "<table border=\"1\" class=\"dataframe\">\n",
       "  <thead>\n",
       "    <tr style=\"text-align: right;\">\n",
       "      <th></th>\n",
       "      <th>Reporter Country Code</th>\n",
       "      <th>Partner Country Code</th>\n",
       "      <th>Item Code</th>\n",
       "      <th>Year</th>\n",
       "      <th>Unit</th>\n",
       "      <th>Value</th>\n",
       "      <th>Flag</th>\n",
       "      <th>import_export</th>\n",
       "    </tr>\n",
       "  </thead>\n",
       "  <tbody>\n",
       "    <tr>\n",
       "      <th>0</th>\n",
       "      <td>3</td>\n",
       "      <td>3</td>\n",
       "      <td>828</td>\n",
       "      <td>2004</td>\n",
       "      <td>t</td>\n",
       "      <td>12.00</td>\n",
       "      <td>A</td>\n",
       "      <td>I</td>\n",
       "    </tr>\n",
       "    <tr>\n",
       "      <th>1</th>\n",
       "      <td>4</td>\n",
       "      <td>2</td>\n",
       "      <td>231</td>\n",
       "      <td>2005</td>\n",
       "      <td>t</td>\n",
       "      <td>3.00</td>\n",
       "      <td>A</td>\n",
       "      <td>I</td>\n",
       "    </tr>\n",
       "    <tr>\n",
       "      <th>2</th>\n",
       "      <td>3</td>\n",
       "      <td>3</td>\n",
       "      <td>56</td>\n",
       "      <td>2005</td>\n",
       "      <td>t</td>\n",
       "      <td>52.00</td>\n",
       "      <td>A</td>\n",
       "      <td>I</td>\n",
       "    </tr>\n",
       "    <tr>\n",
       "      <th>3</th>\n",
       "      <td>7</td>\n",
       "      <td>2</td>\n",
       "      <td>176</td>\n",
       "      <td>2022</td>\n",
       "      <td>t</td>\n",
       "      <td>25.06</td>\n",
       "      <td>A</td>\n",
       "      <td>I</td>\n",
       "    </tr>\n",
       "    <tr>\n",
       "      <th>4</th>\n",
       "      <td>4</td>\n",
       "      <td>2</td>\n",
       "      <td>711</td>\n",
       "      <td>1996</td>\n",
       "      <td>t</td>\n",
       "      <td>171.00</td>\n",
       "      <td>A</td>\n",
       "      <td>I</td>\n",
       "    </tr>\n",
       "  </tbody>\n",
       "</table>\n",
       "</div>"
      ],
      "text/plain": [
       "   Reporter Country Code  Partner Country Code  Item Code  Year Unit   Value  \\\n",
       "0                      3                     3        828  2004    t   12.00   \n",
       "1                      4                     2        231  2005    t    3.00   \n",
       "2                      3                     3         56  2005    t   52.00   \n",
       "3                      7                     2        176  2022    t   25.06   \n",
       "4                      4                     2        711  1996    t  171.00   \n",
       "\n",
       "  Flag import_export  \n",
       "0    A             I  \n",
       "1    A             I  \n",
       "2    A             I  \n",
       "3    A             I  \n",
       "4    A             I  "
      ]
     },
     "execution_count": 116,
     "metadata": {},
     "output_type": "execute_result"
    }
   ],
   "source": [
    "trade_mx.head()"
   ]
  },
  {
   "cell_type": "code",
   "execution_count": 117,
   "metadata": {},
   "outputs": [
    {
     "data": {
      "text/html": [
       "<div>\n",
       "<style scoped>\n",
       "    .dataframe tbody tr th:only-of-type {\n",
       "        vertical-align: middle;\n",
       "    }\n",
       "\n",
       "    .dataframe tbody tr th {\n",
       "        vertical-align: top;\n",
       "    }\n",
       "\n",
       "    .dataframe thead th {\n",
       "        text-align: right;\n",
       "    }\n",
       "</style>\n",
       "<table border=\"1\" class=\"dataframe\">\n",
       "  <thead>\n",
       "    <tr style=\"text-align: right;\">\n",
       "      <th></th>\n",
       "      <th>Reporter Country Code</th>\n",
       "      <th>Partner Country Code</th>\n",
       "      <th>Item Code</th>\n",
       "      <th>Year</th>\n",
       "      <th>Unit</th>\n",
       "      <th>Value</th>\n",
       "      <th>Flag</th>\n",
       "      <th>import_export</th>\n",
       "    </tr>\n",
       "  </thead>\n",
       "  <tbody>\n",
       "    <tr>\n",
       "      <th>0</th>\n",
       "      <td>3</td>\n",
       "      <td>3</td>\n",
       "      <td>828</td>\n",
       "      <td>2004</td>\n",
       "      <td>t</td>\n",
       "      <td>12.0</td>\n",
       "      <td>A</td>\n",
       "      <td>I</td>\n",
       "    </tr>\n",
       "    <tr>\n",
       "      <th>2</th>\n",
       "      <td>3</td>\n",
       "      <td>3</td>\n",
       "      <td>56</td>\n",
       "      <td>2005</td>\n",
       "      <td>t</td>\n",
       "      <td>52.0</td>\n",
       "      <td>A</td>\n",
       "      <td>I</td>\n",
       "    </tr>\n",
       "    <tr>\n",
       "      <th>13</th>\n",
       "      <td>3</td>\n",
       "      <td>3</td>\n",
       "      <td>534</td>\n",
       "      <td>2004</td>\n",
       "      <td>t</td>\n",
       "      <td>1.0</td>\n",
       "      <td>A</td>\n",
       "      <td>I</td>\n",
       "    </tr>\n",
       "    <tr>\n",
       "      <th>12671</th>\n",
       "      <td>52</td>\n",
       "      <td>52</td>\n",
       "      <td>634</td>\n",
       "      <td>2008</td>\n",
       "      <td>t</td>\n",
       "      <td>0.0</td>\n",
       "      <td>A</td>\n",
       "      <td>I</td>\n",
       "    </tr>\n",
       "    <tr>\n",
       "      <th>15397</th>\n",
       "      <td>9</td>\n",
       "      <td>9</td>\n",
       "      <td>1274</td>\n",
       "      <td>1999</td>\n",
       "      <td>t</td>\n",
       "      <td>0.0</td>\n",
       "      <td>A</td>\n",
       "      <td>I</td>\n",
       "    </tr>\n",
       "  </tbody>\n",
       "</table>\n",
       "</div>"
      ],
      "text/plain": [
       "       Reporter Country Code  Partner Country Code  Item Code  Year Unit  \\\n",
       "0                          3                     3        828  2004    t   \n",
       "2                          3                     3         56  2005    t   \n",
       "13                         3                     3        534  2004    t   \n",
       "12671                     52                    52        634  2008    t   \n",
       "15397                      9                     9       1274  1999    t   \n",
       "\n",
       "       Value Flag import_export  \n",
       "0       12.0    A             I  \n",
       "2       52.0    A             I  \n",
       "13       1.0    A             I  \n",
       "12671    0.0    A             I  \n",
       "15397    0.0    A             I  "
      ]
     },
     "execution_count": 117,
     "metadata": {},
     "output_type": "execute_result"
    }
   ],
   "source": [
    "# There are RE-IMPORTS inside the same countries\n",
    "trade_mx[trade_mx['Reporter Country Code'] == trade_mx['Partner Country Code']].head()"
   ]
  },
  {
   "cell_type": "code",
   "execution_count": 118,
   "metadata": {},
   "outputs": [
    {
     "data": {
      "text/plain": [
       "'profile = ProfileReport(\\n    trade_mx.sample(1000000),\\n    title=\"FAOSTAT Trade Matrix Profile Report\")\\n\\nprofile'"
      ]
     },
     "execution_count": 118,
     "metadata": {},
     "output_type": "execute_result"
    }
   ],
   "source": [
    "\"\"\"profile = ProfileReport(\n",
    "    trade_mx.sample(1000000),\n",
    "    title=\"FAOSTAT Trade Matrix Profile Report\")\n",
    "\n",
    "profile\"\"\""
   ]
  },
  {
   "cell_type": "code",
   "execution_count": 119,
   "metadata": {},
   "outputs": [
    {
     "data": {
      "text/html": [
       "<div>\n",
       "<style scoped>\n",
       "    .dataframe tbody tr th:only-of-type {\n",
       "        vertical-align: middle;\n",
       "    }\n",
       "\n",
       "    .dataframe tbody tr th {\n",
       "        vertical-align: top;\n",
       "    }\n",
       "\n",
       "    .dataframe thead th {\n",
       "        text-align: right;\n",
       "    }\n",
       "</style>\n",
       "<table border=\"1\" class=\"dataframe\">\n",
       "  <thead>\n",
       "    <tr style=\"text-align: right;\">\n",
       "      <th></th>\n",
       "      <th>Reporter Country Code</th>\n",
       "      <th>Partner Country Code</th>\n",
       "      <th>Item Code</th>\n",
       "      <th>Year</th>\n",
       "      <th>Unit</th>\n",
       "      <th>Value</th>\n",
       "      <th>Flag</th>\n",
       "      <th>import_export</th>\n",
       "    </tr>\n",
       "  </thead>\n",
       "  <tbody>\n",
       "    <tr>\n",
       "      <th>0</th>\n",
       "      <td>3</td>\n",
       "      <td>3</td>\n",
       "      <td>828</td>\n",
       "      <td>2004</td>\n",
       "      <td>t</td>\n",
       "      <td>12.00</td>\n",
       "      <td>A</td>\n",
       "      <td>I</td>\n",
       "    </tr>\n",
       "    <tr>\n",
       "      <th>1</th>\n",
       "      <td>4</td>\n",
       "      <td>2</td>\n",
       "      <td>231</td>\n",
       "      <td>2005</td>\n",
       "      <td>t</td>\n",
       "      <td>3.00</td>\n",
       "      <td>A</td>\n",
       "      <td>I</td>\n",
       "    </tr>\n",
       "    <tr>\n",
       "      <th>2</th>\n",
       "      <td>3</td>\n",
       "      <td>3</td>\n",
       "      <td>56</td>\n",
       "      <td>2005</td>\n",
       "      <td>t</td>\n",
       "      <td>52.00</td>\n",
       "      <td>A</td>\n",
       "      <td>I</td>\n",
       "    </tr>\n",
       "    <tr>\n",
       "      <th>3</th>\n",
       "      <td>7</td>\n",
       "      <td>2</td>\n",
       "      <td>176</td>\n",
       "      <td>2022</td>\n",
       "      <td>t</td>\n",
       "      <td>25.06</td>\n",
       "      <td>A</td>\n",
       "      <td>I</td>\n",
       "    </tr>\n",
       "    <tr>\n",
       "      <th>4</th>\n",
       "      <td>4</td>\n",
       "      <td>2</td>\n",
       "      <td>711</td>\n",
       "      <td>1996</td>\n",
       "      <td>t</td>\n",
       "      <td>171.00</td>\n",
       "      <td>A</td>\n",
       "      <td>I</td>\n",
       "    </tr>\n",
       "  </tbody>\n",
       "</table>\n",
       "</div>"
      ],
      "text/plain": [
       "   Reporter Country Code  Partner Country Code  Item Code  Year Unit   Value  \\\n",
       "0                      3                     3        828  2004    t   12.00   \n",
       "1                      4                     2        231  2005    t    3.00   \n",
       "2                      3                     3         56  2005    t   52.00   \n",
       "3                      7                     2        176  2022    t   25.06   \n",
       "4                      4                     2        711  1996    t  171.00   \n",
       "\n",
       "  Flag import_export  \n",
       "0    A             I  \n",
       "1    A             I  \n",
       "2    A             I  \n",
       "3    A             I  \n",
       "4    A             I  "
      ]
     },
     "execution_count": 119,
     "metadata": {},
     "output_type": "execute_result"
    }
   ],
   "source": [
    "trade_mx.head()"
   ]
  },
  {
   "cell_type": "code",
   "execution_count": 120,
   "metadata": {},
   "outputs": [
    {
     "data": {
      "text/plain": [
       "<Axes: >"
      ]
     },
     "execution_count": 120,
     "metadata": {},
     "output_type": "execute_result"
    },
    {
     "data": {
      "image/png": "[encoded data removed]",
      "text/plain": [
       "<Figure size 640x480 with 1 Axes>"
      ]
     },
     "metadata": {},
     "output_type": "display_data"
    }
   ],
   "source": [
    "trade_mx['Value'].sample(10000).hist(bins=100)"
   ]
  },
  {
   "cell_type": "code",
   "execution_count": 121,
   "metadata": {},
   "outputs": [
    {
     "data": {
      "text/plain": [
       "<Axes: >"
      ]
     },
     "execution_count": 121,
     "metadata": {},
     "output_type": "execute_result"
    },
    {
     "data": {
      "image/png": "[encoded data removed]",
      "text/plain": [
       "<Figure size 640x480 with 1 Axes>"
      ]
     },
     "metadata": {},
     "output_type": "display_data"
    }
   ],
   "source": [
    "np.log(trade_mx['Value']+1).hist(bins=100)"
   ]
  },
  {
   "cell_type": "markdown",
   "metadata": {},
   "source": [
    "# Clean up of ZERO trading value and really high values (trading value data is highly skewed)"
   ]
  },
  {
   "cell_type": "code",
   "execution_count": 122,
   "metadata": {},
   "outputs": [],
   "source": [
    "trade_mx2 = trade_mx[trade_mx['Value'] > 0]"
   ]
  },
  {
   "cell_type": "code",
   "execution_count": 123,
   "metadata": {},
   "outputs": [
    {
     "name": "stdout",
     "output_type": "stream",
     "text": [
      "11691218 9945394\n"
     ]
    }
   ],
   "source": [
    "print(trade_mx.shape[0], trade_mx2.shape[0])"
   ]
  },
  {
   "cell_type": "code",
   "execution_count": 124,
   "metadata": {},
   "outputs": [
    {
     "data": {
      "text/plain": [
       "<Axes: >"
      ]
     },
     "execution_count": 124,
     "metadata": {},
     "output_type": "execute_result"
    },
    {
     "data": {
      "image/png": "[encoded data removed]",
      "text/plain": [
       "<Figure size 640x480 with 1 Axes>"
      ]
     },
     "metadata": {},
     "output_type": "display_data"
    }
   ],
   "source": [
    "np.log(trade_mx2['Value']+1).hist(bins=100)"
   ]
  },
  {
   "cell_type": "markdown",
   "metadata": {},
   "source": [
    "## Identify high traded products"
   ]
  },
  {
   "cell_type": "code",
   "execution_count": 125,
   "metadata": {},
   "outputs": [],
   "source": [
    "items = pd.read_csv(r\"..\\data\\FAOSTAT\\clean_data\\food_codes_categorized_final.csv\", encoding=\"ISO-8859-1\")"
   ]
  },
  {
   "cell_type": "code",
   "execution_count": 126,
   "metadata": {},
   "outputs": [
    {
     "data": {
      "text/html": [
       "<div>\n",
       "<style scoped>\n",
       "    .dataframe tbody tr th:only-of-type {\n",
       "        vertical-align: middle;\n",
       "    }\n",
       "\n",
       "    .dataframe tbody tr th {\n",
       "        vertical-align: top;\n",
       "    }\n",
       "\n",
       "    .dataframe thead th {\n",
       "        text-align: right;\n",
       "    }\n",
       "</style>\n",
       "<table border=\"1\" class=\"dataframe\">\n",
       "  <thead>\n",
       "    <tr style=\"text-align: right;\">\n",
       "      <th></th>\n",
       "      <th>Item_Code</th>\n",
       "      <th>Item</th>\n",
       "      <th>conservation</th>\n",
       "      <th>diet</th>\n",
       "      <th>food_type</th>\n",
       "    </tr>\n",
       "  </thead>\n",
       "  <tbody>\n",
       "    <tr>\n",
       "      <th>0</th>\n",
       "      <td>1002</td>\n",
       "      <td>Skins; karakul</td>\n",
       "      <td>Ambient</td>\n",
       "      <td>NaN</td>\n",
       "      <td>NaN</td>\n",
       "    </tr>\n",
       "    <tr>\n",
       "      <th>1</th>\n",
       "      <td>1007</td>\n",
       "      <td>Wool; shoddy</td>\n",
       "      <td>Ambient</td>\n",
       "      <td>NaN</td>\n",
       "      <td>NaN</td>\n",
       "    </tr>\n",
       "    <tr>\n",
       "      <th>2</th>\n",
       "      <td>1008</td>\n",
       "      <td>Hair; carded/combed</td>\n",
       "      <td>Ambient</td>\n",
       "      <td>NaN</td>\n",
       "      <td>NaN</td>\n",
       "    </tr>\n",
       "    <tr>\n",
       "      <th>3</th>\n",
       "      <td>1009</td>\n",
       "      <td>Wool; hair waste</td>\n",
       "      <td>Ambient</td>\n",
       "      <td>NaN</td>\n",
       "      <td>NaN</td>\n",
       "    </tr>\n",
       "    <tr>\n",
       "      <th>4</th>\n",
       "      <td>101</td>\n",
       "      <td>Canary seed</td>\n",
       "      <td>Ambient</td>\n",
       "      <td>vegan</td>\n",
       "      <td>grain</td>\n",
       "    </tr>\n",
       "  </tbody>\n",
       "</table>\n",
       "</div>"
      ],
      "text/plain": [
       "   Item_Code                 Item conservation   diet food_type\n",
       "0       1002       Skins; karakul      Ambient    NaN       NaN\n",
       "1       1007         Wool; shoddy      Ambient    NaN       NaN\n",
       "2       1008  Hair; carded/combed      Ambient    NaN       NaN\n",
       "3       1009     Wool; hair waste      Ambient    NaN       NaN\n",
       "4        101          Canary seed      Ambient  vegan     grain"
      ]
     },
     "execution_count": 126,
     "metadata": {},
     "output_type": "execute_result"
    }
   ],
   "source": [
    "items.head()"
   ]
  },
  {
   "cell_type": "code",
   "execution_count": 127,
   "metadata": {},
   "outputs": [],
   "source": [
    "high_single_traded = trade_mx2[trade_mx2['Value'] > 1000000].sort_values(by='Value', ascending=False)"
   ]
  },
  {
   "cell_type": "code",
   "execution_count": 128,
   "metadata": {},
   "outputs": [],
   "source": [
    "high_single_traded = high_single_traded.merge(items, left_on='Item Code', right_on='Item_Code', how = \"left\")"
   ]
  },
  {
   "cell_type": "code",
   "execution_count": 129,
   "metadata": {},
   "outputs": [],
   "source": [
    "high_total_traded = trade_mx2.groupby('Item Code')['Value'].sum().sort_values(ascending=False).to_frame()"
   ]
  },
  {
   "cell_type": "code",
   "execution_count": 130,
   "metadata": {},
   "outputs": [
    {
     "data": {
      "text/html": [
       "<div>\n",
       "<style scoped>\n",
       "    .dataframe tbody tr th:only-of-type {\n",
       "        vertical-align: middle;\n",
       "    }\n",
       "\n",
       "    .dataframe tbody tr th {\n",
       "        vertical-align: top;\n",
       "    }\n",
       "\n",
       "    .dataframe thead th {\n",
       "        text-align: right;\n",
       "    }\n",
       "</style>\n",
       "<table border=\"1\" class=\"dataframe\">\n",
       "  <thead>\n",
       "    <tr style=\"text-align: right;\">\n",
       "      <th></th>\n",
       "      <th>Value</th>\n",
       "    </tr>\n",
       "    <tr>\n",
       "      <th>Item Code</th>\n",
       "      <th></th>\n",
       "    </tr>\n",
       "  </thead>\n",
       "  <tbody>\n",
       "    <tr>\n",
       "      <th>1293</th>\n",
       "      <td>5.052681e+09</td>\n",
       "    </tr>\n",
       "    <tr>\n",
       "      <th>15</th>\n",
       "      <td>3.777502e+09</td>\n",
       "    </tr>\n",
       "    <tr>\n",
       "      <th>56</th>\n",
       "      <td>3.214921e+09</td>\n",
       "    </tr>\n",
       "    <tr>\n",
       "      <th>236</th>\n",
       "      <td>2.576860e+09</td>\n",
       "    </tr>\n",
       "    <tr>\n",
       "      <th>238</th>\n",
       "      <td>1.537302e+09</td>\n",
       "    </tr>\n",
       "  </tbody>\n",
       "</table>\n",
       "</div>"
      ],
      "text/plain": [
       "                  Value\n",
       "Item Code              \n",
       "1293       5.052681e+09\n",
       "15         3.777502e+09\n",
       "56         3.214921e+09\n",
       "236        2.576860e+09\n",
       "238        1.537302e+09"
      ]
     },
     "execution_count": 130,
     "metadata": {},
     "output_type": "execute_result"
    }
   ],
   "source": [
    "high_total_traded.head()"
   ]
  },
  {
   "cell_type": "markdown",
   "metadata": {},
   "source": [
    "# drop not food items\n",
    "\n",
    "There are some items that are not food like 1293 = \"crude organic material\"\n",
    "\n",
    "I drop all these items from trade_mx"
   ]
  },
  {
   "cell_type": "code",
   "execution_count": 131,
   "metadata": {},
   "outputs": [],
   "source": [
    "items_to_drop = items[items[\"food_type\"].isnull()]"
   ]
  },
  {
   "cell_type": "code",
   "execution_count": 132,
   "metadata": {},
   "outputs": [],
   "source": [
    "items_to_drop = items_to_drop['Item_Code'].tolist()"
   ]
  },
  {
   "cell_type": "code",
   "execution_count": 133,
   "metadata": {},
   "outputs": [
    {
     "data": {
      "text/html": [
       "<div>\n",
       "<style scoped>\n",
       "    .dataframe tbody tr th:only-of-type {\n",
       "        vertical-align: middle;\n",
       "    }\n",
       "\n",
       "    .dataframe tbody tr th {\n",
       "        vertical-align: top;\n",
       "    }\n",
       "\n",
       "    .dataframe thead th {\n",
       "        text-align: right;\n",
       "    }\n",
       "</style>\n",
       "<table border=\"1\" class=\"dataframe\">\n",
       "  <thead>\n",
       "    <tr style=\"text-align: right;\">\n",
       "      <th></th>\n",
       "      <th>Reporter Country Code</th>\n",
       "      <th>Partner Country Code</th>\n",
       "      <th>Item Code</th>\n",
       "      <th>Year</th>\n",
       "      <th>Unit</th>\n",
       "      <th>Value</th>\n",
       "      <th>Flag</th>\n",
       "      <th>import_export</th>\n",
       "    </tr>\n",
       "  </thead>\n",
       "  <tbody>\n",
       "    <tr>\n",
       "      <th>68</th>\n",
       "      <td>14</td>\n",
       "      <td>2</td>\n",
       "      <td>1293</td>\n",
       "      <td>2002</td>\n",
       "      <td>t</td>\n",
       "      <td>0.0</td>\n",
       "      <td>A</td>\n",
       "      <td>I</td>\n",
       "    </tr>\n",
       "    <tr>\n",
       "      <th>128</th>\n",
       "      <td>4</td>\n",
       "      <td>2</td>\n",
       "      <td>1293</td>\n",
       "      <td>1996</td>\n",
       "      <td>t</td>\n",
       "      <td>0.0</td>\n",
       "      <td>A</td>\n",
       "      <td>I</td>\n",
       "    </tr>\n",
       "    <tr>\n",
       "      <th>137</th>\n",
       "      <td>4</td>\n",
       "      <td>2</td>\n",
       "      <td>1293</td>\n",
       "      <td>1997</td>\n",
       "      <td>t</td>\n",
       "      <td>4.0</td>\n",
       "      <td>A</td>\n",
       "      <td>I</td>\n",
       "    </tr>\n",
       "    <tr>\n",
       "      <th>142</th>\n",
       "      <td>4</td>\n",
       "      <td>2</td>\n",
       "      <td>1293</td>\n",
       "      <td>2000</td>\n",
       "      <td>t</td>\n",
       "      <td>2.0</td>\n",
       "      <td>A</td>\n",
       "      <td>I</td>\n",
       "    </tr>\n",
       "    <tr>\n",
       "      <th>152</th>\n",
       "      <td>4</td>\n",
       "      <td>2</td>\n",
       "      <td>1293</td>\n",
       "      <td>2001</td>\n",
       "      <td>t</td>\n",
       "      <td>10.0</td>\n",
       "      <td>A</td>\n",
       "      <td>I</td>\n",
       "    </tr>\n",
       "    <tr>\n",
       "      <th>...</th>\n",
       "      <td>...</td>\n",
       "      <td>...</td>\n",
       "      <td>...</td>\n",
       "      <td>...</td>\n",
       "      <td>...</td>\n",
       "      <td>...</td>\n",
       "      <td>...</td>\n",
       "      <td>...</td>\n",
       "    </tr>\n",
       "    <tr>\n",
       "      <th>11690487</th>\n",
       "      <td>150</td>\n",
       "      <td>181</td>\n",
       "      <td>1293</td>\n",
       "      <td>2009</td>\n",
       "      <td>t</td>\n",
       "      <td>6742.0</td>\n",
       "      <td>A</td>\n",
       "      <td>I</td>\n",
       "    </tr>\n",
       "    <tr>\n",
       "      <th>11690488</th>\n",
       "      <td>150</td>\n",
       "      <td>181</td>\n",
       "      <td>1293</td>\n",
       "      <td>2010</td>\n",
       "      <td>t</td>\n",
       "      <td>6036.0</td>\n",
       "      <td>A</td>\n",
       "      <td>I</td>\n",
       "    </tr>\n",
       "    <tr>\n",
       "      <th>11690489</th>\n",
       "      <td>150</td>\n",
       "      <td>181</td>\n",
       "      <td>1293</td>\n",
       "      <td>2011</td>\n",
       "      <td>t</td>\n",
       "      <td>4106.0</td>\n",
       "      <td>A</td>\n",
       "      <td>I</td>\n",
       "    </tr>\n",
       "    <tr>\n",
       "      <th>11690490</th>\n",
       "      <td>150</td>\n",
       "      <td>181</td>\n",
       "      <td>1293</td>\n",
       "      <td>2012</td>\n",
       "      <td>t</td>\n",
       "      <td>2818.0</td>\n",
       "      <td>A</td>\n",
       "      <td>I</td>\n",
       "    </tr>\n",
       "    <tr>\n",
       "      <th>11690491</th>\n",
       "      <td>150</td>\n",
       "      <td>181</td>\n",
       "      <td>1293</td>\n",
       "      <td>2013</td>\n",
       "      <td>t</td>\n",
       "      <td>2392.0</td>\n",
       "      <td>A</td>\n",
       "      <td>I</td>\n",
       "    </tr>\n",
       "  </tbody>\n",
       "</table>\n",
       "<p>141585 rows × 8 columns</p>\n",
       "</div>"
      ],
      "text/plain": [
       "          Reporter Country Code  Partner Country Code  Item Code  Year Unit  \\\n",
       "68                           14                     2       1293  2002    t   \n",
       "128                           4                     2       1293  1996    t   \n",
       "137                           4                     2       1293  1997    t   \n",
       "142                           4                     2       1293  2000    t   \n",
       "152                           4                     2       1293  2001    t   \n",
       "...                         ...                   ...        ...   ...  ...   \n",
       "11690487                    150                   181       1293  2009    t   \n",
       "11690488                    150                   181       1293  2010    t   \n",
       "11690489                    150                   181       1293  2011    t   \n",
       "11690490                    150                   181       1293  2012    t   \n",
       "11690491                    150                   181       1293  2013    t   \n",
       "\n",
       "           Value Flag import_export  \n",
       "68           0.0    A             I  \n",
       "128          0.0    A             I  \n",
       "137          4.0    A             I  \n",
       "142          2.0    A             I  \n",
       "152         10.0    A             I  \n",
       "...          ...  ...           ...  \n",
       "11690487  6742.0    A             I  \n",
       "11690488  6036.0    A             I  \n",
       "11690489  4106.0    A             I  \n",
       "11690490  2818.0    A             I  \n",
       "11690491  2392.0    A             I  \n",
       "\n",
       "[141585 rows x 8 columns]"
      ]
     },
     "execution_count": 133,
     "metadata": {},
     "output_type": "execute_result"
    }
   ],
   "source": [
    "trade_mx[trade_mx['Item Code'] == 1293]"
   ]
  },
  {
   "cell_type": "code",
   "execution_count": 134,
   "metadata": {},
   "outputs": [],
   "source": [
    "trade_mx = trade_mx[~trade_mx['Item Code'].isin(items_to_drop)]"
   ]
  },
  {
   "cell_type": "code",
   "execution_count": 136,
   "metadata": {},
   "outputs": [],
   "source": [
    "#Drop unnecesary columns\n",
    "trade_mx = trade_mx.rename(columns={'Value': 'Value_tons'})\n",
    "trade_mx.drop(columns=['Unit', 'import_export'], inplace=True)"
   ]
  },
  {
   "cell_type": "code",
   "execution_count": 137,
   "metadata": {},
   "outputs": [
    {
     "data": {
      "text/html": [
       "<div>\n",
       "<style scoped>\n",
       "    .dataframe tbody tr th:only-of-type {\n",
       "        vertical-align: middle;\n",
       "    }\n",
       "\n",
       "    .dataframe tbody tr th {\n",
       "        vertical-align: top;\n",
       "    }\n",
       "\n",
       "    .dataframe thead th {\n",
       "        text-align: right;\n",
       "    }\n",
       "</style>\n",
       "<table border=\"1\" class=\"dataframe\">\n",
       "  <thead>\n",
       "    <tr style=\"text-align: right;\">\n",
       "      <th></th>\n",
       "      <th>Reporter Country Code</th>\n",
       "      <th>Partner Country Code</th>\n",
       "      <th>Item Code</th>\n",
       "      <th>Year</th>\n",
       "      <th>Value_tons</th>\n",
       "      <th>Flag</th>\n",
       "    </tr>\n",
       "  </thead>\n",
       "  <tbody>\n",
       "    <tr>\n",
       "      <th>1</th>\n",
       "      <td>4</td>\n",
       "      <td>2</td>\n",
       "      <td>231</td>\n",
       "      <td>2005</td>\n",
       "      <td>3.00</td>\n",
       "      <td>A</td>\n",
       "    </tr>\n",
       "    <tr>\n",
       "      <th>2</th>\n",
       "      <td>3</td>\n",
       "      <td>3</td>\n",
       "      <td>56</td>\n",
       "      <td>2005</td>\n",
       "      <td>52.00</td>\n",
       "      <td>A</td>\n",
       "    </tr>\n",
       "    <tr>\n",
       "      <th>3</th>\n",
       "      <td>7</td>\n",
       "      <td>2</td>\n",
       "      <td>176</td>\n",
       "      <td>2022</td>\n",
       "      <td>25.06</td>\n",
       "      <td>A</td>\n",
       "    </tr>\n",
       "    <tr>\n",
       "      <th>4</th>\n",
       "      <td>4</td>\n",
       "      <td>2</td>\n",
       "      <td>711</td>\n",
       "      <td>1996</td>\n",
       "      <td>171.00</td>\n",
       "      <td>A</td>\n",
       "    </tr>\n",
       "    <tr>\n",
       "      <th>5</th>\n",
       "      <td>8</td>\n",
       "      <td>2</td>\n",
       "      <td>517</td>\n",
       "      <td>2012</td>\n",
       "      <td>0.00</td>\n",
       "      <td>A</td>\n",
       "    </tr>\n",
       "  </tbody>\n",
       "</table>\n",
       "</div>"
      ],
      "text/plain": [
       "   Reporter Country Code  Partner Country Code  Item Code  Year  Value_tons  \\\n",
       "1                      4                     2        231  2005        3.00   \n",
       "2                      3                     3         56  2005       52.00   \n",
       "3                      7                     2        176  2022       25.06   \n",
       "4                      4                     2        711  1996      171.00   \n",
       "5                      8                     2        517  2012        0.00   \n",
       "\n",
       "  Flag  \n",
       "1    A  \n",
       "2    A  \n",
       "3    A  \n",
       "4    A  \n",
       "5    A  "
      ]
     },
     "execution_count": 137,
     "metadata": {},
     "output_type": "execute_result"
    }
   ],
   "source": [
    "trade_mx.head()"
   ]
  },
  {
   "cell_type": "code",
   "execution_count": 138,
   "metadata": {},
   "outputs": [],
   "source": [
    "trade_mx.to_csv(r\"..\\data\\FAOSTAT\\clean_data\\food_trading\\trade_matrix__imports_clean_codesOnly_v2.csv\", index=False)"
   ]
  }
 ],
 "metadata": {
  "kernelspec": {
   "display_name": "Python 3",
   "language": "python",
   "name": "python3"
  },
  "language_info": {
   "codemirror_mode": {
    "name": "ipython",
    "version": 3
   },
   "file_extension": ".py",
   "mimetype": "text/x-python",
   "name": "python",
   "nbconvert_exporter": "python",
   "pygments_lexer": "ipython3",
   "version": "3.12.3"
  }
 },
 "nbformat": 4,
 "nbformat_minor": 2
}
