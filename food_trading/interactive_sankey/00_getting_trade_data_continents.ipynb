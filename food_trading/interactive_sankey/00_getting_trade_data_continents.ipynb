{
 "cells": [
  {
   "cell_type": "code",
   "execution_count": 2,
   "metadata": {},
   "outputs": [],
   "source": [
    "import pandas as pd\n",
    "import numpy as np"
   ]
  },
  {
   "cell_type": "code",
   "execution_count": 3,
   "metadata": {},
   "outputs": [],
   "source": [
    "trade_mx = pd.read_csv(\"trade_matrix_import_only.csv\")"
   ]
  },
  {
   "cell_type": "code",
   "execution_count": 4,
   "metadata": {},
   "outputs": [],
   "source": [
    "codes = pd.read_csv(\"country_to_continent_codes.csv\", )"
   ]
  },
  {
   "cell_type": "code",
   "execution_count": 5,
   "metadata": {},
   "outputs": [],
   "source": [
    "colstodrop = ['Unnamed: 0', 'Item Code', 'Flag']\n",
    "\n",
    "trade_mx.drop(colstodrop, axis=1, inplace=True)"
   ]
  },
  {
   "cell_type": "code",
   "execution_count": 6,
   "metadata": {},
   "outputs": [
    {
     "data": {
      "text/html": [
       "<div>\n",
       "<style scoped>\n",
       "    .dataframe tbody tr th:only-of-type {\n",
       "        vertical-align: middle;\n",
       "    }\n",
       "\n",
       "    .dataframe tbody tr th {\n",
       "        vertical-align: top;\n",
       "    }\n",
       "\n",
       "    .dataframe thead th {\n",
       "        text-align: right;\n",
       "    }\n",
       "</style>\n",
       "<table border=\"1\" class=\"dataframe\">\n",
       "  <thead>\n",
       "    <tr style=\"text-align: right;\">\n",
       "      <th></th>\n",
       "      <th>Reporter Country Code</th>\n",
       "      <th>Partner Country Code</th>\n",
       "      <th>Year</th>\n",
       "      <th>Unit</th>\n",
       "      <th>Value</th>\n",
       "    </tr>\n",
       "  </thead>\n",
       "  <tbody>\n",
       "    <tr>\n",
       "      <th>0</th>\n",
       "      <td>3</td>\n",
       "      <td>3</td>\n",
       "      <td>2004</td>\n",
       "      <td>t</td>\n",
       "      <td>12.00</td>\n",
       "    </tr>\n",
       "    <tr>\n",
       "      <th>1</th>\n",
       "      <td>4</td>\n",
       "      <td>2</td>\n",
       "      <td>2005</td>\n",
       "      <td>t</td>\n",
       "      <td>3.00</td>\n",
       "    </tr>\n",
       "    <tr>\n",
       "      <th>2</th>\n",
       "      <td>3</td>\n",
       "      <td>3</td>\n",
       "      <td>2005</td>\n",
       "      <td>t</td>\n",
       "      <td>52.00</td>\n",
       "    </tr>\n",
       "    <tr>\n",
       "      <th>3</th>\n",
       "      <td>7</td>\n",
       "      <td>2</td>\n",
       "      <td>2022</td>\n",
       "      <td>t</td>\n",
       "      <td>25.06</td>\n",
       "    </tr>\n",
       "    <tr>\n",
       "      <th>4</th>\n",
       "      <td>4</td>\n",
       "      <td>2</td>\n",
       "      <td>1996</td>\n",
       "      <td>t</td>\n",
       "      <td>171.00</td>\n",
       "    </tr>\n",
       "  </tbody>\n",
       "</table>\n",
       "</div>"
      ],
      "text/plain": [
       "   Reporter Country Code  Partner Country Code  Year Unit   Value\n",
       "0                      3                     3  2004    t   12.00\n",
       "1                      4                     2  2005    t    3.00\n",
       "2                      3                     3  2005    t   52.00\n",
       "3                      7                     2  2022    t   25.06\n",
       "4                      4                     2  1996    t  171.00"
      ]
     },
     "execution_count": 6,
     "metadata": {},
     "output_type": "execute_result"
    }
   ],
   "source": [
    "trade_mx.head()"
   ]
  },
  {
   "cell_type": "code",
   "execution_count": 7,
   "metadata": {},
   "outputs": [
    {
     "data": {
      "text/html": [
       "<div>\n",
       "<style scoped>\n",
       "    .dataframe tbody tr th:only-of-type {\n",
       "        vertical-align: middle;\n",
       "    }\n",
       "\n",
       "    .dataframe tbody tr th {\n",
       "        vertical-align: top;\n",
       "    }\n",
       "\n",
       "    .dataframe thead th {\n",
       "        text-align: right;\n",
       "    }\n",
       "</style>\n",
       "<table border=\"1\" class=\"dataframe\">\n",
       "  <thead>\n",
       "    <tr style=\"text-align: right;\">\n",
       "      <th></th>\n",
       "      <th>Area Code</th>\n",
       "      <th>Continent</th>\n",
       "      <th>Country</th>\n",
       "      <th>Capital</th>\n",
       "      <th>Latitude</th>\n",
       "      <th>Longitude</th>\n",
       "    </tr>\n",
       "  </thead>\n",
       "  <tbody>\n",
       "    <tr>\n",
       "      <th>0</th>\n",
       "      <td>1</td>\n",
       "      <td>europe</td>\n",
       "      <td>armenia</td>\n",
       "      <td>yerevan</td>\n",
       "      <td>40.183300</td>\n",
       "      <td>44.516700</td>\n",
       "    </tr>\n",
       "    <tr>\n",
       "      <th>1</th>\n",
       "      <td>2</td>\n",
       "      <td>asia</td>\n",
       "      <td>afghanistan</td>\n",
       "      <td>kabul</td>\n",
       "      <td>34.526000</td>\n",
       "      <td>69.181000</td>\n",
       "    </tr>\n",
       "    <tr>\n",
       "      <th>2</th>\n",
       "      <td>3</td>\n",
       "      <td>europe</td>\n",
       "      <td>albania</td>\n",
       "      <td>tirana</td>\n",
       "      <td>41.327500</td>\n",
       "      <td>19.818900</td>\n",
       "    </tr>\n",
       "    <tr>\n",
       "      <th>3</th>\n",
       "      <td>4</td>\n",
       "      <td>africa</td>\n",
       "      <td>algeria</td>\n",
       "      <td>algiers</td>\n",
       "      <td>36.737232</td>\n",
       "      <td>3.086472</td>\n",
       "    </tr>\n",
       "    <tr>\n",
       "      <th>4</th>\n",
       "      <td>7</td>\n",
       "      <td>africa</td>\n",
       "      <td>angola</td>\n",
       "      <td>luanda</td>\n",
       "      <td>-8.839988</td>\n",
       "      <td>13.289437</td>\n",
       "    </tr>\n",
       "    <tr>\n",
       "      <th>...</th>\n",
       "      <td>...</td>\n",
       "      <td>...</td>\n",
       "      <td>...</td>\n",
       "      <td>...</td>\n",
       "      <td>...</td>\n",
       "      <td>...</td>\n",
       "    </tr>\n",
       "    <tr>\n",
       "      <th>217</th>\n",
       "      <td>272</td>\n",
       "      <td>europe</td>\n",
       "      <td>serbia</td>\n",
       "      <td>belgrade</td>\n",
       "      <td>44.786600</td>\n",
       "      <td>20.448900</td>\n",
       "    </tr>\n",
       "    <tr>\n",
       "      <th>218</th>\n",
       "      <td>273</td>\n",
       "      <td>europe</td>\n",
       "      <td>montenegro</td>\n",
       "      <td>podgorica</td>\n",
       "      <td>42.441300</td>\n",
       "      <td>19.263600</td>\n",
       "    </tr>\n",
       "    <tr>\n",
       "      <th>219</th>\n",
       "      <td>276</td>\n",
       "      <td>africa</td>\n",
       "      <td>sudan</td>\n",
       "      <td>khartoum</td>\n",
       "      <td>15.500654</td>\n",
       "      <td>32.559899</td>\n",
       "    </tr>\n",
       "    <tr>\n",
       "      <th>220</th>\n",
       "      <td>277</td>\n",
       "      <td>africa</td>\n",
       "      <td>s. sudan</td>\n",
       "      <td>juba</td>\n",
       "      <td>4.851650</td>\n",
       "      <td>31.582470</td>\n",
       "    </tr>\n",
       "    <tr>\n",
       "      <th>221</th>\n",
       "      <td>299</td>\n",
       "      <td>asia</td>\n",
       "      <td>palestine</td>\n",
       "      <td>jerusalem</td>\n",
       "      <td>31.768300</td>\n",
       "      <td>35.213700</td>\n",
       "    </tr>\n",
       "  </tbody>\n",
       "</table>\n",
       "<p>222 rows × 6 columns</p>\n",
       "</div>"
      ],
      "text/plain": [
       "     Area Code Continent      Country    Capital   Latitude  Longitude\n",
       "0            1    europe      armenia    yerevan  40.183300  44.516700\n",
       "1            2      asia  afghanistan      kabul  34.526000  69.181000\n",
       "2            3    europe      albania     tirana  41.327500  19.818900\n",
       "3            4    africa      algeria    algiers  36.737232   3.086472\n",
       "4            7    africa       angola     luanda  -8.839988  13.289437\n",
       "..         ...       ...          ...        ...        ...        ...\n",
       "217        272    europe       serbia   belgrade  44.786600  20.448900\n",
       "218        273    europe   montenegro  podgorica  42.441300  19.263600\n",
       "219        276    africa        sudan   khartoum  15.500654  32.559899\n",
       "220        277    africa     s. sudan       juba   4.851650  31.582470\n",
       "221        299      asia    palestine  jerusalem  31.768300  35.213700\n",
       "\n",
       "[222 rows x 6 columns]"
      ]
     },
     "execution_count": 7,
     "metadata": {},
     "output_type": "execute_result"
    }
   ],
   "source": [
    "codes"
   ]
  },
  {
   "cell_type": "code",
   "execution_count": 8,
   "metadata": {},
   "outputs": [],
   "source": [
    "# Merging the DataFrames on the country codes\n",
    "trade_mx = trade_mx.merge(codes[['Area Code', 'Continent']], left_on='Reporter Country Code', right_on='Area Code', how='left')\n",
    "trade_mx = trade_mx.rename(columns={'Continent': 'Reporter Continent'})\n",
    "trade_mx = trade_mx.drop(columns='Area Code')"
   ]
  },
  {
   "cell_type": "code",
   "execution_count": 9,
   "metadata": {},
   "outputs": [],
   "source": [
    "trade_mx = trade_mx.merge(codes[['Area Code', 'Continent']], left_on='Partner Country Code', right_on='Area Code', how='left')\n",
    "trade_mx = trade_mx.rename(columns={'Continent': 'Partner Continent'})\n",
    "trade_mx = trade_mx.drop(columns='Area Code')"
   ]
  },
  {
   "cell_type": "code",
   "execution_count": 10,
   "metadata": {},
   "outputs": [
    {
     "data": {
      "text/html": [
       "<div>\n",
       "<style scoped>\n",
       "    .dataframe tbody tr th:only-of-type {\n",
       "        vertical-align: middle;\n",
       "    }\n",
       "\n",
       "    .dataframe tbody tr th {\n",
       "        vertical-align: top;\n",
       "    }\n",
       "\n",
       "    .dataframe thead th {\n",
       "        text-align: right;\n",
       "    }\n",
       "</style>\n",
       "<table border=\"1\" class=\"dataframe\">\n",
       "  <thead>\n",
       "    <tr style=\"text-align: right;\">\n",
       "      <th></th>\n",
       "      <th>Reporter Country Code</th>\n",
       "      <th>Partner Country Code</th>\n",
       "      <th>Year</th>\n",
       "      <th>Unit</th>\n",
       "      <th>Value</th>\n",
       "      <th>Reporter Continent</th>\n",
       "      <th>Partner Continent</th>\n",
       "    </tr>\n",
       "  </thead>\n",
       "  <tbody>\n",
       "    <tr>\n",
       "      <th>0</th>\n",
       "      <td>3</td>\n",
       "      <td>3</td>\n",
       "      <td>2004</td>\n",
       "      <td>t</td>\n",
       "      <td>12.00</td>\n",
       "      <td>europe</td>\n",
       "      <td>europe</td>\n",
       "    </tr>\n",
       "    <tr>\n",
       "      <th>1</th>\n",
       "      <td>4</td>\n",
       "      <td>2</td>\n",
       "      <td>2005</td>\n",
       "      <td>t</td>\n",
       "      <td>3.00</td>\n",
       "      <td>africa</td>\n",
       "      <td>asia</td>\n",
       "    </tr>\n",
       "    <tr>\n",
       "      <th>2</th>\n",
       "      <td>3</td>\n",
       "      <td>3</td>\n",
       "      <td>2005</td>\n",
       "      <td>t</td>\n",
       "      <td>52.00</td>\n",
       "      <td>europe</td>\n",
       "      <td>europe</td>\n",
       "    </tr>\n",
       "    <tr>\n",
       "      <th>3</th>\n",
       "      <td>7</td>\n",
       "      <td>2</td>\n",
       "      <td>2022</td>\n",
       "      <td>t</td>\n",
       "      <td>25.06</td>\n",
       "      <td>africa</td>\n",
       "      <td>asia</td>\n",
       "    </tr>\n",
       "    <tr>\n",
       "      <th>4</th>\n",
       "      <td>4</td>\n",
       "      <td>2</td>\n",
       "      <td>1996</td>\n",
       "      <td>t</td>\n",
       "      <td>171.00</td>\n",
       "      <td>africa</td>\n",
       "      <td>asia</td>\n",
       "    </tr>\n",
       "  </tbody>\n",
       "</table>\n",
       "</div>"
      ],
      "text/plain": [
       "   Reporter Country Code  Partner Country Code  Year Unit   Value  \\\n",
       "0                      3                     3  2004    t   12.00   \n",
       "1                      4                     2  2005    t    3.00   \n",
       "2                      3                     3  2005    t   52.00   \n",
       "3                      7                     2  2022    t   25.06   \n",
       "4                      4                     2  1996    t  171.00   \n",
       "\n",
       "  Reporter Continent Partner Continent  \n",
       "0             europe            europe  \n",
       "1             africa              asia  \n",
       "2             europe            europe  \n",
       "3             africa              asia  \n",
       "4             africa              asia  "
      ]
     },
     "execution_count": 10,
     "metadata": {},
     "output_type": "execute_result"
    }
   ],
   "source": [
    "trade_mx.head()"
   ]
  },
  {
   "cell_type": "code",
   "execution_count": 11,
   "metadata": {},
   "outputs": [],
   "source": [
    "# Selecting and renaming the necessary columns\n",
    "trade_mx = trade_mx[['Reporter Continent', 'Partner Continent', 'Year', 'Unit', 'Value']]\n",
    "\n",
    "# Grouping by year and summing the values\n",
    "continent_mx = trade_mx.groupby(['Reporter Continent', 'Partner Continent', 'Year']).agg({'Value': 'sum'}).reset_index()"
   ]
  },
  {
   "cell_type": "code",
   "execution_count": 12,
   "metadata": {},
   "outputs": [],
   "source": [
    "# Renaming for sankey code\n",
    "continent_mx = continent_mx.rename(columns={\n",
    "    'Reporter Continent': 'target',\n",
    "    'Partner Continent': 'source',\n",
    "    'Year': 'year',\n",
    "    'Value': 'value'\n",
    "})"
   ]
  },
  {
   "cell_type": "code",
   "execution_count": 13,
   "metadata": {},
   "outputs": [],
   "source": [
    "continent_mx = continent_mx[['year', 'source', 'target', 'value']]"
   ]
  },
  {
   "cell_type": "code",
   "execution_count": 14,
   "metadata": {},
   "outputs": [],
   "source": [
    "continent_mx.to_csv(\"continent_trade_matrix.csv\", index=False)"
   ]
  },
  {
   "cell_type": "code",
   "execution_count": 15,
   "metadata": {},
   "outputs": [
    {
     "data": {
      "text/plain": [
       "target\n",
       "europe           226\n",
       "africa           225\n",
       "asia             225\n",
       "north america    223\n",
       "oceania          223\n",
       "south america    222\n",
       "Name: count, dtype: int64"
      ]
     },
     "execution_count": 15,
     "metadata": {},
     "output_type": "execute_result"
    }
   ],
   "source": [
    "continent_mx['target'].value_counts()"
   ]
  }
 ],
 "metadata": {
  "kernelspec": {
   "display_name": "Python 3",
   "language": "python",
   "name": "python3"
  },
  "language_info": {
   "codemirror_mode": {
    "name": "ipython",
    "version": 3
   },
   "file_extension": ".py",
   "mimetype": "text/x-python",
   "name": "python",
   "nbconvert_exporter": "python",
   "pygments_lexer": "ipython3",
   "version": "3.12.3"
  }
 },
 "nbformat": 4,
 "nbformat_minor": 2
}
