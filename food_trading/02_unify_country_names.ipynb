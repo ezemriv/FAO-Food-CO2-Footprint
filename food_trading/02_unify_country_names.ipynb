{
 "cells": [
  {
   "cell_type": "markdown",
   "metadata": {},
   "source": [
    "# Unifying country names\n",
    "\n",
    "### Trading matrix data:\n",
    "Country names and codes are in data\\FAOSTAT\\clean_data\\area_country_codes.csv\n",
    "\n",
    "### country_to_continent data:\n",
    "I made this data with ChatGPT. Missing \"Venezuela\" for instance.\n",
    "\n",
    "### Geopandas countries:\n",
    "I downloaded the geopandas countries data from https://www.naturalearthdata.com/downloads/10m-cultural-vectors/10m-admin-0-countries-2/\n",
    "\n",
    "\n",
    "**Will convert everything to lower case and try to match everything to geopandas\n"
   ]
  },
  {
   "cell_type": "code",
   "execution_count": 218,
   "metadata": {},
   "outputs": [],
   "source": [
    "import csv\n",
    "from geopy.distance import great_circle\n",
    "import pandas as pd\n",
    "import numpy as np\n",
    "import geopandas as gpd"
   ]
  },
  {
   "cell_type": "code",
   "execution_count": 219,
   "metadata": {},
   "outputs": [],
   "source": [
    "fao_countries = pd.read_csv(r\"..\\data\\FAOSTAT\\clean_data\\fao_country_codes_corrected.csv\", encoding=\"ISO-8859-1\")\n",
    "countries_df = pd.read_csv(r\"..\\data\\FAOSTAT\\clean_data\\food_trading\\country_to_continent.csv\") #initial csv done with ChatGPT\n",
    "geopandas_countries = pd.read_csv(r\"..\\data\\FAOSTAT\\clean_data\\geopandas_countries.csv\")"
   ]
  },
  {
   "cell_type": "code",
   "execution_count": 220,
   "metadata": {},
   "outputs": [
    {
     "name": "stdout",
     "output_type": "stream",
     "text": [
      "\n",
      "    Area Code         Area\n",
      "0          1      Armenia\n",
      "1          2  Afghanistan\n",
      "2          3      Albania\n",
      "3          4      Algeria\n",
      "4          7       Angola\n",
      "\n",
      "   Continent      Country           Capital   Latitude  Longitude\n",
      "0      Asia  Afghanistan             Kabul  34.526000  69.181000\n",
      "1    Europe      Albania            Tirana  41.327500  19.818900\n",
      "2    Africa      Algeria           Algiers  36.737232   3.086472\n",
      "3    Europe      Andorra  Andorra la Vella  42.506300   1.521800\n",
      "4    Africa       Angola            Luanda  -8.839988  13.289437\n",
      "\n",
      "        continent                   country\n",
      "0        oceania                      fiji\n",
      "1         africa                  tanzania\n",
      "2         africa                 w. sahara\n",
      "3  north america                    canada\n",
      "4  north america  united states of america\n"
     ]
    }
   ],
   "source": [
    "datasets = [fao_countries, countries_df, geopandas_countries]\n",
    "\n",
    "for table in datasets:\n",
    "    print('\\n', table.head())"
   ]
  },
  {
   "cell_type": "code",
   "execution_count": 221,
   "metadata": {},
   "outputs": [],
   "source": [
    "def get_categorical(df):\n",
    "  \"\"\"\n",
    "  Identifies categorical columns in a DataFrame\n",
    "\n",
    "  Args:\n",
    "      df (pandas.DataFrame): The DataFrame to identify categorical columns in\n",
    "\n",
    "  Returns:\n",
    "      list: A list containing the names of categorical columns\n",
    "  \"\"\"\n",
    "  l_cat = []\n",
    "  for col in df.columns:\n",
    "    if df[col].dtype.kind == 'O':  # Check for object dtype (categorical)\n",
    "      l_cat.append(col)\n",
    "  return l_cat"
   ]
  },
  {
   "cell_type": "code",
   "execution_count": 222,
   "metadata": {},
   "outputs": [],
   "source": [
    "# Convert to lower case every object column in all tables\n",
    "for table in datasets:\n",
    "    for col in table.columns:\n",
    "        if col in get_categorical(table):\n",
    "            table[col] = table[col].astype(str).str.lower()\n"
   ]
  },
  {
   "cell_type": "markdown",
   "metadata": {},
   "source": [
    "## I will focus in keeping country codes from fao_countries but only countries in geopandas which is cleaner"
   ]
  },
  {
   "cell_type": "code",
   "execution_count": 223,
   "metadata": {},
   "outputs": [],
   "source": [
    "fao_countries = fao_countries[fao_countries['Area Code'] < 1000] # This are regions. I exclude from cleaning"
   ]
  },
  {
   "cell_type": "code",
   "execution_count": 224,
   "metadata": {},
   "outputs": [],
   "source": [
    "fao_list = fao_countries['Area'].tolist()\n",
    "fao_list.sort()"
   ]
  },
  {
   "cell_type": "code",
   "execution_count": 225,
   "metadata": {},
   "outputs": [],
   "source": [
    "mycountries_list = countries_df['Country'].tolist()\n",
    "mycountries_list.sort()"
   ]
  },
  {
   "cell_type": "code",
   "execution_count": 226,
   "metadata": {},
   "outputs": [],
   "source": [
    "geopandas_list = geopandas_countries['country'].tolist()\n",
    "geopandas_list.sort()"
   ]
  },
  {
   "cell_type": "code",
   "execution_count": 227,
   "metadata": {},
   "outputs": [
    {
     "name": "stdout",
     "output_type": "stream",
     "text": [
      "220\n",
      "225\n",
      "177\n"
     ]
    }
   ],
   "source": [
    "print(len(fao_list))\n",
    "\n",
    "print(len(mycountries_list))\n",
    "\n",
    "print(len(geopandas_list))\n",
    "\n",
    "#220\n",
    "#203\n",
    "#177"
   ]
  },
  {
   "cell_type": "code",
   "execution_count": 228,
   "metadata": {},
   "outputs": [
    {
     "name": "stdout",
     "output_type": "stream",
     "text": [
      "cã´te d'ivoire\n",
      "johnston island\n",
      "midway island\n",
      "svalbard and jan mayen islands\n",
      "yugoslav sfr\n"
     ]
    }
   ],
   "source": [
    "for i in fao_list:\n",
    "    if i not in mycountries_list:\n",
    "        print(i)"
   ]
  },
  {
   "cell_type": "code",
   "execution_count": 229,
   "metadata": {},
   "outputs": [
    {
     "name": "stdout",
     "output_type": "stream",
     "text": [
      "antigua and barbuda\n",
      "bahrain\n",
      "barbados\n",
      "bouvet island\n",
      "cabo verde\n",
      "canton and enderbury islands\n",
      "comoros\n",
      "cook islands\n",
      "czechoslovakia\n",
      "cã´te d'ivoire\n",
      "dominica\n",
      "faroe islands\n",
      "french polynesia\n",
      "grenada\n",
      "guadeloupe\n",
      "heard and mcdonald islands\n",
      "johnston island\n",
      "kiribati\n",
      "maldives\n",
      "malta\n",
      "marshall islands\n",
      "martinique\n",
      "mauritius\n",
      "micronesia (federated states of)\n",
      "midway island\n",
      "monaco\n",
      "nauru\n",
      "niue\n",
      "réunion\n",
      "saint kitts and nevis\n",
      "saint lucia\n",
      "saint vincent and the grenadines\n",
      "samoa\n",
      "sao tome and principe\n",
      "serbia and montenegro\n",
      "seychelles\n",
      "singapore\n",
      "south georgia and the south sandwich islands\n",
      "svalbard and jan mayen islands\n",
      "tokelau\n",
      "tonga\n",
      "tuvalu\n",
      "ussr\n",
      "wake island\n",
      "yugoslav sfr\n"
     ]
    }
   ],
   "source": [
    "for i in fao_list:\n",
    "    if i not in geopandas_list:\n",
    "        print(i)"
   ]
  },
  {
   "cell_type": "markdown",
   "metadata": {},
   "source": [
    "# Complete myconuntry dataframe to calculate distances"
   ]
  },
  {
   "cell_type": "code",
   "execution_count": 230,
   "metadata": {},
   "outputs": [],
   "source": [
    "merged_df = pd.merge(countries_df, fao_countries, how='outer', left_on='Country', right_on='Area')\n"
   ]
  },
  {
   "cell_type": "code",
   "execution_count": 231,
   "metadata": {},
   "outputs": [],
   "source": [
    "missing = merged_df[merged_df['Country'].isnull() & merged_df['Area'].notnull()]"
   ]
  },
  {
   "cell_type": "code",
   "execution_count": 232,
   "metadata": {},
   "outputs": [
    {
     "data": {
      "text/html": [
       "<div>\n",
       "<style scoped>\n",
       "    .dataframe tbody tr th:only-of-type {\n",
       "        vertical-align: middle;\n",
       "    }\n",
       "\n",
       "    .dataframe tbody tr th {\n",
       "        vertical-align: top;\n",
       "    }\n",
       "\n",
       "    .dataframe thead th {\n",
       "        text-align: right;\n",
       "    }\n",
       "</style>\n",
       "<table border=\"1\" class=\"dataframe\">\n",
       "  <thead>\n",
       "    <tr style=\"text-align: right;\">\n",
       "      <th></th>\n",
       "      <th>Continent</th>\n",
       "      <th>Country</th>\n",
       "      <th>Capital</th>\n",
       "      <th>Latitude</th>\n",
       "      <th>Longitude</th>\n",
       "      <th>Area Code</th>\n",
       "      <th>Area</th>\n",
       "    </tr>\n",
       "  </thead>\n",
       "  <tbody>\n",
       "    <tr>\n",
       "      <th>51</th>\n",
       "      <td>NaN</td>\n",
       "      <td>NaN</td>\n",
       "      <td>NaN</td>\n",
       "      <td>NaN</td>\n",
       "      <td>NaN</td>\n",
       "      <td>107.0</td>\n",
       "      <td>cã´te d'ivoire</td>\n",
       "    </tr>\n",
       "    <tr>\n",
       "      <th>104</th>\n",
       "      <td>NaN</td>\n",
       "      <td>NaN</td>\n",
       "      <td>NaN</td>\n",
       "      <td>NaN</td>\n",
       "      <td>NaN</td>\n",
       "      <td>111.0</td>\n",
       "      <td>johnston island</td>\n",
       "    </tr>\n",
       "    <tr>\n",
       "      <th>133</th>\n",
       "      <td>NaN</td>\n",
       "      <td>NaN</td>\n",
       "      <td>NaN</td>\n",
       "      <td>NaN</td>\n",
       "      <td>NaN</td>\n",
       "      <td>139.0</td>\n",
       "      <td>midway island</td>\n",
       "    </tr>\n",
       "    <tr>\n",
       "      <th>202</th>\n",
       "      <td>NaN</td>\n",
       "      <td>NaN</td>\n",
       "      <td>NaN</td>\n",
       "      <td>NaN</td>\n",
       "      <td>NaN</td>\n",
       "      <td>260.0</td>\n",
       "      <td>svalbard and jan mayen islands</td>\n",
       "    </tr>\n",
       "    <tr>\n",
       "      <th>235</th>\n",
       "      <td>NaN</td>\n",
       "      <td>NaN</td>\n",
       "      <td>NaN</td>\n",
       "      <td>NaN</td>\n",
       "      <td>NaN</td>\n",
       "      <td>248.0</td>\n",
       "      <td>yugoslav sfr</td>\n",
       "    </tr>\n",
       "  </tbody>\n",
       "</table>\n",
       "</div>"
      ],
      "text/plain": [
       "    Continent Country Capital  Latitude  Longitude  Area Code  \\\n",
       "51        NaN     NaN     NaN       NaN        NaN      107.0   \n",
       "104       NaN     NaN     NaN       NaN        NaN      111.0   \n",
       "133       NaN     NaN     NaN       NaN        NaN      139.0   \n",
       "202       NaN     NaN     NaN       NaN        NaN      260.0   \n",
       "235       NaN     NaN     NaN       NaN        NaN      248.0   \n",
       "\n",
       "                               Area  \n",
       "51                   cã´te d'ivoire  \n",
       "104                 johnston island  \n",
       "133                   midway island  \n",
       "202  svalbard and jan mayen islands  \n",
       "235                    yugoslav sfr  "
      ]
     },
     "execution_count": 232,
     "metadata": {},
     "output_type": "execute_result"
    }
   ],
   "source": [
    "missing #after completing"
   ]
  }
 ],
 "metadata": {
  "kernelspec": {
   "display_name": "Python 3",
   "language": "python",
   "name": "python3"
  },
  "language_info": {
   "codemirror_mode": {
    "name": "ipython",
    "version": 3
   },
   "file_extension": ".py",
   "mimetype": "text/x-python",
   "name": "python",
   "nbconvert_exporter": "python",
   "pygments_lexer": "ipython3",
   "version": "3.12.3"
  }
 },
 "nbformat": 4,
 "nbformat_minor": 2
}
