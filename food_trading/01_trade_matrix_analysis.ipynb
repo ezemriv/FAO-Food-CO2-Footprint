{
 "cells": [
  {
   "cell_type": "markdown",
   "metadata": {},
   "source": [
    "# Trade full matrix\n",
    "**Full table was open in colab and cleaned cause it was 7GB**\n",
    "\n",
    "### Table name:\n",
    "Trade: Detailed trade matrix\n",
    "\n",
    "### Metadata:\n",
    "The dataset contains all food and agricultural products imported and exported during the reference year by country. In addition to the individual country data, other item and country aggregates are disseminated. The processed trade data is essential for the compilation of Supply/Utilization Accounts (SUA) and Food Balance Sheets (FBS). \n",
    "\n",
    " This source data is checked for outliers, trade partner data is used for non-reporting countries or missing cells, and data on food aid is added to take into account total cross-border trade flows. \n",
    " \n",
    " The trade database includes the following variables: export quantity, export value, import quantity, and import value.\n",
    " \n",
    " https://fenixservices.fao.org/faostat/static/bulkdownloads/Trade_DetailedTradeMatrix_E_All_Data_(Normalized).zip\n"
   ]
  },
  {
   "cell_type": "markdown",
   "metadata": {},
   "source": [
    "# EDA"
   ]
  },
  {
   "cell_type": "code",
   "execution_count": 2,
   "metadata": {},
   "outputs": [],
   "source": [
    "import pandas as pd\n",
    "import numpy as np\n",
    "from ydata_profiling import ProfileReport"
   ]
  },
  {
   "cell_type": "code",
   "execution_count": 5,
   "metadata": {},
   "outputs": [],
   "source": [
    "trade_mx = pd.read_csv(\"trade_matrix_import_only.csv\")"
   ]
  },
  {
   "cell_type": "code",
   "execution_count": 7,
   "metadata": {},
   "outputs": [
    {
     "name": "stdout",
     "output_type": "stream",
     "text": [
      "<class 'pandas.core.frame.DataFrame'>\n",
      "RangeIndex: 10000000 entries, 0 to 9999999\n",
      "Data columns (total 16 columns):\n",
      " #   Column                       Dtype  \n",
      "---  ------                       -----  \n",
      " 0   Reporter Country Code        int64  \n",
      " 1   Reporter Country Code (M49)  object \n",
      " 2   Reporter Countries           object \n",
      " 3   Partner Country Code         int64  \n",
      " 4   Partner Country Code (M49)   object \n",
      " 5   Partner Countries            object \n",
      " 6   Item Code                    int64  \n",
      " 7   Item Code (CPC)              object \n",
      " 8   Item                         object \n",
      " 9   Element Code                 int64  \n",
      " 10  Element                      object \n",
      " 11  Year Code                    int64  \n",
      " 12  Year                         int64  \n",
      " 13  Unit                         object \n",
      " 14  Value                        float64\n",
      " 15  Flag                         object \n",
      "dtypes: float64(1), int64(6), object(9)\n",
      "memory usage: 1.2+ GB\n"
     ]
    }
   ],
   "source": [
    "trade_mx.info()"
   ]
  },
  {
   "cell_type": "markdown",
   "metadata": {},
   "source": [
    "## Searching for Asparagus (should be air-freighted)"
   ]
  },
  {
   "cell_type": "code",
   "execution_count": 10,
   "metadata": {},
   "outputs": [],
   "source": [
    "sparag_rows = trade_mx_sample[trade_mx_sample['Item'].str.contains(\"sparag\")]"
   ]
  },
  {
   "cell_type": "code",
   "execution_count": null,
   "metadata": {},
   "outputs": [
    {
     "data": {
      "text/html": [
       "<div>\n",
       "<style scoped>\n",
       "    .dataframe tbody tr th:only-of-type {\n",
       "        vertical-align: middle;\n",
       "    }\n",
       "\n",
       "    .dataframe tbody tr th {\n",
       "        vertical-align: top;\n",
       "    }\n",
       "\n",
       "    .dataframe thead th {\n",
       "        text-align: right;\n",
       "    }\n",
       "</style>\n",
       "<table border=\"1\" class=\"dataframe\">\n",
       "  <thead>\n",
       "    <tr style=\"text-align: right;\">\n",
       "      <th></th>\n",
       "      <th>Reporter Country Code</th>\n",
       "      <th>Reporter Countries</th>\n",
       "      <th>Partner Country Code</th>\n",
       "      <th>Partner Countries</th>\n",
       "      <th>Item Code</th>\n",
       "      <th>Item Code (CPC)</th>\n",
       "      <th>Item</th>\n",
       "      <th>Element Code</th>\n",
       "      <th>Element</th>\n",
       "      <th>Year</th>\n",
       "      <th>Unit</th>\n",
       "      <th>Value</th>\n",
       "      <th>Flag</th>\n",
       "    </tr>\n",
       "  </thead>\n",
       "  <tbody>\n",
       "    <tr>\n",
       "      <th>628</th>\n",
       "      <td>12</td>\n",
       "      <td>Bahamas</td>\n",
       "      <td>9</td>\n",
       "      <td>Argentina</td>\n",
       "      <td>367</td>\n",
       "      <td>'01211</td>\n",
       "      <td>Asparagus</td>\n",
       "      <td>5610</td>\n",
       "      <td>Import Quantity</td>\n",
       "      <td>2009</td>\n",
       "      <td>t</td>\n",
       "      <td>0.00</td>\n",
       "      <td>A</td>\n",
       "    </tr>\n",
       "    <tr>\n",
       "      <th>842</th>\n",
       "      <td>57</td>\n",
       "      <td>Belarus</td>\n",
       "      <td>3</td>\n",
       "      <td>Albania</td>\n",
       "      <td>367</td>\n",
       "      <td>'01211</td>\n",
       "      <td>Asparagus</td>\n",
       "      <td>5622</td>\n",
       "      <td>Import Value</td>\n",
       "      <td>2014</td>\n",
       "      <td>1000 USD</td>\n",
       "      <td>1.00</td>\n",
       "      <td>A</td>\n",
       "    </tr>\n",
       "    <tr>\n",
       "      <th>4470</th>\n",
       "      <td>7</td>\n",
       "      <td>Angola</td>\n",
       "      <td>255</td>\n",
       "      <td>Belgium</td>\n",
       "      <td>367</td>\n",
       "      <td>'01211</td>\n",
       "      <td>Asparagus</td>\n",
       "      <td>5610</td>\n",
       "      <td>Import Quantity</td>\n",
       "      <td>2021</td>\n",
       "      <td>t</td>\n",
       "      <td>0.02</td>\n",
       "      <td>A</td>\n",
       "    </tr>\n",
       "    <tr>\n",
       "      <th>6539</th>\n",
       "      <td>10</td>\n",
       "      <td>Australia</td>\n",
       "      <td>9</td>\n",
       "      <td>Argentina</td>\n",
       "      <td>367</td>\n",
       "      <td>'01211</td>\n",
       "      <td>Asparagus</td>\n",
       "      <td>5610</td>\n",
       "      <td>Import Quantity</td>\n",
       "      <td>2013</td>\n",
       "      <td>t</td>\n",
       "      <td>3.00</td>\n",
       "      <td>A</td>\n",
       "    </tr>\n",
       "    <tr>\n",
       "      <th>11114</th>\n",
       "      <td>13</td>\n",
       "      <td>Bahrain</td>\n",
       "      <td>10</td>\n",
       "      <td>Australia</td>\n",
       "      <td>367</td>\n",
       "      <td>'01211</td>\n",
       "      <td>Asparagus</td>\n",
       "      <td>5610</td>\n",
       "      <td>Import Quantity</td>\n",
       "      <td>2004</td>\n",
       "      <td>t</td>\n",
       "      <td>0.00</td>\n",
       "      <td>A</td>\n",
       "    </tr>\n",
       "  </tbody>\n",
       "</table>\n",
       "</div>"
      ],
      "text/plain": [
       "       Reporter Country Code Reporter Countries  Partner Country Code  \\\n",
       "628                       12            Bahamas                     9   \n",
       "842                       57            Belarus                     3   \n",
       "4470                       7             Angola                   255   \n",
       "6539                      10          Australia                     9   \n",
       "11114                     13            Bahrain                    10   \n",
       "\n",
       "      Partner Countries  Item Code Item Code (CPC)       Item  Element Code  \\\n",
       "628           Argentina        367          '01211  Asparagus          5610   \n",
       "842             Albania        367          '01211  Asparagus          5622   \n",
       "4470            Belgium        367          '01211  Asparagus          5610   \n",
       "6539          Argentina        367          '01211  Asparagus          5610   \n",
       "11114         Australia        367          '01211  Asparagus          5610   \n",
       "\n",
       "               Element  Year      Unit  Value Flag  \n",
       "628    Import Quantity  2009         t   0.00    A  \n",
       "842       Import Value  2014  1000 USD   1.00    A  \n",
       "4470   Import Quantity  2021         t   0.02    A  \n",
       "6539   Import Quantity  2013         t   3.00    A  \n",
       "11114  Import Quantity  2004         t   0.00    A  "
      ]
     },
     "execution_count": 11,
     "metadata": {},
     "output_type": "execute_result"
    }
   ],
   "source": [
    "sparag_rows.head()"
   ]
  },
  {
   "cell_type": "markdown",
   "metadata": {},
   "source": [
    "## Keeping only: Imports in units of weight or number"
   ]
  },
  {
   "cell_type": "code",
   "execution_count": 12,
   "metadata": {},
   "outputs": [],
   "source": [
    "trade_mx_sample = trade_mx_sample[trade_mx_sample['Unit'] != '1000 USD']\n",
    "trade_mx_sample = trade_mx_sample[trade_mx_sample['Element'] == 'Import Quantity']"
   ]
  },
  {
   "cell_type": "code",
   "execution_count": 13,
   "metadata": {},
   "outputs": [
    {
     "data": {
      "text/plain": [
       "Item\n",
       "Bees    603\n",
       "Name: count, dtype: int64"
      ]
     },
     "execution_count": 13,
     "metadata": {},
     "output_type": "execute_result"
    }
   ],
   "source": [
    "trade_mx_sample[trade_mx_sample['Unit'] == 'No']['Item'].value_counts()"
   ]
  }
 ],
 "metadata": {
  "kernelspec": {
   "display_name": "Python 3",
   "language": "python",
   "name": "python3"
  },
  "language_info": {
   "codemirror_mode": {
    "name": "ipython",
    "version": 3
   },
   "file_extension": ".py",
   "mimetype": "text/x-python",
   "name": "python",
   "nbconvert_exporter": "python",
   "pygments_lexer": "ipython3",
   "version": "3.12.3"
  }
 },
 "nbformat": 4,
 "nbformat_minor": 2
}
