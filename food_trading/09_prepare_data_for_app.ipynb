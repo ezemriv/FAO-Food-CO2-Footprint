{
 "cells": [
  {
   "cell_type": "markdown",
   "metadata": {},
   "source": [
    "# Prepare data for simple flask application"
   ]
  },
  {
   "cell_type": "code",
   "execution_count": 1,
   "metadata": {},
   "outputs": [],
   "source": [
    "import pandas as pd\n",
    "import numpy as np"
   ]
  },
  {
   "cell_type": "code",
   "execution_count": 2,
   "metadata": {},
   "outputs": [],
   "source": [
    "trade_mx = pd.read_parquet(r'..\\data\\FAOSTAT\\clean_data\\food_trading\\trade_matrix_carbon_footprint_v4.parquet')\n",
    "trade_mx = trade_mx[trade_mx['Year'] == 2021]"
   ]
  },
  {
   "cell_type": "code",
   "execution_count": 3,
   "metadata": {},
   "outputs": [],
   "source": [
    "cols_trade = ['Reporter Country Code',\n",
    " 'Partner Country Code',\n",
    " 'Item Code',\n",
    " 'Value_tons',\n",
    " 'distance_in_km',\n",
    " 'same_continent',\n",
    " 'share_border',\n",
    " 'transportation_method',\n",
    " 'kgCO2eq_tkm']\n",
    "\n",
    "trade_mx = trade_mx[cols_trade]\n",
    "trade_mx['by_air'] = np.where(trade_mx['transportation_method'] == 'Air', 1, 0)\n",
    "trade_mx.drop('transportation_method', axis=1, inplace=True)"
   ]
  },
  {
   "cell_type": "code",
   "execution_count": 4,
   "metadata": {},
   "outputs": [
    {
     "data": {
      "text/html": [
       "<div>\n",
       "<style scoped>\n",
       "    .dataframe tbody tr th:only-of-type {\n",
       "        vertical-align: middle;\n",
       "    }\n",
       "\n",
       "    .dataframe tbody tr th {\n",
       "        vertical-align: top;\n",
       "    }\n",
       "\n",
       "    .dataframe thead th {\n",
       "        text-align: right;\n",
       "    }\n",
       "</style>\n",
       "<table border=\"1\" class=\"dataframe\">\n",
       "  <thead>\n",
       "    <tr style=\"text-align: right;\">\n",
       "      <th></th>\n",
       "      <th>Area Code</th>\n",
       "      <th>Continent</th>\n",
       "      <th>Country</th>\n",
       "      <th>Capital</th>\n",
       "      <th>Latitude</th>\n",
       "      <th>Longitude</th>\n",
       "    </tr>\n",
       "  </thead>\n",
       "  <tbody>\n",
       "    <tr>\n",
       "      <th>0</th>\n",
       "      <td>1</td>\n",
       "      <td>europe</td>\n",
       "      <td>armenia</td>\n",
       "      <td>yerevan</td>\n",
       "      <td>40.183300</td>\n",
       "      <td>44.516700</td>\n",
       "    </tr>\n",
       "    <tr>\n",
       "      <th>1</th>\n",
       "      <td>2</td>\n",
       "      <td>asia</td>\n",
       "      <td>afghanistan</td>\n",
       "      <td>kabul</td>\n",
       "      <td>34.526000</td>\n",
       "      <td>69.181000</td>\n",
       "    </tr>\n",
       "    <tr>\n",
       "      <th>2</th>\n",
       "      <td>3</td>\n",
       "      <td>europe</td>\n",
       "      <td>albania</td>\n",
       "      <td>tirana</td>\n",
       "      <td>41.327500</td>\n",
       "      <td>19.818900</td>\n",
       "    </tr>\n",
       "    <tr>\n",
       "      <th>3</th>\n",
       "      <td>4</td>\n",
       "      <td>africa</td>\n",
       "      <td>algeria</td>\n",
       "      <td>algiers</td>\n",
       "      <td>36.737232</td>\n",
       "      <td>3.086472</td>\n",
       "    </tr>\n",
       "    <tr>\n",
       "      <th>4</th>\n",
       "      <td>7</td>\n",
       "      <td>africa</td>\n",
       "      <td>angola</td>\n",
       "      <td>luanda</td>\n",
       "      <td>-8.839988</td>\n",
       "      <td>13.289437</td>\n",
       "    </tr>\n",
       "  </tbody>\n",
       "</table>\n",
       "</div>"
      ],
      "text/plain": [
       "   Area Code Continent      Country  Capital   Latitude  Longitude\n",
       "0          1    europe      armenia  yerevan  40.183300  44.516700\n",
       "1          2      asia  afghanistan    kabul  34.526000  69.181000\n",
       "2          3    europe      albania   tirana  41.327500  19.818900\n",
       "3          4    africa      algeria  algiers  36.737232   3.086472\n",
       "4          7    africa       angola   luanda  -8.839988  13.289437"
      ]
     },
     "execution_count": 4,
     "metadata": {},
     "output_type": "execute_result"
    }
   ],
   "source": [
    "coords = pd.read_csv(r\"..\\data\\FAOSTAT\\clean_data\\food_trading\\country_to_continent_codes.csv\")\n",
    "coords.head()"
   ]
  },
  {
   "cell_type": "code",
   "execution_count": 5,
   "metadata": {},
   "outputs": [],
   "source": [
    "new_items_df = pd.read_csv(r'..\\data\\FAOSTAT\\clean_data\\food_codes_categorized_final.csv', encoding = 'ISO-8859-1')"
   ]
  },
  {
   "cell_type": "code",
   "execution_count": 6,
   "metadata": {},
   "outputs": [],
   "source": [
    "trade_mx = pd.merge(trade_mx, new_items_df[['Item_Code', 'Item']], \n",
    "                               left_on='Item Code', right_on='Item_Code', how='inner')"
   ]
  },
  {
   "cell_type": "code",
   "execution_count": 7,
   "metadata": {},
   "outputs": [],
   "source": [
    "coors_cols = ['Area Code', 'Continent', 'Country']\n",
    "\n",
    "trade_mx = trade_mx.merge(coords[coors_cols], left_on='Partner Country Code', right_on='Area Code', how='left')\n",
    "trade_mx.drop('Area Code', axis=1, inplace=True)\n",
    "trade_mx.rename(columns={'Continent': 'Continent_source',\n",
    "                         'Country': 'Country_source'}, inplace=True)"
   ]
  },
  {
   "cell_type": "code",
   "execution_count": 8,
   "metadata": {},
   "outputs": [],
   "source": [
    "trade_mx = trade_mx.merge(coords[coors_cols], left_on='Reporter Country Code', right_on='Area Code', how='left')\n",
    "trade_mx.drop('Area Code', axis=1, inplace=True)\n",
    "trade_mx.rename(columns={'Continent': 'Continent_target',\n",
    "                            'Country': 'Country_target'}, inplace=True)"
   ]
  },
  {
   "cell_type": "code",
   "execution_count": 15,
   "metadata": {},
   "outputs": [
    {
     "data": {
      "text/plain": [
       "437"
      ]
     },
     "execution_count": 15,
     "metadata": {},
     "output_type": "execute_result"
    }
   ],
   "source": [
    "trade_mx.Item.nunique()"
   ]
  },
  {
   "cell_type": "markdown",
   "metadata": {},
   "source": [
    "# Export top items list for homepage selection list"
   ]
  },
  {
   "cell_type": "code",
   "execution_count": 26,
   "metadata": {},
   "outputs": [
    {
     "name": "stdout",
     "output_type": "stream",
     "text": [
      "100\n",
      "['bananas', 'soya beans', 'cassava; dry', 'tomatoes', 'palm oil', 'wheat', 'oranges', 'plantains and cooking bananas', 'grapes', 'pineapples', 'maize (corn)', 'beer of barley; malted', 'avocados', 'chillies and peppers; green (capsicum spp. and pimenta spp.)', 'other tropical fruits; n.e.c.', 'tangerines; mandarins; clementines', 'starch of cassava', 'cucumbers and gherkins', 'meat of chickens; fresh or chilled', 'mangoes; guavas and mangosteens', 'lemons and limes', 'pomelos and grapefruits', 'watermelons', 'meat of pig with the bone; fresh or chilled', 'cheese from whole cow milk', 'cake of soya beans', 'other fruits; n.e.c.', 'juice of pineapples; concentrated', 'pineapple juice', 'rice; broken', 'raw cane or beet sugar (centrifugal only)', 'pumpkins; squash and gourds', 'sorghum', 'blueberries', 'cabbages', 'onions and shallots; dry (excluding dehydrated)', 'barley', 'asparagus', 'lettuce and chicory', 'vegetables frozen', 'rice; milled', 'cranberries', 'cake of palm kernel', 'cake of rapeseed', 'pastry', 'other vegetables; fresh n.e.c.', 'cantaloupes and other melons', 'other fructose and syrup', 'rice', 'carrots and turnips', 'other berries and fruits of the genus vaccinium n.e.c.', 'rapeseed or canola oil; crude', 'sunflower-seed oil; crude', 'potatoes; frozen', 'other non-alcoholic caloric beverages', 'potatoes', 'strawberries', 'raspberries', 'soya bean oil', 'bran of wheat', 'sugar and syrups n.e.c.', 'green garlic', 'meat of cattle boneless; fresh or chilled', 'refined sugar', 'apples', 'papayas', 'rape or colza seed', 'oil of castor beans', 'fruit prepared n.e.c.', 'meat of turkeys; fresh or chilled', 'malt; whether or not roasted', 'cake; oilseeds nes', 'orange juice; concentrated', 'cashew nuts; in shell', 'linseed', 'edible offal of pigs; fresh; chilled or frozen', 'molasses', 'beans; dry', 'coconuts; in shell', 'peas; dry', 'sugar confectionery', 'bran of cereals n.e.c.', 'industrial monocarboxylic fatty acids; acid oils from refining', 'oats', 'peaches and nectarines', 'yoghurt', 'food preparations n.e.c.', 'raw milk of cattle', 'wine', 'meat of cattle with the bone; fresh or chilled', 'cake of sunflower seed', 'cattle', 'undenatured ethyl alcohol of an alcoholic strength by volume of less than 80% vol; spirits; liqueurs and other spirituous beverages', 'dates', 'oil of palm kernel', 'green corn (maize)', 'cauliflowers and broccoli', 'flour of maize', 'wheat and meslin flour', 'tomatoes; peeled (o/t vinegar)']\n"
     ]
    }
   ],
   "source": [
    "top_items = trade_mx.groupby(['Country_target', 'Item'])['kgCO2eq_tkm'].max().reset_index().\\\n",
    "    sort_values('kgCO2eq_tkm', ascending=False)\n",
    "\n",
    "food_items = top_items.head(440)['Item'].unique().tolist()\n",
    "print(len(food_items))\n",
    "print(food_items)"
   ]
  },
  {
   "cell_type": "code",
   "execution_count": 27,
   "metadata": {},
   "outputs": [],
   "source": [
    "# Convert to desired format\n",
    "import json\n",
    "json_data = {\n",
    "    \"food_items\": [\n",
    "        {\"value\": item.lower(), \"label\": item.title()} for item in food_items\n",
    "    ]\n",
    "}\n",
    "\n",
    "# Export to JSON file (e.g., \"food_items.json\")\n",
    "with open(\"food_items.json\", \"w\") as json_file:\n",
    "    json.dump(json_data, json_file, indent=4)  # indent for readability"
   ]
  },
  {
   "cell_type": "markdown",
   "metadata": {},
   "source": [
    "# Export flask app data"
   ]
  },
  {
   "cell_type": "code",
   "execution_count": 11,
   "metadata": {},
   "outputs": [],
   "source": [
    "trade_mx = trade_mx.iloc[:,3:]"
   ]
  },
  {
   "cell_type": "code",
   "execution_count": 13,
   "metadata": {},
   "outputs": [],
   "source": [
    "trade_mx['Item'] = trade_mx['Item'].apply(lambda x: x.lower())"
   ]
  },
  {
   "cell_type": "code",
   "execution_count": 14,
   "metadata": {},
   "outputs": [],
   "source": [
    "trade_mx.to_parquet('../data/trade_mx_app.parquet', index=False)"
   ]
  },
  {
   "cell_type": "code",
   "execution_count": 161,
   "metadata": {},
   "outputs": [
    {
     "name": "stderr",
     "output_type": "stream",
     "text": [
      "C:\\Users\\UX433F\\AppData\\Local\\Temp\\ipykernel_13192\\3515297440.py:6: SettingWithCopyWarning: \n",
      "A value is trying to be set on a copy of a slice from a DataFrame\n",
      "\n",
      "See the caveats in the documentation: https://pandas.pydata.org/pandas-docs/stable/user_guide/indexing.html#returning-a-view-versus-a-copy\n",
      "  filtered_df.sort_values('Value_tons', ascending=False, inplace=True)\n"
     ]
    },
    {
     "data": {
      "text/html": [
       "<div>\n",
       "<style scoped>\n",
       "    .dataframe tbody tr th:only-of-type {\n",
       "        vertical-align: middle;\n",
       "    }\n",
       "\n",
       "    .dataframe tbody tr th {\n",
       "        vertical-align: top;\n",
       "    }\n",
       "\n",
       "    .dataframe thead th {\n",
       "        text-align: right;\n",
       "    }\n",
       "</style>\n",
       "<table border=\"1\" class=\"dataframe\">\n",
       "  <thead>\n",
       "    <tr style=\"text-align: right;\">\n",
       "      <th></th>\n",
       "      <th>Value_tons</th>\n",
       "      <th>distance_in_km</th>\n",
       "      <th>same_continent</th>\n",
       "      <th>share_border</th>\n",
       "      <th>kgCO2eq_tkm</th>\n",
       "      <th>by_air</th>\n",
       "      <th>Item_Code</th>\n",
       "      <th>Item</th>\n",
       "      <th>Continent_source</th>\n",
       "      <th>Country_source</th>\n",
       "      <th>Continent_target</th>\n",
       "      <th>Country_target</th>\n",
       "    </tr>\n",
       "  </thead>\n",
       "  <tbody>\n",
       "    <tr>\n",
       "      <th>17976</th>\n",
       "      <td>4601769.12</td>\n",
       "      <td>1039.568365</td>\n",
       "      <td>1</td>\n",
       "      <td>1.0</td>\n",
       "      <td>9.567707e+08</td>\n",
       "      <td>0</td>\n",
       "      <td>236</td>\n",
       "      <td>Soya beans</td>\n",
       "      <td>south america</td>\n",
       "      <td>paraguay</td>\n",
       "      <td>south america</td>\n",
       "      <td>argentina</td>\n",
       "    </tr>\n",
       "    <tr>\n",
       "      <th>7135</th>\n",
       "      <td>218176.89</td>\n",
       "      <td>2336.787789</td>\n",
       "      <td>1</td>\n",
       "      <td>1.0</td>\n",
       "      <td>1.019666e+08</td>\n",
       "      <td>0</td>\n",
       "      <td>236</td>\n",
       "      <td>Soya beans</td>\n",
       "      <td>south america</td>\n",
       "      <td>brazil</td>\n",
       "      <td>south america</td>\n",
       "      <td>argentina</td>\n",
       "    </tr>\n",
       "    <tr>\n",
       "      <th>4321</th>\n",
       "      <td>28068.79</td>\n",
       "      <td>1859.291672</td>\n",
       "      <td>1</td>\n",
       "      <td>1.0</td>\n",
       "      <td>1.043761e+07</td>\n",
       "      <td>0</td>\n",
       "      <td>236</td>\n",
       "      <td>Soya beans</td>\n",
       "      <td>south america</td>\n",
       "      <td>bolivia</td>\n",
       "      <td>south america</td>\n",
       "      <td>argentina</td>\n",
       "    </tr>\n",
       "    <tr>\n",
       "      <th>20883</th>\n",
       "      <td>16050.90</td>\n",
       "      <td>208.300837</td>\n",
       "      <td>1</td>\n",
       "      <td>1.0</td>\n",
       "      <td>6.686832e+05</td>\n",
       "      <td>0</td>\n",
       "      <td>236</td>\n",
       "      <td>Soya beans</td>\n",
       "      <td>south america</td>\n",
       "      <td>uruguay</td>\n",
       "      <td>south america</td>\n",
       "      <td>argentina</td>\n",
       "    </tr>\n",
       "    <tr>\n",
       "      <th>20407</th>\n",
       "      <td>1263.52</td>\n",
       "      <td>8396.571025</td>\n",
       "      <td>0</td>\n",
       "      <td>0.0</td>\n",
       "      <td>1.060924e+05</td>\n",
       "      <td>0</td>\n",
       "      <td>236</td>\n",
       "      <td>Soya beans</td>\n",
       "      <td>north america</td>\n",
       "      <td>united states of america</td>\n",
       "      <td>south america</td>\n",
       "      <td>argentina</td>\n",
       "    </tr>\n",
       "    <tr>\n",
       "      <th>8617</th>\n",
       "      <td>0.83</td>\n",
       "      <td>9067.594487</td>\n",
       "      <td>0</td>\n",
       "      <td>0.0</td>\n",
       "      <td>7.526103e+01</td>\n",
       "      <td>0</td>\n",
       "      <td>236</td>\n",
       "      <td>Soya beans</td>\n",
       "      <td>north america</td>\n",
       "      <td>canada</td>\n",
       "      <td>south america</td>\n",
       "      <td>argentina</td>\n",
       "    </tr>\n",
       "    <tr>\n",
       "      <th>15893</th>\n",
       "      <td>0.56</td>\n",
       "      <td>11154.520218</td>\n",
       "      <td>0</td>\n",
       "      <td>0.0</td>\n",
       "      <td>6.246531e+01</td>\n",
       "      <td>0</td>\n",
       "      <td>236</td>\n",
       "      <td>Soya beans</td>\n",
       "      <td>europe</td>\n",
       "      <td>italy</td>\n",
       "      <td>south america</td>\n",
       "      <td>argentina</td>\n",
       "    </tr>\n",
       "    <tr>\n",
       "      <th>10282</th>\n",
       "      <td>0.07</td>\n",
       "      <td>1135.709448</td>\n",
       "      <td>1</td>\n",
       "      <td>1.0</td>\n",
       "      <td>1.589993e+01</td>\n",
       "      <td>0</td>\n",
       "      <td>236</td>\n",
       "      <td>Soya beans</td>\n",
       "      <td>south america</td>\n",
       "      <td>chile</td>\n",
       "      <td>south america</td>\n",
       "      <td>argentina</td>\n",
       "    </tr>\n",
       "  </tbody>\n",
       "</table>\n",
       "</div>"
      ],
      "text/plain": [
       "       Value_tons  distance_in_km  same_continent  share_border   kgCO2eq_tkm  \\\n",
       "17976  4601769.12     1039.568365               1           1.0  9.567707e+08   \n",
       "7135    218176.89     2336.787789               1           1.0  1.019666e+08   \n",
       "4321     28068.79     1859.291672               1           1.0  1.043761e+07   \n",
       "20883    16050.90      208.300837               1           1.0  6.686832e+05   \n",
       "20407     1263.52     8396.571025               0           0.0  1.060924e+05   \n",
       "8617         0.83     9067.594487               0           0.0  7.526103e+01   \n",
       "15893        0.56    11154.520218               0           0.0  6.246531e+01   \n",
       "10282        0.07     1135.709448               1           1.0  1.589993e+01   \n",
       "\n",
       "       by_air  Item_Code        Item Continent_source  \\\n",
       "17976       0        236  Soya beans    south america   \n",
       "7135        0        236  Soya beans    south america   \n",
       "4321        0        236  Soya beans    south america   \n",
       "20883       0        236  Soya beans    south america   \n",
       "20407       0        236  Soya beans    north america   \n",
       "8617        0        236  Soya beans    north america   \n",
       "15893       0        236  Soya beans           europe   \n",
       "10282       0        236  Soya beans    south america   \n",
       "\n",
       "                 Country_source Continent_target Country_target  \n",
       "17976                  paraguay    south america      argentina  \n",
       "7135                     brazil    south america      argentina  \n",
       "4321                    bolivia    south america      argentina  \n",
       "20883                   uruguay    south america      argentina  \n",
       "20407  united states of america    south america      argentina  \n",
       "8617                     canada    south america      argentina  \n",
       "15893                     italy    south america      argentina  \n",
       "10282                     chile    south america      argentina  "
      ]
     },
     "execution_count": 161,
     "metadata": {},
     "output_type": "execute_result"
    }
   ],
   "source": [
    "item = 'Soya beans'\n",
    "country_target = 'argentina'\n",
    "\n",
    "# Filter the DataFrame for the specified country and item\n",
    "filtered_df = trade_mx[(trade_mx['Country_target'] == country_target) & (trade_mx['Item'] == item)]\n",
    "filtered_df.sort_values('Value_tons', ascending=False, inplace=True)\n",
    "filtered_df"
   ]
  },
  {
   "cell_type": "code",
   "execution_count": 171,
   "metadata": {},
   "outputs": [
    {
     "name": "stdout",
     "output_type": "stream",
     "text": [
      "GOOD! You are eating local\n"
     ]
    }
   ],
   "source": [
    "def find_top_sources(df, country_target, item):\n",
    "    # Filter the DataFrame for the specified country and item\n",
    "    filtered_df = df[(df['Country_target'] == country_target) & (df['Item'] == item)]\n",
    "    \n",
    "    if filtered_df.empty:\n",
    "        return None, 0, 0\n",
    "\n",
    "    # Calculate the total weight of the item imported from each source country\n",
    "    total_weight = filtered_df['Value_tons'].sum()\n",
    "    \n",
    "    # Calculate the total weight of the item imported from each source country\n",
    "    source_weights = filtered_df.groupby('Country_source')['Value_tons'].sum().sort_values(ascending=False)\n",
    "    \n",
    "    # Calculate the probability for each Country_source based on the weight\n",
    "    source_probabilities = source_weights / total_weight\n",
    "    \n",
    "    # Filter for countries with individual probability higher than 20%\n",
    "    top_sources = source_probabilities[source_probabilities > 0.20].head(3)\n",
    "    \n",
    "    if top_sources.empty:\n",
    "        return None, 0, 0\n",
    "\n",
    "    # Check if all distances for the top sources are less than 2000 km\n",
    "    top_countries = top_sources.index\n",
    "    top_distances = filtered_df[filtered_df['Country_source'].isin(top_countries)]['distance_in_km']\n",
    "    \n",
    "    if (top_distances < 2000).all() or country_target in top_countries:\n",
    "        print(\"GOOD! You are eating local\")\n",
    "        return None, 0, 0\n",
    "\n",
    "    # Calculate the summed probability of the selected countries\n",
    "    summed_probability = top_sources.sum()\n",
    "    \n",
    "    # Calculate the mean CO2 emissions for the selected countries\n",
    "    mean_co2_emissions = filtered_df[filtered_df['Country_source'].isin(top_countries)]['kgCO2eq_tkm'].mean()\n",
    "    \n",
    "    return top_sources, summed_probability, mean_co2_emissions\n",
    "\n",
    "# Example usage:\n",
    "# Assuming you have a DataFrame named `trade_mx`\n",
    "country_target = 'argentina'\n",
    "item = 'Soya beans'\n",
    "top_sources, summed_probability, mean_co2 = find_top_sources(trade_mx, country_target, item)\n",
    "\n",
    "if top_sources is not None:\n",
    "    if len(top_sources) == 3:\n",
    "        sources_text = f\"{top_sources.index[0]}, {top_sources.index[1]} or {top_sources.index[2]}\"\n",
    "    elif len(top_sources) == 2:\n",
    "        sources_text = f\"{top_sources.index[0]} or {top_sources.index[1]}\"\n",
    "    else:  # len(top_sources) == 1\n",
    "        sources_text = top_sources.index[0]\n",
    "    \n",
    "    sources_text = sources_text.upper()\n",
    "    # Print the source(s), probability, and formatted CO2 emissions\n",
    "    print(f\"Look out! With a probability of {summed_probability*100:.2f}%, your food is probably coming from\\n{sources_text}.\")\n",
    "\n",
    "    # Format CO2 emissions in millions of kg\n",
    "    mean_co2_million_kg = mean_co2 / 1e6  \n",
    "    print(f\"That generates approximately {mean_co2_million_kg:.2f} million kg of CO2!!\")\n"
   ]
  }
 ],
 "metadata": {
  "kernelspec": {
   "display_name": "Python 3",
   "language": "python",
   "name": "python3"
  },
  "language_info": {
   "codemirror_mode": {
    "name": "ipython",
    "version": 3
   },
   "file_extension": ".py",
   "mimetype": "text/x-python",
   "name": "python",
   "nbconvert_exporter": "python",
   "pygments_lexer": "ipython3",
   "version": "3.12.3"
  }
 },
 "nbformat": 4,
 "nbformat_minor": 2
}
