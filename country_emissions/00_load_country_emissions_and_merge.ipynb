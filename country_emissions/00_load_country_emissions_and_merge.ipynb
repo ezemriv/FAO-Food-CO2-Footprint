{
 "cells": [
  {
   "attachments": {
    "image.png": {
     "image/png": "[encoded data removed]"
    }
   },
   "cell_type": "markdown",
   "metadata": {},
   "source": [
    "# Merge country emissions tables to create \"country emissions dataset\"\n",
    "\n",
    "Selected tables come from \"eze_tables_explore\\03_identify_tables_type.ipynb\":\n",
    "\n",
    "![image.png](attachment:image.png)\n",
    "\n",
    "Tables nr are:\n",
    "- 11\n",
    "- 13\n",
    "- 14\n",
    "- 15\n",
    "- 17\n",
    "- 18"
   ]
  },
  {
   "cell_type": "code",
   "execution_count": 1,
   "metadata": {},
   "outputs": [],
   "source": [
    "import pandas as pd\n",
    "import numpy as np\n",
    "import zipfile\n",
    "import io\n",
    "import os\n",
    "\n",
    "#supress warnings\n",
    "import warnings\n",
    "warnings.filterwarnings('ignore')"
   ]
  },
  {
   "cell_type": "code",
   "execution_count": 2,
   "metadata": {},
   "outputs": [],
   "source": [
    "def load_fao_table(table_number, path):\n",
    "    # Loop through all files in the directory\n",
    "    for filename in os.listdir(path):\n",
    "        # Extract the number from the start of the filename\n",
    "        file_number_str = filename.split('-')[0]\n",
    "        try:\n",
    "            file_number = int(file_number_str)\n",
    "            # Check if the number matches the table number\n",
    "            if file_number == table_number:\n",
    "                full_path = os.path.join(path, filename)\n",
    "\n",
    "                if filename.endswith(\".zip\"):\n",
    "                    # Open the zip file\n",
    "                    with zipfile.ZipFile(full_path, 'r') as zip_ref:\n",
    "                        # Iterate through the file names in the zip archive\n",
    "                        for file_name in zip_ref.namelist():\n",
    "                            # Check if the file name contains the pattern \"All_Data_\" and ends with .csv\n",
    "                            if \"All_Data\" in file_name and file_name.endswith(\".csv\"):\n",
    "                                # Read the CSV file into a DataFrame\n",
    "                                with zip_ref.open(file_name) as file:\n",
    "                                    return pd.read_csv(file, encoding=\"ISO-8859-1\")\n",
    "\n",
    "                elif filename.endswith(\".csv\"):\n",
    "                    # Read the CSV file into a DataFrame\n",
    "                    return pd.read_csv(full_path, encoding=\"ISO-8859-1\")\n",
    "\n",
    "        except ValueError:\n",
    "            # Handle the case where the filename doesn't start with a valid number\n",
    "            continue\n",
    "    \n",
    "    # Return None if no matching file is found\n",
    "    return None"
   ]
  },
  {
   "cell_type": "markdown",
   "metadata": {},
   "source": [
    "## Load country tables and extract features\n",
    "\n",
    "Iterate through selected country emissions tables and extract features to create \"country emissions dataset\""
   ]
  },
  {
   "cell_type": "code",
   "execution_count": 3,
   "metadata": {},
   "outputs": [],
   "source": [
    "directory = r'../data/FAOSTAT/all_raw'"
   ]
  },
  {
   "cell_type": "code",
   "execution_count": 4,
   "metadata": {},
   "outputs": [],
   "source": [
    "# selected_tables = [11, 13] # merged first"
   ]
  },
  {
   "cell_type": "markdown",
   "metadata": {},
   "source": [
    "# Update 28-08-2024\n",
    "\n",
    "Only use table 18"
   ]
  },
  {
   "cell_type": "code",
   "execution_count": 5,
   "metadata": {},
   "outputs": [],
   "source": [
    "selected_tables = [18] #[15, 17, 18] #14 is redundant with 18 (table of totals)"
   ]
  },
  {
   "cell_type": "code",
   "execution_count": 6,
   "metadata": {},
   "outputs": [],
   "source": [
    "selected_items = [\n",
    "    # 'Total Energy',\n",
    "    # 'Grassland organic soils',\n",
    "    # 'Cropland organic soils',\n",
    "    # 'Drained organic soils',\n",
    "    # 'Forestland',\n",
    "    # 'Net Forest conversion',\n",
    "    # 'Agrifood Systems Waste Disposal',\n",
    "    # 'Energy Use (Pre- and Post-Production)',\n",
    "    # 'Fertilizers Manufacturing',\n",
    "    # 'Food Household Consumption',\n",
    "    # 'Food Packaging',\n",
    "    # 'Food Processing',\n",
    "    # 'Food Retail',\n",
    "    # 'Food Transport',\n",
    "    # 'Pre- and Post- Production',\n",
    "    # 'Solid Food Waste',\n",
    "    'Crop Residues',                       # table 18\n",
    "    'Rice Cultivation',                    # table 18\n",
    "    'Burning - Crop residues',             # table 18\n",
    "    'Enteric Fermentation',                # table 18\n",
    "    'Manure Management',                   # table 18\n",
    "    'Manure left on Pasture',              # table 18\n",
    "    'Manure applied to Soils',             # table 18\n",
    "    'Synthetic Fertilizers',               # table 18\n",
    "    'Forestland',                          # table 18\n",
    "    'Net Forest conversion',               # table 18\n",
    "    'Savanna fires',                       # table 18\n",
    "    'Fires in organic soils',              # table 18\n",
    "    'Forest fires',                        # table 18\n",
    "    'Fires in humid tropical forests',     # table 18\n",
    "    'Agrifood Systems Waste Disposal',     # table 18\n",
    "    'Fertilizers Manufacturing',           # table 18\n",
    "    'Food Retail',                         # table 18\n",
    "    'Food Household Consumption',          # table 18\n",
    "    'Food Transport',                      # table 18\n",
    "    'Waste',                               # table 18\n",
    "    'Agrifood systems',                    # table 18\n",
    "    'Farm gate',                           # table 18\n",
    "    'Land Use change',                     # table 18\n",
    "    'Pre- and Post- Production',           # table 18\n",
    "    'Emissions on agricultural land',      # table 18\n",
    "    'Emissions from crops',                # table 18\n",
    "    'Emissions from livestock',            # table 18\n",
    "    'Agricultural Soils',                  # table 18\n",
    "    'Pesticides Manufacturing',            # table 18\n",
    "    'Food Processing',                     # table 18\n",
    "    'Food Packaging'                       # table 18\n",
    "]\n",
    "\n",
    "selected_elements = [\n",
    "    'Energy use in agriculture',\n",
    "    'Area',\n",
    "    'Net stock change (C)',\n",
    "    'Net emissions/removals (CO2) (Forest land)',\n",
    "    'Energy Use (Total)',\n",
    "    'Emissions (CO2eq) (AR5)'\n",
    "]"
   ]
  },
  {
   "cell_type": "code",
   "execution_count": 7,
   "metadata": {},
   "outputs": [],
   "source": [
    "merged_df = pd.DataFrame()\n",
    "\n",
    "for table in selected_tables:\n",
    "    # Load the data\n",
    "    df = load_fao_table(table, directory)\n",
    "\n",
    "    # Select items defined in the beginning\n",
    "    df = df[df['Item'].isin(selected_items)]\n",
    "\n",
    "    # Select elements defined in the beginning\n",
    "    df = df[df['Element'].isin(selected_elements)]\n",
    "    \n",
    "    # Replace spaces and commas in column names\n",
    "    cols_with_spaces = ['Item', 'Element', 'Unit']\n",
    "    for col in cols_with_spaces:\n",
    "        df[col] = df[col].str.replace(' ', '_').str.replace(',', '_')\n",
    "\n",
    "    # Combine 'Element' and 'Unit' columns\n",
    "    df['Element'] = df['Item'] + \"_\" + df['Element'] + \"_\" + df['Unit']\n",
    "\n",
    "    # Group by Area, Year, Item, and Element, then sum the values\n",
    "    grouped = df.groupby(['Area Code', 'Area', 'Year', 'Item', 'Element'])['Value'].sum().reset_index()\n",
    "\n",
    "    # Pivot the table to have combinations of Items and Elements as columns\n",
    "    pivot_df = grouped.pivot_table(index=['Area Code', 'Area', 'Year'], \n",
    "                                    columns=['Element'], \n",
    "                                    values='Value', \n",
    "                                    aggfunc='sum').reset_index()\n",
    "\n",
    "    if merged_df.empty:\n",
    "        merged_df = pivot_df\n",
    "    else:\n",
    "        merged_df = pd.merge(merged_df, pivot_df, on=['Area Code', 'Area', 'Year'], how='outer')"
   ]
  },
  {
   "cell_type": "code",
   "execution_count": 8,
   "metadata": {},
   "outputs": [
    {
     "data": {
      "text/plain": [
       "{'Drained_organic_soils_Emissions_(CO2)_kt',\n",
       " 'Solid_Food_Waste_Emissions_(CO2eq)_(AR5)_kt'}"
      ]
     },
     "execution_count": 8,
     "metadata": {},
     "output_type": "execute_result"
    }
   ],
   "source": [
    "# need_cols = [\n",
    "#         'Crop_Residues_Emissions_(CO2eq)_(AR5)_kt',\n",
    "#         'Burning_-_Crop_residues_Emissions_(CO2eq)_(AR5)_kt',\n",
    "#         'Rice_Cultivation_Emissions_(CO2eq)_(AR5)_kt',\n",
    "#         'Synthetic_Fertilizers_Emissions_(CO2eq)_(AR5)_kt',\n",
    "#         'Enteric_Fermentation_Emissions_(CO2eq)_(AR5)_kt',\n",
    "#         'Manure_Management_Emissions_(CO2eq)_(AR5)_kt',\n",
    "#         'Manure_applied_to_Soils_Emissions_(CO2eq)_(AR5)_kt',\n",
    "#         'Manure_left_on_Pasture_Emissions_(CO2eq)_(AR5)_kt',\n",
    "#         'Net_Forest_conversion_Emissions_(CO2eq)_(AR5)_kt',\n",
    "#         'Fires_in_humid_tropical_forests_Emissions_(CO2eq)_(AR5)_kt',\n",
    "#         'Fires_in_organic_soils_Emissions_(CO2eq)_(AR5)_kt',\n",
    "#         'Forest_fires_Emissions_(CO2eq)_(AR5)_kt',\n",
    "#         'Savanna_fires_Emissions_(CO2eq)_(AR5)_kt',\n",
    "#         'Drained_organic_soils_Emissions_(CO2)_kt',\n",
    "#         'Fertilizers_Manufacturing_Emissions_(CO2eq)_(AR5)_kt',\n",
    "#         'Pesticides_Manufacturing_Emissions_(CO2eq)_(AR5)_kt',\n",
    "#         'Solid_Food_Waste_Emissions_(CO2eq)_(AR5)_kt',\n",
    "#         'Food_Packaging_Emissions_(CO2eq)_(AR5)_kt',\n",
    "#         'Food_Processing_Emissions_(CO2eq)_(AR5)_kt',\n",
    "#         'Food_Retail_Emissions_(CO2eq)_(AR5)_kt',\n",
    "#         'Food_Transport_Emissions_(CO2eq)_(AR5)_kt'\n",
    "#  ]\n",
    "\n",
    "\n",
    "# set(need_cols) - set(merged_df.columns)"
   ]
  },
  {
   "cell_type": "code",
   "execution_count": 9,
   "metadata": {},
   "outputs": [],
   "source": [
    "# merged_15_17_18_df = merged_df.copy()"
   ]
  },
  {
   "cell_type": "code",
   "execution_count": 10,
   "metadata": {},
   "outputs": [],
   "source": [
    "# merged_11_13_df = merged_df.copy()"
   ]
  },
  {
   "cell_type": "code",
   "execution_count": 11,
   "metadata": {},
   "outputs": [],
   "source": [
    "# merged_11_13_df.head()"
   ]
  },
  {
   "cell_type": "code",
   "execution_count": 12,
   "metadata": {},
   "outputs": [],
   "source": [
    "# merged_15_17_18_df.head()"
   ]
  },
  {
   "cell_type": "markdown",
   "metadata": {},
   "source": [
    "Check for duplicated countries or area codes"
   ]
  },
  {
   "cell_type": "code",
   "execution_count": 10,
   "metadata": {},
   "outputs": [
    {
     "name": "stdout",
     "output_type": "stream",
     "text": [
      "Series([], Name: Area Code, dtype: int64)\n"
     ]
    }
   ],
   "source": [
    "# Group by 'Area' and 'Area Code', then count the number of unique Area Codes for each Area\n",
    "area_code_counts = merged_df.groupby('Area')['Area Code'].nunique()\n",
    "\n",
    "# Filter areas with more than one unique area code\n",
    "areas_with_multiple_codes = area_code_counts[area_code_counts > 1]\n",
    "\n",
    "# Display results\n",
    "print(areas_with_multiple_codes)"
   ]
  },
  {
   "cell_type": "markdown",
   "metadata": {},
   "source": [
    "## Final merge (emissions)"
   ]
  },
  {
   "cell_type": "code",
   "execution_count": 11,
   "metadata": {},
   "outputs": [],
   "source": [
    "# country_emissions_df = pd.merge(merged_11_13_df, merged_15_17_18_df, on=['Area Code', 'Area', 'Year'], how='outer')\n",
    "country_emissions_df = merged_df.copy()"
   ]
  },
  {
   "cell_type": "code",
   "execution_count": 12,
   "metadata": {},
   "outputs": [
    {
     "name": "stdout",
     "output_type": "stream",
     "text": [
      "<class 'pandas.core.frame.DataFrame'>\n",
      "RangeIndex: 15482 entries, 0 to 15481\n",
      "Data columns (total 34 columns):\n",
      " #   Column                                                      Non-Null Count  Dtype  \n",
      "---  ------                                                      --------------  -----  \n",
      " 0   Area Code                                                   15482 non-null  int64  \n",
      " 1   Area                                                        15482 non-null  object \n",
      " 2   Year                                                        15482 non-null  int64  \n",
      " 3   Agricultural_Soils_Emissions_(CO2eq)_(AR5)_kt               14806 non-null  float64\n",
      " 4   Agrifood_Systems_Waste_Disposal_Emissions_(CO2eq)_(AR5)_kt  8406 non-null   float64\n",
      " 5   Agrifood_systems_Emissions_(CO2eq)_(AR5)_kt                 14994 non-null  float64\n",
      " 6   Burning_-_Crop_residues_Emissions_(CO2eq)_(AR5)_kt          13355 non-null  float64\n",
      " 7   Crop_Residues_Emissions_(CO2eq)_(AR5)_kt                    13560 non-null  float64\n",
      " 8   Emissions_from_crops_Emissions_(CO2eq)_(AR5)_kt             13529 non-null  float64\n",
      " 9   Emissions_from_livestock_Emissions_(CO2eq)_(AR5)_kt         14207 non-null  float64\n",
      " 10  Emissions_on_agricultural_land_Emissions_(CO2eq)_(AR5)_kt   8598 non-null   float64\n",
      " 11  Enteric_Fermentation_Emissions_(CO2eq)_(AR5)_kt             14154 non-null  float64\n",
      " 12  Farm_gate_Emissions_(CO2eq)_(AR5)_kt                        8598 non-null   float64\n",
      " 13  Fertilizers_Manufacturing_Emissions_(CO2eq)_(AR5)_kt        3614 non-null   float64\n",
      " 14  Fires_in_humid_tropical_forests_Emissions_(CO2eq)_(AR5)_kt  8438 non-null   float64\n",
      " 15  Fires_in_organic_soils_Emissions_(CO2eq)_(AR5)_kt           8438 non-null   float64\n",
      " 16  Food_Household_Consumption_Emissions_(CO2eq)_(AR5)_kt       8075 non-null   float64\n",
      " 17  Food_Packaging_Emissions_(CO2eq)_(AR5)_kt                   5943 non-null   float64\n",
      " 18  Food_Processing_Emissions_(CO2eq)_(AR5)_kt                  5885 non-null   float64\n",
      " 19  Food_Retail_Emissions_(CO2eq)_(AR5)_kt                      7954 non-null   float64\n",
      " 20  Food_Transport_Emissions_(CO2eq)_(AR5)_kt                   8596 non-null   float64\n",
      " 21  Forest_fires_Emissions_(CO2eq)_(AR5)_kt                     8502 non-null   float64\n",
      " 22  Forestland_Emissions_(CO2eq)_(AR5)_kt                       8061 non-null   float64\n",
      " 23  Land_Use_change_Emissions_(CO2eq)_(AR5)_kt                  8566 non-null   float64\n",
      " 24  Manure_Management_Emissions_(CO2eq)_(AR5)_kt                14216 non-null  float64\n",
      " 25  Manure_applied_to_Soils_Emissions_(CO2eq)_(AR5)_kt          14207 non-null  float64\n",
      " 26  Manure_left_on_Pasture_Emissions_(CO2eq)_(AR5)_kt           14207 non-null  float64\n",
      " 27  Net_Forest_conversion_Emissions_(CO2eq)_(AR5)_kt            8058 non-null   float64\n",
      " 28  Pesticides_Manufacturing_Emissions_(CO2eq)_(AR5)_kt         7855 non-null   float64\n",
      " 29  Pre-_and_Post-_Production_Emissions_(CO2eq)_(AR5)_kt        8598 non-null   float64\n",
      " 30  Rice_Cultivation_Emissions_(CO2eq)_(AR5)_kt                 9560 non-null   float64\n",
      " 31  Savanna_fires_Emissions_(CO2eq)_(AR5)_kt                    8566 non-null   float64\n",
      " 32  Synthetic_Fertilizers_Emissions_(CO2eq)_(AR5)_kt            12885 non-null  float64\n",
      " 33  Waste_Emissions_(CO2eq)_(AR5)_kt                            7703 non-null   float64\n",
      "dtypes: float64(31), int64(2), object(1)\n",
      "memory usage: 4.0+ MB\n"
     ]
    }
   ],
   "source": [
    "country_emissions_df.info()"
   ]
  },
  {
   "cell_type": "markdown",
   "metadata": {},
   "source": [
    "## Adding other country relevant data\n",
    "\n",
    "I will add from other FAO tables:\n",
    "- Population\n",
    "- GDP\n",
    "- GDP per capita\n",
    "- Country area"
   ]
  },
  {
   "cell_type": "code",
   "execution_count": 13,
   "metadata": {},
   "outputs": [],
   "source": [
    "additional_tables = [46, 58, 56]"
   ]
  },
  {
   "cell_type": "code",
   "execution_count": 14,
   "metadata": {},
   "outputs": [],
   "source": [
    "additional_items = [\n",
    "    'Country area',\n",
    "    'Population - Est. & Proj.',\n",
    "    'Gross Domestic Product'\n",
    "]\n",
    "\n",
    "additional_elements = [\n",
    "    'Area',\n",
    "    'Total Population - Both sexes',\n",
    "    'Value US$',\n",
    "    'Annual growth US$ per capita',\n",
    "    'Value US$ per capita'\n",
    "]"
   ]
  },
  {
   "cell_type": "code",
   "execution_count": 15,
   "metadata": {},
   "outputs": [],
   "source": [
    "merged_df = pd.DataFrame()\n",
    "\n",
    "for table in additional_tables:\n",
    "    # Load the data\n",
    "    df = load_fao_table(table, directory)\n",
    "\n",
    "    # Select items defined in the beginning\n",
    "    df = df[df['Item'].isin(additional_items)]\n",
    "\n",
    "    # Select elements defined in the beginning\n",
    "    df = df[df['Element'].isin(additional_elements)]\n",
    "    \n",
    "    # Replace spaces and commas in column names\n",
    "    cols_with_spaces = ['Item', 'Element', 'Unit']\n",
    "    for col in cols_with_spaces:\n",
    "        df[col] = df[col].str.replace(' ', '_').str.replace(',', '_')\n",
    "\n",
    "    # Combine 'Element' and 'Unit' columns\n",
    "    df['Element'] = df['Item'] + \"_\" + df['Element'] + \"_\" + df['Unit']\n",
    "\n",
    "    # Group by Area, Year, Item, and Element, then sum the values\n",
    "    grouped = df.groupby(['Area Code', 'Area', 'Year', 'Item', 'Element'])['Value'].sum().reset_index()\n",
    "\n",
    "    # Pivot the table to have combinations of Items and Elements as columns\n",
    "    pivot_df = grouped.pivot_table(index=['Area Code', 'Area', 'Year'], \n",
    "                                    columns=['Element'], \n",
    "                                    values='Value', \n",
    "                                    aggfunc='sum').reset_index()\n",
    "\n",
    "    if merged_df.empty:\n",
    "        merged_df = pivot_df\n",
    "    else:\n",
    "        merged_df = pd.merge(merged_df, pivot_df, on=['Area Code', 'Area', 'Year'], how='outer')"
   ]
  },
  {
   "cell_type": "code",
   "execution_count": 16,
   "metadata": {},
   "outputs": [
    {
     "data": {
      "text/html": [
       "<div>\n",
       "<style scoped>\n",
       "    .dataframe tbody tr th:only-of-type {\n",
       "        vertical-align: middle;\n",
       "    }\n",
       "\n",
       "    .dataframe tbody tr th {\n",
       "        vertical-align: top;\n",
       "    }\n",
       "\n",
       "    .dataframe thead th {\n",
       "        text-align: right;\n",
       "    }\n",
       "</style>\n",
       "<table border=\"1\" class=\"dataframe\">\n",
       "  <thead>\n",
       "    <tr style=\"text-align: right;\">\n",
       "      <th>Element</th>\n",
       "      <th>Area Code</th>\n",
       "      <th>Area</th>\n",
       "      <th>Year</th>\n",
       "      <th>Country_area_Area_1000_ha</th>\n",
       "      <th>Population_-_Est._&amp;_Proj._Total_Population_-_Both_sexes_1000_No</th>\n",
       "      <th>Gross_Domestic_Product_Annual_growth_US$_per_capita_%</th>\n",
       "      <th>Gross_Domestic_Product_Value_US$_million_USD</th>\n",
       "      <th>Gross_Domestic_Product_Value_US$_per_capita_USD</th>\n",
       "    </tr>\n",
       "  </thead>\n",
       "  <tbody>\n",
       "    <tr>\n",
       "      <th>0</th>\n",
       "      <td>1</td>\n",
       "      <td>Armenia</td>\n",
       "      <td>1990</td>\n",
       "      <td>NaN</td>\n",
       "      <td>NaN</td>\n",
       "      <td>NaN</td>\n",
       "      <td>2301.720664</td>\n",
       "      <td>647.179931</td>\n",
       "    </tr>\n",
       "    <tr>\n",
       "      <th>1</th>\n",
       "      <td>1</td>\n",
       "      <td>Armenia</td>\n",
       "      <td>1991</td>\n",
       "      <td>NaN</td>\n",
       "      <td>NaN</td>\n",
       "      <td>-10.233892</td>\n",
       "      <td>2101.656351</td>\n",
       "      <td>580.948237</td>\n",
       "    </tr>\n",
       "    <tr>\n",
       "      <th>2</th>\n",
       "      <td>1</td>\n",
       "      <td>Armenia</td>\n",
       "      <td>1992</td>\n",
       "      <td>2974.0</td>\n",
       "      <td>3574.555</td>\n",
       "      <td>-39.711192</td>\n",
       "      <td>1251.976343</td>\n",
       "      <td>350.246770</td>\n",
       "    </tr>\n",
       "    <tr>\n",
       "      <th>3</th>\n",
       "      <td>1</td>\n",
       "      <td>Armenia</td>\n",
       "      <td>1993</td>\n",
       "      <td>2974.0</td>\n",
       "      <td>3457.349</td>\n",
       "      <td>-3.484703</td>\n",
       "      <td>1168.728174</td>\n",
       "      <td>338.041712</td>\n",
       "    </tr>\n",
       "    <tr>\n",
       "      <th>4</th>\n",
       "      <td>1</td>\n",
       "      <td>Armenia</td>\n",
       "      <td>1994</td>\n",
       "      <td>2974.0</td>\n",
       "      <td>3373.713</td>\n",
       "      <td>10.243232</td>\n",
       "      <td>1257.275245</td>\n",
       "      <td>372.668109</td>\n",
       "    </tr>\n",
       "  </tbody>\n",
       "</table>\n",
       "</div>"
      ],
      "text/plain": [
       "Element  Area Code     Area  Year  Country_area_Area_1000_ha  \\\n",
       "0                1  Armenia  1990                        NaN   \n",
       "1                1  Armenia  1991                        NaN   \n",
       "2                1  Armenia  1992                     2974.0   \n",
       "3                1  Armenia  1993                     2974.0   \n",
       "4                1  Armenia  1994                     2974.0   \n",
       "\n",
       "Element  Population_-_Est._&_Proj._Total_Population_-_Both_sexes_1000_No  \\\n",
       "0                                                      NaN                 \n",
       "1                                                      NaN                 \n",
       "2                                                 3574.555                 \n",
       "3                                                 3457.349                 \n",
       "4                                                 3373.713                 \n",
       "\n",
       "Element  Gross_Domestic_Product_Annual_growth_US$_per_capita_%  \\\n",
       "0                                                      NaN       \n",
       "1                                               -10.233892       \n",
       "2                                               -39.711192       \n",
       "3                                                -3.484703       \n",
       "4                                                10.243232       \n",
       "\n",
       "Element  Gross_Domestic_Product_Value_US$_million_USD  \\\n",
       "0                                         2301.720664   \n",
       "1                                         2101.656351   \n",
       "2                                         1251.976343   \n",
       "3                                         1168.728174   \n",
       "4                                         1257.275245   \n",
       "\n",
       "Element  Gross_Domestic_Product_Value_US$_per_capita_USD  \n",
       "0                                             647.179931  \n",
       "1                                             580.948237  \n",
       "2                                             350.246770  \n",
       "3                                             338.041712  \n",
       "4                                             372.668109  "
      ]
     },
     "execution_count": 16,
     "metadata": {},
     "output_type": "execute_result"
    }
   ],
   "source": [
    "merged_df.head()"
   ]
  },
  {
   "cell_type": "markdown",
   "metadata": {},
   "source": [
    "# Final merge"
   ]
  },
  {
   "cell_type": "code",
   "execution_count": 17,
   "metadata": {},
   "outputs": [
    {
     "data": {
      "text/plain": [
       "(15482, 39)"
      ]
     },
     "execution_count": 17,
     "metadata": {},
     "output_type": "execute_result"
    }
   ],
   "source": [
    "country_emissions_df = pd.merge(country_emissions_df, merged_df, on=['Area Code', 'Area', 'Year'], how='left')\n",
    "country_emissions_df.shape"
   ]
  },
  {
   "cell_type": "code",
   "execution_count": 18,
   "metadata": {},
   "outputs": [
    {
     "name": "stdout",
     "output_type": "stream",
     "text": [
      "Series([], Name: Area Code, dtype: int64)\n"
     ]
    }
   ],
   "source": [
    "# Group by 'Area' and 'Area Code', then count the number of unique Area Codes for each Area\n",
    "area_code_counts = country_emissions_df.groupby('Area')['Area Code'].nunique()\n",
    "\n",
    "# Filter areas with more than one unique area code\n",
    "areas_with_multiple_codes = area_code_counts[area_code_counts > 1]\n",
    "\n",
    "# Display results\n",
    "print(areas_with_multiple_codes)"
   ]
  },
  {
   "cell_type": "code",
   "execution_count": 19,
   "metadata": {},
   "outputs": [],
   "source": [
    "country_emissions_df.to_parquet(r'../data/FAOSTAT/clean_data/all_tables_processed/full_country_dataset_v1.parquet', index=False)"
   ]
  },
  {
   "cell_type": "code",
   "execution_count": null,
   "metadata": {},
   "outputs": [],
   "source": []
  }
 ],
 "metadata": {
  "kernelspec": {
   "display_name": "Python 3",
   "language": "python",
   "name": "python3"
  },
  "language_info": {
   "codemirror_mode": {
    "name": "ipython",
    "version": 3
   },
   "file_extension": ".py",
   "mimetype": "text/x-python",
   "name": "python",
   "nbconvert_exporter": "python",
   "pygments_lexer": "ipython3",
   "version": "3.12.4"
  }
 },
 "nbformat": 4,
 "nbformat_minor": 2
}
