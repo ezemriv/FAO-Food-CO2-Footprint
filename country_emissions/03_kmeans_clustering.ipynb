{
 "cells": [
  {
   "cell_type": "code",
   "execution_count": 51,
   "metadata": {},
   "outputs": [],
   "source": [
    "import pandas as pd\n",
    "import numpy as np\n",
    "from sklearn.cluster import KMeans\n",
    "import matplotlib.pyplot as plt\n",
    "import seaborn as sns"
   ]
  },
  {
   "cell_type": "markdown",
   "metadata": {},
   "source": [
    "# Load data"
   ]
  },
  {
   "cell_type": "code",
   "execution_count": 52,
   "metadata": {},
   "outputs": [],
   "source": [
    "original_data = pd.read_parquet(r'../data/FAOSTAT/clean_data/all_tables_processed/full_country_dataset_v3_TOTALS.parquet')"
   ]
  },
  {
   "cell_type": "markdown",
   "metadata": {},
   "source": [
    "# Clean up country names"
   ]
  },
  {
   "cell_type": "code",
   "execution_count": 53,
   "metadata": {},
   "outputs": [],
   "source": [
    "data = original_data.copy()\n",
    "data = data[data['Area Code'] < 1000] # Select only countries\n",
    "data.rename(columns = {'Population_-_Est._&_Proj._Total_Population_-_Both_sexes_1000_No':'Population_1000s'}, inplace = True)"
   ]
  },
  {
   "cell_type": "markdown",
   "metadata": {},
   "source": [
    "Filter geopandas countries"
   ]
  },
  {
   "cell_type": "code",
   "execution_count": 54,
   "metadata": {},
   "outputs": [
    {
     "name": "stdout",
     "output_type": "stream",
     "text": [
      "Series([], Name: Area Code, dtype: int64)\n"
     ]
    }
   ],
   "source": [
    "country_codes = pd.read_csv('../data/FAOSTAT/clean_data/fao_country_codes_corrected.csv')\n",
    "\n",
    "# Group by 'Area' and 'Area Code', then count the number of unique Area Codes for each Area\n",
    "area_code_counts = country_codes.groupby('Area')['Area Code'].nunique()\n",
    "\n",
    "# Filter areas with more than one unique area code\n",
    "areas_with_multiple_codes = area_code_counts[area_code_counts > 1]\n",
    "\n",
    "# Display results\n",
    "print(areas_with_multiple_codes)"
   ]
  },
  {
   "cell_type": "code",
   "execution_count": 55,
   "metadata": {},
   "outputs": [
    {
     "name": "stdout",
     "output_type": "stream",
     "text": [
      "Initial Nr. of Unique Countries and Country Codes: 243 | 243\n",
      "Final Nr. of Unique Countries and Country Codes: 203 | 203\n"
     ]
    }
   ],
   "source": [
    "print(f\"Initial Nr. of Unique Countries and Country Codes: {data['Area'].nunique()} | {data['Area Code'].nunique()}\")\n",
    "\n",
    "# Merge with corrected countries to filter\n",
    "data = pd.merge(data.drop('Area', axis=1), country_codes, how='left', on='Area Code')\n",
    "\n",
    "# Correct some data\n",
    "data['Area'] = np.where(data['Area Code'] == 351, 'China', data['Area'])\n",
    "data = data.dropna(subset=['Area'])\n",
    "\n",
    "# Drop USSR and Yugoslav SFR. Drop China Mainland and keep only China\n",
    "data = data[~data['Area'].isin(['USSR', 'Yugoslav SFR'])]\n",
    "data = data[data['Area Code'] != 41]\n",
    "\n",
    "# After filtering\n",
    "print(f\"Final Nr. of Unique Countries and Country Codes: {data['Area'].nunique()} | {data['Area Code'].nunique()}\")"
   ]
  },
  {
   "cell_type": "code",
   "execution_count": 56,
   "metadata": {},
   "outputs": [],
   "source": [
    "# cluster_columns = [\n",
    "#     'Fertilizers_Manufacturing_Emissions_(CO2eq)_(AR5)_kt_x',\n",
    "#     'Pesticides_Manufacturing_Emissions_(CO2eq)_(AR5)_kt_x',\n",
    "#     'Solid_Food_Waste_Emissions_(CO2eq)_(AR5)_kt',\n",
    "#     'Food_Packaging_Emissions_(CO2eq)_(AR5)_kt_y',\n",
    "#     'Food_Processing_Emissions_(CO2eq)_(AR5)_kt_y',\n",
    "#     'Food_Retail_Emissions_(CO2eq)_(AR5)_kt_y',\n",
    "#     'Food_Transport_Emissions_(CO2eq)_(AR5)_kt_y',\n",
    "#     'Net_Forest_conversion_Emissions_(CO2eq)_(AR5)_kt',\n",
    "#     'Fires_in_humid_tropical_forests_Emissions_(CO2eq)_(AR5)_kt',\n",
    "#     'Fires_in_organic_soils_Emissions_(CO2eq)_(AR5)_kt',\n",
    "#     'Forest_fires_Emissions_(CO2eq)_(AR5)_kt',\n",
    "#     'Savanna_fires_Emissions_(CO2eq)_(AR5)_kt',\n",
    "#     'Drained_organic_soils_Emissions_(CO2)_kt',\n",
    "#     \"Enteric_Fermentation_Emissions_(CO2eq)_(AR5)_kt\",\n",
    "#     \"Manure_Management_Emissions_(CO2eq)_(AR5)_kt\",\n",
    "#     \"Manure_applied_to_Soils_Emissions_(CO2eq)_(AR5)_kt\",\n",
    "#     \"Manure_left_on_Pasture_Emissions_(CO2eq)_(AR5)_kt\",\n",
    "#     'Crop_Residues_Emissions_(CO2eq)_(AR5)_kt',\n",
    "#     'Burning_-_Crop_residues_Emissions_(CO2eq)_(AR5)_kt',\n",
    "#     'Rice_Cultivation_Emissions_(CO2eq)_(AR5)_kt',\n",
    "#     'Synthetic_Fertilizers_Emissions_(CO2eq)_(AR5)_kt',    \n",
    "# ]\n",
    "\n",
    "cluster_columns = [\n",
    "    'TOTAL_CROPS_EMISSIONS_(CO2eq)_kt',\n",
    "    'TOTAL_LIVESTOCK_EMISSIONS_(CO2eq)_kt',\n",
    "    'TOTAL_LAND_USE_EMISSIONS_(CO2eq)_kt',\n",
    "    'TOTAL_POST_PROCESSING_EMISSIONS_(CO2eq)_kt'\n",
    "]\n",
    "\n",
    "core_cols = ['Area', 'Area Code', 'Population_1000s']\n",
    "group_cols = ['Area', 'Area Code']"
   ]
  },
  {
   "cell_type": "code",
   "execution_count": 57,
   "metadata": {},
   "outputs": [],
   "source": [
    "grouped_data = data[cluster_columns+core_cols].groupby(group_cols).sum().reset_index()\n",
    "grouped_data = grouped_data[grouped_data['Population_1000s'] > 0]"
   ]
  },
  {
   "cell_type": "code",
   "execution_count": 58,
   "metadata": {},
   "outputs": [
    {
     "data": {
      "text/plain": [
       "(202, 7)"
      ]
     },
     "execution_count": 58,
     "metadata": {},
     "output_type": "execute_result"
    }
   ],
   "source": [
    "grouped_data.shape"
   ]
  },
  {
   "cell_type": "code",
   "execution_count": 59,
   "metadata": {},
   "outputs": [
    {
     "data": {
      "text/plain": [
       "Area                              Area Code\n",
       "Maldives                          132          14975.7981\n",
       "French Polynesia                  70           13606.5283\n",
       "Saint Lucia                       189          10494.6158\n",
       "Sao Tome and Principe             193           9858.1131\n",
       "Tonga                             219           8473.9341\n",
       "Saint Vincent and the Grenadines  191           7217.9478\n",
       "Antigua and Barbuda               8             6516.6278\n",
       "Grenada                           86            6085.3642\n",
       "Dominica                          55            5675.9250\n",
       "Kiribati                          83            4713.0348\n",
       "Seychelles                        196           4646.1875\n",
       "Faroe Islands                     64            3732.2938\n",
       "Saint Kitts and Nevis             188           2841.6407\n",
       "Marshall Islands                  127           2381.8668\n",
       "Cook Islands                      47            1467.7416\n",
       "Monaco                            140           1425.4743\n",
       "Tuvalu                            227            692.6184\n",
       "Nauru                             148            679.5188\n",
       "Niue                              160            219.8024\n",
       "Tokelau                           218             94.8320\n",
       "dtype: float64"
      ]
     },
     "execution_count": 59,
     "metadata": {},
     "output_type": "execute_result"
    }
   ],
   "source": [
    "grouped_data = grouped_data.set_index(group_cols)\n",
    "grouped_data.sum(axis=1).sort_values(ascending=False).tail(20)"
   ]
  },
  {
   "cell_type": "code",
   "execution_count": 60,
   "metadata": {},
   "outputs": [],
   "source": [
    "# # Filter countries with low emissions\n",
    "low_emission_countries = grouped_data.sum(axis=1)[grouped_data.sum(axis=1) < 1000].index.tolist()\n",
    "grouped_data = grouped_data[~grouped_data.index.isin(low_emission_countries)]"
   ]
  },
  {
   "cell_type": "markdown",
   "metadata": {},
   "source": [
    "# Calculate also per capita emissions (Clustering done with both: total and per capita)"
   ]
  },
  {
   "cell_type": "code",
   "execution_count": 61,
   "metadata": {},
   "outputs": [],
   "source": [
    "new_cluster_cols = []\n",
    "\n",
    "for col in cluster_columns:\n",
    "    per_capita_col = f\"{col}_per-capita\"\n",
    "    grouped_data[per_capita_col] = grouped_data[col].div((grouped_data['Population_1000s']*1000))\n",
    "    new_cluster_cols.append(per_capita_col)\n",
    "    \n",
    "cluster_columns += new_cluster_cols"
   ]
  },
  {
   "cell_type": "markdown",
   "metadata": {},
   "source": [
    "# Is data normally distributed"
   ]
  },
  {
   "cell_type": "code",
   "execution_count": 62,
   "metadata": {},
   "outputs": [],
   "source": [
    "# # Original data\n",
    "# for col in grouped_data.columns.tolist()[:5]:\n",
    "#     grouped_data[col].hist()\n",
    "#     print(col)\n",
    "#     plt.show()"
   ]
  },
  {
   "cell_type": "code",
   "execution_count": 63,
   "metadata": {},
   "outputs": [],
   "source": [
    "# # Extract the selected columns\n",
    "# data_subset = grouped_data[cluster_columns]\n",
    "\n",
    "# # Apply log1p transformation\n",
    "# log1p_data_subset = np.log1p(data_subset)\n",
    "\n",
    "# # Plot histograms for each transformed column\n",
    "# for col in cluster_columns:\n",
    "#     plt.figure(figsize=(8, 4))\n",
    "#     plt.hist(log1p_data_subset[col], bins=20, edgecolor='k')\n",
    "#     plt.title(f'Histogram of log1p Transformed {col}')\n",
    "#     plt.xlabel('Value')\n",
    "#     plt.ylabel('Frequency')\n",
    "#     plt.show()\n"
   ]
  },
  {
   "cell_type": "markdown",
   "metadata": {},
   "source": [
    "# K-means with log normalization (per capita emissions)\n",
    "\n",
    "So I drop population"
   ]
  },
  {
   "cell_type": "code",
   "execution_count": 64,
   "metadata": {},
   "outputs": [],
   "source": [
    "kmeans_data = grouped_data.drop('Population_1000s', axis=1)"
   ]
  },
  {
   "cell_type": "code",
   "execution_count": 65,
   "metadata": {},
   "outputs": [
    {
     "name": "stdout",
     "output_type": "stream",
     "text": [
      "Fitting data with 2 clusters\n",
      "Fitting data with 3 clusters\n",
      "Fitting data with 4 clusters\n",
      "Fitting data with 5 clusters\n",
      "Fitting data with 6 clusters\n",
      "Fitting data with 7 clusters\n",
      "Fitting data with 8 clusters\n",
      "Fitting data with 9 clusters\n",
      "Fitting data with 10 clusters\n",
      "Fitting data with 11 clusters\n",
      "Fitting data with 12 clusters\n",
      "Fitting data with 13 clusters\n",
      "Fitting data with 14 clusters\n",
      "Fitting data with 15 clusters\n",
      "Fitting data with 16 clusters\n",
      "Fitting data with 17 clusters\n"
     ]
    },
    {
     "name": "stdout",
     "output_type": "stream",
     "text": [
      "Fitting data with 18 clusters\n",
      "Fitting data with 19 clusters\n"
     ]
    },
    {
     "data": {
      "image/png": "[encoded data removed]",
      "text/plain": [
       "<Figure size 800x400 with 1 Axes>"
      ]
     },
     "metadata": {},
     "output_type": "display_data"
    },
    {
     "name": "stdout",
     "output_type": "stream",
     "text": [
      "cluster\n",
      "0    165\n",
      "7     25\n",
      "6      2\n",
      "2      2\n",
      "3      1\n",
      "4      1\n",
      "5      1\n",
      "1      1\n",
      "Name: count, dtype: int64\n",
      "Cluster 0:\n",
      "[('Afghanistan', 2), ('Albania', 3), ('Algeria', 4), ('Angola', 7), ('Antigua and Barbuda', 8), ('Armenia', 1), ('Austria', 11), ('Azerbaijan', 52), ('Bahamas', 12), ('Bahrain', 13), ('Bangladesh', 16), ('Barbados', 14), ('Belarus', 57), ('Belgium', 255), ('Belize', 23), ('Benin', 53), ('Bhutan', 18), ('Bosnia and Herz.', 80), ('Botswana', 20), ('Brunei', 26), ('Bulgaria', 27), ('Burkina Faso', 233), ('Burundi', 29), ('Cabo Verde', 35), ('Cambodia', 115), ('Cameroon', 32), ('Central African Rep.', 37), ('Chad', 39), ('Chile', 40), ('Comoros', 45), ('Congo', 46), ('Cook Islands', 47), ('Costa Rica', 48), ('Croatia', 98), ('Cuba', 49), ('Cyprus', 50), ('Czechia', 167), ('Czechoslovakia', 51), ('Denmark', 54), ('Djibouti', 72), ('Dominica', 55), ('Dominican Rep.', 56), ('Ecuador', 58), ('Egypt', 59), ('El Salvador', 60), ('Eq. Guinea', 61), ('Eritrea', 178), ('Estonia', 63), ('Eswatini', 209), ('Faroe Islands', 64), ('Fiji', 66), ('Finland', 67), ('French Polynesia', 70), ('Gabon', 74), ('Gambia', 75), ('Georgia', 73), ('Ghana', 81), ('Greece', 84), ('Grenada', 86), ('Guadeloupe', 87), ('Guatemala', 89), ('Guinea', 90), ('Guinea-Bissau', 175), ('Guyana', 91), ('Haiti', 93), ('Honduras', 95), ('Hungary', 97), ('Iceland', 99), ('Iran', 102), ('Iraq', 103), ('Ireland', 104), ('Israel', 105), ('Jamaica', 109), ('Japan', 110), ('Jordan', 112), ('Kenya', 114), ('Kiribati', 83), ('Kuwait', 118), ('Kyrgyzstan', 113), ('Laos', 120), ('Latvia', 119), ('Lebanon', 121), ('Lesotho', 122), ('Liberia', 123), ('Libya', 124), ('Lithuania', 126), ('Luxembourg', 256), ('Madagascar', 129), ('Malawi', 130), ('Malaysia', 131), ('Maldives', 132), ('Mali', 133), ('Malta', 134), ('Marshall Islands', 127), ('Martinique', 135), ('Mauritania', 136), ('Mauritius', 137), ('Micronesia (Federated States of)', 145), ('Moldova', 146), ('Monaco', 140), ('Mongolia', 141), ('Montenegro', 273), ('Morocco', 143), ('Mozambique', 144), ('Namibia', 147), ('Nepal', 149), ('Netherlands', 150), ('New Caledonia', 153), ('Nicaragua', 157), ('Niger', 158), ('North Korea', 117), ('North Macedonia', 154), ('Norway', 162), ('Oman', 221), ('Palestine', 299), ('Panama', 166), ('Papua New Guinea', 168), ('Philippines', 171), ('Portugal', 174), ('Puerto Rico', 177), ('Qatar', 179), ('Romania', 183), ('Rwanda', 184), ('R�union', 182), ('Saint Kitts and Nevis', 188), ('Saint Lucia', 189), ('Saint Vincent and the Grenadines', 191), ('Samoa', 244), ('Sao Tome and Principe', 193), ('Saudi Arabia', 194), ('Senegal', 195), ('Serbia', 272), ('Serbia and Montenegro', 186), ('Seychelles', 196), ('Sierra Leone', 197), ('Singapore', 200), ('Slovakia', 199), ('Slovenia', 198), ('Solomon Is.', 25), ('Somalia', 201), ('South Africa', 202), ('South Korea', 116), ('Sri Lanka', 38), ('Suriname', 207), ('Sweden', 210), ('Switzerland', 211), ('Syria', 212), ('Tajikistan', 208), ('Thailand', 216), ('Timor-Leste', 176), ('Togo', 217), ('Tonga', 219), ('Trinidad and Tobago', 220), ('Tunisia', 222), ('Turkmenistan', 213), ('Uganda', 226), ('United Arab Emirates', 225), ('Uruguay', 234), ('Uzbekistan', 235), ('Vanuatu', 155), ('Vietnam', 237), ('Yemen', 249), ('Zambia', 251), ('Zimbabwe', 181), (\"côte d'ivoire\", 107)]\n",
      "\n",
      "Cluster 7:\n",
      "[('Argentina', 9), ('Bolivia', 19), ('Canada', 33), ('Colombia', 44), ('Ethiopia', 238), ('France', 68), ('Germany', 79), ('Italy', 106), ('Kazakhstan', 108), ('Mexico', 138), ('Myanmar', 28), ('New Zealand', 156), ('Nigeria', 159), ('Pakistan', 165), ('Paraguay', 169), ('Peru', 170), ('Poland', 173), ('S. Sudan', 277), ('Spain', 203), ('Sudan', 276), ('Tanzania', 215), ('Turkey', 223), ('Ukraine', 230), ('United Kingdom', 229), ('Venezuela', 236)]\n",
      "\n",
      "Cluster 6:\n",
      "[('Australia', 10), ('Russia', 185)]\n",
      "\n",
      "Cluster 3:\n",
      "[('Brazil', 21)]\n",
      "\n",
      "Cluster 4:\n",
      "[('China', 351)]\n",
      "\n",
      "Cluster 5:\n",
      "[('Dem. Rep. Congo', 250)]\n",
      "\n",
      "Cluster 2:\n",
      "[('India', 100), ('United States of America', 231)]\n",
      "\n",
      "Cluster 1:\n",
      "[('Indonesia', 101)]\n",
      "\n"
     ]
    }
   ],
   "source": [
    "# Dictionary to store SSE values\n",
    "sse = {}\n",
    "\n",
    "for k in range(2, 20):\n",
    "    print(f\"Fitting data with {k} clusters\")\n",
    "\n",
    "    kmeans = KMeans(n_clusters=k, random_state=23)\n",
    "    kmeans.fit(kmeans_data)\n",
    "\n",
    "    sse[k] = kmeans.inertia_\n",
    "\n",
    "# Plotting\n",
    "fig = plt.figure(figsize=(8, 4))\n",
    "ax = fig.add_subplot()\n",
    "\n",
    "x_values = list(sse.keys())\n",
    "y_values = list(sse.values())\n",
    "\n",
    "ax.plot(x_values, y_values, marker='o', linestyle='-', label=\"Inertia\")\n",
    "ax.set_xlabel(\"Number of clusters\")\n",
    "ax.set_ylabel(\"Inertia\")\n",
    "fig.suptitle(\"Variation of Cluster Dispersion with Number of Clusters\", fontsize=16)\n",
    "plt.legend()\n",
    "plt.show()\n",
    "\n",
    "# Apply KMeans with 10 clusters on the scaled log1p-transformed data\n",
    "kmeans = KMeans(n_clusters=8, random_state=23).fit(kmeans_data)\n",
    "\n",
    "# Add cluster labels to the DataFrame\n",
    "grouped_data['cluster'] = kmeans.labels_\n",
    "print(grouped_data['cluster'].value_counts())\n",
    "\n",
    "for cluster in grouped_data['cluster'].unique():\n",
    "    print(f\"Cluster {cluster}:\\n{grouped_data[grouped_data['cluster'] == cluster].index.tolist()}\\n\")"
   ]
  },
  {
   "cell_type": "markdown",
   "metadata": {},
   "source": [
    "# Save data for choropleth map"
   ]
  },
  {
   "cell_type": "code",
   "execution_count": 66,
   "metadata": {},
   "outputs": [],
   "source": [
    "data_with_clusters = data.copy()\n",
    "grouped_data = grouped_data.reset_index()[['Area', 'cluster']]\n",
    "\n",
    "data_with_clusters = pd.merge(data_with_clusters, grouped_data, on='Area', how='inner')\n",
    "\n",
    "data_with_clusters.to_parquet('../data/FAOSTAT/clean_data/all_tables_processed/full_country_dataset_v4_TOTALS_with_clusters.parquet', index=False)"
   ]
  },
  {
   "cell_type": "code",
   "execution_count": 67,
   "metadata": {},
   "outputs": [
    {
     "data": {
      "text/plain": [
       "198"
      ]
     },
     "execution_count": 67,
     "metadata": {},
     "output_type": "execute_result"
    }
   ],
   "source": [
    "data_with_clusters['Area'].nunique()"
   ]
  },
  {
   "cell_type": "code",
   "execution_count": null,
   "metadata": {},
   "outputs": [],
   "source": []
  }
 ],
 "metadata": {
  "kernelspec": {
   "display_name": "Python 3",
   "language": "python",
   "name": "python3"
  },
  "language_info": {
   "codemirror_mode": {
    "name": "ipython",
    "version": 3
   },
   "file_extension": ".py",
   "mimetype": "text/x-python",
   "name": "python",
   "nbconvert_exporter": "python",
   "pygments_lexer": "ipython3",
   "version": "3.12.4"
  }
 },
 "nbformat": 4,
 "nbformat_minor": 2
}
