{
 "cells": [
  {
   "cell_type": "code",
   "execution_count": 75,
   "metadata": {},
   "outputs": [],
   "source": [
    "import pandas as pd\n",
    "import numpy as np\n",
    "import warnings\n",
    "\n",
    "warnings.filterwarnings('ignore')"
   ]
  },
  {
   "cell_type": "code",
   "execution_count": 76,
   "metadata": {},
   "outputs": [],
   "source": [
    "data = pd.read_parquet(r'../data/FAOSTAT/clean_data/all_tables_processed/full_country_dataset_v2_imputed.parquet')"
   ]
  },
  {
   "cell_type": "code",
   "execution_count": 77,
   "metadata": {},
   "outputs": [
    {
     "name": "stdout",
     "output_type": "stream",
     "text": [
      "Agrifood_systems_Emissions_(CO2eq)_(AR5)_kt\n",
      "16.0362636811\n",
      "\n",
      "Farm_gate_Emissions_(CO2eq)_(AR5)_kt\n",
      "7.755712251199999\n",
      "\n",
      "Land_Use_change_Emissions_(CO2eq)_(AR5)_kt\n",
      "3.1511530507\n",
      "\n",
      "Pre-_and_Post-_Production_Emissions_(CO2eq)_(AR5)_kt\n",
      "5.1293983792\n",
      "\n"
     ]
    }
   ],
   "source": [
    "new_totals = [\n",
    "    'Agrifood_systems_Emissions_(CO2eq)_(AR5)_kt',\n",
    "    'Farm_gate_Emissions_(CO2eq)_(AR5)_kt',\n",
    "    'Land_Use_change_Emissions_(CO2eq)_(AR5)_kt',\n",
    "    'Pre-_and_Post-_Production_Emissions_(CO2eq)_(AR5)_kt',\n",
    "]\n",
    "\n",
    "world_2020 = data[(data['Year'] == 2020) & (data['Area Code'] == 5000)]\n",
    "\n",
    "for col in new_totals:\n",
    "    print(col)\n",
    "    print(world_2020[col].sum()/1e6)\n",
    "    print()"
   ]
  },
  {
   "cell_type": "code",
   "execution_count": 78,
   "metadata": {},
   "outputs": [
    {
     "data": {
      "text/html": [
       "<div>\n",
       "<style scoped>\n",
       "    .dataframe tbody tr th:only-of-type {\n",
       "        vertical-align: middle;\n",
       "    }\n",
       "\n",
       "    .dataframe tbody tr th {\n",
       "        vertical-align: top;\n",
       "    }\n",
       "\n",
       "    .dataframe thead th {\n",
       "        text-align: right;\n",
       "    }\n",
       "</style>\n",
       "<table border=\"1\" class=\"dataframe\">\n",
       "  <thead>\n",
       "    <tr style=\"text-align: right;\">\n",
       "      <th></th>\n",
       "      <th>Agricultural_Soils_Emissions_(CO2eq)_(AR5)_kt</th>\n",
       "      <th>Agrifood_Systems_Waste_Disposal_Emissions_(CO2eq)_(AR5)_kt</th>\n",
       "      <th>Agrifood_systems_Emissions_(CO2eq)_(AR5)_kt</th>\n",
       "      <th>Burning_-_Crop_residues_Emissions_(CO2eq)_(AR5)_kt</th>\n",
       "      <th>Crop_Residues_Emissions_(CO2eq)_(AR5)_kt</th>\n",
       "      <th>Emissions_from_crops_Emissions_(CO2eq)_(AR5)_kt</th>\n",
       "      <th>Emissions_from_livestock_Emissions_(CO2eq)_(AR5)_kt</th>\n",
       "      <th>Emissions_on_agricultural_land_Emissions_(CO2eq)_(AR5)_kt</th>\n",
       "      <th>Enteric_Fermentation_Emissions_(CO2eq)_(AR5)_kt</th>\n",
       "      <th>Farm_gate_Emissions_(CO2eq)_(AR5)_kt</th>\n",
       "      <th>...</th>\n",
       "      <th>Manure_left_on_Pasture_Emissions_(CO2eq)_(AR5)_kt</th>\n",
       "      <th>Net_Forest_conversion_Emissions_(CO2eq)_(AR5)_kt</th>\n",
       "      <th>Pesticides_Manufacturing_Emissions_(CO2eq)_(AR5)_kt</th>\n",
       "      <th>Pre-_and_Post-_Production_Emissions_(CO2eq)_(AR5)_kt</th>\n",
       "      <th>Rice_Cultivation_Emissions_(CO2eq)_(AR5)_kt</th>\n",
       "      <th>Savanna_fires_Emissions_(CO2eq)_(AR5)_kt</th>\n",
       "      <th>Synthetic_Fertilizers_Emissions_(CO2eq)_(AR5)_kt</th>\n",
       "      <th>Waste_Emissions_(CO2eq)_(AR5)_kt</th>\n",
       "      <th>Area</th>\n",
       "      <th>Year</th>\n",
       "    </tr>\n",
       "  </thead>\n",
       "  <tbody>\n",
       "    <tr>\n",
       "      <th>10206</th>\n",
       "      <td>1.100326e+06</td>\n",
       "      <td>0.0</td>\n",
       "      <td>6.049538e+06</td>\n",
       "      <td>29067.6810</td>\n",
       "      <td>110768.6750</td>\n",
       "      <td>749667.2448</td>\n",
       "      <td>3.339232e+06</td>\n",
       "      <td>0.0</td>\n",
       "      <td>2.320767e+06</td>\n",
       "      <td>0.0</td>\n",
       "      <td>...</td>\n",
       "      <td>510570.0675</td>\n",
       "      <td>0.0</td>\n",
       "      <td>0.0</td>\n",
       "      <td>0.0</td>\n",
       "      <td>609830.8888</td>\n",
       "      <td>0.0</td>\n",
       "      <td>334540.3725</td>\n",
       "      <td>0.0</td>\n",
       "      <td>World</td>\n",
       "      <td>1980</td>\n",
       "    </tr>\n",
       "    <tr>\n",
       "      <th>10207</th>\n",
       "      <td>1.111726e+06</td>\n",
       "      <td>0.0</td>\n",
       "      <td>6.070220e+06</td>\n",
       "      <td>29396.8739</td>\n",
       "      <td>114886.0860</td>\n",
       "      <td>756881.9595</td>\n",
       "      <td>3.367113e+06</td>\n",
       "      <td>0.0</td>\n",
       "      <td>2.342125e+06</td>\n",
       "      <td>0.0</td>\n",
       "      <td>...</td>\n",
       "      <td>516778.9645</td>\n",
       "      <td>0.0</td>\n",
       "      <td>0.0</td>\n",
       "      <td>0.0</td>\n",
       "      <td>612598.9996</td>\n",
       "      <td>0.0</td>\n",
       "      <td>335137.3645</td>\n",
       "      <td>0.0</td>\n",
       "      <td>World</td>\n",
       "      <td>1981</td>\n",
       "    </tr>\n",
       "    <tr>\n",
       "      <th>10208</th>\n",
       "      <td>1.128069e+06</td>\n",
       "      <td>0.0</td>\n",
       "      <td>6.170654e+06</td>\n",
       "      <td>28944.8315</td>\n",
       "      <td>117762.2105</td>\n",
       "      <td>745204.4212</td>\n",
       "      <td>3.402755e+06</td>\n",
       "      <td>0.0</td>\n",
       "      <td>2.368783e+06</td>\n",
       "      <td>0.0</td>\n",
       "      <td>...</td>\n",
       "      <td>523571.9215</td>\n",
       "      <td>0.0</td>\n",
       "      <td>0.0</td>\n",
       "      <td>0.0</td>\n",
       "      <td>598497.3792</td>\n",
       "      <td>0.0</td>\n",
       "      <td>340598.0340</td>\n",
       "      <td>0.0</td>\n",
       "      <td>World</td>\n",
       "      <td>1982</td>\n",
       "    </tr>\n",
       "    <tr>\n",
       "      <th>10209</th>\n",
       "      <td>1.154967e+06</td>\n",
       "      <td>0.0</td>\n",
       "      <td>6.224686e+06</td>\n",
       "      <td>28105.6744</td>\n",
       "      <td>114733.7110</td>\n",
       "      <td>742629.1522</td>\n",
       "      <td>3.422109e+06</td>\n",
       "      <td>0.0</td>\n",
       "      <td>2.383057e+06</td>\n",
       "      <td>0.0</td>\n",
       "      <td>...</td>\n",
       "      <td>525880.2570</td>\n",
       "      <td>0.0</td>\n",
       "      <td>0.0</td>\n",
       "      <td>0.0</td>\n",
       "      <td>599789.7668</td>\n",
       "      <td>0.0</td>\n",
       "      <td>367086.6125</td>\n",
       "      <td>0.0</td>\n",
       "      <td>World</td>\n",
       "      <td>1983</td>\n",
       "    </tr>\n",
       "    <tr>\n",
       "      <th>10210</th>\n",
       "      <td>1.188881e+06</td>\n",
       "      <td>0.0</td>\n",
       "      <td>6.343154e+06</td>\n",
       "      <td>29145.9957</td>\n",
       "      <td>122748.0265</td>\n",
       "      <td>760022.3822</td>\n",
       "      <td>3.444229e+06</td>\n",
       "      <td>0.0</td>\n",
       "      <td>2.397741e+06</td>\n",
       "      <td>0.0</td>\n",
       "      <td>...</td>\n",
       "      <td>526439.4600</td>\n",
       "      <td>0.0</td>\n",
       "      <td>0.0</td>\n",
       "      <td>0.0</td>\n",
       "      <td>608128.3600</td>\n",
       "      <td>0.0</td>\n",
       "      <td>390190.1605</td>\n",
       "      <td>0.0</td>\n",
       "      <td>World</td>\n",
       "      <td>1984</td>\n",
       "    </tr>\n",
       "  </tbody>\n",
       "</table>\n",
       "<p>5 rows × 33 columns</p>\n",
       "</div>"
      ],
      "text/plain": [
       "       Agricultural_Soils_Emissions_(CO2eq)_(AR5)_kt  \\\n",
       "10206                                   1.100326e+06   \n",
       "10207                                   1.111726e+06   \n",
       "10208                                   1.128069e+06   \n",
       "10209                                   1.154967e+06   \n",
       "10210                                   1.188881e+06   \n",
       "\n",
       "       Agrifood_Systems_Waste_Disposal_Emissions_(CO2eq)_(AR5)_kt  \\\n",
       "10206                                                0.0            \n",
       "10207                                                0.0            \n",
       "10208                                                0.0            \n",
       "10209                                                0.0            \n",
       "10210                                                0.0            \n",
       "\n",
       "       Agrifood_systems_Emissions_(CO2eq)_(AR5)_kt  \\\n",
       "10206                                 6.049538e+06   \n",
       "10207                                 6.070220e+06   \n",
       "10208                                 6.170654e+06   \n",
       "10209                                 6.224686e+06   \n",
       "10210                                 6.343154e+06   \n",
       "\n",
       "       Burning_-_Crop_residues_Emissions_(CO2eq)_(AR5)_kt  \\\n",
       "10206                                         29067.6810    \n",
       "10207                                         29396.8739    \n",
       "10208                                         28944.8315    \n",
       "10209                                         28105.6744    \n",
       "10210                                         29145.9957    \n",
       "\n",
       "       Crop_Residues_Emissions_(CO2eq)_(AR5)_kt  \\\n",
       "10206                               110768.6750   \n",
       "10207                               114886.0860   \n",
       "10208                               117762.2105   \n",
       "10209                               114733.7110   \n",
       "10210                               122748.0265   \n",
       "\n",
       "       Emissions_from_crops_Emissions_(CO2eq)_(AR5)_kt  \\\n",
       "10206                                      749667.2448   \n",
       "10207                                      756881.9595   \n",
       "10208                                      745204.4212   \n",
       "10209                                      742629.1522   \n",
       "10210                                      760022.3822   \n",
       "\n",
       "       Emissions_from_livestock_Emissions_(CO2eq)_(AR5)_kt  \\\n",
       "10206                                       3.339232e+06     \n",
       "10207                                       3.367113e+06     \n",
       "10208                                       3.402755e+06     \n",
       "10209                                       3.422109e+06     \n",
       "10210                                       3.444229e+06     \n",
       "\n",
       "       Emissions_on_agricultural_land_Emissions_(CO2eq)_(AR5)_kt  \\\n",
       "10206                                                0.0           \n",
       "10207                                                0.0           \n",
       "10208                                                0.0           \n",
       "10209                                                0.0           \n",
       "10210                                                0.0           \n",
       "\n",
       "       Enteric_Fermentation_Emissions_(CO2eq)_(AR5)_kt  \\\n",
       "10206                                     2.320767e+06   \n",
       "10207                                     2.342125e+06   \n",
       "10208                                     2.368783e+06   \n",
       "10209                                     2.383057e+06   \n",
       "10210                                     2.397741e+06   \n",
       "\n",
       "       Farm_gate_Emissions_(CO2eq)_(AR5)_kt  ...  \\\n",
       "10206                                   0.0  ...   \n",
       "10207                                   0.0  ...   \n",
       "10208                                   0.0  ...   \n",
       "10209                                   0.0  ...   \n",
       "10210                                   0.0  ...   \n",
       "\n",
       "       Manure_left_on_Pasture_Emissions_(CO2eq)_(AR5)_kt  \\\n",
       "10206                                        510570.0675   \n",
       "10207                                        516778.9645   \n",
       "10208                                        523571.9215   \n",
       "10209                                        525880.2570   \n",
       "10210                                        526439.4600   \n",
       "\n",
       "       Net_Forest_conversion_Emissions_(CO2eq)_(AR5)_kt  \\\n",
       "10206                                               0.0   \n",
       "10207                                               0.0   \n",
       "10208                                               0.0   \n",
       "10209                                               0.0   \n",
       "10210                                               0.0   \n",
       "\n",
       "       Pesticides_Manufacturing_Emissions_(CO2eq)_(AR5)_kt  \\\n",
       "10206                                                0.0     \n",
       "10207                                                0.0     \n",
       "10208                                                0.0     \n",
       "10209                                                0.0     \n",
       "10210                                                0.0     \n",
       "\n",
       "       Pre-_and_Post-_Production_Emissions_(CO2eq)_(AR5)_kt  \\\n",
       "10206                                                0.0      \n",
       "10207                                                0.0      \n",
       "10208                                                0.0      \n",
       "10209                                                0.0      \n",
       "10210                                                0.0      \n",
       "\n",
       "       Rice_Cultivation_Emissions_(CO2eq)_(AR5)_kt  \\\n",
       "10206                                  609830.8888   \n",
       "10207                                  612598.9996   \n",
       "10208                                  598497.3792   \n",
       "10209                                  599789.7668   \n",
       "10210                                  608128.3600   \n",
       "\n",
       "       Savanna_fires_Emissions_(CO2eq)_(AR5)_kt  \\\n",
       "10206                                       0.0   \n",
       "10207                                       0.0   \n",
       "10208                                       0.0   \n",
       "10209                                       0.0   \n",
       "10210                                       0.0   \n",
       "\n",
       "       Synthetic_Fertilizers_Emissions_(CO2eq)_(AR5)_kt  \\\n",
       "10206                                       334540.3725   \n",
       "10207                                       335137.3645   \n",
       "10208                                       340598.0340   \n",
       "10209                                       367086.6125   \n",
       "10210                                       390190.1605   \n",
       "\n",
       "       Waste_Emissions_(CO2eq)_(AR5)_kt   Area  Year  \n",
       "10206                               0.0  World  1980  \n",
       "10207                               0.0  World  1981  \n",
       "10208                               0.0  World  1982  \n",
       "10209                               0.0  World  1983  \n",
       "10210                               0.0  World  1984  \n",
       "\n",
       "[5 rows x 33 columns]"
      ]
     },
     "execution_count": 78,
     "metadata": {},
     "output_type": "execute_result"
    }
   ],
   "source": [
    "world = data[data['Area Code'] == 5000]\n",
    "emissions_cols = [col for col in world.columns if 'co2' in col.lower()]\n",
    "world = world[emissions_cols+['Area', 'Year']]\n",
    "world.head()"
   ]
  },
  {
   "cell_type": "code",
   "execution_count": 79,
   "metadata": {},
   "outputs": [],
   "source": [
    "# for col in world_2020.columns:\n",
    "#     if \"rice\" in col.lower() or \"crop\" in col.lower() or \"fert\" in col.lower() or \"farm\" in col.lower():\n",
    "#         print(col)\n",
    "#         print(world_2020[col].sum()/1e6)\n",
    "#         print()"
   ]
  },
  {
   "cell_type": "markdown",
   "metadata": {},
   "source": [
    "# CROPS"
   ]
  },
  {
   "cell_type": "code",
   "execution_count": 80,
   "metadata": {},
   "outputs": [],
   "source": [
    "# crops_partials = [\n",
    "#     'Crop_Residues_Emissions_(CO2eq)_(AR5)_kt',\n",
    "#     'Burning_-_Crop_residues_Emissions_(CO2eq)_(AR5)_kt',\n",
    "#     'Rice_Cultivation_Emissions_(CO2eq)_(AR5)_kt',\n",
    "#     'Synthetic_Fertilizers_Emissions_(CO2eq)_(AR5)_kt',\n",
    "# ]\n",
    "\n",
    "# print(f\"Total 2020: {world_2020[crops_partials].sum().sum()/1e6}\")\n",
    "# print(f\"Total all years: {world[crops_partials].sum().sum()/1e6}\")"
   ]
  },
  {
   "cell_type": "markdown",
   "metadata": {},
   "source": [
    "# LIVESTOCK"
   ]
  },
  {
   "cell_type": "code",
   "execution_count": 81,
   "metadata": {},
   "outputs": [],
   "source": [
    "# for col in world_2020.columns:\n",
    "#     if \"manure\" in col.lower() or \"enter\" in col.lower() or \"lives\" in col.lower():\n",
    "#         print(col)\n",
    "#         print(world_2020[col].sum()/1e6)\n",
    "#         print()"
   ]
  },
  {
   "cell_type": "code",
   "execution_count": 82,
   "metadata": {},
   "outputs": [],
   "source": [
    "# livestock_partials = [\n",
    "#         \"Enteric_Fermentation_Emissions_(CO2eq)_(AR5)_kt\",\n",
    "#         \"Manure_Management_Emissions_(CO2eq)_(AR5)_kt\",\n",
    "#         \"Manure_applied_to_Soils_Emissions_(CO2eq)_(AR5)_kt\",\n",
    "#         \"Manure_left_on_Pasture_Emissions_(CO2eq)_(AR5)_kt\"\n",
    "# ]"
   ]
  },
  {
   "cell_type": "code",
   "execution_count": 83,
   "metadata": {},
   "outputs": [],
   "source": [
    "# print(f\"Total 2020: {world_2020[livestock_partials].sum().sum()/1e6}\")\n",
    "# print(f\"Total all years: {world[livestock_partials].sum().sum()/1e6}\")"
   ]
  },
  {
   "cell_type": "markdown",
   "metadata": {},
   "source": [
    "# Land Use"
   ]
  },
  {
   "cell_type": "code",
   "execution_count": 84,
   "metadata": {},
   "outputs": [],
   "source": [
    "# for col in world_2020.columns:\n",
    "#     if \"forest\" in col.lower() or \"drain\" in col.lower() or \"fire\" in col.lower():\n",
    "#         print(col)\n",
    "#         print(world_2020[col].sum()/1e6)\n",
    "#         print()"
   ]
  },
  {
   "cell_type": "code",
   "execution_count": 85,
   "metadata": {},
   "outputs": [],
   "source": [
    "# land_partials = [\n",
    "#     'Net_Forest_conversion_Emissions_(CO2eq)_(AR5)_kt',\n",
    "#     'Fires_in_humid_tropical_forests_Emissions_(CO2eq)_(AR5)_kt',\n",
    "#     'Fires_in_organic_soils_Emissions_(CO2eq)_(AR5)_kt',\n",
    "#     'Forest_fires_Emissions_(CO2eq)_(AR5)_kt',\n",
    "#     'Savanna_fires_Emissions_(CO2eq)_(AR5)_kt',\n",
    "#     'Drained_organic_soils_Emissions_(CO2)_kt' ## Duda\n",
    "# ]\n",
    "\n",
    "# print(f\"Total 2020: {world_2020[land_partials].sum().sum()/1e6}\")\n",
    "# print(f\"Total all years: {world[land_partials].sum().sum()/1e6}\")"
   ]
  },
  {
   "cell_type": "markdown",
   "metadata": {},
   "source": [
    "# POST-PRODUCTION"
   ]
  },
  {
   "cell_type": "code",
   "execution_count": 86,
   "metadata": {},
   "outputs": [],
   "source": [
    "# for col in world_2020.columns:\n",
    "#     if \"food\" in col.lower() or \"house\" in col.lower() or \"manuf\" in col.lower():\n",
    "#         print(col)\n",
    "#         # print(world_2020[col].sum()/1e6)\n",
    "#         # print()"
   ]
  },
  {
   "cell_type": "code",
   "execution_count": 87,
   "metadata": {},
   "outputs": [],
   "source": [
    "# post_partials = [\n",
    "#     'Fertilizers_Manufacturing_Emissions_(CO2eq)_(AR5)_kt',\n",
    "#     'Pesticides_Manufacturing_Emissions_(CO2eq)_(AR5)_kt',\n",
    "#     'Solid_Food_Waste_Emissions_(CO2eq)_(AR5)_kt', ## Duda\n",
    "#     'Food_Packaging_Emissions_(CO2eq)_(AR5)_kt',\n",
    "#     'Food_Processing_Emissions_(CO2eq)_(AR5)_kt',\n",
    "#     'Food_Retail_Emissions_(CO2eq)_(AR5)_kt',\n",
    "#     'Food_Transport_Emissions_(CO2eq)_(AR5)_kt',\n",
    "# ]\n",
    "\n",
    "# print(f\"Total 2020: {world_2020[post_partials].sum().sum()/1e6}\")\n",
    "# print(f\"Total all years: {world[post_partials].sum().sum()/1e6}\")"
   ]
  },
  {
   "cell_type": "markdown",
   "metadata": {},
   "source": [
    "# SUM PARTIALS IN FULL DATA"
   ]
  },
  {
   "cell_type": "code",
   "execution_count": null,
   "metadata": {},
   "outputs": [],
   "source": [
    "selected_columns = ['Area', 'Year', 'Area Code', 'Population_-_Est._&_Proj._Total_Population_-_Both_sexes_1000_No'] + crops_partials + livestock_partials + land_partials + post_partials\n",
    "\n",
    "data = data[selected_columns]"
   ]
  },
  {
   "cell_type": "code",
   "execution_count": null,
   "metadata": {},
   "outputs": [],
   "source": [
    "# Initialize empty total columns\n",
    "\n",
    "total_colums = [\n",
    "    'TOTAL_CROPS_EMISSIONS_(CO2eq)_kt',\n",
    "    'TOTAL_LIVESTOCK_EMISSIONS_(CO2eq)_kt',\n",
    "    'TOTAL_LAND_USE_EMISSIONS_(CO2eq)_kt',\n",
    "    'TOTAL_POST_PROCESSING_EMISSIONS_(CO2eq)_kt'\n",
    "]"
   ]
  },
  {
   "cell_type": "code",
   "execution_count": null,
   "metadata": {},
   "outputs": [],
   "source": [
    "def create_total_emissions(df, total_column, partial_columns):\n",
    "    df[total_column] = df.groupby(['Area', 'Area Code', 'Year'])[partial_columns].transform('sum').sum(axis=1)"
   ]
  },
  {
   "cell_type": "code",
   "execution_count": null,
   "metadata": {},
   "outputs": [],
   "source": [
    "create_total_emissions(data, 'TOTAL_CROPS_EMISSIONS_(CO2eq)_kt', crops_partials)\n",
    "create_total_emissions(data, 'TOTAL_LIVESTOCK_EMISSIONS_(CO2eq)_kt', livestock_partials)\n",
    "create_total_emissions(data, 'TOTAL_LAND_USE_EMISSIONS_(CO2eq)_kt', land_partials)\n",
    "create_total_emissions(data, 'TOTAL_POST_PROCESSING_EMISSIONS_(CO2eq)_kt', post_partials)\n",
    "\n",
    "# Create a TOTAL TOTAL emissions column\n",
    "\n",
    "create_total_emissions(data, 'TOTAL_TOTAL_EMISSIONS_(CO2eq)_kt', total_colums)"
   ]
  },
  {
   "cell_type": "code",
   "execution_count": null,
   "metadata": {},
   "outputs": [],
   "source": [
    "world = data[data['Area Code'] == 5000]\n",
    "world_totals = world[total_colums+['Area', 'Year']]"
   ]
  },
  {
   "cell_type": "code",
   "execution_count": null,
   "metadata": {},
   "outputs": [
    {
     "data": {
      "text/plain": [
       "<Axes: title={'center': 'World Total Emissions'}>"
      ]
     },
     "execution_count": 21,
     "metadata": {},
     "output_type": "execute_result"
    },
    {
     "data": {
      "image/png": "[encoded data removed]",
      "text/plain": [
       "<Figure size 600x500 with 1 Axes>"
      ]
     },
     "metadata": {},
     "output_type": "display_data"
    }
   ],
   "source": [
    "world_totals[total_colums].sum().plot(kind='barh', figsize=(6, 5), title=\"World Total Emissions\")"
   ]
  },
  {
   "cell_type": "code",
   "execution_count": null,
   "metadata": {},
   "outputs": [
    {
     "data": {
      "text/plain": [
       "<Axes: title={'center': 'World Total Emissions as Percentage'}>"
      ]
     },
     "execution_count": 22,
     "metadata": {},
     "output_type": "execute_result"
    },
    {
     "data": {
      "image/png": "[encoded data removed]",
      "text/plain": [
       "<Figure size 600x500 with 1 Axes>"
      ]
     },
     "metadata": {},
     "output_type": "display_data"
    }
   ],
   "source": [
    "(world_totals[total_colums].sum() / world_totals[total_colums].sum().sum() * 100).plot(kind='barh', figsize=(6, 5), title=\"World Total Emissions as Percentage\")"
   ]
  },
  {
   "cell_type": "code",
   "execution_count": null,
   "metadata": {},
   "outputs": [
    {
     "data": {
      "text/plain": [
       "<Axes: title={'center': 'World Total Emissions as Percentage'}>"
      ]
     },
     "execution_count": 23,
     "metadata": {},
     "output_type": "execute_result"
    },
    {
     "data": {
      "image/png": "[encoded data removed]",
      "text/plain": [
       "<Figure size 600x500 with 1 Axes>"
      ]
     },
     "metadata": {},
     "output_type": "display_data"
    }
   ],
   "source": [
    "# Calculate the percentage contributions\n",
    "percentages = world_totals[total_colums].sum().divide(world_totals[total_colums].sum().sum()).mul(100)\n",
    "\n",
    "# Convert to a DataFrame with a single row\n",
    "df_percentages = pd.DataFrame(percentages).T\n",
    "\n",
    "# Plot as a single horizontal stacked bar\n",
    "df_percentages.plot(\n",
    "    kind='barh', \n",
    "    stacked=True, \n",
    "    figsize=(6, 5), \n",
    "    title=\"World Total Emissions as Percentage\",\n",
    "    legend=True  # Show legend to differentiate segments\n",
    ")\n"
   ]
  },
  {
   "cell_type": "markdown",
   "metadata": {},
   "source": [
    "# SAVE TOTALS DATAFRAME"
   ]
  },
  {
   "cell_type": "code",
   "execution_count": null,
   "metadata": {},
   "outputs": [],
   "source": [
    "data.to_parquet(r'../data/FAOSTAT/clean_data/all_tables_processed/full_country_dataset_v3_TOTALS.parquet', index = False)"
   ]
  }
 ],
 "metadata": {
  "kernelspec": {
   "display_name": "ds_312",
   "language": "python",
   "name": "python3"
  },
  "language_info": {
   "codemirror_mode": {
    "name": "ipython",
    "version": 3
   },
   "file_extension": ".py",
   "mimetype": "text/x-python",
   "name": "python",
   "nbconvert_exporter": "python",
   "pygments_lexer": "ipython3",
   "version": "3.12.4"
  }
 },
 "nbformat": 4,
 "nbformat_minor": 2
}
