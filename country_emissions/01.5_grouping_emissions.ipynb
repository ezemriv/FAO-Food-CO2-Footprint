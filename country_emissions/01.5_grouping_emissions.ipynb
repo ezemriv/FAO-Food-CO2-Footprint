{
 "cells": [
  {
   "cell_type": "markdown",
   "metadata": {},
   "source": [
    "# Understanding Emissions\n",
    "\n",
    "### Totals emissions table has several aggregated emissions columns.\n",
    "### The idea is to try to identify which ones compose the totals."
   ]
  },
  {
   "cell_type": "code",
   "execution_count": 5,
   "metadata": {},
   "outputs": [],
   "source": [
    "import pandas as pd\n",
    "import numpy as np\n",
    "import warnings\n",
    "\n",
    "warnings.filterwarnings('ignore')"
   ]
  },
  {
   "cell_type": "code",
   "execution_count": 6,
   "metadata": {},
   "outputs": [],
   "source": [
    "data = pd.read_parquet(r'../data/FAOSTAT/clean_data/all_tables_processed/full_country_dataset_v2_imputed.parquet')"
   ]
  },
  {
   "cell_type": "code",
   "execution_count": 7,
   "metadata": {},
   "outputs": [
    {
     "data": {
      "text/html": [
       "<div>\n",
       "<style scoped>\n",
       "    .dataframe tbody tr th:only-of-type {\n",
       "        vertical-align: middle;\n",
       "    }\n",
       "\n",
       "    .dataframe tbody tr th {\n",
       "        vertical-align: top;\n",
       "    }\n",
       "\n",
       "    .dataframe thead th {\n",
       "        text-align: right;\n",
       "    }\n",
       "</style>\n",
       "<table border=\"1\" class=\"dataframe\">\n",
       "  <thead>\n",
       "    <tr style=\"text-align: right;\">\n",
       "      <th></th>\n",
       "      <th>Agricultural_Soils_Emissions_(CO2eq)_(AR5)_kt</th>\n",
       "      <th>Agrifood_Systems_Waste_Disposal_Emissions_(CO2eq)_(AR5)_kt</th>\n",
       "      <th>Agrifood_systems_Emissions_(CO2eq)_(AR5)_kt</th>\n",
       "      <th>Burning_-_Crop_residues_Emissions_(CO2eq)_(AR5)_kt</th>\n",
       "      <th>Crop_Residues_Emissions_(CO2eq)_(AR5)_kt</th>\n",
       "      <th>Emissions_from_crops_Emissions_(CO2eq)_(AR5)_kt</th>\n",
       "      <th>Emissions_from_livestock_Emissions_(CO2eq)_(AR5)_kt</th>\n",
       "      <th>Emissions_on_agricultural_land_Emissions_(CO2eq)_(AR5)_kt</th>\n",
       "      <th>Enteric_Fermentation_Emissions_(CO2eq)_(AR5)_kt</th>\n",
       "      <th>Farm_gate_Emissions_(CO2eq)_(AR5)_kt</th>\n",
       "      <th>...</th>\n",
       "      <th>Manure_left_on_Pasture_Emissions_(CO2eq)_(AR5)_kt</th>\n",
       "      <th>Net_Forest_conversion_Emissions_(CO2eq)_(AR5)_kt</th>\n",
       "      <th>Pesticides_Manufacturing_Emissions_(CO2eq)_(AR5)_kt</th>\n",
       "      <th>Pre-_and_Post-_Production_Emissions_(CO2eq)_(AR5)_kt</th>\n",
       "      <th>Rice_Cultivation_Emissions_(CO2eq)_(AR5)_kt</th>\n",
       "      <th>Savanna_fires_Emissions_(CO2eq)_(AR5)_kt</th>\n",
       "      <th>Synthetic_Fertilizers_Emissions_(CO2eq)_(AR5)_kt</th>\n",
       "      <th>Waste_Emissions_(CO2eq)_(AR5)_kt</th>\n",
       "      <th>Area</th>\n",
       "      <th>Year</th>\n",
       "    </tr>\n",
       "  </thead>\n",
       "  <tbody>\n",
       "    <tr>\n",
       "      <th>7776</th>\n",
       "      <td>2.224143e+06</td>\n",
       "      <td>9.655259e+05</td>\n",
       "      <td>1.420960e+07</td>\n",
       "      <td>41367.5067</td>\n",
       "      <td>218263.7023</td>\n",
       "      <td>782003.5257</td>\n",
       "      <td>3.594373e+06</td>\n",
       "      <td>1.150055e+07</td>\n",
       "      <td>3.605310e+06</td>\n",
       "      <td>6.825791e+06</td>\n",
       "      <td>...</td>\n",
       "      <td>566816.4235</td>\n",
       "      <td>4.854423e+06</td>\n",
       "      <td>50653.2765</td>\n",
       "      <td>2.709052e+06</td>\n",
       "      <td>656261.4538</td>\n",
       "      <td>287155.4909</td>\n",
       "      <td>541383.6463</td>\n",
       "      <td>1.619973e+06</td>\n",
       "      <td>World</td>\n",
       "      <td>1990</td>\n",
       "    </tr>\n",
       "    <tr>\n",
       "      <th>7777</th>\n",
       "      <td>1.917559e+06</td>\n",
       "      <td>9.877684e+05</td>\n",
       "      <td>1.428984e+07</td>\n",
       "      <td>38628.3316</td>\n",
       "      <td>200071.8700</td>\n",
       "      <td>761825.8643</td>\n",
       "      <td>3.596599e+06</td>\n",
       "      <td>1.150059e+07</td>\n",
       "      <td>3.422780e+06</td>\n",
       "      <td>6.825831e+06</td>\n",
       "      <td>...</td>\n",
       "      <td>578365.5475</td>\n",
       "      <td>4.952209e+06</td>\n",
       "      <td>49842.5865</td>\n",
       "      <td>2.789253e+06</td>\n",
       "      <td>653932.1787</td>\n",
       "      <td>281501.4027</td>\n",
       "      <td>524788.1610</td>\n",
       "      <td>1.649017e+06</td>\n",
       "      <td>World</td>\n",
       "      <td>1991</td>\n",
       "    </tr>\n",
       "    <tr>\n",
       "      <th>7778</th>\n",
       "      <td>2.072380e+06</td>\n",
       "      <td>1.004953e+06</td>\n",
       "      <td>1.427809e+07</td>\n",
       "      <td>39388.0480</td>\n",
       "      <td>238392.9809</td>\n",
       "      <td>782189.2744</td>\n",
       "      <td>3.576217e+06</td>\n",
       "      <td>1.135634e+07</td>\n",
       "      <td>3.631193e+06</td>\n",
       "      <td>6.681581e+06</td>\n",
       "      <td>...</td>\n",
       "      <td>585885.1610</td>\n",
       "      <td>4.908834e+06</td>\n",
       "      <td>52719.7048</td>\n",
       "      <td>2.921753e+06</td>\n",
       "      <td>659836.6215</td>\n",
       "      <td>278199.4988</td>\n",
       "      <td>540532.7044</td>\n",
       "      <td>1.671899e+06</td>\n",
       "      <td>World</td>\n",
       "      <td>1992</td>\n",
       "    </tr>\n",
       "    <tr>\n",
       "      <th>7779</th>\n",
       "      <td>2.084081e+06</td>\n",
       "      <td>1.022929e+06</td>\n",
       "      <td>1.427699e+07</td>\n",
       "      <td>38308.7955</td>\n",
       "      <td>242199.5805</td>\n",
       "      <td>775191.7371</td>\n",
       "      <td>3.562762e+06</td>\n",
       "      <td>1.130564e+07</td>\n",
       "      <td>3.627881e+06</td>\n",
       "      <td>6.630884e+06</td>\n",
       "      <td>...</td>\n",
       "      <td>585940.6785</td>\n",
       "      <td>4.839817e+06</td>\n",
       "      <td>52921.9133</td>\n",
       "      <td>2.971348e+06</td>\n",
       "      <td>656726.1401</td>\n",
       "      <td>280220.3784</td>\n",
       "      <td>526357.2620</td>\n",
       "      <td>1.694048e+06</td>\n",
       "      <td>World</td>\n",
       "      <td>1993</td>\n",
       "    </tr>\n",
       "    <tr>\n",
       "      <th>7780</th>\n",
       "      <td>2.442677e+06</td>\n",
       "      <td>1.032877e+06</td>\n",
       "      <td>1.439022e+07</td>\n",
       "      <td>59458.1461</td>\n",
       "      <td>237775.0234</td>\n",
       "      <td>784024.4621</td>\n",
       "      <td>3.594485e+06</td>\n",
       "      <td>1.137659e+07</td>\n",
       "      <td>4.311138e+06</td>\n",
       "      <td>6.701834e+06</td>\n",
       "      <td>...</td>\n",
       "      <td>595420.4970</td>\n",
       "      <td>4.953919e+06</td>\n",
       "      <td>55684.7246</td>\n",
       "      <td>3.013624e+06</td>\n",
       "      <td>661524.8341</td>\n",
       "      <td>280104.4106</td>\n",
       "      <td>528098.5179</td>\n",
       "      <td>1.719603e+06</td>\n",
       "      <td>World</td>\n",
       "      <td>1994</td>\n",
       "    </tr>\n",
       "  </tbody>\n",
       "</table>\n",
       "<p>5 rows × 33 columns</p>\n",
       "</div>"
      ],
      "text/plain": [
       "      Agricultural_Soils_Emissions_(CO2eq)_(AR5)_kt  \\\n",
       "7776                                   2.224143e+06   \n",
       "7777                                   1.917559e+06   \n",
       "7778                                   2.072380e+06   \n",
       "7779                                   2.084081e+06   \n",
       "7780                                   2.442677e+06   \n",
       "\n",
       "      Agrifood_Systems_Waste_Disposal_Emissions_(CO2eq)_(AR5)_kt  \\\n",
       "7776                                       9.655259e+05            \n",
       "7777                                       9.877684e+05            \n",
       "7778                                       1.004953e+06            \n",
       "7779                                       1.022929e+06            \n",
       "7780                                       1.032877e+06            \n",
       "\n",
       "      Agrifood_systems_Emissions_(CO2eq)_(AR5)_kt  \\\n",
       "7776                                 1.420960e+07   \n",
       "7777                                 1.428984e+07   \n",
       "7778                                 1.427809e+07   \n",
       "7779                                 1.427699e+07   \n",
       "7780                                 1.439022e+07   \n",
       "\n",
       "      Burning_-_Crop_residues_Emissions_(CO2eq)_(AR5)_kt  \\\n",
       "7776                                         41367.5067    \n",
       "7777                                         38628.3316    \n",
       "7778                                         39388.0480    \n",
       "7779                                         38308.7955    \n",
       "7780                                         59458.1461    \n",
       "\n",
       "      Crop_Residues_Emissions_(CO2eq)_(AR5)_kt  \\\n",
       "7776                               218263.7023   \n",
       "7777                               200071.8700   \n",
       "7778                               238392.9809   \n",
       "7779                               242199.5805   \n",
       "7780                               237775.0234   \n",
       "\n",
       "      Emissions_from_crops_Emissions_(CO2eq)_(AR5)_kt  \\\n",
       "7776                                      782003.5257   \n",
       "7777                                      761825.8643   \n",
       "7778                                      782189.2744   \n",
       "7779                                      775191.7371   \n",
       "7780                                      784024.4621   \n",
       "\n",
       "      Emissions_from_livestock_Emissions_(CO2eq)_(AR5)_kt  \\\n",
       "7776                                       3.594373e+06     \n",
       "7777                                       3.596599e+06     \n",
       "7778                                       3.576217e+06     \n",
       "7779                                       3.562762e+06     \n",
       "7780                                       3.594485e+06     \n",
       "\n",
       "      Emissions_on_agricultural_land_Emissions_(CO2eq)_(AR5)_kt  \\\n",
       "7776                                       1.150055e+07           \n",
       "7777                                       1.150059e+07           \n",
       "7778                                       1.135634e+07           \n",
       "7779                                       1.130564e+07           \n",
       "7780                                       1.137659e+07           \n",
       "\n",
       "      Enteric_Fermentation_Emissions_(CO2eq)_(AR5)_kt  \\\n",
       "7776                                     3.605310e+06   \n",
       "7777                                     3.422780e+06   \n",
       "7778                                     3.631193e+06   \n",
       "7779                                     3.627881e+06   \n",
       "7780                                     4.311138e+06   \n",
       "\n",
       "      Farm_gate_Emissions_(CO2eq)_(AR5)_kt  ...  \\\n",
       "7776                          6.825791e+06  ...   \n",
       "7777                          6.825831e+06  ...   \n",
       "7778                          6.681581e+06  ...   \n",
       "7779                          6.630884e+06  ...   \n",
       "7780                          6.701834e+06  ...   \n",
       "\n",
       "      Manure_left_on_Pasture_Emissions_(CO2eq)_(AR5)_kt  \\\n",
       "7776                                        566816.4235   \n",
       "7777                                        578365.5475   \n",
       "7778                                        585885.1610   \n",
       "7779                                        585940.6785   \n",
       "7780                                        595420.4970   \n",
       "\n",
       "      Net_Forest_conversion_Emissions_(CO2eq)_(AR5)_kt  \\\n",
       "7776                                      4.854423e+06   \n",
       "7777                                      4.952209e+06   \n",
       "7778                                      4.908834e+06   \n",
       "7779                                      4.839817e+06   \n",
       "7780                                      4.953919e+06   \n",
       "\n",
       "      Pesticides_Manufacturing_Emissions_(CO2eq)_(AR5)_kt  \\\n",
       "7776                                         50653.2765     \n",
       "7777                                         49842.5865     \n",
       "7778                                         52719.7048     \n",
       "7779                                         52921.9133     \n",
       "7780                                         55684.7246     \n",
       "\n",
       "      Pre-_and_Post-_Production_Emissions_(CO2eq)_(AR5)_kt  \\\n",
       "7776                                       2.709052e+06      \n",
       "7777                                       2.789253e+06      \n",
       "7778                                       2.921753e+06      \n",
       "7779                                       2.971348e+06      \n",
       "7780                                       3.013624e+06      \n",
       "\n",
       "      Rice_Cultivation_Emissions_(CO2eq)_(AR5)_kt  \\\n",
       "7776                                  656261.4538   \n",
       "7777                                  653932.1787   \n",
       "7778                                  659836.6215   \n",
       "7779                                  656726.1401   \n",
       "7780                                  661524.8341   \n",
       "\n",
       "      Savanna_fires_Emissions_(CO2eq)_(AR5)_kt  \\\n",
       "7776                               287155.4909   \n",
       "7777                               281501.4027   \n",
       "7778                               278199.4988   \n",
       "7779                               280220.3784   \n",
       "7780                               280104.4106   \n",
       "\n",
       "      Synthetic_Fertilizers_Emissions_(CO2eq)_(AR5)_kt  \\\n",
       "7776                                       541383.6463   \n",
       "7777                                       524788.1610   \n",
       "7778                                       540532.7044   \n",
       "7779                                       526357.2620   \n",
       "7780                                       528098.5179   \n",
       "\n",
       "      Waste_Emissions_(CO2eq)_(AR5)_kt   Area  Year  \n",
       "7776                      1.619973e+06  World  1990  \n",
       "7777                      1.649017e+06  World  1991  \n",
       "7778                      1.671899e+06  World  1992  \n",
       "7779                      1.694048e+06  World  1993  \n",
       "7780                      1.719603e+06  World  1994  \n",
       "\n",
       "[5 rows x 33 columns]"
      ]
     },
     "execution_count": 7,
     "metadata": {},
     "output_type": "execute_result"
    }
   ],
   "source": [
    "world = data[data['Area Code'] == 5000]\n",
    "emissions_cols = [col for col in world.columns if 'co2' in col.lower()]\n",
    "world = world[emissions_cols+['Area', 'Year']]\n",
    "world.head()"
   ]
  },
  {
   "cell_type": "code",
   "execution_count": 8,
   "metadata": {},
   "outputs": [
    {
     "name": "stdout",
     "output_type": "stream",
     "text": [
      "Agrifood_systems_Emissions_(CO2eq)_(AR5)_kt\n",
      "16.0362636811\n",
      "\n",
      "Farm_gate_Emissions_(CO2eq)_(AR5)_kt\n",
      "7.755712251199999\n",
      "\n",
      "Land_Use_change_Emissions_(CO2eq)_(AR5)_kt\n",
      "3.1511530507\n",
      "\n",
      "Pre-_and_Post-_Production_Emissions_(CO2eq)_(AR5)_kt\n",
      "5.1293983792\n",
      "\n"
     ]
    }
   ],
   "source": [
    "# These are the totals columns\n",
    "new_totals = [\n",
    "    'Agrifood_systems_Emissions_(CO2eq)_(AR5)_kt',\n",
    "    'Farm_gate_Emissions_(CO2eq)_(AR5)_kt',\n",
    "    'Land_Use_change_Emissions_(CO2eq)_(AR5)_kt',\n",
    "    'Pre-_and_Post-_Production_Emissions_(CO2eq)_(AR5)_kt',\n",
    "]\n",
    "\n",
    "world_2020 = data[(data['Year'] == 2020) & (data['Area Code'] == 5000)]\n",
    "\n",
    "for col in new_totals:\n",
    "    print(col)\n",
    "    print(world_2020[col].sum()/1e6)\n",
    "    print()"
   ]
  },
  {
   "cell_type": "markdown",
   "metadata": {},
   "source": [
    "## CROPS related columns"
   ]
  },
  {
   "cell_type": "code",
   "execution_count": 10,
   "metadata": {},
   "outputs": [
    {
     "name": "stdout",
     "output_type": "stream",
     "text": [
      "Burning_-_Crop_residues_Emissions_(CO2eq)_(AR5)_kt\n",
      "0.0393453434\n",
      "\n",
      "Crop_Residues_Emissions_(CO2eq)_(AR5)_kt\n",
      "0.3054566547\n",
      "\n",
      "Emissions_from_crops_Emissions_(CO2eq)_(AR5)_kt\n",
      "0.9114756098\n",
      "\n",
      "Farm_gate_Emissions_(CO2eq)_(AR5)_kt\n",
      "7.755712251199999\n",
      "\n",
      "Fertilizers_Manufacturing_Emissions_(CO2eq)_(AR5)_kt\n",
      "0.44644641129999996\n",
      "\n",
      "Rice_Cultivation_Emissions_(CO2eq)_(AR5)_kt\n",
      "0.7180044068\n",
      "\n",
      "Synthetic_Fertilizers_Emissions_(CO2eq)_(AR5)_kt\n",
      "0.7527758282999999\n",
      "\n"
     ]
    }
   ],
   "source": [
    "for col in world_2020.columns:\n",
    "    if \"rice\" in col.lower() or \"crop\" in col.lower() or \"fert\" in col.lower() or \"farm\" in col.lower():\n",
    "        print(col)\n",
    "        print(world_2020[col].sum()/1e6)\n",
    "        print()"
   ]
  },
  {
   "cell_type": "code",
   "execution_count": 11,
   "metadata": {},
   "outputs": [
    {
     "name": "stdout",
     "output_type": "stream",
     "text": [
      "Total 2020: 1.8155822332\n",
      "Total all years: 52.4346961201\n"
     ]
    }
   ],
   "source": [
    "crops_partials = [\n",
    "    'Crop_Residues_Emissions_(CO2eq)_(AR5)_kt',\n",
    "    'Burning_-_Crop_residues_Emissions_(CO2eq)_(AR5)_kt',\n",
    "    'Rice_Cultivation_Emissions_(CO2eq)_(AR5)_kt',\n",
    "    'Synthetic_Fertilizers_Emissions_(CO2eq)_(AR5)_kt',\n",
    "]\n",
    "\n",
    "print(f\"Total 2020: {world_2020[crops_partials].sum().sum()/1e6}\")\n",
    "print(f\"Total all years: {world[crops_partials].sum().sum()/1e6}\")"
   ]
  },
  {
   "cell_type": "markdown",
   "metadata": {},
   "source": [
    "# LIVESTOCK related columns"
   ]
  },
  {
   "cell_type": "code",
   "execution_count": 12,
   "metadata": {},
   "outputs": [
    {
     "name": "stdout",
     "output_type": "stream",
     "text": [
      "Emissions_from_livestock_Emissions_(CO2eq)_(AR5)_kt\n",
      "4.1723563835999995\n",
      "\n",
      "Enteric_Fermentation_Emissions_(CO2eq)_(AR5)_kt\n",
      "3.4970900037\n",
      "\n",
      "Manure_Management_Emissions_(CO2eq)_(AR5)_kt\n",
      "0.5973613552\n",
      "\n",
      "Manure_applied_to_Soils_Emissions_(CO2eq)_(AR5)_kt\n",
      "0.2067088966\n",
      "\n",
      "Manure_left_on_Pasture_Emissions_(CO2eq)_(AR5)_kt\n",
      "0.7723088185000001\n",
      "\n"
     ]
    }
   ],
   "source": [
    "for col in world_2020.columns:\n",
    "    if \"manure\" in col.lower() or \"enter\" in col.lower() or \"lives\" in col.lower():\n",
    "        print(col)\n",
    "        print(world_2020[col].sum()/1e6)\n",
    "        print()"
   ]
  },
  {
   "cell_type": "code",
   "execution_count": 13,
   "metadata": {},
   "outputs": [],
   "source": [
    "livestock_partials = [\n",
    "        \"Enteric_Fermentation_Emissions_(CO2eq)_(AR5)_kt\",\n",
    "        \"Manure_Management_Emissions_(CO2eq)_(AR5)_kt\",\n",
    "        \"Manure_applied_to_Soils_Emissions_(CO2eq)_(AR5)_kt\",\n",
    "        \"Manure_left_on_Pasture_Emissions_(CO2eq)_(AR5)_kt\"\n",
    "]"
   ]
  },
  {
   "cell_type": "code",
   "execution_count": 14,
   "metadata": {},
   "outputs": [
    {
     "name": "stdout",
     "output_type": "stream",
     "text": [
      "Total 2020: 5.073469074\n",
      "Total all years: 165.45436238300002\n"
     ]
    }
   ],
   "source": [
    "print(f\"Total 2020: {world_2020[livestock_partials].sum().sum()/1e6}\")\n",
    "print(f\"Total all years: {world[livestock_partials].sum().sum()/1e6}\")"
   ]
  },
  {
   "cell_type": "markdown",
   "metadata": {},
   "source": [
    "# Land Use"
   ]
  },
  {
   "cell_type": "code",
   "execution_count": 15,
   "metadata": {},
   "outputs": [
    {
     "name": "stdout",
     "output_type": "stream",
     "text": [
      "Fires_in_humid_tropical_forests_Emissions_(CO2eq)_(AR5)_kt\n",
      "0.15845222690000002\n",
      "\n",
      "Fires_in_organic_soils_Emissions_(CO2eq)_(AR5)_kt\n",
      "0.0476482572\n",
      "\n",
      "Forest_fires_Emissions_(CO2eq)_(AR5)_kt\n",
      "0.245896652\n",
      "\n",
      "Forestland_Emissions_(CO2eq)_(AR5)_kt\n",
      "-4.8738658451\n",
      "\n",
      "Net_Forest_conversion_Emissions_(CO2eq)_(AR5)_kt\n",
      "3.0931468799\n",
      "\n",
      "Savanna_fires_Emissions_(CO2eq)_(AR5)_kt\n",
      "0.22098728909999998\n",
      "\n"
     ]
    }
   ],
   "source": [
    "for col in world_2020.columns:\n",
    "    if \"forest\" in col.lower() or \"drain\" in col.lower() or \"fire\" in col.lower():\n",
    "        print(col)\n",
    "        print(world_2020[col].sum()/1e6)\n",
    "        print()"
   ]
  },
  {
   "cell_type": "code",
   "execution_count": 17,
   "metadata": {},
   "outputs": [
    {
     "name": "stdout",
     "output_type": "stream",
     "text": [
      "Total 2020: 3.7661313051\n",
      "Total all years: 184.0146128531\n"
     ]
    }
   ],
   "source": [
    "land_partials = [\n",
    "    'Net_Forest_conversion_Emissions_(CO2eq)_(AR5)_kt',\n",
    "    'Fires_in_humid_tropical_forests_Emissions_(CO2eq)_(AR5)_kt',\n",
    "    'Fires_in_organic_soils_Emissions_(CO2eq)_(AR5)_kt',\n",
    "    'Forest_fires_Emissions_(CO2eq)_(AR5)_kt',\n",
    "    'Savanna_fires_Emissions_(CO2eq)_(AR5)_kt',\n",
    "]\n",
    "\n",
    "print(f\"Total 2020: {world_2020[land_partials].sum().sum()/1e6}\")\n",
    "print(f\"Total all years: {world[land_partials].sum().sum()/1e6}\")"
   ]
  },
  {
   "cell_type": "markdown",
   "metadata": {},
   "source": [
    "# POST-PRODUCTION"
   ]
  },
  {
   "cell_type": "code",
   "execution_count": 18,
   "metadata": {},
   "outputs": [
    {
     "name": "stdout",
     "output_type": "stream",
     "text": [
      "Agrifood_Systems_Waste_Disposal_Emissions_(CO2eq)_(AR5)_kt\n",
      "1.2796726039\n",
      "\n",
      "Agrifood_systems_Emissions_(CO2eq)_(AR5)_kt\n",
      "16.0362636811\n",
      "\n",
      "Fertilizers_Manufacturing_Emissions_(CO2eq)_(AR5)_kt\n",
      "0.44644641129999996\n",
      "\n",
      "Food_Household_Consumption_Emissions_(CO2eq)_(AR5)_kt\n",
      "1.1916244716\n",
      "\n",
      "Food_Packaging_Emissions_(CO2eq)_(AR5)_kt\n",
      "0.30360888319999996\n",
      "\n",
      "Food_Processing_Emissions_(CO2eq)_(AR5)_kt\n",
      "0.6247293143\n",
      "\n",
      "Food_Retail_Emissions_(CO2eq)_(AR5)_kt\n",
      "0.7177594052\n",
      "\n",
      "Food_Transport_Emissions_(CO2eq)_(AR5)_kt\n",
      "0.5142038964000001\n",
      "\n",
      "Pesticides_Manufacturing_Emissions_(CO2eq)_(AR5)_kt\n",
      "0.0513533932\n",
      "\n"
     ]
    }
   ],
   "source": [
    "for col in world_2020.columns:\n",
    "    if \"food\" in col.lower() or \"house\" in col.lower() or \"manuf\" in col.lower():\n",
    "        print(col)\n",
    "        print(world_2020[col].sum()/1e6)\n",
    "        print()"
   ]
  },
  {
   "cell_type": "code",
   "execution_count": 20,
   "metadata": {},
   "outputs": [
    {
     "name": "stdout",
     "output_type": "stream",
     "text": [
      "Total 2020: 2.6581013035999996\n",
      "Total all years: 66.9575242666\n"
     ]
    }
   ],
   "source": [
    "post_partials = [\n",
    "    'Fertilizers_Manufacturing_Emissions_(CO2eq)_(AR5)_kt',\n",
    "    'Pesticides_Manufacturing_Emissions_(CO2eq)_(AR5)_kt',\n",
    "    'Food_Packaging_Emissions_(CO2eq)_(AR5)_kt',\n",
    "    'Food_Processing_Emissions_(CO2eq)_(AR5)_kt',\n",
    "    'Food_Retail_Emissions_(CO2eq)_(AR5)_kt',\n",
    "    'Food_Transport_Emissions_(CO2eq)_(AR5)_kt',\n",
    "]\n",
    "\n",
    "print(f\"Total 2020: {world_2020[post_partials].sum().sum()/1e6}\")\n",
    "print(f\"Total all years: {world[post_partials].sum().sum()/1e6}\")"
   ]
  },
  {
   "cell_type": "markdown",
   "metadata": {},
   "source": [
    "# SUM PARTIALS IN FULL DATA"
   ]
  },
  {
   "cell_type": "code",
   "execution_count": 21,
   "metadata": {},
   "outputs": [],
   "source": [
    "selected_columns = ['Area', 'Year', 'Area Code', 'Population_-_Est._&_Proj._Total_Population_-_Both_sexes_1000_No'] + crops_partials + livestock_partials + land_partials + post_partials\n",
    "\n",
    "data = data[selected_columns]"
   ]
  },
  {
   "cell_type": "code",
   "execution_count": 22,
   "metadata": {},
   "outputs": [],
   "source": [
    "# Initialize empty total columns\n",
    "\n",
    "total_colums = [\n",
    "    'TOTAL_CROPS_EMISSIONS_(CO2eq)_kt',\n",
    "    'TOTAL_LIVESTOCK_EMISSIONS_(CO2eq)_kt',\n",
    "    'TOTAL_LAND_USE_EMISSIONS_(CO2eq)_kt',\n",
    "    'TOTAL_POST_PROCESSING_EMISSIONS_(CO2eq)_kt'\n",
    "]"
   ]
  },
  {
   "cell_type": "code",
   "execution_count": 23,
   "metadata": {},
   "outputs": [],
   "source": [
    "def create_total_emissions(df, total_column, partial_columns):\n",
    "    df[total_column] = df.groupby(['Area', 'Area Code', 'Year'])[partial_columns].transform('sum').sum(axis=1)"
   ]
  },
  {
   "cell_type": "code",
   "execution_count": 24,
   "metadata": {},
   "outputs": [],
   "source": [
    "create_total_emissions(data, 'TOTAL_CROPS_EMISSIONS_(CO2eq)_kt', crops_partials)\n",
    "create_total_emissions(data, 'TOTAL_LIVESTOCK_EMISSIONS_(CO2eq)_kt', livestock_partials)\n",
    "create_total_emissions(data, 'TOTAL_LAND_USE_EMISSIONS_(CO2eq)_kt', land_partials)\n",
    "create_total_emissions(data, 'TOTAL_POST_PROCESSING_EMISSIONS_(CO2eq)_kt', post_partials)\n",
    "\n",
    "# Create a TOTAL TOTAL emissions column\n",
    "\n",
    "create_total_emissions(data, 'TOTAL_TOTAL_EMISSIONS_(CO2eq)_kt', total_colums)"
   ]
  },
  {
   "cell_type": "code",
   "execution_count": 25,
   "metadata": {},
   "outputs": [],
   "source": [
    "world = data[data['Area Code'] == 5000]\n",
    "world_totals = world[total_colums+['Area', 'Year']]"
   ]
  },
  {
   "cell_type": "code",
   "execution_count": 28,
   "metadata": {},
   "outputs": [
    {
     "data": {
      "text/plain": [
       "<Axes: title={'center': 'World Total Emissions 2020'}>"
      ]
     },
     "execution_count": 28,
     "metadata": {},
     "output_type": "execute_result"
    },
    {
     "data": {
      "image/png": "[encoded data removed]",
      "text/plain": [
       "<Figure size 600x500 with 1 Axes>"
      ]
     },
     "metadata": {},
     "output_type": "display_data"
    }
   ],
   "source": [
    "world_totals[total_colums].sum().plot(kind='barh', figsize=(6, 5), title=\"World Total Emissions 2020\")"
   ]
  },
  {
   "cell_type": "code",
   "execution_count": 29,
   "metadata": {},
   "outputs": [
    {
     "data": {
      "text/plain": [
       "<Axes: title={'center': 'World Total Emissions as Percentage 2020'}>"
      ]
     },
     "execution_count": 29,
     "metadata": {},
     "output_type": "execute_result"
    },
    {
     "data": {
      "image/png": "[encoded data removed]",
      "text/plain": [
       "<Figure size 600x500 with 1 Axes>"
      ]
     },
     "metadata": {},
     "output_type": "display_data"
    }
   ],
   "source": [
    "(world_totals[total_colums].sum() / world_totals[total_colums].sum().sum() * 100).plot(kind='barh', figsize=(6, 5), title=\"World Total Emissions as Percentage 2020\")"
   ]
  }
 ],
 "metadata": {
  "kernelspec": {
   "display_name": "ds_312",
   "language": "python",
   "name": "python3"
  },
  "language_info": {
   "codemirror_mode": {
    "name": "ipython",
    "version": 3
   },
   "file_extension": ".py",
   "mimetype": "text/x-python",
   "name": "python",
   "nbconvert_exporter": "python",
   "pygments_lexer": "ipython3",
   "version": "3.12.4"
  }
 },
 "nbformat": 4,
 "nbformat_minor": 2
}
